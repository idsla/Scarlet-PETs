{
 "cells": [
  {
   "cell_type": "markdown",
   "id": "a8ca4808-193a-4ccb-b44d-2ee4ee43209c",
   "metadata": {
    "pycharm": {
     "name": "#%% md\n"
    }
   },
   "source": [
    "# Track A: SWIFT-only example baseline model\n",
    "\n",
    "This notebook, provided by SWIFT, contains two example baseline models for Track A: Financial Crime Prevention for the [PETs Prize Challenge](https://petsprizechallenges.com/).\n",
    "\n",
    "These two models are intended as an example to help you get started on developing a model for this use case. Note that these example models only incorporate features from the SWIFT transactions dataset. These models are not examples of full centralized solutions in the context of the challenge, as they do not incorporate the account data from the banks. "
   ]
  },
  {
   "cell_type": "markdown",
   "id": "80554591",
   "metadata": {
    "heading_collapsed": true,
    "pycharm": {
     "name": "#%% md\n"
    }
   },
   "source": [
    "## Imports"
   ]
  },
  {
   "cell_type": "code",
   "execution_count": 1,
   "id": "de19032e",
   "metadata": {
    "ExecuteTime": {
     "end_time": "2022-06-01T14:24:55.615188Z",
     "start_time": "2022-06-01T14:24:55.361652Z"
    },
    "hidden": true,
    "pycharm": {
     "name": "#%%\n"
    }
   },
   "outputs": [],
   "source": [
    "### Libraries for Data Handling\n",
    "\n",
    "from pathlib import Path\n",
    "\n",
    "import numpy as np\n",
    "import pandas as pd\n",
    "\n",
    "pd.set_option(\"display.max_columns\", None)"
   ]
  },
  {
   "cell_type": "code",
   "execution_count": 2,
   "id": "b9c26c05",
   "metadata": {
    "ExecuteTime": {
     "end_time": "2022-06-01T14:24:56.825413Z",
     "start_time": "2022-06-01T14:24:56.181225Z"
    },
    "hidden": true,
    "pycharm": {
     "name": "#%%\n"
    }
   },
   "outputs": [],
   "source": [
    "### Libraries for Algorithms\n",
    "\n",
    "from sklearn.model_selection import train_test_split\n",
    "from sklearn.model_selection import KFold\n",
    "from sklearn.model_selection import ShuffleSplit, StratifiedKFold, StratifiedShuffleSplit\n",
    "from sklearn.model_selection import cross_val_score\n",
    "from sklearn import metrics\n",
    "from sklearn.metrics import classification_report\n",
    "from sklearn.metrics import confusion_matrix\n",
    "from sklearn.metrics import accuracy_score\n",
    "from sklearn.preprocessing import StandardScaler, MinMaxScaler\n",
    "import sklearn.utils\n",
    "\n",
    "from xgboost import XGBClassifier"
   ]
  },
  {
   "cell_type": "markdown",
   "id": "ba8905d1",
   "metadata": {
    "pycharm": {
     "name": "#%% md\n"
    }
   },
   "source": [
    "# Fetch Data"
   ]
  },
  {
   "cell_type": "code",
   "execution_count": 3,
   "id": "486432cc-bddf-43c4-bd13-ab45fc871216",
   "metadata": {
    "pycharm": {
     "name": "#%%\n"
    }
   },
   "outputs": [],
   "source": [
    "DATA_DIR = Path.cwd().parent / \"data\""
   ]
  },
  {
   "cell_type": "code",
   "execution_count": 5,
   "id": "8aa7954b",
   "metadata": {
    "ExecuteTime": {
     "end_time": "2022-06-01T14:26:28.313623Z",
     "start_time": "2022-06-01T14:26:19.043585Z"
    },
    "pycharm": {
     "name": "#%%\n"
    }
   },
   "outputs": [],
   "source": [
    "train = pd.read_csv(\n",
    "    DATA_DIR / \"swift_transaction_train_dataset.csv\", index_col=\"MessageId\"\n",
    ")\n",
    "train[\"Timestamp\"] = train[\"Timestamp\"].astype(\"datetime64[ns]\")\n",
    "test = pd.read_csv(DATA_DIR / \"swift_transaction_test_dataset.csv\", index_col=\"MessageId\")\n",
    "test[\"Timestamp\"] = test[\"Timestamp\"].astype(\"datetime64[ns]\")"
   ]
  },
  {
   "cell_type": "code",
   "execution_count": 6,
   "id": "1bcc40e8",
   "metadata": {
    "ExecuteTime": {
     "end_time": "2022-06-01T14:26:35.858552Z",
     "start_time": "2022-06-01T14:26:35.700293Z"
    },
    "pycharm": {
     "name": "#%%\n"
    }
   },
   "outputs": [
    {
     "data": {
      "text/plain": "            Timestamp                                  UETR    Sender  \\\nMessageId                                                               \nTRA7CGN3FF 2022-01-01  f474fdb3-4675-4fff-ab7e-3469f82bd6a7  DPSUFRPP   \nTRPNEMZIR7 2022-01-01  c9158def-dab1-4bfb-a31f-7f51c6679d60  BRRGPTPL   \nTR6S6A5JYL 2022-01-01  d371ba0a-823f-4243-98ba-94ff18523420  BRRGPTPL   \n\n            Receiver TransactionReference         OrderingAccount  \\\nMessageId                                                           \nTRA7CGN3FF  ABVVUS6S    PETX22-FXIDA-7054  FR90714755422956984353   \nTRPNEMZIR7  CBLHESMM    PETX22-NO-FX-1736   PT8895792452733129969   \nTR6S6A5JYL  CBLHESMM    PETX22-NO-FX-1687  PT92895792452733126420   \n\n                            OrderingName     OrderingStreet  \\\nMessageId                                                     \nTRA7CGN3FF         PHACELIA HETEROPHYLLA       3| RUE HAMON   \nTRPNEMZIR7     GONOLOBUS STEPHANOTRICHUS  AV RITA ALVES| 60   \nTR6S6A5JYL  LECHEA INTERMEDIA-INTERMEDIA  PRAÇA VALENTE| 85   \n\n             OrderingCountryCityZip      BeneficiaryAccount  \\\nMessageId                                                     \nTRA7CGN3FF  FR/42859 SAINTE AURÉLIE      611024064274704358   \nTRPNEMZIR7   PT/5863-752 CANTANHEDE  ES61897100852916932423   \nTR6S6A5JYL     PT/1100-087 BARCELOS  ES31897100852916935097   \n\n                         BeneficiaryName  \\\nMessageId                                  \nTRA7CGN3FF          PAPAVER CALIFORNICUM   \nTRPNEMZIR7  MINUARTIA NUTTALLII-GREGARIA   \nTR6S6A5JYL         ASTRAGALUS MAGDALENAE   \n\n                                BeneficiaryStreet BeneficiaryCountryCityZip  \\\nMessageId                                                                     \nTRA7CGN3FF                     2584 CHARLES PLACE    US/ROJASLAND| DC 58442   \nTRPNEMZIR7  ACCESO DE CARMINA ARAGÓN 83 PUERTA 4            ES/ÁVILA| 02281   \nTR6S6A5JYL               PASADIZO ANÍBAL LUJÁN 57         ES/SEGOVIA| 40727   \n\n            SettlementDate SettlementCurrency  SettlementAmount  \\\nMessageId                                                         \nTRA7CGN3FF          220101                USD      1.746319e+09   \nTRPNEMZIR7          220101                EUR      4.711420e+06   \nTR6S6A5JYL          220101                EUR      7.528216e+05   \n\n           InstructedCurrency  InstructedAmount  Label  \nMessageId                                               \nTRA7CGN3FF                EUR      1.560189e+09      0  \nTRPNEMZIR7                EUR      4.711420e+06      0  \nTR6S6A5JYL                EUR      7.528216e+05      0  ",
      "text/html": "<div>\n<style scoped>\n    .dataframe tbody tr th:only-of-type {\n        vertical-align: middle;\n    }\n\n    .dataframe tbody tr th {\n        vertical-align: top;\n    }\n\n    .dataframe thead th {\n        text-align: right;\n    }\n</style>\n<table border=\"1\" class=\"dataframe\">\n  <thead>\n    <tr style=\"text-align: right;\">\n      <th></th>\n      <th>Timestamp</th>\n      <th>UETR</th>\n      <th>Sender</th>\n      <th>Receiver</th>\n      <th>TransactionReference</th>\n      <th>OrderingAccount</th>\n      <th>OrderingName</th>\n      <th>OrderingStreet</th>\n      <th>OrderingCountryCityZip</th>\n      <th>BeneficiaryAccount</th>\n      <th>BeneficiaryName</th>\n      <th>BeneficiaryStreet</th>\n      <th>BeneficiaryCountryCityZip</th>\n      <th>SettlementDate</th>\n      <th>SettlementCurrency</th>\n      <th>SettlementAmount</th>\n      <th>InstructedCurrency</th>\n      <th>InstructedAmount</th>\n      <th>Label</th>\n    </tr>\n    <tr>\n      <th>MessageId</th>\n      <th></th>\n      <th></th>\n      <th></th>\n      <th></th>\n      <th></th>\n      <th></th>\n      <th></th>\n      <th></th>\n      <th></th>\n      <th></th>\n      <th></th>\n      <th></th>\n      <th></th>\n      <th></th>\n      <th></th>\n      <th></th>\n      <th></th>\n      <th></th>\n      <th></th>\n    </tr>\n  </thead>\n  <tbody>\n    <tr>\n      <th>TRA7CGN3FF</th>\n      <td>2022-01-01</td>\n      <td>f474fdb3-4675-4fff-ab7e-3469f82bd6a7</td>\n      <td>DPSUFRPP</td>\n      <td>ABVVUS6S</td>\n      <td>PETX22-FXIDA-7054</td>\n      <td>FR90714755422956984353</td>\n      <td>PHACELIA HETEROPHYLLA</td>\n      <td>3| RUE HAMON</td>\n      <td>FR/42859 SAINTE AURÉLIE</td>\n      <td>611024064274704358</td>\n      <td>PAPAVER CALIFORNICUM</td>\n      <td>2584 CHARLES PLACE</td>\n      <td>US/ROJASLAND| DC 58442</td>\n      <td>220101</td>\n      <td>USD</td>\n      <td>1.746319e+09</td>\n      <td>EUR</td>\n      <td>1.560189e+09</td>\n      <td>0</td>\n    </tr>\n    <tr>\n      <th>TRPNEMZIR7</th>\n      <td>2022-01-01</td>\n      <td>c9158def-dab1-4bfb-a31f-7f51c6679d60</td>\n      <td>BRRGPTPL</td>\n      <td>CBLHESMM</td>\n      <td>PETX22-NO-FX-1736</td>\n      <td>PT8895792452733129969</td>\n      <td>GONOLOBUS STEPHANOTRICHUS</td>\n      <td>AV RITA ALVES| 60</td>\n      <td>PT/5863-752 CANTANHEDE</td>\n      <td>ES61897100852916932423</td>\n      <td>MINUARTIA NUTTALLII-GREGARIA</td>\n      <td>ACCESO DE CARMINA ARAGÓN 83 PUERTA 4</td>\n      <td>ES/ÁVILA| 02281</td>\n      <td>220101</td>\n      <td>EUR</td>\n      <td>4.711420e+06</td>\n      <td>EUR</td>\n      <td>4.711420e+06</td>\n      <td>0</td>\n    </tr>\n    <tr>\n      <th>TR6S6A5JYL</th>\n      <td>2022-01-01</td>\n      <td>d371ba0a-823f-4243-98ba-94ff18523420</td>\n      <td>BRRGPTPL</td>\n      <td>CBLHESMM</td>\n      <td>PETX22-NO-FX-1687</td>\n      <td>PT92895792452733126420</td>\n      <td>LECHEA INTERMEDIA-INTERMEDIA</td>\n      <td>PRAÇA VALENTE| 85</td>\n      <td>PT/1100-087 BARCELOS</td>\n      <td>ES31897100852916935097</td>\n      <td>ASTRAGALUS MAGDALENAE</td>\n      <td>PASADIZO ANÍBAL LUJÁN 57</td>\n      <td>ES/SEGOVIA| 40727</td>\n      <td>220101</td>\n      <td>EUR</td>\n      <td>7.528216e+05</td>\n      <td>EUR</td>\n      <td>7.528216e+05</td>\n      <td>0</td>\n    </tr>\n  </tbody>\n</table>\n</div>"
     },
     "execution_count": 6,
     "metadata": {},
     "output_type": "execute_result"
    }
   ],
   "source": [
    "train.head(3)"
   ]
  },
  {
   "cell_type": "code",
   "execution_count": 7,
   "id": "88ce5da0",
   "metadata": {
    "ExecuteTime": {
     "end_time": "2022-06-01T14:26:36.724947Z",
     "start_time": "2022-06-01T14:26:36.675822Z"
    },
    "pycharm": {
     "name": "#%%\n"
    }
   },
   "outputs": [
    {
     "data": {
      "text/plain": "Label\n0    4686825\n1       4900\ndtype: int64"
     },
     "execution_count": 7,
     "metadata": {},
     "output_type": "execute_result"
    }
   ],
   "source": [
    "train.groupby(\"Label\").size()"
   ]
  },
  {
   "cell_type": "code",
   "execution_count": 8,
   "id": "897cefc7",
   "metadata": {
    "ExecuteTime": {
     "end_time": "2022-06-01T14:26:36.724947Z",
     "start_time": "2022-06-01T14:26:36.675822Z"
    },
    "pycharm": {
     "name": "#%%\n"
    }
   },
   "outputs": [
    {
     "data": {
      "text/plain": "Label\n0    704347\n1       761\ndtype: int64"
     },
     "execution_count": 8,
     "metadata": {},
     "output_type": "execute_result"
    }
   ],
   "source": [
    "test.groupby(\"Label\").size()"
   ]
  },
  {
   "cell_type": "code",
   "execution_count": 9,
   "id": "a6009b60",
   "metadata": {
    "pycharm": {
     "name": "#%%\n"
    }
   },
   "outputs": [
    {
     "data": {
      "text/plain": "Index(['Timestamp', 'UETR', 'Sender', 'Receiver', 'TransactionReference',\n       'OrderingAccount', 'OrderingName', 'OrderingStreet',\n       'OrderingCountryCityZip', 'BeneficiaryAccount', 'BeneficiaryName',\n       'BeneficiaryStreet', 'BeneficiaryCountryCityZip', 'SettlementDate',\n       'SettlementCurrency', 'SettlementAmount', 'InstructedCurrency',\n       'InstructedAmount', 'Label'],\n      dtype='object')"
     },
     "execution_count": 9,
     "metadata": {},
     "output_type": "execute_result"
    }
   ],
   "source": [
    "train.columns"
   ]
  },
  {
   "cell_type": "markdown",
   "id": "9261bae2",
   "metadata": {
    "pycharm": {
     "name": "#%% md\n"
    }
   },
   "source": [
    "## Add Features for Model Training"
   ]
  },
  {
   "cell_type": "code",
   "execution_count": 10,
   "id": "b5448ad3",
   "metadata": {
    "pycharm": {
     "name": "#%%\n"
    }
   },
   "outputs": [
    {
     "name": "stdout",
     "output_type": "stream",
     "text": [
      "CPU times: total: 8.31 s\n",
      "Wall time: 8.37 s\n"
     ]
    }
   ],
   "source": [
    "%%time\n",
    "# Hour\n",
    "train[\"hour\"] = train[\"Timestamp\"].dt.hour\n",
    "test[\"hour\"] = test[\"Timestamp\"].dt.hour\n",
    "\n",
    "# Hour frequency for each sender\n",
    "senders = train[\"Sender\"].unique()\n",
    "train[\"sender_hour\"] = train[\"Sender\"] + train[\"hour\"].astype(str)\n",
    "test[\"sender_hour\"] = test[\"Sender\"] + test[\"hour\"].astype(str)\n",
    "sender_hour_frequency = {}\n",
    "for s in senders:\n",
    "    sender_rows = train[train[\"Sender\"] == s]\n",
    "    for h in range(24):\n",
    "        sender_hour_frequency[s + str(h)] = len(sender_rows[sender_rows[\"hour\"] == h])\n",
    "\n",
    "train[\"sender_hour_freq\"] = train[\"sender_hour\"].map(sender_hour_frequency)\n",
    "test[\"sender_hour_freq\"] = test[\"sender_hour\"].map(sender_hour_frequency)"
   ]
  },
  {
   "cell_type": "code",
   "execution_count": 12,
   "id": "c3d0eb9b",
   "metadata": {
    "pycharm": {
     "name": "#%%\n"
    }
   },
   "outputs": [
    {
     "name": "stdout",
     "output_type": "stream",
     "text": [
      "CPU times: total: 19.2 s\n",
      "Wall time: 19.2 s\n"
     ]
    }
   ],
   "source": [
    "%%time\n",
    "# Sender-Currency Frequency and Average Amount per Sender-Currency\n",
    "train[\"sender_currency\"] = train[\"Sender\"] + train[\"InstructedCurrency\"]\n",
    "test[\"sender_currency\"] = test[\"Sender\"] + test[\"InstructedCurrency\"]\n",
    "\n",
    "sender_currency_freq = {}\n",
    "sender_currency_avg = {}\n",
    "\n",
    "for sc in set(\n",
    "    list(train[\"sender_currency\"].unique()) + list(test[\"sender_currency\"].unique())\n",
    "):\n",
    "    sender_currency_freq[sc] = len(train[train[\"sender_currency\"] == sc])\n",
    "    sender_currency_avg[sc] = train[train[\"sender_currency\"] == sc][\n",
    "        \"InstructedAmount\"\n",
    "    ].mean()\n",
    "\n",
    "train[\"sender_currency_freq\"] = train[\"sender_currency\"].map(sender_currency_freq)\n",
    "test[\"sender_currency_freq\"] = test[\"sender_currency\"].map(sender_currency_freq)\n",
    "\n",
    "train[\"sender_currency_amount_average\"] = train[\"sender_currency\"].map(\n",
    "    sender_currency_avg\n",
    ")\n",
    "test[\"sender_currency_amount_average\"] = test[\"sender_currency\"].map(sender_currency_avg)"
   ]
  },
  {
   "cell_type": "code",
   "execution_count": 13,
   "id": "70dfc421",
   "metadata": {
    "pycharm": {
     "name": "#%%\n"
    }
   },
   "outputs": [
    {
     "name": "stdout",
     "output_type": "stream",
     "text": [
      "CPU times: total: 22.3 s\n",
      "Wall time: 22.4 s\n"
     ]
    }
   ],
   "source": [
    "%%time\n",
    "# Sender-Receiver Frequency\n",
    "train[\"sender_receiver\"] = train[\"Sender\"] + train[\"Receiver\"]\n",
    "test[\"sender_receiver\"] = test[\"Sender\"] + test[\"Receiver\"]\n",
    "\n",
    "sender_receiver_freq = {}\n",
    "\n",
    "for sr in set(\n",
    "    list(train[\"sender_receiver\"].unique()) + list(test[\"sender_receiver\"].unique())\n",
    "):\n",
    "    sender_receiver_freq[sr] = len(train[train[\"sender_receiver\"] == sr])\n",
    "\n",
    "train[\"sender_receiver_freq\"] = train[\"sender_receiver\"].map(sender_receiver_freq)\n",
    "test[\"sender_receiver_freq\"] = test[\"sender_receiver\"].map(sender_receiver_freq)"
   ]
  },
  {
   "cell_type": "code",
   "execution_count": 12,
   "id": "b18cc103",
   "metadata": {
    "pycharm": {
     "name": "#%%\n"
    }
   },
   "outputs": [],
   "source": [
    "# Account previously used"
   ]
  },
  {
   "cell_type": "code",
   "execution_count": 14,
   "id": "0c14595e",
   "metadata": {
    "pycharm": {
     "name": "#%%\n"
    }
   },
   "outputs": [
    {
     "data": {
      "text/plain": "            Timestamp                                  UETR    Sender  \\\nMessageId                                                               \nTRA7CGN3FF 2022-01-01  f474fdb3-4675-4fff-ab7e-3469f82bd6a7  DPSUFRPP   \nTRPNEMZIR7 2022-01-01  c9158def-dab1-4bfb-a31f-7f51c6679d60  BRRGPTPL   \nTR6S6A5JYL 2022-01-01  d371ba0a-823f-4243-98ba-94ff18523420  BRRGPTPL   \n\n            Receiver TransactionReference         OrderingAccount  \\\nMessageId                                                           \nTRA7CGN3FF  ABVVUS6S    PETX22-FXIDA-7054  FR90714755422956984353   \nTRPNEMZIR7  CBLHESMM    PETX22-NO-FX-1736   PT8895792452733129969   \nTR6S6A5JYL  CBLHESMM    PETX22-NO-FX-1687  PT92895792452733126420   \n\n                            OrderingName     OrderingStreet  \\\nMessageId                                                     \nTRA7CGN3FF         PHACELIA HETEROPHYLLA       3| RUE HAMON   \nTRPNEMZIR7     GONOLOBUS STEPHANOTRICHUS  AV RITA ALVES| 60   \nTR6S6A5JYL  LECHEA INTERMEDIA-INTERMEDIA  PRAÇA VALENTE| 85   \n\n             OrderingCountryCityZip      BeneficiaryAccount  \\\nMessageId                                                     \nTRA7CGN3FF  FR/42859 SAINTE AURÉLIE      611024064274704358   \nTRPNEMZIR7   PT/5863-752 CANTANHEDE  ES61897100852916932423   \nTR6S6A5JYL     PT/1100-087 BARCELOS  ES31897100852916935097   \n\n                         BeneficiaryName  \\\nMessageId                                  \nTRA7CGN3FF          PAPAVER CALIFORNICUM   \nTRPNEMZIR7  MINUARTIA NUTTALLII-GREGARIA   \nTR6S6A5JYL         ASTRAGALUS MAGDALENAE   \n\n                                BeneficiaryStreet BeneficiaryCountryCityZip  \\\nMessageId                                                                     \nTRA7CGN3FF                     2584 CHARLES PLACE    US/ROJASLAND| DC 58442   \nTRPNEMZIR7  ACCESO DE CARMINA ARAGÓN 83 PUERTA 4            ES/ÁVILA| 02281   \nTR6S6A5JYL               PASADIZO ANÍBAL LUJÁN 57         ES/SEGOVIA| 40727   \n\n            SettlementDate SettlementCurrency  SettlementAmount  \\\nMessageId                                                         \nTRA7CGN3FF          220101                USD      1.746319e+09   \nTRPNEMZIR7          220101                EUR      4.711420e+06   \nTR6S6A5JYL          220101                EUR      7.528216e+05   \n\n           InstructedCurrency  InstructedAmount  Label  hour sender_hour  \\\nMessageId                                                                  \nTRA7CGN3FF                EUR      1.560189e+09      0     0   DPSUFRPP0   \nTRPNEMZIR7                EUR      4.711420e+06      0     0   BRRGPTPL0   \nTR6S6A5JYL                EUR      7.528216e+05      0     0   BRRGPTPL0   \n\n            sender_hour_freq sender_currency  sender_currency_freq  \\\nMessageId                                                            \nTRA7CGN3FF             16519     DPSUFRPPEUR               1598751   \nTRPNEMZIR7              4214     BRRGPTPLEUR                 36690   \nTR6S6A5JYL              4214     BRRGPTPLEUR                 36690   \n\n            sender_currency_amount_average   sender_receiver  \\\nMessageId                                                      \nTRA7CGN3FF                    1.692465e+08  DPSUFRPPABVVUS6S   \nTRPNEMZIR7                    1.667354e+06  BRRGPTPLCBLHESMM   \nTR6S6A5JYL                    1.667354e+06  BRRGPTPLCBLHESMM   \n\n            sender_receiver_freq  \nMessageId                         \nTRA7CGN3FF               1708051  \nTRPNEMZIR7                 36690  \nTR6S6A5JYL                 36690  ",
      "text/html": "<div>\n<style scoped>\n    .dataframe tbody tr th:only-of-type {\n        vertical-align: middle;\n    }\n\n    .dataframe tbody tr th {\n        vertical-align: top;\n    }\n\n    .dataframe thead th {\n        text-align: right;\n    }\n</style>\n<table border=\"1\" class=\"dataframe\">\n  <thead>\n    <tr style=\"text-align: right;\">\n      <th></th>\n      <th>Timestamp</th>\n      <th>UETR</th>\n      <th>Sender</th>\n      <th>Receiver</th>\n      <th>TransactionReference</th>\n      <th>OrderingAccount</th>\n      <th>OrderingName</th>\n      <th>OrderingStreet</th>\n      <th>OrderingCountryCityZip</th>\n      <th>BeneficiaryAccount</th>\n      <th>BeneficiaryName</th>\n      <th>BeneficiaryStreet</th>\n      <th>BeneficiaryCountryCityZip</th>\n      <th>SettlementDate</th>\n      <th>SettlementCurrency</th>\n      <th>SettlementAmount</th>\n      <th>InstructedCurrency</th>\n      <th>InstructedAmount</th>\n      <th>Label</th>\n      <th>hour</th>\n      <th>sender_hour</th>\n      <th>sender_hour_freq</th>\n      <th>sender_currency</th>\n      <th>sender_currency_freq</th>\n      <th>sender_currency_amount_average</th>\n      <th>sender_receiver</th>\n      <th>sender_receiver_freq</th>\n    </tr>\n    <tr>\n      <th>MessageId</th>\n      <th></th>\n      <th></th>\n      <th></th>\n      <th></th>\n      <th></th>\n      <th></th>\n      <th></th>\n      <th></th>\n      <th></th>\n      <th></th>\n      <th></th>\n      <th></th>\n      <th></th>\n      <th></th>\n      <th></th>\n      <th></th>\n      <th></th>\n      <th></th>\n      <th></th>\n      <th></th>\n      <th></th>\n      <th></th>\n      <th></th>\n      <th></th>\n      <th></th>\n      <th></th>\n      <th></th>\n    </tr>\n  </thead>\n  <tbody>\n    <tr>\n      <th>TRA7CGN3FF</th>\n      <td>2022-01-01</td>\n      <td>f474fdb3-4675-4fff-ab7e-3469f82bd6a7</td>\n      <td>DPSUFRPP</td>\n      <td>ABVVUS6S</td>\n      <td>PETX22-FXIDA-7054</td>\n      <td>FR90714755422956984353</td>\n      <td>PHACELIA HETEROPHYLLA</td>\n      <td>3| RUE HAMON</td>\n      <td>FR/42859 SAINTE AURÉLIE</td>\n      <td>611024064274704358</td>\n      <td>PAPAVER CALIFORNICUM</td>\n      <td>2584 CHARLES PLACE</td>\n      <td>US/ROJASLAND| DC 58442</td>\n      <td>220101</td>\n      <td>USD</td>\n      <td>1.746319e+09</td>\n      <td>EUR</td>\n      <td>1.560189e+09</td>\n      <td>0</td>\n      <td>0</td>\n      <td>DPSUFRPP0</td>\n      <td>16519</td>\n      <td>DPSUFRPPEUR</td>\n      <td>1598751</td>\n      <td>1.692465e+08</td>\n      <td>DPSUFRPPABVVUS6S</td>\n      <td>1708051</td>\n    </tr>\n    <tr>\n      <th>TRPNEMZIR7</th>\n      <td>2022-01-01</td>\n      <td>c9158def-dab1-4bfb-a31f-7f51c6679d60</td>\n      <td>BRRGPTPL</td>\n      <td>CBLHESMM</td>\n      <td>PETX22-NO-FX-1736</td>\n      <td>PT8895792452733129969</td>\n      <td>GONOLOBUS STEPHANOTRICHUS</td>\n      <td>AV RITA ALVES| 60</td>\n      <td>PT/5863-752 CANTANHEDE</td>\n      <td>ES61897100852916932423</td>\n      <td>MINUARTIA NUTTALLII-GREGARIA</td>\n      <td>ACCESO DE CARMINA ARAGÓN 83 PUERTA 4</td>\n      <td>ES/ÁVILA| 02281</td>\n      <td>220101</td>\n      <td>EUR</td>\n      <td>4.711420e+06</td>\n      <td>EUR</td>\n      <td>4.711420e+06</td>\n      <td>0</td>\n      <td>0</td>\n      <td>BRRGPTPL0</td>\n      <td>4214</td>\n      <td>BRRGPTPLEUR</td>\n      <td>36690</td>\n      <td>1.667354e+06</td>\n      <td>BRRGPTPLCBLHESMM</td>\n      <td>36690</td>\n    </tr>\n    <tr>\n      <th>TR6S6A5JYL</th>\n      <td>2022-01-01</td>\n      <td>d371ba0a-823f-4243-98ba-94ff18523420</td>\n      <td>BRRGPTPL</td>\n      <td>CBLHESMM</td>\n      <td>PETX22-NO-FX-1687</td>\n      <td>PT92895792452733126420</td>\n      <td>LECHEA INTERMEDIA-INTERMEDIA</td>\n      <td>PRAÇA VALENTE| 85</td>\n      <td>PT/1100-087 BARCELOS</td>\n      <td>ES31897100852916935097</td>\n      <td>ASTRAGALUS MAGDALENAE</td>\n      <td>PASADIZO ANÍBAL LUJÁN 57</td>\n      <td>ES/SEGOVIA| 40727</td>\n      <td>220101</td>\n      <td>EUR</td>\n      <td>7.528216e+05</td>\n      <td>EUR</td>\n      <td>7.528216e+05</td>\n      <td>0</td>\n      <td>0</td>\n      <td>BRRGPTPL0</td>\n      <td>4214</td>\n      <td>BRRGPTPLEUR</td>\n      <td>36690</td>\n      <td>1.667354e+06</td>\n      <td>BRRGPTPLCBLHESMM</td>\n      <td>36690</td>\n    </tr>\n  </tbody>\n</table>\n</div>"
     },
     "execution_count": 14,
     "metadata": {},
     "output_type": "execute_result"
    }
   ],
   "source": [
    "train.head(3)"
   ]
  },
  {
   "cell_type": "code",
   "execution_count": 15,
   "id": "c50ee0e9",
   "metadata": {
    "ExecuteTime": {
     "end_time": "2022-06-01T14:29:37.108845Z",
     "start_time": "2022-06-01T14:29:36.936355Z"
    },
    "pycharm": {
     "name": "#%%\n"
    }
   },
   "outputs": [
    {
     "data": {
      "text/plain": "            SettlementAmount  InstructedAmount  Label  hour  sender_hour_freq  \\\nMessageId                                                                       \nTRA7CGN3FF      1.746319e+09      1.560189e+09      0     0             16519   \nTRPNEMZIR7      4.711420e+06      4.711420e+06      0     0              4214   \nTR6S6A5JYL      7.528216e+05      7.528216e+05      0     0              4214   \n\n            sender_currency_freq  sender_currency_amount_average  \\\nMessageId                                                          \nTRA7CGN3FF               1598751                    1.692465e+08   \nTRPNEMZIR7                 36690                    1.667354e+06   \nTR6S6A5JYL                 36690                    1.667354e+06   \n\n            sender_receiver_freq  \nMessageId                         \nTRA7CGN3FF               1708051  \nTRPNEMZIR7                 36690  \nTR6S6A5JYL                 36690  ",
      "text/html": "<div>\n<style scoped>\n    .dataframe tbody tr th:only-of-type {\n        vertical-align: middle;\n    }\n\n    .dataframe tbody tr th {\n        vertical-align: top;\n    }\n\n    .dataframe thead th {\n        text-align: right;\n    }\n</style>\n<table border=\"1\" class=\"dataframe\">\n  <thead>\n    <tr style=\"text-align: right;\">\n      <th></th>\n      <th>SettlementAmount</th>\n      <th>InstructedAmount</th>\n      <th>Label</th>\n      <th>hour</th>\n      <th>sender_hour_freq</th>\n      <th>sender_currency_freq</th>\n      <th>sender_currency_amount_average</th>\n      <th>sender_receiver_freq</th>\n    </tr>\n    <tr>\n      <th>MessageId</th>\n      <th></th>\n      <th></th>\n      <th></th>\n      <th></th>\n      <th></th>\n      <th></th>\n      <th></th>\n      <th></th>\n    </tr>\n  </thead>\n  <tbody>\n    <tr>\n      <th>TRA7CGN3FF</th>\n      <td>1.746319e+09</td>\n      <td>1.560189e+09</td>\n      <td>0</td>\n      <td>0</td>\n      <td>16519</td>\n      <td>1598751</td>\n      <td>1.692465e+08</td>\n      <td>1708051</td>\n    </tr>\n    <tr>\n      <th>TRPNEMZIR7</th>\n      <td>4.711420e+06</td>\n      <td>4.711420e+06</td>\n      <td>0</td>\n      <td>0</td>\n      <td>4214</td>\n      <td>36690</td>\n      <td>1.667354e+06</td>\n      <td>36690</td>\n    </tr>\n    <tr>\n      <th>TR6S6A5JYL</th>\n      <td>7.528216e+05</td>\n      <td>7.528216e+05</td>\n      <td>0</td>\n      <td>0</td>\n      <td>4214</td>\n      <td>36690</td>\n      <td>1.667354e+06</td>\n      <td>36690</td>\n    </tr>\n  </tbody>\n</table>\n</div>"
     },
     "execution_count": 15,
     "metadata": {},
     "output_type": "execute_result"
    }
   ],
   "source": [
    "# Exclude below categorical columns for training and testing\n",
    "\n",
    "columns_to_drop = [\n",
    "    \"UETR\",\n",
    "    \"Sender\",\n",
    "    \"Receiver\",\n",
    "    \"TransactionReference\",\n",
    "    \"OrderingAccount\",\n",
    "    \"OrderingName\",\n",
    "    \"OrderingStreet\",\n",
    "    \"OrderingCountryCityZip\",\n",
    "    \"BeneficiaryAccount\",\n",
    "    \"BeneficiaryName\",\n",
    "    \"BeneficiaryStreet\",\n",
    "    \"BeneficiaryCountryCityZip\",\n",
    "    \"SettlementDate\",\n",
    "    \"SettlementCurrency\",\n",
    "    \"InstructedCurrency\",\n",
    "    \"Timestamp\",\n",
    "    \"sender_hour\",\n",
    "    \"sender_currency\",\n",
    "    \"sender_receiver\",\n",
    "]\n",
    "\n",
    "train = train.drop(columns_to_drop, axis=1)\n",
    "test = test.drop(columns_to_drop, axis=1)\n",
    "train.head(3)"
   ]
  },
  {
   "cell_type": "code",
   "execution_count": 16,
   "id": "6e00a6f6",
   "metadata": {
    "pycharm": {
     "name": "#%%\n"
    }
   },
   "outputs": [
    {
     "data": {
      "text/plain": "            SettlementAmount  InstructedAmount  Label  hour  sender_hour_freq  \\\nMessageId                                                                       \nTRHBNUNW24      1.516912e+08      1.697910e+08      1     0                44   \nTR5PG7D9PB      2.433016e+06      2.433016e+06      1     1                65   \nTRO5CCVOGF      3.768829e+06      3.367130e+06      1     1             29223   \nTRKMGKXV70      9.325149e+05      9.325149e+05      1     1                65   \nTR93KY2K2Z      1.959181e+06      1.959181e+06      1     1                65   \n...                      ...               ...    ...   ...               ...   \nTR3XXUN0LT      1.802557e+06      1.802557e+06      1    23                93   \nTR2NJMCD81      4.121070e+06      3.311958e+06      1    23             68571   \nTR0LV8DHE3      6.291664e+06      5.056388e+06      1    23             68571   \nTREJEA6AT3      4.345422e+05      4.345422e+05      1    23                93   \nTRDAB6L9LN      6.801269e+08      6.076360e+08      1    23             68571   \n\n            sender_currency_freq  sender_currency_amount_average  \\\nMessageId                                                          \nTRHBNUNW24                366914                    1.102004e+08   \nTR5PG7D9PB                529744                    1.674064e+06   \nTRO5CCVOGF               1598751                    1.692465e+08   \nTRKMGKXV70                529744                    1.674064e+06   \nTR93KY2K2Z                529744                    1.674064e+06   \n...                          ...                             ...   \nTR3XXUN0LT                529744                    1.674064e+06   \nTR2NJMCD81                218987                    3.691763e+06   \nTR0LV8DHE3                218987                    3.691763e+06   \nTREJEA6AT3                529744                    1.674064e+06   \nTRDAB6L9LN               1598751                    1.692465e+08   \n\n            sender_receiver_freq  \nMessageId                         \nTRHBNUNW24                240731  \nTR5PG7D9PB                267752  \nTRO5CCVOGF               1708051  \nTRKMGKXV70                267752  \nTR93KY2K2Z                267752  \n...                          ...  \nTR3XXUN0LT                267752  \nTR2NJMCD81               1708051  \nTR0LV8DHE3               1708051  \nTREJEA6AT3                267752  \nTRDAB6L9LN                    27  \n\n[4900 rows x 8 columns]",
      "text/html": "<div>\n<style scoped>\n    .dataframe tbody tr th:only-of-type {\n        vertical-align: middle;\n    }\n\n    .dataframe tbody tr th {\n        vertical-align: top;\n    }\n\n    .dataframe thead th {\n        text-align: right;\n    }\n</style>\n<table border=\"1\" class=\"dataframe\">\n  <thead>\n    <tr style=\"text-align: right;\">\n      <th></th>\n      <th>SettlementAmount</th>\n      <th>InstructedAmount</th>\n      <th>Label</th>\n      <th>hour</th>\n      <th>sender_hour_freq</th>\n      <th>sender_currency_freq</th>\n      <th>sender_currency_amount_average</th>\n      <th>sender_receiver_freq</th>\n    </tr>\n    <tr>\n      <th>MessageId</th>\n      <th></th>\n      <th></th>\n      <th></th>\n      <th></th>\n      <th></th>\n      <th></th>\n      <th></th>\n      <th></th>\n    </tr>\n  </thead>\n  <tbody>\n    <tr>\n      <th>TRHBNUNW24</th>\n      <td>1.516912e+08</td>\n      <td>1.697910e+08</td>\n      <td>1</td>\n      <td>0</td>\n      <td>44</td>\n      <td>366914</td>\n      <td>1.102004e+08</td>\n      <td>240731</td>\n    </tr>\n    <tr>\n      <th>TR5PG7D9PB</th>\n      <td>2.433016e+06</td>\n      <td>2.433016e+06</td>\n      <td>1</td>\n      <td>1</td>\n      <td>65</td>\n      <td>529744</td>\n      <td>1.674064e+06</td>\n      <td>267752</td>\n    </tr>\n    <tr>\n      <th>TRO5CCVOGF</th>\n      <td>3.768829e+06</td>\n      <td>3.367130e+06</td>\n      <td>1</td>\n      <td>1</td>\n      <td>29223</td>\n      <td>1598751</td>\n      <td>1.692465e+08</td>\n      <td>1708051</td>\n    </tr>\n    <tr>\n      <th>TRKMGKXV70</th>\n      <td>9.325149e+05</td>\n      <td>9.325149e+05</td>\n      <td>1</td>\n      <td>1</td>\n      <td>65</td>\n      <td>529744</td>\n      <td>1.674064e+06</td>\n      <td>267752</td>\n    </tr>\n    <tr>\n      <th>TR93KY2K2Z</th>\n      <td>1.959181e+06</td>\n      <td>1.959181e+06</td>\n      <td>1</td>\n      <td>1</td>\n      <td>65</td>\n      <td>529744</td>\n      <td>1.674064e+06</td>\n      <td>267752</td>\n    </tr>\n    <tr>\n      <th>...</th>\n      <td>...</td>\n      <td>...</td>\n      <td>...</td>\n      <td>...</td>\n      <td>...</td>\n      <td>...</td>\n      <td>...</td>\n      <td>...</td>\n    </tr>\n    <tr>\n      <th>TR3XXUN0LT</th>\n      <td>1.802557e+06</td>\n      <td>1.802557e+06</td>\n      <td>1</td>\n      <td>23</td>\n      <td>93</td>\n      <td>529744</td>\n      <td>1.674064e+06</td>\n      <td>267752</td>\n    </tr>\n    <tr>\n      <th>TR2NJMCD81</th>\n      <td>4.121070e+06</td>\n      <td>3.311958e+06</td>\n      <td>1</td>\n      <td>23</td>\n      <td>68571</td>\n      <td>218987</td>\n      <td>3.691763e+06</td>\n      <td>1708051</td>\n    </tr>\n    <tr>\n      <th>TR0LV8DHE3</th>\n      <td>6.291664e+06</td>\n      <td>5.056388e+06</td>\n      <td>1</td>\n      <td>23</td>\n      <td>68571</td>\n      <td>218987</td>\n      <td>3.691763e+06</td>\n      <td>1708051</td>\n    </tr>\n    <tr>\n      <th>TREJEA6AT3</th>\n      <td>4.345422e+05</td>\n      <td>4.345422e+05</td>\n      <td>1</td>\n      <td>23</td>\n      <td>93</td>\n      <td>529744</td>\n      <td>1.674064e+06</td>\n      <td>267752</td>\n    </tr>\n    <tr>\n      <th>TRDAB6L9LN</th>\n      <td>6.801269e+08</td>\n      <td>6.076360e+08</td>\n      <td>1</td>\n      <td>23</td>\n      <td>68571</td>\n      <td>1598751</td>\n      <td>1.692465e+08</td>\n      <td>27</td>\n    </tr>\n  </tbody>\n</table>\n<p>4900 rows × 8 columns</p>\n</div>"
     },
     "execution_count": 16,
     "metadata": {},
     "output_type": "execute_result"
    }
   ],
   "source": [
    "train[train[\"Label\"] == 1]"
   ]
  },
  {
   "cell_type": "code",
   "execution_count": 17,
   "id": "fb6acf76",
   "metadata": {
    "pycharm": {
     "name": "#%%\n"
    }
   },
   "outputs": [
    {
     "data": {
      "text/plain": "            SettlementAmount  InstructedAmount  Label  hour  sender_hour_freq  \\\nMessageId                                                                       \nTEKE9CP94L      2.544254e+06      2.273076e+06      1    22              4174   \nTE25TS2GOM      1.454529e+08      1.628083e+08      1     4                43   \nTE43OHEG32      2.768278e+06      2.224767e+06      1    11            552300   \nTEHRG80QLN      4.762671e+06      4.255044e+06      1    15             63231   \nTEGAOGU1QK      5.506012e+06      4.919156e+06      1     8            169510   \n...                      ...               ...    ...   ...               ...   \nTEIFN9H1VG      3.658144e+06      2.939922e+06      1     4            113181   \nTEDKORH5M2      2.723516e+06      2.188794e+06      1    11            552300   \nTEFKDNVAKL      3.186411e+06      2.560806e+06      1    22              4174   \nTE3DIV307H      4.485390e+06      4.007317e+06      1     6            139377   \nTEDTX37SB1      1.604442e+08      1.795883e+08      1     7             51772   \n\n            sender_currency_freq  sender_currency_amount_average  \\\nMessageId                                                          \nTEKE9CP94L               1598751                    1.692465e+08   \nTE25TS2GOM                366914                    1.102004e+08   \nTE43OHEG32                    58                    2.861585e+08   \nTEHRG80QLN               1598751                    1.692465e+08   \nTEGAOGU1QK               1598751                    1.692465e+08   \n...                          ...                             ...   \nTEIFN9H1VG                218987                    3.691763e+06   \nTEDKORH5M2                218987                    3.691763e+06   \nTEFKDNVAKL                218987                    3.691763e+06   \nTE3DIV307H               1598751                    1.692465e+08   \nTEDTX37SB1                366914                    1.102004e+08   \n\n            sender_receiver_freq  \nMessageId                         \nTEKE9CP94L               1708051  \nTE25TS2GOM                240731  \nTE43OHEG32               1708051  \nTEHRG80QLN                126189  \nTEGAOGU1QK               1708051  \n...                          ...  \nTEIFN9H1VG               1708051  \nTEDKORH5M2               1708051  \nTEFKDNVAKL               1708051  \nTE3DIV307H               1708051  \nTEDTX37SB1                     3  \n\n[761 rows x 8 columns]",
      "text/html": "<div>\n<style scoped>\n    .dataframe tbody tr th:only-of-type {\n        vertical-align: middle;\n    }\n\n    .dataframe tbody tr th {\n        vertical-align: top;\n    }\n\n    .dataframe thead th {\n        text-align: right;\n    }\n</style>\n<table border=\"1\" class=\"dataframe\">\n  <thead>\n    <tr style=\"text-align: right;\">\n      <th></th>\n      <th>SettlementAmount</th>\n      <th>InstructedAmount</th>\n      <th>Label</th>\n      <th>hour</th>\n      <th>sender_hour_freq</th>\n      <th>sender_currency_freq</th>\n      <th>sender_currency_amount_average</th>\n      <th>sender_receiver_freq</th>\n    </tr>\n    <tr>\n      <th>MessageId</th>\n      <th></th>\n      <th></th>\n      <th></th>\n      <th></th>\n      <th></th>\n      <th></th>\n      <th></th>\n      <th></th>\n    </tr>\n  </thead>\n  <tbody>\n    <tr>\n      <th>TEKE9CP94L</th>\n      <td>2.544254e+06</td>\n      <td>2.273076e+06</td>\n      <td>1</td>\n      <td>22</td>\n      <td>4174</td>\n      <td>1598751</td>\n      <td>1.692465e+08</td>\n      <td>1708051</td>\n    </tr>\n    <tr>\n      <th>TE25TS2GOM</th>\n      <td>1.454529e+08</td>\n      <td>1.628083e+08</td>\n      <td>1</td>\n      <td>4</td>\n      <td>43</td>\n      <td>366914</td>\n      <td>1.102004e+08</td>\n      <td>240731</td>\n    </tr>\n    <tr>\n      <th>TE43OHEG32</th>\n      <td>2.768278e+06</td>\n      <td>2.224767e+06</td>\n      <td>1</td>\n      <td>11</td>\n      <td>552300</td>\n      <td>58</td>\n      <td>2.861585e+08</td>\n      <td>1708051</td>\n    </tr>\n    <tr>\n      <th>TEHRG80QLN</th>\n      <td>4.762671e+06</td>\n      <td>4.255044e+06</td>\n      <td>1</td>\n      <td>15</td>\n      <td>63231</td>\n      <td>1598751</td>\n      <td>1.692465e+08</td>\n      <td>126189</td>\n    </tr>\n    <tr>\n      <th>TEGAOGU1QK</th>\n      <td>5.506012e+06</td>\n      <td>4.919156e+06</td>\n      <td>1</td>\n      <td>8</td>\n      <td>169510</td>\n      <td>1598751</td>\n      <td>1.692465e+08</td>\n      <td>1708051</td>\n    </tr>\n    <tr>\n      <th>...</th>\n      <td>...</td>\n      <td>...</td>\n      <td>...</td>\n      <td>...</td>\n      <td>...</td>\n      <td>...</td>\n      <td>...</td>\n      <td>...</td>\n    </tr>\n    <tr>\n      <th>TEIFN9H1VG</th>\n      <td>3.658144e+06</td>\n      <td>2.939922e+06</td>\n      <td>1</td>\n      <td>4</td>\n      <td>113181</td>\n      <td>218987</td>\n      <td>3.691763e+06</td>\n      <td>1708051</td>\n    </tr>\n    <tr>\n      <th>TEDKORH5M2</th>\n      <td>2.723516e+06</td>\n      <td>2.188794e+06</td>\n      <td>1</td>\n      <td>11</td>\n      <td>552300</td>\n      <td>218987</td>\n      <td>3.691763e+06</td>\n      <td>1708051</td>\n    </tr>\n    <tr>\n      <th>TEFKDNVAKL</th>\n      <td>3.186411e+06</td>\n      <td>2.560806e+06</td>\n      <td>1</td>\n      <td>22</td>\n      <td>4174</td>\n      <td>218987</td>\n      <td>3.691763e+06</td>\n      <td>1708051</td>\n    </tr>\n    <tr>\n      <th>TE3DIV307H</th>\n      <td>4.485390e+06</td>\n      <td>4.007317e+06</td>\n      <td>1</td>\n      <td>6</td>\n      <td>139377</td>\n      <td>1598751</td>\n      <td>1.692465e+08</td>\n      <td>1708051</td>\n    </tr>\n    <tr>\n      <th>TEDTX37SB1</th>\n      <td>1.604442e+08</td>\n      <td>1.795883e+08</td>\n      <td>1</td>\n      <td>7</td>\n      <td>51772</td>\n      <td>366914</td>\n      <td>1.102004e+08</td>\n      <td>3</td>\n    </tr>\n  </tbody>\n</table>\n<p>761 rows × 8 columns</p>\n</div>"
     },
     "execution_count": 17,
     "metadata": {},
     "output_type": "execute_result"
    }
   ],
   "source": [
    "test[test[\"Label\"] == 1]"
   ]
  },
  {
   "cell_type": "markdown",
   "id": "8a95f5f3",
   "metadata": {
    "pycharm": {
     "name": "#%% md\n"
    }
   },
   "source": [
    "# Separate Label and Normalize"
   ]
  },
  {
   "cell_type": "code",
   "execution_count": 18,
   "id": "45a524f5",
   "metadata": {
    "ExecuteTime": {
     "end_time": "2022-06-01T14:30:10.702757Z",
     "start_time": "2022-06-01T14:30:10.576162Z"
    },
    "pycharm": {
     "name": "#%%\n"
    }
   },
   "outputs": [],
   "source": [
    "Y_train = train[\"Label\"].values\n",
    "X_train = train.drop([\"Label\"], axis=1).values\n",
    "Y_test = test[\"Label\"].values\n",
    "X_test = test.drop([\"Label\"], axis=1).values"
   ]
  },
  {
   "cell_type": "code",
   "execution_count": 19,
   "id": "c83b7edc",
   "metadata": {
    "ExecuteTime": {
     "end_time": "2022-06-01T14:30:12.161233Z",
     "start_time": "2022-06-01T14:30:11.953664Z"
    },
    "pycharm": {
     "name": "#%%\n"
    }
   },
   "outputs": [],
   "source": [
    "# Normalize\n",
    "\n",
    "scaler = StandardScaler()\n",
    "scaler.fit(X_train)\n",
    "\n",
    "X_train = scaler.transform(X_train)\n",
    "X_test = scaler.transform(X_test)"
   ]
  },
  {
   "cell_type": "markdown",
   "id": "82199e80",
   "metadata": {
    "pycharm": {
     "name": "#%% md\n"
    }
   },
   "source": [
    "## Random Forest"
   ]
  },
  {
   "cell_type": "code",
   "execution_count": 32,
   "outputs": [
    {
     "name": "stdout",
     "output_type": "stream",
     "text": [
      "Minimum: 0.45561665357423414\n",
      "Maximum: 0.5265519820493643\n",
      "StanDev: 0.024935986949270916\n",
      "Classification Report=\n",
      "\n",
      "               precision    recall  f1-score   support\n",
      "\n",
      "           0       1.00      1.00      1.00    704347\n",
      "           1       0.99      0.34      0.51       761\n",
      "\n",
      "    accuracy                           1.00    705108\n",
      "   macro avg       0.99      0.67      0.75    705108\n",
      "weighted avg       1.00      1.00      1.00    705108\n",
      "\n",
      "Confusion Matrix=\n",
      "\n",
      " [[704344      3]\n",
      " [   501    260]]\n",
      "AUPRC: 0.5009128295564667\n",
      "CPU times: total: 1min 55s\n",
      "Wall time: 1min 57s\n"
     ]
    },
    {
     "ename": "KeyboardInterrupt",
     "evalue": "",
     "output_type": "error",
     "traceback": [
      "\u001B[1;31m---------------------------------------------------------------------------\u001B[0m",
      "\u001B[1;31mKeyboardInterrupt\u001B[0m                         Traceback (most recent call last)",
      "File \u001B[1;32m<timed exec>:5\u001B[0m, in \u001B[0;36m<module>\u001B[1;34m\u001B[0m\n",
      "File \u001B[1;32m~\\miniconda3\\lib\\site-packages\\sklearn\\model_selection\\_validation.py:515\u001B[0m, in \u001B[0;36mcross_val_score\u001B[1;34m(estimator, X, y, groups, scoring, cv, n_jobs, verbose, fit_params, pre_dispatch, error_score)\u001B[0m\n\u001B[0;32m    512\u001B[0m \u001B[38;5;66;03m# To ensure multimetric format is not supported\u001B[39;00m\n\u001B[0;32m    513\u001B[0m scorer \u001B[38;5;241m=\u001B[39m check_scoring(estimator, scoring\u001B[38;5;241m=\u001B[39mscoring)\n\u001B[1;32m--> 515\u001B[0m cv_results \u001B[38;5;241m=\u001B[39m \u001B[43mcross_validate\u001B[49m\u001B[43m(\u001B[49m\n\u001B[0;32m    516\u001B[0m \u001B[43m    \u001B[49m\u001B[43mestimator\u001B[49m\u001B[38;5;241;43m=\u001B[39;49m\u001B[43mestimator\u001B[49m\u001B[43m,\u001B[49m\n\u001B[0;32m    517\u001B[0m \u001B[43m    \u001B[49m\u001B[43mX\u001B[49m\u001B[38;5;241;43m=\u001B[39;49m\u001B[43mX\u001B[49m\u001B[43m,\u001B[49m\n\u001B[0;32m    518\u001B[0m \u001B[43m    \u001B[49m\u001B[43my\u001B[49m\u001B[38;5;241;43m=\u001B[39;49m\u001B[43my\u001B[49m\u001B[43m,\u001B[49m\n\u001B[0;32m    519\u001B[0m \u001B[43m    \u001B[49m\u001B[43mgroups\u001B[49m\u001B[38;5;241;43m=\u001B[39;49m\u001B[43mgroups\u001B[49m\u001B[43m,\u001B[49m\n\u001B[0;32m    520\u001B[0m \u001B[43m    \u001B[49m\u001B[43mscoring\u001B[49m\u001B[38;5;241;43m=\u001B[39;49m\u001B[43m{\u001B[49m\u001B[38;5;124;43m\"\u001B[39;49m\u001B[38;5;124;43mscore\u001B[39;49m\u001B[38;5;124;43m\"\u001B[39;49m\u001B[43m:\u001B[49m\u001B[43m \u001B[49m\u001B[43mscorer\u001B[49m\u001B[43m}\u001B[49m\u001B[43m,\u001B[49m\n\u001B[0;32m    521\u001B[0m \u001B[43m    \u001B[49m\u001B[43mcv\u001B[49m\u001B[38;5;241;43m=\u001B[39;49m\u001B[43mcv\u001B[49m\u001B[43m,\u001B[49m\n\u001B[0;32m    522\u001B[0m \u001B[43m    \u001B[49m\u001B[43mn_jobs\u001B[49m\u001B[38;5;241;43m=\u001B[39;49m\u001B[43mn_jobs\u001B[49m\u001B[43m,\u001B[49m\n\u001B[0;32m    523\u001B[0m \u001B[43m    \u001B[49m\u001B[43mverbose\u001B[49m\u001B[38;5;241;43m=\u001B[39;49m\u001B[43mverbose\u001B[49m\u001B[43m,\u001B[49m\n\u001B[0;32m    524\u001B[0m \u001B[43m    \u001B[49m\u001B[43mfit_params\u001B[49m\u001B[38;5;241;43m=\u001B[39;49m\u001B[43mfit_params\u001B[49m\u001B[43m,\u001B[49m\n\u001B[0;32m    525\u001B[0m \u001B[43m    \u001B[49m\u001B[43mpre_dispatch\u001B[49m\u001B[38;5;241;43m=\u001B[39;49m\u001B[43mpre_dispatch\u001B[49m\u001B[43m,\u001B[49m\n\u001B[0;32m    526\u001B[0m \u001B[43m    \u001B[49m\u001B[43merror_score\u001B[49m\u001B[38;5;241;43m=\u001B[39;49m\u001B[43merror_score\u001B[49m\u001B[43m,\u001B[49m\n\u001B[0;32m    527\u001B[0m \u001B[43m\u001B[49m\u001B[43m)\u001B[49m\n\u001B[0;32m    528\u001B[0m \u001B[38;5;28;01mreturn\u001B[39;00m cv_results[\u001B[38;5;124m\"\u001B[39m\u001B[38;5;124mtest_score\u001B[39m\u001B[38;5;124m\"\u001B[39m]\n",
      "File \u001B[1;32m~\\miniconda3\\lib\\site-packages\\sklearn\\model_selection\\_validation.py:266\u001B[0m, in \u001B[0;36mcross_validate\u001B[1;34m(estimator, X, y, groups, scoring, cv, n_jobs, verbose, fit_params, pre_dispatch, return_train_score, return_estimator, error_score)\u001B[0m\n\u001B[0;32m    263\u001B[0m \u001B[38;5;66;03m# We clone the estimator to make sure that all the folds are\u001B[39;00m\n\u001B[0;32m    264\u001B[0m \u001B[38;5;66;03m# independent, and that it is pickle-able.\u001B[39;00m\n\u001B[0;32m    265\u001B[0m parallel \u001B[38;5;241m=\u001B[39m Parallel(n_jobs\u001B[38;5;241m=\u001B[39mn_jobs, verbose\u001B[38;5;241m=\u001B[39mverbose, pre_dispatch\u001B[38;5;241m=\u001B[39mpre_dispatch)\n\u001B[1;32m--> 266\u001B[0m results \u001B[38;5;241m=\u001B[39m \u001B[43mparallel\u001B[49m\u001B[43m(\u001B[49m\n\u001B[0;32m    267\u001B[0m \u001B[43m    \u001B[49m\u001B[43mdelayed\u001B[49m\u001B[43m(\u001B[49m\u001B[43m_fit_and_score\u001B[49m\u001B[43m)\u001B[49m\u001B[43m(\u001B[49m\n\u001B[0;32m    268\u001B[0m \u001B[43m        \u001B[49m\u001B[43mclone\u001B[49m\u001B[43m(\u001B[49m\u001B[43mestimator\u001B[49m\u001B[43m)\u001B[49m\u001B[43m,\u001B[49m\n\u001B[0;32m    269\u001B[0m \u001B[43m        \u001B[49m\u001B[43mX\u001B[49m\u001B[43m,\u001B[49m\n\u001B[0;32m    270\u001B[0m \u001B[43m        \u001B[49m\u001B[43my\u001B[49m\u001B[43m,\u001B[49m\n\u001B[0;32m    271\u001B[0m \u001B[43m        \u001B[49m\u001B[43mscorers\u001B[49m\u001B[43m,\u001B[49m\n\u001B[0;32m    272\u001B[0m \u001B[43m        \u001B[49m\u001B[43mtrain\u001B[49m\u001B[43m,\u001B[49m\n\u001B[0;32m    273\u001B[0m \u001B[43m        \u001B[49m\u001B[43mtest\u001B[49m\u001B[43m,\u001B[49m\n\u001B[0;32m    274\u001B[0m \u001B[43m        \u001B[49m\u001B[43mverbose\u001B[49m\u001B[43m,\u001B[49m\n\u001B[0;32m    275\u001B[0m \u001B[43m        \u001B[49m\u001B[38;5;28;43;01mNone\u001B[39;49;00m\u001B[43m,\u001B[49m\n\u001B[0;32m    276\u001B[0m \u001B[43m        \u001B[49m\u001B[43mfit_params\u001B[49m\u001B[43m,\u001B[49m\n\u001B[0;32m    277\u001B[0m \u001B[43m        \u001B[49m\u001B[43mreturn_train_score\u001B[49m\u001B[38;5;241;43m=\u001B[39;49m\u001B[43mreturn_train_score\u001B[49m\u001B[43m,\u001B[49m\n\u001B[0;32m    278\u001B[0m \u001B[43m        \u001B[49m\u001B[43mreturn_times\u001B[49m\u001B[38;5;241;43m=\u001B[39;49m\u001B[38;5;28;43;01mTrue\u001B[39;49;00m\u001B[43m,\u001B[49m\n\u001B[0;32m    279\u001B[0m \u001B[43m        \u001B[49m\u001B[43mreturn_estimator\u001B[49m\u001B[38;5;241;43m=\u001B[39;49m\u001B[43mreturn_estimator\u001B[49m\u001B[43m,\u001B[49m\n\u001B[0;32m    280\u001B[0m \u001B[43m        \u001B[49m\u001B[43merror_score\u001B[49m\u001B[38;5;241;43m=\u001B[39;49m\u001B[43merror_score\u001B[49m\u001B[43m,\u001B[49m\n\u001B[0;32m    281\u001B[0m \u001B[43m    \u001B[49m\u001B[43m)\u001B[49m\n\u001B[0;32m    282\u001B[0m \u001B[43m    \u001B[49m\u001B[38;5;28;43;01mfor\u001B[39;49;00m\u001B[43m \u001B[49m\u001B[43mtrain\u001B[49m\u001B[43m,\u001B[49m\u001B[43m \u001B[49m\u001B[43mtest\u001B[49m\u001B[43m \u001B[49m\u001B[38;5;129;43;01min\u001B[39;49;00m\u001B[43m \u001B[49m\u001B[43mcv\u001B[49m\u001B[38;5;241;43m.\u001B[39;49m\u001B[43msplit\u001B[49m\u001B[43m(\u001B[49m\u001B[43mX\u001B[49m\u001B[43m,\u001B[49m\u001B[43m \u001B[49m\u001B[43my\u001B[49m\u001B[43m,\u001B[49m\u001B[43m \u001B[49m\u001B[43mgroups\u001B[49m\u001B[43m)\u001B[49m\n\u001B[0;32m    283\u001B[0m \u001B[43m\u001B[49m\u001B[43m)\u001B[49m\n\u001B[0;32m    285\u001B[0m _warn_or_raise_about_fit_failures(results, error_score)\n\u001B[0;32m    287\u001B[0m \u001B[38;5;66;03m# For callabe scoring, the return type is only know after calling. If the\u001B[39;00m\n\u001B[0;32m    288\u001B[0m \u001B[38;5;66;03m# return type is a dictionary, the error scores can now be inserted with\u001B[39;00m\n\u001B[0;32m    289\u001B[0m \u001B[38;5;66;03m# the correct key.\u001B[39;00m\n",
      "File \u001B[1;32m~\\miniconda3\\lib\\site-packages\\joblib\\parallel.py:1046\u001B[0m, in \u001B[0;36mParallel.__call__\u001B[1;34m(self, iterable)\u001B[0m\n\u001B[0;32m   1043\u001B[0m \u001B[38;5;28;01mif\u001B[39;00m \u001B[38;5;28mself\u001B[39m\u001B[38;5;241m.\u001B[39mdispatch_one_batch(iterator):\n\u001B[0;32m   1044\u001B[0m     \u001B[38;5;28mself\u001B[39m\u001B[38;5;241m.\u001B[39m_iterating \u001B[38;5;241m=\u001B[39m \u001B[38;5;28mself\u001B[39m\u001B[38;5;241m.\u001B[39m_original_iterator \u001B[38;5;129;01mis\u001B[39;00m \u001B[38;5;129;01mnot\u001B[39;00m \u001B[38;5;28;01mNone\u001B[39;00m\n\u001B[1;32m-> 1046\u001B[0m \u001B[38;5;28;01mwhile\u001B[39;00m \u001B[38;5;28;43mself\u001B[39;49m\u001B[38;5;241;43m.\u001B[39;49m\u001B[43mdispatch_one_batch\u001B[49m\u001B[43m(\u001B[49m\u001B[43miterator\u001B[49m\u001B[43m)\u001B[49m:\n\u001B[0;32m   1047\u001B[0m     \u001B[38;5;28;01mpass\u001B[39;00m\n\u001B[0;32m   1049\u001B[0m \u001B[38;5;28;01mif\u001B[39;00m pre_dispatch \u001B[38;5;241m==\u001B[39m \u001B[38;5;124m\"\u001B[39m\u001B[38;5;124mall\u001B[39m\u001B[38;5;124m\"\u001B[39m \u001B[38;5;129;01mor\u001B[39;00m n_jobs \u001B[38;5;241m==\u001B[39m \u001B[38;5;241m1\u001B[39m:\n\u001B[0;32m   1050\u001B[0m     \u001B[38;5;66;03m# The iterable was consumed all at once by the above for loop.\u001B[39;00m\n\u001B[0;32m   1051\u001B[0m     \u001B[38;5;66;03m# No need to wait for async callbacks to trigger to\u001B[39;00m\n\u001B[0;32m   1052\u001B[0m     \u001B[38;5;66;03m# consumption.\u001B[39;00m\n",
      "File \u001B[1;32m~\\miniconda3\\lib\\site-packages\\joblib\\parallel.py:861\u001B[0m, in \u001B[0;36mParallel.dispatch_one_batch\u001B[1;34m(self, iterator)\u001B[0m\n\u001B[0;32m    859\u001B[0m     \u001B[38;5;28;01mreturn\u001B[39;00m \u001B[38;5;28;01mFalse\u001B[39;00m\n\u001B[0;32m    860\u001B[0m \u001B[38;5;28;01melse\u001B[39;00m:\n\u001B[1;32m--> 861\u001B[0m     \u001B[38;5;28;43mself\u001B[39;49m\u001B[38;5;241;43m.\u001B[39;49m\u001B[43m_dispatch\u001B[49m\u001B[43m(\u001B[49m\u001B[43mtasks\u001B[49m\u001B[43m)\u001B[49m\n\u001B[0;32m    862\u001B[0m     \u001B[38;5;28;01mreturn\u001B[39;00m \u001B[38;5;28;01mTrue\u001B[39;00m\n",
      "File \u001B[1;32m~\\miniconda3\\lib\\site-packages\\joblib\\parallel.py:779\u001B[0m, in \u001B[0;36mParallel._dispatch\u001B[1;34m(self, batch)\u001B[0m\n\u001B[0;32m    777\u001B[0m \u001B[38;5;28;01mwith\u001B[39;00m \u001B[38;5;28mself\u001B[39m\u001B[38;5;241m.\u001B[39m_lock:\n\u001B[0;32m    778\u001B[0m     job_idx \u001B[38;5;241m=\u001B[39m \u001B[38;5;28mlen\u001B[39m(\u001B[38;5;28mself\u001B[39m\u001B[38;5;241m.\u001B[39m_jobs)\n\u001B[1;32m--> 779\u001B[0m     job \u001B[38;5;241m=\u001B[39m \u001B[38;5;28;43mself\u001B[39;49m\u001B[38;5;241;43m.\u001B[39;49m\u001B[43m_backend\u001B[49m\u001B[38;5;241;43m.\u001B[39;49m\u001B[43mapply_async\u001B[49m\u001B[43m(\u001B[49m\u001B[43mbatch\u001B[49m\u001B[43m,\u001B[49m\u001B[43m \u001B[49m\u001B[43mcallback\u001B[49m\u001B[38;5;241;43m=\u001B[39;49m\u001B[43mcb\u001B[49m\u001B[43m)\u001B[49m\n\u001B[0;32m    780\u001B[0m     \u001B[38;5;66;03m# A job can complete so quickly than its callback is\u001B[39;00m\n\u001B[0;32m    781\u001B[0m     \u001B[38;5;66;03m# called before we get here, causing self._jobs to\u001B[39;00m\n\u001B[0;32m    782\u001B[0m     \u001B[38;5;66;03m# grow. To ensure correct results ordering, .insert is\u001B[39;00m\n\u001B[0;32m    783\u001B[0m     \u001B[38;5;66;03m# used (rather than .append) in the following line\u001B[39;00m\n\u001B[0;32m    784\u001B[0m     \u001B[38;5;28mself\u001B[39m\u001B[38;5;241m.\u001B[39m_jobs\u001B[38;5;241m.\u001B[39minsert(job_idx, job)\n",
      "File \u001B[1;32m~\\miniconda3\\lib\\site-packages\\joblib\\_parallel_backends.py:208\u001B[0m, in \u001B[0;36mSequentialBackend.apply_async\u001B[1;34m(self, func, callback)\u001B[0m\n\u001B[0;32m    206\u001B[0m \u001B[38;5;28;01mdef\u001B[39;00m \u001B[38;5;21mapply_async\u001B[39m(\u001B[38;5;28mself\u001B[39m, func, callback\u001B[38;5;241m=\u001B[39m\u001B[38;5;28;01mNone\u001B[39;00m):\n\u001B[0;32m    207\u001B[0m     \u001B[38;5;124;03m\"\"\"Schedule a func to be run\"\"\"\u001B[39;00m\n\u001B[1;32m--> 208\u001B[0m     result \u001B[38;5;241m=\u001B[39m \u001B[43mImmediateResult\u001B[49m\u001B[43m(\u001B[49m\u001B[43mfunc\u001B[49m\u001B[43m)\u001B[49m\n\u001B[0;32m    209\u001B[0m     \u001B[38;5;28;01mif\u001B[39;00m callback:\n\u001B[0;32m    210\u001B[0m         callback(result)\n",
      "File \u001B[1;32m~\\miniconda3\\lib\\site-packages\\joblib\\_parallel_backends.py:572\u001B[0m, in \u001B[0;36mImmediateResult.__init__\u001B[1;34m(self, batch)\u001B[0m\n\u001B[0;32m    569\u001B[0m \u001B[38;5;28;01mdef\u001B[39;00m \u001B[38;5;21m__init__\u001B[39m(\u001B[38;5;28mself\u001B[39m, batch):\n\u001B[0;32m    570\u001B[0m     \u001B[38;5;66;03m# Don't delay the application, to avoid keeping the input\u001B[39;00m\n\u001B[0;32m    571\u001B[0m     \u001B[38;5;66;03m# arguments in memory\u001B[39;00m\n\u001B[1;32m--> 572\u001B[0m     \u001B[38;5;28mself\u001B[39m\u001B[38;5;241m.\u001B[39mresults \u001B[38;5;241m=\u001B[39m \u001B[43mbatch\u001B[49m\u001B[43m(\u001B[49m\u001B[43m)\u001B[49m\n",
      "File \u001B[1;32m~\\miniconda3\\lib\\site-packages\\joblib\\parallel.py:262\u001B[0m, in \u001B[0;36mBatchedCalls.__call__\u001B[1;34m(self)\u001B[0m\n\u001B[0;32m    258\u001B[0m \u001B[38;5;28;01mdef\u001B[39;00m \u001B[38;5;21m__call__\u001B[39m(\u001B[38;5;28mself\u001B[39m):\n\u001B[0;32m    259\u001B[0m     \u001B[38;5;66;03m# Set the default nested backend to self._backend but do not set the\u001B[39;00m\n\u001B[0;32m    260\u001B[0m     \u001B[38;5;66;03m# change the default number of processes to -1\u001B[39;00m\n\u001B[0;32m    261\u001B[0m     \u001B[38;5;28;01mwith\u001B[39;00m parallel_backend(\u001B[38;5;28mself\u001B[39m\u001B[38;5;241m.\u001B[39m_backend, n_jobs\u001B[38;5;241m=\u001B[39m\u001B[38;5;28mself\u001B[39m\u001B[38;5;241m.\u001B[39m_n_jobs):\n\u001B[1;32m--> 262\u001B[0m         \u001B[38;5;28;01mreturn\u001B[39;00m [func(\u001B[38;5;241m*\u001B[39margs, \u001B[38;5;241m*\u001B[39m\u001B[38;5;241m*\u001B[39mkwargs)\n\u001B[0;32m    263\u001B[0m                 \u001B[38;5;28;01mfor\u001B[39;00m func, args, kwargs \u001B[38;5;129;01min\u001B[39;00m \u001B[38;5;28mself\u001B[39m\u001B[38;5;241m.\u001B[39mitems]\n",
      "File \u001B[1;32m~\\miniconda3\\lib\\site-packages\\joblib\\parallel.py:262\u001B[0m, in \u001B[0;36m<listcomp>\u001B[1;34m(.0)\u001B[0m\n\u001B[0;32m    258\u001B[0m \u001B[38;5;28;01mdef\u001B[39;00m \u001B[38;5;21m__call__\u001B[39m(\u001B[38;5;28mself\u001B[39m):\n\u001B[0;32m    259\u001B[0m     \u001B[38;5;66;03m# Set the default nested backend to self._backend but do not set the\u001B[39;00m\n\u001B[0;32m    260\u001B[0m     \u001B[38;5;66;03m# change the default number of processes to -1\u001B[39;00m\n\u001B[0;32m    261\u001B[0m     \u001B[38;5;28;01mwith\u001B[39;00m parallel_backend(\u001B[38;5;28mself\u001B[39m\u001B[38;5;241m.\u001B[39m_backend, n_jobs\u001B[38;5;241m=\u001B[39m\u001B[38;5;28mself\u001B[39m\u001B[38;5;241m.\u001B[39m_n_jobs):\n\u001B[1;32m--> 262\u001B[0m         \u001B[38;5;28;01mreturn\u001B[39;00m [func(\u001B[38;5;241m*\u001B[39margs, \u001B[38;5;241m*\u001B[39m\u001B[38;5;241m*\u001B[39mkwargs)\n\u001B[0;32m    263\u001B[0m                 \u001B[38;5;28;01mfor\u001B[39;00m func, args, kwargs \u001B[38;5;129;01min\u001B[39;00m \u001B[38;5;28mself\u001B[39m\u001B[38;5;241m.\u001B[39mitems]\n",
      "File \u001B[1;32m~\\miniconda3\\lib\\site-packages\\sklearn\\utils\\fixes.py:117\u001B[0m, in \u001B[0;36m_FuncWrapper.__call__\u001B[1;34m(self, *args, **kwargs)\u001B[0m\n\u001B[0;32m    115\u001B[0m \u001B[38;5;28;01mdef\u001B[39;00m \u001B[38;5;21m__call__\u001B[39m(\u001B[38;5;28mself\u001B[39m, \u001B[38;5;241m*\u001B[39margs, \u001B[38;5;241m*\u001B[39m\u001B[38;5;241m*\u001B[39mkwargs):\n\u001B[0;32m    116\u001B[0m     \u001B[38;5;28;01mwith\u001B[39;00m config_context(\u001B[38;5;241m*\u001B[39m\u001B[38;5;241m*\u001B[39m\u001B[38;5;28mself\u001B[39m\u001B[38;5;241m.\u001B[39mconfig):\n\u001B[1;32m--> 117\u001B[0m         \u001B[38;5;28;01mreturn\u001B[39;00m \u001B[38;5;28mself\u001B[39m\u001B[38;5;241m.\u001B[39mfunction(\u001B[38;5;241m*\u001B[39margs, \u001B[38;5;241m*\u001B[39m\u001B[38;5;241m*\u001B[39mkwargs)\n",
      "File \u001B[1;32m~\\miniconda3\\lib\\site-packages\\sklearn\\model_selection\\_validation.py:686\u001B[0m, in \u001B[0;36m_fit_and_score\u001B[1;34m(estimator, X, y, scorer, train, test, verbose, parameters, fit_params, return_train_score, return_parameters, return_n_test_samples, return_times, return_estimator, split_progress, candidate_progress, error_score)\u001B[0m\n\u001B[0;32m    684\u001B[0m         estimator\u001B[38;5;241m.\u001B[39mfit(X_train, \u001B[38;5;241m*\u001B[39m\u001B[38;5;241m*\u001B[39mfit_params)\n\u001B[0;32m    685\u001B[0m     \u001B[38;5;28;01melse\u001B[39;00m:\n\u001B[1;32m--> 686\u001B[0m         estimator\u001B[38;5;241m.\u001B[39mfit(X_train, y_train, \u001B[38;5;241m*\u001B[39m\u001B[38;5;241m*\u001B[39mfit_params)\n\u001B[0;32m    688\u001B[0m \u001B[38;5;28;01mexcept\u001B[39;00m \u001B[38;5;167;01mException\u001B[39;00m:\n\u001B[0;32m    689\u001B[0m     \u001B[38;5;66;03m# Note fit time as time until error\u001B[39;00m\n\u001B[0;32m    690\u001B[0m     fit_time \u001B[38;5;241m=\u001B[39m time\u001B[38;5;241m.\u001B[39mtime() \u001B[38;5;241m-\u001B[39m start_time\n",
      "File \u001B[1;32m~\\miniconda3\\lib\\site-packages\\sklearn\\ensemble\\_forest.py:476\u001B[0m, in \u001B[0;36mBaseForest.fit\u001B[1;34m(self, X, y, sample_weight)\u001B[0m\n\u001B[0;32m    465\u001B[0m trees \u001B[38;5;241m=\u001B[39m [\n\u001B[0;32m    466\u001B[0m     \u001B[38;5;28mself\u001B[39m\u001B[38;5;241m.\u001B[39m_make_estimator(append\u001B[38;5;241m=\u001B[39m\u001B[38;5;28;01mFalse\u001B[39;00m, random_state\u001B[38;5;241m=\u001B[39mrandom_state)\n\u001B[0;32m    467\u001B[0m     \u001B[38;5;28;01mfor\u001B[39;00m i \u001B[38;5;129;01min\u001B[39;00m \u001B[38;5;28mrange\u001B[39m(n_more_estimators)\n\u001B[0;32m    468\u001B[0m ]\n\u001B[0;32m    470\u001B[0m \u001B[38;5;66;03m# Parallel loop: we prefer the threading backend as the Cython code\u001B[39;00m\n\u001B[0;32m    471\u001B[0m \u001B[38;5;66;03m# for fitting the trees is internally releasing the Python GIL\u001B[39;00m\n\u001B[0;32m    472\u001B[0m \u001B[38;5;66;03m# making threading more efficient than multiprocessing in\u001B[39;00m\n\u001B[0;32m    473\u001B[0m \u001B[38;5;66;03m# that case. However, for joblib 0.12+ we respect any\u001B[39;00m\n\u001B[0;32m    474\u001B[0m \u001B[38;5;66;03m# parallel_backend contexts set at a higher level,\u001B[39;00m\n\u001B[0;32m    475\u001B[0m \u001B[38;5;66;03m# since correctness does not rely on using threads.\u001B[39;00m\n\u001B[1;32m--> 476\u001B[0m trees \u001B[38;5;241m=\u001B[39m \u001B[43mParallel\u001B[49m\u001B[43m(\u001B[49m\n\u001B[0;32m    477\u001B[0m \u001B[43m    \u001B[49m\u001B[43mn_jobs\u001B[49m\u001B[38;5;241;43m=\u001B[39;49m\u001B[38;5;28;43mself\u001B[39;49m\u001B[38;5;241;43m.\u001B[39;49m\u001B[43mn_jobs\u001B[49m\u001B[43m,\u001B[49m\n\u001B[0;32m    478\u001B[0m \u001B[43m    \u001B[49m\u001B[43mverbose\u001B[49m\u001B[38;5;241;43m=\u001B[39;49m\u001B[38;5;28;43mself\u001B[39;49m\u001B[38;5;241;43m.\u001B[39;49m\u001B[43mverbose\u001B[49m\u001B[43m,\u001B[49m\n\u001B[0;32m    479\u001B[0m \u001B[43m    \u001B[49m\u001B[43mprefer\u001B[49m\u001B[38;5;241;43m=\u001B[39;49m\u001B[38;5;124;43m\"\u001B[39;49m\u001B[38;5;124;43mthreads\u001B[39;49m\u001B[38;5;124;43m\"\u001B[39;49m\u001B[43m,\u001B[49m\n\u001B[0;32m    480\u001B[0m \u001B[43m\u001B[49m\u001B[43m)\u001B[49m\u001B[43m(\u001B[49m\n\u001B[0;32m    481\u001B[0m \u001B[43m    \u001B[49m\u001B[43mdelayed\u001B[49m\u001B[43m(\u001B[49m\u001B[43m_parallel_build_trees\u001B[49m\u001B[43m)\u001B[49m\u001B[43m(\u001B[49m\n\u001B[0;32m    482\u001B[0m \u001B[43m        \u001B[49m\u001B[43mt\u001B[49m\u001B[43m,\u001B[49m\n\u001B[0;32m    483\u001B[0m \u001B[43m        \u001B[49m\u001B[38;5;28;43mself\u001B[39;49m\u001B[38;5;241;43m.\u001B[39;49m\u001B[43mbootstrap\u001B[49m\u001B[43m,\u001B[49m\n\u001B[0;32m    484\u001B[0m \u001B[43m        \u001B[49m\u001B[43mX\u001B[49m\u001B[43m,\u001B[49m\n\u001B[0;32m    485\u001B[0m \u001B[43m        \u001B[49m\u001B[43my\u001B[49m\u001B[43m,\u001B[49m\n\u001B[0;32m    486\u001B[0m \u001B[43m        \u001B[49m\u001B[43msample_weight\u001B[49m\u001B[43m,\u001B[49m\n\u001B[0;32m    487\u001B[0m \u001B[43m        \u001B[49m\u001B[43mi\u001B[49m\u001B[43m,\u001B[49m\n\u001B[0;32m    488\u001B[0m \u001B[43m        \u001B[49m\u001B[38;5;28;43mlen\u001B[39;49m\u001B[43m(\u001B[49m\u001B[43mtrees\u001B[49m\u001B[43m)\u001B[49m\u001B[43m,\u001B[49m\n\u001B[0;32m    489\u001B[0m \u001B[43m        \u001B[49m\u001B[43mverbose\u001B[49m\u001B[38;5;241;43m=\u001B[39;49m\u001B[38;5;28;43mself\u001B[39;49m\u001B[38;5;241;43m.\u001B[39;49m\u001B[43mverbose\u001B[49m\u001B[43m,\u001B[49m\n\u001B[0;32m    490\u001B[0m \u001B[43m        \u001B[49m\u001B[43mclass_weight\u001B[49m\u001B[38;5;241;43m=\u001B[39;49m\u001B[38;5;28;43mself\u001B[39;49m\u001B[38;5;241;43m.\u001B[39;49m\u001B[43mclass_weight\u001B[49m\u001B[43m,\u001B[49m\n\u001B[0;32m    491\u001B[0m \u001B[43m        \u001B[49m\u001B[43mn_samples_bootstrap\u001B[49m\u001B[38;5;241;43m=\u001B[39;49m\u001B[43mn_samples_bootstrap\u001B[49m\u001B[43m,\u001B[49m\n\u001B[0;32m    492\u001B[0m \u001B[43m    \u001B[49m\u001B[43m)\u001B[49m\n\u001B[0;32m    493\u001B[0m \u001B[43m    \u001B[49m\u001B[38;5;28;43;01mfor\u001B[39;49;00m\u001B[43m \u001B[49m\u001B[43mi\u001B[49m\u001B[43m,\u001B[49m\u001B[43m \u001B[49m\u001B[43mt\u001B[49m\u001B[43m \u001B[49m\u001B[38;5;129;43;01min\u001B[39;49;00m\u001B[43m \u001B[49m\u001B[38;5;28;43menumerate\u001B[39;49m\u001B[43m(\u001B[49m\u001B[43mtrees\u001B[49m\u001B[43m)\u001B[49m\n\u001B[0;32m    494\u001B[0m \u001B[43m\u001B[49m\u001B[43m)\u001B[49m\n\u001B[0;32m    496\u001B[0m \u001B[38;5;66;03m# Collect newly grown trees\u001B[39;00m\n\u001B[0;32m    497\u001B[0m \u001B[38;5;28mself\u001B[39m\u001B[38;5;241m.\u001B[39mestimators_\u001B[38;5;241m.\u001B[39mextend(trees)\n",
      "File \u001B[1;32m~\\miniconda3\\lib\\site-packages\\joblib\\parallel.py:1046\u001B[0m, in \u001B[0;36mParallel.__call__\u001B[1;34m(self, iterable)\u001B[0m\n\u001B[0;32m   1043\u001B[0m \u001B[38;5;28;01mif\u001B[39;00m \u001B[38;5;28mself\u001B[39m\u001B[38;5;241m.\u001B[39mdispatch_one_batch(iterator):\n\u001B[0;32m   1044\u001B[0m     \u001B[38;5;28mself\u001B[39m\u001B[38;5;241m.\u001B[39m_iterating \u001B[38;5;241m=\u001B[39m \u001B[38;5;28mself\u001B[39m\u001B[38;5;241m.\u001B[39m_original_iterator \u001B[38;5;129;01mis\u001B[39;00m \u001B[38;5;129;01mnot\u001B[39;00m \u001B[38;5;28;01mNone\u001B[39;00m\n\u001B[1;32m-> 1046\u001B[0m \u001B[38;5;28;01mwhile\u001B[39;00m \u001B[38;5;28;43mself\u001B[39;49m\u001B[38;5;241;43m.\u001B[39;49m\u001B[43mdispatch_one_batch\u001B[49m\u001B[43m(\u001B[49m\u001B[43miterator\u001B[49m\u001B[43m)\u001B[49m:\n\u001B[0;32m   1047\u001B[0m     \u001B[38;5;28;01mpass\u001B[39;00m\n\u001B[0;32m   1049\u001B[0m \u001B[38;5;28;01mif\u001B[39;00m pre_dispatch \u001B[38;5;241m==\u001B[39m \u001B[38;5;124m\"\u001B[39m\u001B[38;5;124mall\u001B[39m\u001B[38;5;124m\"\u001B[39m \u001B[38;5;129;01mor\u001B[39;00m n_jobs \u001B[38;5;241m==\u001B[39m \u001B[38;5;241m1\u001B[39m:\n\u001B[0;32m   1050\u001B[0m     \u001B[38;5;66;03m# The iterable was consumed all at once by the above for loop.\u001B[39;00m\n\u001B[0;32m   1051\u001B[0m     \u001B[38;5;66;03m# No need to wait for async callbacks to trigger to\u001B[39;00m\n\u001B[0;32m   1052\u001B[0m     \u001B[38;5;66;03m# consumption.\u001B[39;00m\n",
      "File \u001B[1;32m~\\miniconda3\\lib\\site-packages\\joblib\\parallel.py:861\u001B[0m, in \u001B[0;36mParallel.dispatch_one_batch\u001B[1;34m(self, iterator)\u001B[0m\n\u001B[0;32m    859\u001B[0m     \u001B[38;5;28;01mreturn\u001B[39;00m \u001B[38;5;28;01mFalse\u001B[39;00m\n\u001B[0;32m    860\u001B[0m \u001B[38;5;28;01melse\u001B[39;00m:\n\u001B[1;32m--> 861\u001B[0m     \u001B[38;5;28;43mself\u001B[39;49m\u001B[38;5;241;43m.\u001B[39;49m\u001B[43m_dispatch\u001B[49m\u001B[43m(\u001B[49m\u001B[43mtasks\u001B[49m\u001B[43m)\u001B[49m\n\u001B[0;32m    862\u001B[0m     \u001B[38;5;28;01mreturn\u001B[39;00m \u001B[38;5;28;01mTrue\u001B[39;00m\n",
      "File \u001B[1;32m~\\miniconda3\\lib\\site-packages\\joblib\\parallel.py:779\u001B[0m, in \u001B[0;36mParallel._dispatch\u001B[1;34m(self, batch)\u001B[0m\n\u001B[0;32m    777\u001B[0m \u001B[38;5;28;01mwith\u001B[39;00m \u001B[38;5;28mself\u001B[39m\u001B[38;5;241m.\u001B[39m_lock:\n\u001B[0;32m    778\u001B[0m     job_idx \u001B[38;5;241m=\u001B[39m \u001B[38;5;28mlen\u001B[39m(\u001B[38;5;28mself\u001B[39m\u001B[38;5;241m.\u001B[39m_jobs)\n\u001B[1;32m--> 779\u001B[0m     job \u001B[38;5;241m=\u001B[39m \u001B[38;5;28;43mself\u001B[39;49m\u001B[38;5;241;43m.\u001B[39;49m\u001B[43m_backend\u001B[49m\u001B[38;5;241;43m.\u001B[39;49m\u001B[43mapply_async\u001B[49m\u001B[43m(\u001B[49m\u001B[43mbatch\u001B[49m\u001B[43m,\u001B[49m\u001B[43m \u001B[49m\u001B[43mcallback\u001B[49m\u001B[38;5;241;43m=\u001B[39;49m\u001B[43mcb\u001B[49m\u001B[43m)\u001B[49m\n\u001B[0;32m    780\u001B[0m     \u001B[38;5;66;03m# A job can complete so quickly than its callback is\u001B[39;00m\n\u001B[0;32m    781\u001B[0m     \u001B[38;5;66;03m# called before we get here, causing self._jobs to\u001B[39;00m\n\u001B[0;32m    782\u001B[0m     \u001B[38;5;66;03m# grow. To ensure correct results ordering, .insert is\u001B[39;00m\n\u001B[0;32m    783\u001B[0m     \u001B[38;5;66;03m# used (rather than .append) in the following line\u001B[39;00m\n\u001B[0;32m    784\u001B[0m     \u001B[38;5;28mself\u001B[39m\u001B[38;5;241m.\u001B[39m_jobs\u001B[38;5;241m.\u001B[39minsert(job_idx, job)\n",
      "File \u001B[1;32m~\\miniconda3\\lib\\site-packages\\joblib\\_parallel_backends.py:208\u001B[0m, in \u001B[0;36mSequentialBackend.apply_async\u001B[1;34m(self, func, callback)\u001B[0m\n\u001B[0;32m    206\u001B[0m \u001B[38;5;28;01mdef\u001B[39;00m \u001B[38;5;21mapply_async\u001B[39m(\u001B[38;5;28mself\u001B[39m, func, callback\u001B[38;5;241m=\u001B[39m\u001B[38;5;28;01mNone\u001B[39;00m):\n\u001B[0;32m    207\u001B[0m     \u001B[38;5;124;03m\"\"\"Schedule a func to be run\"\"\"\u001B[39;00m\n\u001B[1;32m--> 208\u001B[0m     result \u001B[38;5;241m=\u001B[39m \u001B[43mImmediateResult\u001B[49m\u001B[43m(\u001B[49m\u001B[43mfunc\u001B[49m\u001B[43m)\u001B[49m\n\u001B[0;32m    209\u001B[0m     \u001B[38;5;28;01mif\u001B[39;00m callback:\n\u001B[0;32m    210\u001B[0m         callback(result)\n",
      "File \u001B[1;32m~\\miniconda3\\lib\\site-packages\\joblib\\_parallel_backends.py:572\u001B[0m, in \u001B[0;36mImmediateResult.__init__\u001B[1;34m(self, batch)\u001B[0m\n\u001B[0;32m    569\u001B[0m \u001B[38;5;28;01mdef\u001B[39;00m \u001B[38;5;21m__init__\u001B[39m(\u001B[38;5;28mself\u001B[39m, batch):\n\u001B[0;32m    570\u001B[0m     \u001B[38;5;66;03m# Don't delay the application, to avoid keeping the input\u001B[39;00m\n\u001B[0;32m    571\u001B[0m     \u001B[38;5;66;03m# arguments in memory\u001B[39;00m\n\u001B[1;32m--> 572\u001B[0m     \u001B[38;5;28mself\u001B[39m\u001B[38;5;241m.\u001B[39mresults \u001B[38;5;241m=\u001B[39m \u001B[43mbatch\u001B[49m\u001B[43m(\u001B[49m\u001B[43m)\u001B[49m\n",
      "File \u001B[1;32m~\\miniconda3\\lib\\site-packages\\joblib\\parallel.py:262\u001B[0m, in \u001B[0;36mBatchedCalls.__call__\u001B[1;34m(self)\u001B[0m\n\u001B[0;32m    258\u001B[0m \u001B[38;5;28;01mdef\u001B[39;00m \u001B[38;5;21m__call__\u001B[39m(\u001B[38;5;28mself\u001B[39m):\n\u001B[0;32m    259\u001B[0m     \u001B[38;5;66;03m# Set the default nested backend to self._backend but do not set the\u001B[39;00m\n\u001B[0;32m    260\u001B[0m     \u001B[38;5;66;03m# change the default number of processes to -1\u001B[39;00m\n\u001B[0;32m    261\u001B[0m     \u001B[38;5;28;01mwith\u001B[39;00m parallel_backend(\u001B[38;5;28mself\u001B[39m\u001B[38;5;241m.\u001B[39m_backend, n_jobs\u001B[38;5;241m=\u001B[39m\u001B[38;5;28mself\u001B[39m\u001B[38;5;241m.\u001B[39m_n_jobs):\n\u001B[1;32m--> 262\u001B[0m         \u001B[38;5;28;01mreturn\u001B[39;00m [func(\u001B[38;5;241m*\u001B[39margs, \u001B[38;5;241m*\u001B[39m\u001B[38;5;241m*\u001B[39mkwargs)\n\u001B[0;32m    263\u001B[0m                 \u001B[38;5;28;01mfor\u001B[39;00m func, args, kwargs \u001B[38;5;129;01min\u001B[39;00m \u001B[38;5;28mself\u001B[39m\u001B[38;5;241m.\u001B[39mitems]\n",
      "File \u001B[1;32m~\\miniconda3\\lib\\site-packages\\joblib\\parallel.py:262\u001B[0m, in \u001B[0;36m<listcomp>\u001B[1;34m(.0)\u001B[0m\n\u001B[0;32m    258\u001B[0m \u001B[38;5;28;01mdef\u001B[39;00m \u001B[38;5;21m__call__\u001B[39m(\u001B[38;5;28mself\u001B[39m):\n\u001B[0;32m    259\u001B[0m     \u001B[38;5;66;03m# Set the default nested backend to self._backend but do not set the\u001B[39;00m\n\u001B[0;32m    260\u001B[0m     \u001B[38;5;66;03m# change the default number of processes to -1\u001B[39;00m\n\u001B[0;32m    261\u001B[0m     \u001B[38;5;28;01mwith\u001B[39;00m parallel_backend(\u001B[38;5;28mself\u001B[39m\u001B[38;5;241m.\u001B[39m_backend, n_jobs\u001B[38;5;241m=\u001B[39m\u001B[38;5;28mself\u001B[39m\u001B[38;5;241m.\u001B[39m_n_jobs):\n\u001B[1;32m--> 262\u001B[0m         \u001B[38;5;28;01mreturn\u001B[39;00m [func(\u001B[38;5;241m*\u001B[39margs, \u001B[38;5;241m*\u001B[39m\u001B[38;5;241m*\u001B[39mkwargs)\n\u001B[0;32m    263\u001B[0m                 \u001B[38;5;28;01mfor\u001B[39;00m func, args, kwargs \u001B[38;5;129;01min\u001B[39;00m \u001B[38;5;28mself\u001B[39m\u001B[38;5;241m.\u001B[39mitems]\n",
      "File \u001B[1;32m~\\miniconda3\\lib\\site-packages\\sklearn\\utils\\fixes.py:117\u001B[0m, in \u001B[0;36m_FuncWrapper.__call__\u001B[1;34m(self, *args, **kwargs)\u001B[0m\n\u001B[0;32m    115\u001B[0m \u001B[38;5;28;01mdef\u001B[39;00m \u001B[38;5;21m__call__\u001B[39m(\u001B[38;5;28mself\u001B[39m, \u001B[38;5;241m*\u001B[39margs, \u001B[38;5;241m*\u001B[39m\u001B[38;5;241m*\u001B[39mkwargs):\n\u001B[0;32m    116\u001B[0m     \u001B[38;5;28;01mwith\u001B[39;00m config_context(\u001B[38;5;241m*\u001B[39m\u001B[38;5;241m*\u001B[39m\u001B[38;5;28mself\u001B[39m\u001B[38;5;241m.\u001B[39mconfig):\n\u001B[1;32m--> 117\u001B[0m         \u001B[38;5;28;01mreturn\u001B[39;00m \u001B[38;5;28mself\u001B[39m\u001B[38;5;241m.\u001B[39mfunction(\u001B[38;5;241m*\u001B[39margs, \u001B[38;5;241m*\u001B[39m\u001B[38;5;241m*\u001B[39mkwargs)\n",
      "File \u001B[1;32m~\\miniconda3\\lib\\site-packages\\sklearn\\ensemble\\_forest.py:189\u001B[0m, in \u001B[0;36m_parallel_build_trees\u001B[1;34m(tree, bootstrap, X, y, sample_weight, tree_idx, n_trees, verbose, class_weight, n_samples_bootstrap)\u001B[0m\n\u001B[0;32m    186\u001B[0m     \u001B[38;5;28;01melif\u001B[39;00m class_weight \u001B[38;5;241m==\u001B[39m \u001B[38;5;124m\"\u001B[39m\u001B[38;5;124mbalanced_subsample\u001B[39m\u001B[38;5;124m\"\u001B[39m:\n\u001B[0;32m    187\u001B[0m         curr_sample_weight \u001B[38;5;241m*\u001B[39m\u001B[38;5;241m=\u001B[39m compute_sample_weight(\u001B[38;5;124m\"\u001B[39m\u001B[38;5;124mbalanced\u001B[39m\u001B[38;5;124m\"\u001B[39m, y, indices\u001B[38;5;241m=\u001B[39mindices)\n\u001B[1;32m--> 189\u001B[0m     \u001B[43mtree\u001B[49m\u001B[38;5;241;43m.\u001B[39;49m\u001B[43mfit\u001B[49m\u001B[43m(\u001B[49m\u001B[43mX\u001B[49m\u001B[43m,\u001B[49m\u001B[43m \u001B[49m\u001B[43my\u001B[49m\u001B[43m,\u001B[49m\u001B[43m \u001B[49m\u001B[43msample_weight\u001B[49m\u001B[38;5;241;43m=\u001B[39;49m\u001B[43mcurr_sample_weight\u001B[49m\u001B[43m,\u001B[49m\u001B[43m \u001B[49m\u001B[43mcheck_input\u001B[49m\u001B[38;5;241;43m=\u001B[39;49m\u001B[38;5;28;43;01mFalse\u001B[39;49;00m\u001B[43m)\u001B[49m\n\u001B[0;32m    190\u001B[0m \u001B[38;5;28;01melse\u001B[39;00m:\n\u001B[0;32m    191\u001B[0m     tree\u001B[38;5;241m.\u001B[39mfit(X, y, sample_weight\u001B[38;5;241m=\u001B[39msample_weight, check_input\u001B[38;5;241m=\u001B[39m\u001B[38;5;28;01mFalse\u001B[39;00m)\n",
      "File \u001B[1;32m~\\miniconda3\\lib\\site-packages\\sklearn\\tree\\_classes.py:969\u001B[0m, in \u001B[0;36mDecisionTreeClassifier.fit\u001B[1;34m(self, X, y, sample_weight, check_input)\u001B[0m\n\u001B[0;32m    939\u001B[0m \u001B[38;5;28;01mdef\u001B[39;00m \u001B[38;5;21mfit\u001B[39m(\u001B[38;5;28mself\u001B[39m, X, y, sample_weight\u001B[38;5;241m=\u001B[39m\u001B[38;5;28;01mNone\u001B[39;00m, check_input\u001B[38;5;241m=\u001B[39m\u001B[38;5;28;01mTrue\u001B[39;00m):\n\u001B[0;32m    940\u001B[0m     \u001B[38;5;124;03m\"\"\"Build a decision tree classifier from the training set (X, y).\u001B[39;00m\n\u001B[0;32m    941\u001B[0m \n\u001B[0;32m    942\u001B[0m \u001B[38;5;124;03m    Parameters\u001B[39;00m\n\u001B[1;32m   (...)\u001B[0m\n\u001B[0;32m    966\u001B[0m \u001B[38;5;124;03m        Fitted estimator.\u001B[39;00m\n\u001B[0;32m    967\u001B[0m \u001B[38;5;124;03m    \"\"\"\u001B[39;00m\n\u001B[1;32m--> 969\u001B[0m     \u001B[38;5;28;43msuper\u001B[39;49m\u001B[43m(\u001B[49m\u001B[43m)\u001B[49m\u001B[38;5;241;43m.\u001B[39;49m\u001B[43mfit\u001B[49m\u001B[43m(\u001B[49m\n\u001B[0;32m    970\u001B[0m \u001B[43m        \u001B[49m\u001B[43mX\u001B[49m\u001B[43m,\u001B[49m\n\u001B[0;32m    971\u001B[0m \u001B[43m        \u001B[49m\u001B[43my\u001B[49m\u001B[43m,\u001B[49m\n\u001B[0;32m    972\u001B[0m \u001B[43m        \u001B[49m\u001B[43msample_weight\u001B[49m\u001B[38;5;241;43m=\u001B[39;49m\u001B[43msample_weight\u001B[49m\u001B[43m,\u001B[49m\n\u001B[0;32m    973\u001B[0m \u001B[43m        \u001B[49m\u001B[43mcheck_input\u001B[49m\u001B[38;5;241;43m=\u001B[39;49m\u001B[43mcheck_input\u001B[49m\u001B[43m,\u001B[49m\n\u001B[0;32m    974\u001B[0m \u001B[43m    \u001B[49m\u001B[43m)\u001B[49m\n\u001B[0;32m    975\u001B[0m     \u001B[38;5;28;01mreturn\u001B[39;00m \u001B[38;5;28mself\u001B[39m\n",
      "File \u001B[1;32m~\\miniconda3\\lib\\site-packages\\sklearn\\tree\\_classes.py:458\u001B[0m, in \u001B[0;36mBaseDecisionTree.fit\u001B[1;34m(self, X, y, sample_weight, check_input)\u001B[0m\n\u001B[0;32m    447\u001B[0m \u001B[38;5;28;01melse\u001B[39;00m:\n\u001B[0;32m    448\u001B[0m     builder \u001B[38;5;241m=\u001B[39m BestFirstTreeBuilder(\n\u001B[0;32m    449\u001B[0m         splitter,\n\u001B[0;32m    450\u001B[0m         min_samples_split,\n\u001B[1;32m   (...)\u001B[0m\n\u001B[0;32m    455\u001B[0m         \u001B[38;5;28mself\u001B[39m\u001B[38;5;241m.\u001B[39mmin_impurity_decrease,\n\u001B[0;32m    456\u001B[0m     )\n\u001B[1;32m--> 458\u001B[0m \u001B[43mbuilder\u001B[49m\u001B[38;5;241;43m.\u001B[39;49m\u001B[43mbuild\u001B[49m\u001B[43m(\u001B[49m\u001B[38;5;28;43mself\u001B[39;49m\u001B[38;5;241;43m.\u001B[39;49m\u001B[43mtree_\u001B[49m\u001B[43m,\u001B[49m\u001B[43m \u001B[49m\u001B[43mX\u001B[49m\u001B[43m,\u001B[49m\u001B[43m \u001B[49m\u001B[43my\u001B[49m\u001B[43m,\u001B[49m\u001B[43m \u001B[49m\u001B[43msample_weight\u001B[49m\u001B[43m)\u001B[49m\n\u001B[0;32m    460\u001B[0m \u001B[38;5;28;01mif\u001B[39;00m \u001B[38;5;28mself\u001B[39m\u001B[38;5;241m.\u001B[39mn_outputs_ \u001B[38;5;241m==\u001B[39m \u001B[38;5;241m1\u001B[39m \u001B[38;5;129;01mand\u001B[39;00m is_classifier(\u001B[38;5;28mself\u001B[39m):\n\u001B[0;32m    461\u001B[0m     \u001B[38;5;28mself\u001B[39m\u001B[38;5;241m.\u001B[39mn_classes_ \u001B[38;5;241m=\u001B[39m \u001B[38;5;28mself\u001B[39m\u001B[38;5;241m.\u001B[39mn_classes_[\u001B[38;5;241m0\u001B[39m]\n",
      "\u001B[1;31mKeyboardInterrupt\u001B[0m: "
     ]
    }
   ],
   "source": [
    "%%time\n",
    "from sklearn.ensemble import RandomForestClassifier\n",
    "\n",
    "clf = RandomForestClassifier(max_depth=7, random_state=0, n_estimators=100)\n",
    "kfold = StratifiedKFold(n_splits=5, random_state=0, shuffle=True)\n",
    "cv_results = cross_val_score(clf, X_train, Y_train, cv=kfold, scoring=\"f1\")\n",
    "\n",
    "clf.fit(X_train, Y_train)\n",
    "print(\"Minimum:\", cv_results.min())\n",
    "print(\"Maximum:\", cv_results.max())\n",
    "print(\"StanDev:\", cv_results.std())\n",
    "\n",
    "y_pred = clf.predict(X_test)\n",
    "print(\"Classification Report=\\n\\n\", classification_report(Y_test, y_pred))\n",
    "print(\"Confusion Matrix=\\n\\n\", confusion_matrix(Y_test, y_pred))\n",
    "y_pred_proba = clf.predict_proba(X_test)[:, 1]\n",
    "print(\"AUPRC:\", metrics.average_precision_score(y_true=Y_test, y_score=y_pred_proba))"
   ],
   "metadata": {
    "collapsed": false,
    "pycharm": {
     "name": "#%%\n"
    }
   }
  },
  {
   "cell_type": "markdown",
   "source": [
    "## Naive Bayes"
   ],
   "metadata": {
    "collapsed": false,
    "pycharm": {
     "name": "#%% md\n"
    }
   }
  },
  {
   "cell_type": "code",
   "execution_count": 36,
   "outputs": [
    {
     "name": "stdout",
     "output_type": "stream",
     "text": [
      "Minimum: 0.002029060755597025\n",
      "Maximum: 0.0020713328831694433\n",
      "StanDev: 1.5577268839513897e-05\n",
      "Classification Report=\n",
      "\n",
      "               precision    recall  f1-score   support\n",
      "\n",
      "           0       1.00      0.02      0.04    704347\n",
      "           1       0.00      0.95      0.00       761\n",
      "\n",
      "    accuracy                           0.02    705108\n",
      "   macro avg       0.50      0.49      0.02    705108\n",
      "weighted avg       1.00      0.02      0.04    705108\n",
      "\n",
      "Confusion Matrix=\n",
      "\n",
      " [[ 13704 690643]\n",
      " [    35    726]]\n",
      "AUPRC: 0.002104982486001808\n",
      "CPU times: total: 6.69 s\n",
      "Wall time: 6.69 s\n"
     ]
    }
   ],
   "source": [
    "%%time\n",
    "\n",
    "from sklearn.naive_bayes import GaussianNB\n",
    "\n",
    "clf = GaussianNB(var_smoothing = 1e-4)\n",
    "kfold = StratifiedKFold(n_splits=5, random_state=0, shuffle=True)\n",
    "cv_results = cross_val_score(clf, X_train, Y_train, cv=kfold, scoring=\"f1\")\n",
    "\n",
    "clf.fit(X_train, Y_train)\n",
    "print(\"Minimum:\", cv_results.min())\n",
    "print(\"Maximum:\", cv_results.max())\n",
    "print(\"StanDev:\", cv_results.std())\n",
    "\n",
    "y_pred = clf.predict(X_test)\n",
    "print(\"Classification Report=\\n\\n\", classification_report(Y_test, y_pred))\n",
    "print(\"Confusion Matrix=\\n\\n\", confusion_matrix(Y_test, y_pred))\n",
    "y_pred_proba = clf.predict_proba(X_test)[:, 1]\n",
    "print(\"AUPRC:\", metrics.average_precision_score(y_true=Y_test, y_score=y_pred_proba))"
   ],
   "metadata": {
    "collapsed": false,
    "pycharm": {
     "name": "#%%\n"
    }
   }
  },
  {
   "cell_type": "markdown",
   "id": "43975bdf",
   "metadata": {
    "pycharm": {
     "name": "#%% md\n"
    }
   },
   "source": [
    "# XGBoost"
   ]
  },
  {
   "cell_type": "code",
   "execution_count": 23,
   "id": "527bc076",
   "metadata": {
    "pycharm": {
     "name": "#%%\n"
    }
   },
   "outputs": [
    {
     "name": "stdout",
     "output_type": "stream",
     "text": [
      "Minimum: 0.5997304582210243\n",
      "Maximum: 0.6382699868938402\n",
      "StanDev: 0.016072356051374286\n",
      "CPU times: user 1h 18min 52s, sys: 2min 23s, total: 1h 21min 15s\n",
      "Wall time: 15min 31s\n"
     ]
    }
   ],
   "source": [
    "%%time\n",
    "\n",
    "xgb = XGBClassifier(n_estimators=100)\n",
    "kfold = StratifiedKFold(n_splits=5, random_state=0, shuffle=True)\n",
    "cv_results = cross_val_score(xgb, X_train, Y_train, cv=kfold, scoring=\"f1\")\n",
    "\n",
    "xgb.fit(X_train, Y_train)\n",
    "print(\"Minimum:\", cv_results.min())\n",
    "print(\"Maximum:\", cv_results.max())\n",
    "print(\"StanDev:\", cv_results.std())"
   ]
  },
  {
   "cell_type": "code",
   "execution_count": 24,
   "id": "45bb67c7",
   "metadata": {
    "pycharm": {
     "name": "#%%\n"
    }
   },
   "outputs": [
    {
     "name": "stdout",
     "output_type": "stream",
     "text": [
      "XGBoost Classification Report=\n",
      "\n",
      "               precision    recall  f1-score   support\n",
      "\n",
      "           0       1.00      1.00      1.00    704347\n",
      "           1       0.91      0.47      0.62       761\n",
      "\n",
      "    accuracy                           1.00    705108\n",
      "   macro avg       0.95      0.73      0.81    705108\n",
      "weighted avg       1.00      1.00      1.00    705108\n",
      "\n"
     ]
    }
   ],
   "source": [
    "pred_xgb = xgb.predict(X_test)\n",
    "print(\"XGBoost Classification Report=\\n\\n\", classification_report(Y_test, pred_xgb))"
   ]
  },
  {
   "cell_type": "code",
   "execution_count": 25,
   "id": "7b607a25",
   "metadata": {
    "pycharm": {
     "name": "#%%\n"
    }
   },
   "outputs": [
    {
     "name": "stdout",
     "output_type": "stream",
     "text": [
      "XGBoost Confusion Matrix=\n",
      "\n",
      " [[704310     37]\n",
      " [   404    357]]\n"
     ]
    }
   ],
   "source": [
    "print(\"XGBoost Confusion Matrix=\\n\\n\", confusion_matrix(Y_test, pred_xgb))"
   ]
  },
  {
   "cell_type": "code",
   "execution_count": 26,
   "id": "508c4cd4",
   "metadata": {
    "pycharm": {
     "name": "#%%\n"
    }
   },
   "outputs": [
    {
     "name": "stdout",
     "output_type": "stream",
     "text": [
      "AUPRC: 0.5982779139029439\n"
     ]
    }
   ],
   "source": [
    "pred_proba_xgb = xgb.predict_proba(X_test)[:, 1]\n",
    "\n",
    "print(\"AUPRC:\", metrics.average_precision_score(y_true=Y_test, y_score=pred_proba_xgb))"
   ]
  },
  {
   "cell_type": "code",
   "execution_count": null,
   "id": "eaa5cd1f-8376-4ef6-9769-1ba3a352ea9a",
   "metadata": {
    "pycharm": {
     "name": "#%%\n"
    }
   },
   "outputs": [],
   "source": []
  }
 ],
 "metadata": {
  "has_local_update": true,
  "is_local": true,
  "is_remote": true,
  "kernelspec": {
   "display_name": "Python 3 (ipykernel)",
   "language": "python",
   "name": "python3"
  },
  "language_info": {
   "codemirror_mode": {
    "name": "ipython",
    "version": 3
   },
   "file_extension": ".py",
   "mimetype": "text/x-python",
   "name": "python",
   "nbconvert_exporter": "python",
   "pygments_lexer": "ipython3",
   "version": "3.9.13"
  },
  "last_sync_time": "2022-06-29T13:30:08.309050"
 },
 "nbformat": 4,
 "nbformat_minor": 5
}
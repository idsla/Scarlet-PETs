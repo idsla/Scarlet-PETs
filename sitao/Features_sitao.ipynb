{
 "cells": [
  {
   "cell_type": "code",
   "execution_count": 2,
   "id": "47a4a780",
   "metadata": {
    "ExecuteTime": {
     "end_time": "2022-09-01T12:27:48.677600Z",
     "start_time": "2022-09-01T12:27:48.659145Z"
    },
    "pycharm": {
     "name": "#%%\n"
    }
   },
   "outputs": [],
   "source": [
    "import pandas as pd\n",
    "import utils.data_utils as data_utils\n",
    "from pathlib import Path"
   ]
  },
  {
   "cell_type": "markdown",
   "id": "0e0ed693",
   "metadata": {
    "pycharm": {
     "name": "#%% md\n"
    }
   },
   "source": [
    "## Preparing Data"
   ]
  },
  {
   "cell_type": "code",
   "execution_count": 3,
   "id": "0ddc291b",
   "metadata": {
    "ExecuteTime": {
     "end_time": "2022-09-01T12:28:27.163937Z",
     "start_time": "2022-09-01T12:27:51.391720Z"
    },
    "pycharm": {
     "name": "#%%\n"
    }
   },
   "outputs": [],
   "source": [
    "# laoding data\n",
    "DATA_DIR = Path.cwd().parent / \"data\"\n",
    "train_path = DATA_DIR / \"swift_HA_train.csv\"\n",
    "test_path = DATA_DIR / \"swift_HA_test.csv\"\n",
    "train, test = data_utils.load_swift_data(train_path, test_path)\n",
    "bank_data = data_utils.load_bank_data(DATA_DIR)"
   ]
  },
  {
   "cell_type": "code",
   "execution_count": 4,
   "id": "9c654e5d",
   "metadata": {
    "ExecuteTime": {
     "end_time": "2022-09-01T12:28:27.270881Z",
     "start_time": "2022-09-01T12:28:27.257834Z"
    },
    "pycharm": {
     "name": "#%%\n"
    }
   },
   "outputs": [
    {
     "name": "stdout",
     "output_type": "stream",
     "text": [
      "(4690135, 19) (704856, 19)\n"
     ]
    }
   ],
   "source": [
    "print(train.shape, test.shape)"
   ]
  },
  {
   "cell_type": "code",
   "execution_count": 5,
   "id": "75b99834",
   "metadata": {
    "ExecuteTime": {
     "end_time": "2022-09-01T12:28:44.468501Z",
     "start_time": "2022-09-01T12:28:27.334164Z"
    },
    "pycharm": {
     "name": "#%%\n"
    },
    "require": [
     "base/js/events",
     "datatables.net",
     "d3",
     "chartjs",
     "dt-config",
     "dt-components",
     "dt-graph-objects",
     "dt-toolbar",
     "dt-tooltips",
     "jupyter-datatables"
    ]
   },
   "outputs": [],
   "source": [
    "# Getting merged dataset\n",
    "train_merged = data_utils.merge_swift_bank_data(train, bank_data)\n",
    "test_merged = data_utils.merge_swift_bank_data(test, bank_data)\n",
    "del bank_data\n",
    "del train\n",
    "del test"
   ]
  },
  {
   "cell_type": "code",
   "execution_count": 6,
   "id": "3018141a",
   "metadata": {
    "ExecuteTime": {
     "end_time": "2022-09-01T12:28:50.650161Z",
     "start_time": "2022-09-01T12:28:48.715734Z"
    },
    "pycharm": {
     "name": "#%%\n"
    }
   },
   "outputs": [
    {
     "name": "stdout",
     "output_type": "stream",
     "text": [
      "(4690135, 21) (704856, 21)\n"
     ]
    }
   ],
   "source": [
    "# fill missing data for flag as another category '12'\n",
    "train_merged['Flag_ordering'] = train_merged['Flag_ordering'].fillna('12')\n",
    "train_merged['Flag_beneficiary'] = train_merged['Flag_beneficiary'].fillna('12')\n",
    "test_merged['Flag_ordering'] = test_merged['Flag_ordering'].fillna('12')\n",
    "test_merged['Flag_beneficiary'] = test_merged['Flag_beneficiary'].fillna('12')\n",
    "print(train_merged.shape, test_merged.shape)"
   ]
  },
  {
   "cell_type": "code",
   "execution_count": 7,
   "id": "125e3f9c",
   "metadata": {
    "ExecuteTime": {
     "end_time": "2022-09-01T12:28:54.046090Z",
     "start_time": "2022-09-01T12:28:54.032269Z"
    },
    "pycharm": {
     "name": "#%%\n"
    }
   },
   "outputs": [
    {
     "name": "stdout",
     "output_type": "stream",
     "text": [
      "Index(['Timestamp', 'UETR', 'Sender', 'Receiver', 'TransactionReference',\n",
      "       'OrderingAccount', 'OrderingName', 'OrderingStreet',\n",
      "       'OrderingCountryCityZip', 'BeneficiaryAccount', 'BeneficiaryName',\n",
      "       'BeneficiaryStreet', 'BeneficiaryCountryCityZip', 'SettlementDate',\n",
      "       'SettlementCurrency', 'SettlementAmount', 'InstructedCurrency',\n",
      "       'InstructedAmount', 'Label', 'Flag_ordering', 'Flag_beneficiary'],\n",
      "      dtype='object')\n",
      "(4690135, 21)\n",
      "(704856, 21)\n"
     ]
    }
   ],
   "source": [
    "print(train_merged.columns)\n",
    "print(train_merged.shape)\n",
    "print(test_merged.shape)"
   ]
  },
  {
   "cell_type": "markdown",
   "id": "21e97a2c",
   "metadata": {
    "ExecuteTime": {
     "end_time": "2022-08-19T13:35:08.277083Z",
     "start_time": "2022-08-19T13:35:08.220584Z"
    },
    "pycharm": {
     "name": "#%% md\n"
    }
   },
   "source": [
    "## Features"
   ]
  },
  {
   "cell_type": "code",
   "execution_count": 34,
   "id": "680b7308",
   "metadata": {
    "ExecuteTime": {
     "end_time": "2022-09-01T12:56:44.258273Z",
     "start_time": "2022-09-01T12:56:44.239619Z"
    },
    "pycharm": {
     "name": "#%%\n"
    }
   },
   "outputs": [],
   "source": [
    "# util funcs\n",
    "def generate_feature(train, test, pivot_name, new_feature_name, func, agg_col=None):\n",
    "    if func == 'value_count':\n",
    "        d = train[pivot_name].value_counts()\n",
    "        d.name = new_feature_name\n",
    "        train = train.merge(d, left_on=pivot_name, right_index=True, how = 'left')\n",
    "        test = test.merge(d, left_on=pivot_name, right_index=True, how = 'left')\n",
    "    elif func == 'mean':\n",
    "        d = train.groupby(pivot_name).agg(**{\n",
    "                new_feature_name: pd.NamedAgg(column=agg_col, aggfunc='mean')})\n",
    "        train=train.merge(d, left_on=pivot_name, right_index=True, how = 'left')\n",
    "        test=test.merge(d, left_on=pivot_name, right_index=True, how = 'left')\n",
    "    elif func == 'n_unique':\n",
    "        d=train.groupby(pivot_name).agg(**{\n",
    "                new_feature_name: pd.NamedAgg(column=agg_col, aggfunc=lambda x: len(x.unique()))})\n",
    "        train=train.merge(d, left_on=pivot_name, right_index=True, how = 'left')\n",
    "        test=test.merge(d, left_on=pivot_name, right_index=True, how = 'left')\n",
    "    elif func == 'count':\n",
    "        d=train.groupby(pivot_name).agg(**{\n",
    "                new_feature_name: pd.NamedAgg(column=agg_col, aggfunc='count')})\n",
    "        train=train.merge(d, left_on=pivot_name, right_index=True, how = 'left')\n",
    "        test=test.merge(d, left_on=pivot_name, right_index=True, how = 'left')\n",
    "    else:\n",
    "        raise ValueError(\"func is not a valid option.\")\n",
    "\n",
    "\n",
    "    return train, test"
   ]
  },
  {
   "cell_type": "markdown",
   "id": "3a992aa4",
   "metadata": {
    "pycharm": {
     "name": "#%% md\n"
    }
   },
   "source": [
    "### Hops"
   ]
  },
  {
   "cell_type": "code",
   "execution_count": 9,
   "id": "a37d966f",
   "metadata": {
    "ExecuteTime": {
     "end_time": "2022-09-01T12:29:09.804001Z",
     "start_time": "2022-09-01T12:29:00.723888Z"
    },
    "pycharm": {
     "name": "#%%\n"
    }
   },
   "outputs": [
    {
     "name": "stdout",
     "output_type": "stream",
     "text": [
      "(4690135, 22)\n",
      "(704856, 22)\n"
     ]
    }
   ],
   "source": [
    "d_train = train_merged['UETR'].value_counts()\n",
    "d_train.name = 'num_hops'\n",
    "d_test = test_merged['UETR'].value_counts()\n",
    "d_test.name = 'num_hops'\n",
    "\n",
    "train_merged = train_merged.merge(d_train, left_on = 'UETR', right_index = True)\n",
    "test_merged = test_merged.merge(d_test, left_on = 'UETR', right_index = True)\n",
    "print(train_merged.shape)\n",
    "print(test_merged.shape)"
   ]
  },
  {
   "cell_type": "markdown",
   "id": "05cb64b0",
   "metadata": {
    "pycharm": {
     "name": "#%% md\n"
    }
   },
   "source": [
    "### Bank Network Features\n",
    "\n",
    "- node feature:\n",
    "    - number of transaction assoicate to the node\n",
    "    - number of currecy used and avg amount money transferred per currency for a node\n",
    "    - in and out degree\n",
    "- edge feature:\n",
    "    - number of transaction between two nodes\n",
    "    - number of currency used and avg amount money transferred per currency between two nodes"
   ]
  },
  {
   "cell_type": "markdown",
   "id": "fcba171d",
   "metadata": {
    "pycharm": {
     "name": "#%% md\n"
    }
   },
   "source": [
    "#### total number of transactions of sender and receiver bank"
   ]
  },
  {
   "cell_type": "code",
   "execution_count": 10,
   "id": "17910306",
   "metadata": {
    "ExecuteTime": {
     "end_time": "2022-09-01T12:32:18.322135Z",
     "start_time": "2022-09-01T12:32:14.861065Z"
    },
    "pycharm": {
     "name": "#%%\n"
    }
   },
   "outputs": [
    {
     "name": "stdout",
     "output_type": "stream",
     "text": [
      "(4690135, 24)\n",
      "(704856, 24)\n"
     ]
    }
   ],
   "source": [
    "# sender freq\n",
    "train_merged, test_merged = generate_feature(\n",
    "    train_merged, test_merged, pivot_name='Sender', new_feature_name=\"Sender_freq\", func = 'value_count')\n",
    "\n",
    "# receiver freq\n",
    "train_merged, test_merged = generate_feature(\n",
    "    train_merged, test_merged, pivot_name='Receiver', new_feature_name=\"Receiver_freq\", func = 'value_count')\n",
    "print(train_merged.shape)\n",
    "print(test_merged.shape)"
   ]
  },
  {
   "cell_type": "markdown",
   "id": "dbfb29b9",
   "metadata": {
    "ExecuteTime": {
     "end_time": "2022-08-23T02:46:57.196990Z",
     "start_time": "2022-08-23T02:46:57.190414Z"
    },
    "pycharm": {
     "name": "#%% md\n"
    }
   },
   "source": [
    "#### total number of currecy and avg amount per currecy of sender and receiver bank"
   ]
  },
  {
   "cell_type": "code",
   "execution_count": 12,
   "id": "d104cb3a",
   "metadata": {
    "ExecuteTime": {
     "end_time": "2022-09-01T12:33:53.264805Z",
     "start_time": "2022-09-01T12:33:42.266587Z"
    },
    "pycharm": {
     "name": "#%%\n"
    }
   },
   "outputs": [
    {
     "name": "stdout",
     "output_type": "stream",
     "text": [
      "(4690135, 30)\n",
      "(704856, 30)\n"
     ]
    }
   ],
   "source": [
    "def generate_currency_feature(train, test, name, agg_col):\n",
    "    \n",
    "    # currecy freq\n",
    "    train, test = generate_feature(\n",
    "        train, test, pivot_name=name, new_feature_name=name + \"_freq\", func = 'value_count')\n",
    "\n",
    "    # currecy avg amount\n",
    "    train, test = generate_feature(\n",
    "        train, test, pivot_name=name, new_feature_name=name + \"_avg_amount\", func = 'mean', agg_col=agg_col)\n",
    "    \n",
    "    return train, test\n",
    "\n",
    "#######################################################################################################\n",
    "# sender currecy\n",
    "train_merged[\"sender_currency\"] = train_merged[\"Sender\"] + train_merged[\"InstructedCurrency\"]\n",
    "test_merged[\"sender_currency\"] = test_merged[\"Sender\"] + test_merged[\"InstructedCurrency\"]\n",
    "\n",
    "name = 'sender_currency'\n",
    "train_merged, test_merged = generate_currency_feature(train_merged, test_merged, name, 'InstructedAmount')\n",
    "\n",
    "\n",
    "#######################################################################################################\n",
    "# receiver currency\n",
    "train_merged[\"receiver_currency\"] = train_merged[\"Receiver\"] + train_merged[\"SettlementCurrency\"]\n",
    "test_merged[\"receiver_currency\"] = test_merged[\"Receiver\"] + test_merged[\"SettlementCurrency\"]\n",
    "\n",
    "name = 'receiver_currency'\n",
    "train_merged, test_merged = generate_currency_feature(train_merged, test_merged, name, 'SettlementAmount')\n",
    "print(train_merged.shape)\n",
    "print(test_merged.shape)"
   ]
  },
  {
   "cell_type": "markdown",
   "id": "a9b4d234",
   "metadata": {
    "pycharm": {
     "name": "#%% md\n"
    }
   },
   "source": [
    "#### total number of banks sender and receiver connect to (in and out degree)"
   ]
  },
  {
   "cell_type": "code",
   "execution_count": 11,
   "id": "ad58b748",
   "metadata": {
    "ExecuteTime": {
     "end_time": "2022-08-28T17:38:15.946232Z",
     "start_time": "2022-08-28T17:38:07.218450Z"
    },
    "pycharm": {
     "name": "#%%\n"
    }
   },
   "outputs": [
    {
     "name": "stdout",
     "output_type": "stream",
     "text": [
      "(4690135, 34)\n",
      "(704856, 34)\n"
     ]
    }
   ],
   "source": [
    "def generate_in_out_degree(train, test, from_node_name, to_node_name):\n",
    "    \n",
    "    # sender out degree\n",
    "    train, test = generate_feature(\n",
    "        train, test, pivot_name=from_node_name, new_feature_name = from_node_name + \"_out_degree\", \n",
    "        func = 'n_unique', agg_col = to_node_name)\n",
    "\n",
    "    # sender in degree\n",
    "    train, test = generate_feature(\n",
    "        train, test, pivot_name=to_node_name, new_feature_name = from_node_name + \"_in_degree\", \n",
    "        func = 'n_unique', agg_col = from_node_name)\n",
    "\n",
    "    # receiver out degree\n",
    "    train, test = generate_feature(\n",
    "        train, test, pivot_name=from_node_name, new_feature_name = to_node_name + \"_out_degree\", \n",
    "        func = 'n_unique', agg_col = to_node_name)\n",
    "\n",
    "    # receiver in degree\n",
    "    train, test = generate_feature(\n",
    "        train, test, pivot_name=to_node_name, new_feature_name = to_node_name + \"_in_degree\", \n",
    "        func = 'n_unique', agg_col = from_node_name)\n",
    "    \n",
    "    return train, test\n",
    "\n",
    "train_merged, test_merged = generate_in_out_degree(train_merged, test_merged, 'Sender', 'Receiver')\n",
    "print(train_merged.shape)\n",
    "print(test_merged.shape)"
   ]
  },
  {
   "cell_type": "markdown",
   "id": "56b8a2b1",
   "metadata": {
    "pycharm": {
     "name": "#%% md\n"
    }
   },
   "source": [
    "#### total number of transactions  between sender and receiver bank"
   ]
  },
  {
   "cell_type": "code",
   "execution_count": 12,
   "id": "75bce3d4",
   "metadata": {
    "ExecuteTime": {
     "end_time": "2022-08-28T17:38:30.224934Z",
     "start_time": "2022-08-28T17:38:28.089700Z"
    },
    "pycharm": {
     "name": "#%%\n"
    }
   },
   "outputs": [
    {
     "name": "stdout",
     "output_type": "stream",
     "text": [
      "(4690135, 36)\n",
      "(704856, 36)\n"
     ]
    }
   ],
   "source": [
    "train_merged[\"sender_receiver\"] = train_merged[\"Sender\"] + train_merged[\"Receiver\"]\n",
    "test_merged[\"sender_receiver\"] = test_merged[\"Sender\"] + test_merged[\"Receiver\"]\n",
    "\n",
    "train_merged, test_merged = generate_feature(\n",
    "    train_merged, test_merged, pivot_name='sender_receiver', new_feature_name=\"sender_receiver_freq\", func = 'value_count')\n",
    "print(train_merged.shape)\n",
    "print(test_merged.shape)"
   ]
  },
  {
   "cell_type": "markdown",
   "id": "c9567f6d",
   "metadata": {
    "pycharm": {
     "name": "#%% md\n"
    }
   },
   "source": [
    "#### total number of currecy and avg amount money between sender and receiver bank"
   ]
  },
  {
   "cell_type": "code",
   "execution_count": 13,
   "id": "10d8bb4b",
   "metadata": {
    "ExecuteTime": {
     "end_time": "2022-08-28T17:38:48.603149Z",
     "start_time": "2022-08-28T17:38:42.861473Z"
    },
    "pycharm": {
     "name": "#%%\n"
    }
   },
   "outputs": [
    {
     "name": "stdout",
     "output_type": "stream",
     "text": [
      "(4690135, 39)\n",
      "(704856, 39)\n"
     ]
    }
   ],
   "source": [
    "# number of currency\n",
    "train_merged[\"sender_receiver_currency\"] = train_merged[\"Sender\"] + train_merged[\"Receiver\"] + train_merged['InstructedCurrency']\n",
    "test_merged[\"sender_receiver_currency\"] = test_merged[\"Sender\"] + test_merged[\"Receiver\"] + test_merged['InstructedCurrency']\n",
    "\n",
    "train_merged, test_merged = generate_feature(\n",
    "    train_merged, test_merged, pivot_name='sender_receiver_currency', \n",
    "    new_feature_name=\"sender_receiver_currency_freq\", func = 'value_count')\n",
    "\n",
    "# avg amount currency\n",
    "train_merged, test_merged = generate_feature(\n",
    "    train_merged, test_merged, pivot_name=\"sender_receiver_currency\", \n",
    "    new_feature_name=\"sender_receiver_currency_avg_amount\", func = \"mean\", agg_col=\"InstructedAmount\")\n",
    "print(train_merged.shape)\n",
    "print(test_merged.shape)"
   ]
  },
  {
   "cell_type": "markdown",
   "id": "35c9715f",
   "metadata": {
    "pycharm": {
     "name": "#%% md\n"
    }
   },
   "source": [
    "### Acount Network Features"
   ]
  },
  {
   "cell_type": "markdown",
   "id": "d673da62",
   "metadata": {
    "pycharm": {
     "name": "#%% md\n"
    }
   },
   "source": [
    "#### total number of transaction of ordering and beneficary account"
   ]
  },
  {
   "cell_type": "code",
   "execution_count": 14,
   "id": "a1fafac0",
   "metadata": {
    "ExecuteTime": {
     "end_time": "2022-08-28T17:40:11.307257Z",
     "start_time": "2022-08-28T17:40:03.685718Z"
    },
    "pycharm": {
     "name": "#%%\n"
    }
   },
   "outputs": [
    {
     "name": "stdout",
     "output_type": "stream",
     "text": [
      "(4690135, 41)\n",
      "(704856, 41)\n"
     ]
    }
   ],
   "source": [
    "sender = 'OrderingAccount'\n",
    "receiver = 'BeneficiaryAccount'\n",
    "\n",
    "# sender freq\n",
    "train_merged, test_merged = generate_feature(\n",
    "    train_merged, test_merged, pivot_name=sender, new_feature_name=sender + '_freq', func = 'value_count')\n",
    "\n",
    "# receiver freq\n",
    "train_merged, test_merged = generate_feature(\n",
    "    train_merged, test_merged, pivot_name=receiver, new_feature_name=receiver + \"_freq\", func = 'value_count')\n",
    "print(train_merged.shape)\n",
    "print(test_merged.shape)"
   ]
  },
  {
   "cell_type": "markdown",
   "id": "b6bb538f",
   "metadata": {
    "pycharm": {
     "name": "#%% md\n"
    }
   },
   "source": [
    "#### total number of currecy and avg amount money per currecy of ordering and beneficiary account"
   ]
  },
  {
   "cell_type": "code",
   "execution_count": 15,
   "id": "225864c8",
   "metadata": {
    "ExecuteTime": {
     "end_time": "2022-08-28T17:40:58.851485Z",
     "start_time": "2022-08-28T17:40:25.295539Z"
    },
    "pycharm": {
     "name": "#%%\n"
    }
   },
   "outputs": [
    {
     "name": "stdout",
     "output_type": "stream",
     "text": [
      "(4690135, 47)\n",
      "(704856, 47)\n"
     ]
    }
   ],
   "source": [
    "def generate_currency_feature(train, test, name, agg_col):\n",
    "    \n",
    "    # currecy freq\n",
    "    train, test = generate_feature(\n",
    "        train, test, pivot_name=name, new_feature_name=name + \"_freq\", func = 'value_count')\n",
    "\n",
    "    # currecy avg amount\n",
    "    train, test = generate_feature(\n",
    "        train, test, pivot_name=name, new_feature_name=name + \"_avg_amount\", func = 'mean', agg_col=agg_col)\n",
    "    \n",
    "    return train, test\n",
    "\n",
    "#######################################################################################################\n",
    "# sender currecy\n",
    "train_merged[\"OrderingAccount_currency\"] = train_merged[\"OrderingAccount\"] + train_merged[\"InstructedCurrency\"]\n",
    "test_merged[\"OrderingAccount_currency\"] = test_merged[\"OrderingAccount\"] + test_merged[\"InstructedCurrency\"]\n",
    "name = 'OrderingAccount_currency'\n",
    "\n",
    "train_merged, test_merged = generate_currency_feature(train_merged, test_merged, name, 'InstructedAmount')\n",
    "\n",
    "\n",
    "#######################################################################################################\n",
    "# receiver currency\n",
    "train_merged[\"BeneficiaryAccount_currency\"] = train_merged[\"BeneficiaryAccount\"] + train_merged[\"SettlementCurrency\"]\n",
    "test_merged[\"BeneficiaryAccount_currency\"] = test_merged[\"BeneficiaryAccount\"] + test_merged[\"SettlementCurrency\"]\n",
    "name = 'BeneficiaryAccount_currency'\n",
    "\n",
    "train_merged, test_merged = generate_currency_feature(train_merged, test_merged, name, \"SettlementAmount\")\n",
    "print(train_merged.shape)\n",
    "print(test_merged.shape)"
   ]
  },
  {
   "cell_type": "markdown",
   "id": "e43ce435",
   "metadata": {
    "pycharm": {
     "name": "#%% md\n"
    }
   },
   "source": [
    "#### total number of accounts ordering and beneficiary account connect to (in and out degree)"
   ]
  },
  {
   "cell_type": "code",
   "execution_count": 16,
   "id": "bdc42dc4",
   "metadata": {
    "ExecuteTime": {
     "end_time": "2022-08-28T17:42:13.751517Z",
     "start_time": "2022-08-28T17:41:12.592364Z"
    },
    "pycharm": {
     "name": "#%%\n"
    }
   },
   "outputs": [
    {
     "name": "stdout",
     "output_type": "stream",
     "text": [
      "(4690135, 51)\n",
      "(704856, 51)\n"
     ]
    }
   ],
   "source": [
    "train_merged, test_merged = generate_in_out_degree(train_merged, test_merged, 'OrderingAccount', 'BeneficiaryAccount')\n",
    "print(train_merged.shape)\n",
    "print(test_merged.shape)"
   ]
  },
  {
   "cell_type": "markdown",
   "id": "c6514891",
   "metadata": {
    "pycharm": {
     "name": "#%% md\n"
    }
   },
   "source": [
    "#### total number of transactions between sender and receiver account"
   ]
  },
  {
   "cell_type": "code",
   "execution_count": 17,
   "id": "1ea6532e",
   "metadata": {
    "ExecuteTime": {
     "end_time": "2022-08-28T17:42:38.768676Z",
     "start_time": "2022-08-28T17:42:27.450671Z"
    },
    "pycharm": {
     "name": "#%%\n"
    }
   },
   "outputs": [
    {
     "name": "stdout",
     "output_type": "stream",
     "text": [
      "(4690135, 53)\n",
      "(704856, 53)\n",
      "CPU times: total: 11 s\n",
      "Wall time: 11.3 s\n"
     ]
    }
   ],
   "source": [
    "%%time\n",
    "sender = 'OrderingAccount'\n",
    "receiver = 'BeneficiaryAccount'\n",
    "sender_receiver = sender + \"_\" + receiver\n",
    "train_merged[sender_receiver] = train_merged[sender] + train_merged[receiver]\n",
    "test_merged[sender_receiver] = test_merged[sender] + test_merged[receiver]\n",
    "\n",
    "train_merged, test_merged = generate_feature(\n",
    "    train_merged, test_merged, pivot_name=sender_receiver, \n",
    "    new_feature_name=sender_receiver + \"_freq\", func = 'value_count')\n",
    "print(train_merged.shape)\n",
    "print(test_merged.shape)"
   ]
  },
  {
   "cell_type": "markdown",
   "id": "600e87bd",
   "metadata": {
    "pycharm": {
     "name": "#%% md\n"
    }
   },
   "source": [
    "#### total number of currecy and avg amount money between sender and receiver bank"
   ]
  },
  {
   "cell_type": "code",
   "execution_count": 18,
   "id": "6975cdf3",
   "metadata": {
    "ExecuteTime": {
     "end_time": "2022-08-28T17:43:39.045537Z",
     "start_time": "2022-08-28T17:42:53.176342Z"
    },
    "pycharm": {
     "name": "#%%\n"
    }
   },
   "outputs": [
    {
     "name": "stdout",
     "output_type": "stream",
     "text": [
      "(4690135, 56)\n",
      "(704856, 56)\n",
      "CPU times: total: 41 s\n",
      "Wall time: 45.8 s\n"
     ]
    }
   ],
   "source": [
    "%%time\n",
    "# number of currency\n",
    "sender = 'OrderingAccount'\n",
    "receiver = 'BeneficiaryAccount'\n",
    "sender_receiver_currency = sender + \"_\" + receiver + \"_currency\"\n",
    "train_merged[sender_receiver_currency] = train_merged[sender] + train_merged[receiver] + train_merged['InstructedCurrency']\n",
    "test_merged[sender_receiver_currency] = test_merged[sender] + test_merged[receiver] + test_merged['InstructedCurrency']\n",
    "\n",
    "train_merged, test_merged = generate_feature(\n",
    "    train_merged, test_merged, pivot_name=sender_receiver_currency, \n",
    "    new_feature_name=sender_receiver_currency + \"_freq\", func = 'value_count')\n",
    "\n",
    "# avg amount currency\n",
    "train_merged, test_merged = generate_feature(\n",
    "    train_merged, test_merged, pivot_name=sender_receiver_currency, \n",
    "    new_feature_name=sender_receiver_currency + \"_avg_amount\", func = \"mean\", agg_col=\"InstructedAmount\")\n",
    "print(train_merged.shape)\n",
    "print(test_merged.shape)"
   ]
  },
  {
   "cell_type": "markdown",
   "id": "fa139643",
   "metadata": {
    "pycharm": {
     "name": "#%% md\n"
    }
   },
   "source": [
    "### Account and Bank network features over time feature (hout, day, week)"
   ]
  },
  {
   "cell_type": "code",
   "execution_count": 19,
   "id": "5d739769",
   "metadata": {
    "ExecuteTime": {
     "end_time": "2022-08-28T17:44:00.445203Z",
     "start_time": "2022-08-28T17:43:54.770088Z"
    },
    "pycharm": {
     "name": "#%%\n"
    }
   },
   "outputs": [],
   "source": [
    "# get hour day week from timestamp\n",
    "train_merged[\"hour\"] = train_merged[\"Timestamp\"].dt.hour.astype(str)\n",
    "test_merged[\"hour\"] = test_merged[\"Timestamp\"].dt.hour.astype(str)\n",
    "train_merged[\"day\"] = train_merged[\"Timestamp\"].dt.day.astype(str)\n",
    "test_merged[\"day\"] = test_merged[\"Timestamp\"].dt.day.astype(str)\n",
    "train_merged[\"week\"] = train_merged[\"Timestamp\"].dt.isocalendar().week.astype(str)\n",
    "test_merged[\"week\"] = test_merged[\"Timestamp\"].dt.isocalendar().week.astype(str)"
   ]
  },
  {
   "cell_type": "raw",
   "id": "425f4469",
   "metadata": {
    "ExecuteTime": {
     "end_time": "2022-08-28T16:58:59.065325Z",
     "start_time": "2022-08-28T16:58:29.190268Z"
    },
    "pycharm": {
     "name": "#%% raw\n"
    }
   },
   "source": [
    "# check sender hour\n",
    "train_merged = train_merged.rename(\n",
    "    {'sender_hour': 'sender_hour1', 'sender_hour_freq': 'sender_hour_freq1'}, axis=1)\n",
    "test_merged = test_merged.rename(\n",
    "    {'sender_hour': 'sender_hour1', 'sender_hour_freq': 'sender_hour_freq1'}, axis=1)\n",
    "senders = train_merged[\"Sender\"].unique()\n",
    "train_merged[\"sender_hour\"] = train_merged[\"Sender\"] + train_merged[\"hour\"].astype(str)\n",
    "test_merged[\"sender_hour\"] = test_merged[\"Sender\"] + test_merged[\"hour\"].astype(str)\n",
    "sender_hour_frequency = {}\n",
    "for s in senders:\n",
    "    sender_rows = train_merged[train_merged[\"Sender\"] == s]\n",
    "    for h in range(24):\n",
    "        sender_hour_frequency[s + str(h)] = len(sender_rows[sender_rows[\"hour\"] == str(h)])\n",
    "\n",
    "train_merged[\"sender_hour_freq\"] = train_merged[\"sender_hour\"].map(sender_hour_frequency)\n",
    "test_merged[\"sender_hour_freq\"] = test_merged[\"sender_hour\"].map(sender_hour_frequency)\n",
    "print(train_merged['sender_hour'].equals(train_merged['sender_hour1']))\n",
    "print(train_merged['sender_hour_freq'].equals(train_merged['sender_hour_freq1']))\n",
    "print(test_merged['sender_hour'].equals(test_merged['sender_hour1']))\n",
    "print(test_merged['sender_hour_freq'].equals(test_merged['sender_hour_freq1']))"
   ]
  },
  {
   "cell_type": "code",
   "execution_count": 20,
   "id": "0459ec31",
   "metadata": {
    "ExecuteTime": {
     "end_time": "2022-08-28T17:47:03.841960Z",
     "start_time": "2022-08-28T17:46:10.461770Z"
    },
    "pycharm": {
     "name": "#%%\n"
    }
   },
   "outputs": [],
   "source": [
    "train_merged[\"sender_hour\"] = train_merged[\"Sender\"] + train_merged[\"hour\"].astype(str)\n",
    "test_merged[\"sender_hour\"] = test_merged[\"Sender\"] + test_merged[\"hour\"].astype(str)\n",
    "train_merged, test_merged = generate_feature(\n",
    "        train_merged, test_merged, pivot_name='sender_hour', new_feature_name='sender_hour_freq', func = 'value_count')"
   ]
  },
  {
   "cell_type": "code",
   "execution_count": 30,
   "id": "a21d2473",
   "metadata": {
    "ExecuteTime": {
     "end_time": "2022-08-28T18:01:01.251785Z",
     "start_time": "2022-08-28T18:00:33.288679Z"
    },
    "pycharm": {
     "name": "#%%\n"
    }
   },
   "outputs": [],
   "source": [
    "train_merged = train_merged.drop(['sender_hour', 'sender_hour_freq'], axis = 1)\n",
    "test_merged = test_merged.drop(['sender_hour', 'sender_hour_freq'], axis = 1)"
   ]
  },
  {
   "cell_type": "code",
   "execution_count": 31,
   "id": "d9317c9d",
   "metadata": {
    "ExecuteTime": {
     "end_time": "2022-08-28T18:02:08.086543Z",
     "start_time": "2022-08-28T18:02:08.055751Z"
    },
    "pycharm": {
     "name": "#%%\n"
    }
   },
   "outputs": [],
   "source": [
    "def generate_features_based_on_time(train, test, from_node_name, to_node_name, time_col):\n",
    "    \n",
    "    ##############################################################################################\n",
    "    # construct feature\n",
    "    from_ = from_node_name + \"_\" + time_col\n",
    "    to_ = to_node_name + \"_\" + time_col\n",
    "    train[from_] = train[from_node_name] + train[time_col]\n",
    "    test[from_] = test[from_node_name] + test[time_col]\n",
    "    \n",
    "    train[to_] = train[to_node_name] + train[time_col]\n",
    "    test[to_] = test[to_node_name] + test[time_col]\n",
    "    \n",
    "    ##############################################################################################\n",
    "    # total number of transactions\n",
    "    # sender freq\n",
    "    train, test = generate_feature(\n",
    "        train, test, pivot_name=from_, new_feature_name=from_ + '_freq', func = 'value_count')\n",
    "\n",
    "    # receiver freq\n",
    "    train, test = generate_feature(\n",
    "        train, test, pivot_name=to_, new_feature_name=to_ + \"_freq\", func = 'value_count')\n",
    "    \n",
    "    \n",
    "    ################################################################################################\n",
    "    # currency and amount\n",
    "    # sender\n",
    "    feature_name = from_node_name + \"_currency_\" + time_col\n",
    "    train[feature_name] = train[from_node_name] + train[\"InstructedCurrency\"] + train[time_col]\n",
    "    test[feature_name] = test[from_node_name] + test[\"InstructedCurrency\"] + test[time_col]\n",
    "    \n",
    "    train, test = generate_currency_feature(train, test, feature_name)\n",
    "    \n",
    "    train = train.drop([feature_name], axis = 1)\n",
    "    test = test.drop([feature_name], axis = 1)\n",
    "    \n",
    "    # receiver\n",
    "    feature_name = to_node_name + \"_currency_\" + time_col\n",
    "    train[feature_name] = train[to_node_name] + train[\"InstructedCurrency\"] + train[time_col]\n",
    "    test[feature_name] = test[to_node_name] + test[\"InstructedCurrency\"] + test[time_col]\n",
    "    train, test = generate_currency_feature(train, test, feature_name)\n",
    "    \n",
    "    train = train.drop([feature_name], axis = 1)\n",
    "    test = test.drop([feature_name], axis = 1)\n",
    "    \n",
    "    ################################################################################################\n",
    "    # in and out degree\n",
    "    train, test = generate_in_out_degree(train, test, from_, to_)\n",
    "    \n",
    "    ###############################################################################################\n",
    "    # edge - number transaction\n",
    "    train[from_ + \"_\" + to_] = train[from_] + train[to_]\n",
    "    test[from_ + \"_\" + to_] = test[from_] + test[to_]\n",
    "    \n",
    "    train, test = generate_feature( train, test, \n",
    "               pivot_name=from_ + \"_\" + to_, new_feature_name=from_ + \"_\" + to_ + \"_freq\", func = 'value_count')\n",
    "    \n",
    "    train =train.drop([from_ + \"_\" + to_],axis = 1)\n",
    "    test = test.drop([from_ + \"_\" + to_], axis = 1)\n",
    "    \n",
    "    ##############################################################################################\n",
    "    # edge - currency and amount\n",
    "    # number of currency\n",
    "    train[from_ + \"_\" + to_ + \"_currency\"] = train[from_] + train[to_] + train['InstructedCurrency']\n",
    "    test[from_ + \"_\" + to_ + \"_currency\"] = test[from_] + test[to_] + train['InstructedCurrency']\n",
    "\n",
    "    train, test = generate_feature(\n",
    "        train, test, pivot_name=from_ + \"_\" + to_ + \"_currency\", \n",
    "        new_feature_name=from_ + \"_\" + to_ + \"_currency_freq\", func = 'value_count')\n",
    "\n",
    "    # avg amount currency\n",
    "    train, test = generate_feature(\n",
    "        train, test, pivot_name=from_ + \"_\" + to_ + \"_currency\", \n",
    "        new_feature_name=from_ + \"_\" + to_ + \"_currency_avg_amount\", func = \"mean\", agg_col=\"InstructedAmount\")\n",
    "    \n",
    "    train = train.drop([from_ + \"_\" + to_ + \"_currency\"], axis = 1)\n",
    "    test = test.drop([from_ + \"_\" + to_ + \"_currency\"], axis = 1)\n",
    "\n",
    "    \n",
    "    ###############################################################################################\n",
    "    # drop columns\n",
    "    train = train.drop([from_, to_], axis = 1)\n",
    "    test = test.drop([from_, to_], axis = 1)\n",
    "    \n",
    "    \n",
    "    return train, test"
   ]
  },
  {
   "cell_type": "markdown",
   "id": "092e4f86",
   "metadata": {
    "pycharm": {
     "name": "#%% md\n"
    }
   },
   "source": [
    "#### Fine-grained by hour of day 1 - 24"
   ]
  },
  {
   "cell_type": "code",
   "execution_count": 32,
   "id": "284fe21f",
   "metadata": {
    "ExecuteTime": {
     "end_time": "2022-08-28T18:36:06.613823Z",
     "start_time": "2022-08-28T18:02:25.322524Z"
    },
    "pycharm": {
     "name": "#%%\n"
    }
   },
   "outputs": [
    {
     "name": "stdout",
     "output_type": "stream",
     "text": [
      "CPU times: total: 19min 23s\n",
      "Wall time: 33min 41s\n"
     ]
    }
   ],
   "source": [
    "%%time\n",
    "# bank\n",
    "train_merged, test_merged = generate_features_based_on_time(train_merged, test_merged, 'Sender', 'Receiver', 'hour')"
   ]
  },
  {
   "cell_type": "markdown",
   "id": "aa7735f5",
   "metadata": {
    "pycharm": {
     "name": "#%% md\n"
    }
   },
   "source": [
    "#### Fine-grained by day of month 1 - 31"
   ]
  },
  {
   "cell_type": "code",
   "execution_count": 24,
   "id": "1dc55dbd",
   "metadata": {
    "ExecuteTime": {
     "end_time": "2022-08-24T16:50:04.100305Z",
     "start_time": "2022-08-24T16:48:07.572786Z"
    },
    "pycharm": {
     "name": "#%%\n"
    }
   },
   "outputs": [
    {
     "name": "stderr",
     "output_type": "stream",
     "text": [
      "\n",
      "KeyboardInterrupt\n",
      "\n"
     ]
    }
   ],
   "source": [
    "train_merged, test_merged = generate_features_based_on_time(train_merged, test_merged, 'Sender', 'Receiver', 'day')"
   ]
  },
  {
   "cell_type": "markdown",
   "id": "d70c0bf0",
   "metadata": {
    "pycharm": {
     "name": "#%% md\n"
    }
   },
   "source": [
    "#### Fine-grained by week of month 1 - 4"
   ]
  },
  {
   "cell_type": "code",
   "execution_count": null,
   "id": "d35d98c6",
   "metadata": {
    "ExecuteTime": {
     "end_time": "2022-08-24T16:50:04.167429Z",
     "start_time": "2022-08-24T16:50:04.167429Z"
    },
    "pycharm": {
     "name": "#%%\n"
    }
   },
   "outputs": [],
   "source": [
    "train_merged, test_merged = generate_features_based_on_time(train_merged, test_merged, 'Sender', 'Receiver', 'week')"
   ]
  },
  {
   "cell_type": "markdown",
   "id": "75586695",
   "metadata": {},
   "source": [
    "### Country Features"
   ]
  },
  {
   "cell_type": "code",
   "execution_count": 25,
   "id": "7f6fa5fe",
   "metadata": {
    "ExecuteTime": {
     "end_time": "2022-09-01T12:48:20.914665Z",
     "start_time": "2022-09-01T12:46:28.566510Z"
    }
   },
   "outputs": [],
   "source": [
    "def get_country(row, name):\n",
    "    li = row[name].split('/')\n",
    "    if len(li) >= 1:\n",
    "        return li[0]\n",
    "    else:\n",
    "        return pd.NA\n",
    "train_merged['OrderingCountry'] = train_merged.apply(lambda row: get_country(row, 'OrderingCountryCityZip'), axis=1)\n",
    "train_merged['BeneficiaryCountry'] = train_merged.apply(lambda row: get_country(row, 'BeneficiaryCountryCityZip'), axis=1)\n",
    "test_merged['OrderingCountry'] = test_merged.apply(lambda row:get_country(row, 'OrderingCountryCityZip'), axis=1)\n",
    "test_merged['BeneficiaryCountry'] = test_merged.apply(lambda row:get_country(row, 'BeneficiaryCountryCityZip'), axis=1)"
   ]
  },
  {
   "cell_type": "markdown",
   "id": "fdfdf584",
   "metadata": {},
   "source": [
    "#### how many countries order account/Sender or beneficiary account/Receiver associated with"
   ]
  },
  {
   "cell_type": "code",
   "execution_count": 35,
   "id": "29738812",
   "metadata": {
    "ExecuteTime": {
     "end_time": "2022-09-01T12:59:02.401815Z",
     "start_time": "2022-09-01T12:58:42.255277Z"
    }
   },
   "outputs": [
    {
     "name": "stdout",
     "output_type": "stream",
     "text": [
      "(4690135, 34)\n",
      "(704856, 34)\n"
     ]
    }
   ],
   "source": [
    "# sender freq\n",
    "train_merged, test_merged = generate_feature(\n",
    "    train_merged, test_merged, pivot_name='OrderingAccount', new_feature_name=\"OrderingAccount_Country_freq\", \n",
    "    func = 'count', agg_col='OrderingCountry')\n",
    "\n",
    "# receiver freq\n",
    "train_merged, test_merged = generate_feature(\n",
    "    train_merged, test_merged, pivot_name='BeneficiaryAccount', new_feature_name=\"BeneficiaryAccount_Country_freq\", \n",
    "    func = 'count', agg_col='BeneficiaryCountry')\n",
    "print(train_merged.shape)\n",
    "print(test_merged.shape)\n",
    "\n",
    "# ordering freq\n",
    "train_merged, test_merged = generate_feature(\n",
    "    train_merged, test_merged, pivot_name='Sender', new_feature_name=\"Sender_Country_freq\", \n",
    "    func = 'count', agg_col='OrderingCountry')\n",
    "\n",
    "# beneficiary freq\n",
    "train_merged, test_merged = generate_feature(\n",
    "    train_merged, test_merged, pivot_name='Receiver', new_feature_name=\"Receiver_Country_freq\", \n",
    "    func = 'count', agg_col='BeneficiaryCountry')\n",
    "print(train_merged.shape)\n",
    "print(test_merged.shape)"
   ]
  },
  {
   "cell_type": "markdown",
   "id": "543331a0",
   "metadata": {},
   "source": [
    "#### Number of transactions"
   ]
  },
  {
   "cell_type": "markdown",
   "id": "23c4a709",
   "metadata": {},
   "source": [
    "##### Number of transactions for ordering country and beneficiary country"
   ]
  },
  {
   "cell_type": "code",
   "execution_count": 39,
   "id": "ab8ea38c",
   "metadata": {
    "ExecuteTime": {
     "end_time": "2022-09-01T13:04:02.306098Z",
     "start_time": "2022-09-01T13:03:57.082661Z"
    }
   },
   "outputs": [
    {
     "name": "stdout",
     "output_type": "stream",
     "text": [
      "(4690135, 40)\n",
      "(704856, 40)\n"
     ]
    }
   ],
   "source": [
    "# sender freq\n",
    "train_merged, test_merged = generate_feature(\n",
    "    train_merged, test_merged, pivot_name='OrderingCountry', new_feature_name=\"OrderingCountry_freq\", \n",
    "    func = 'value_count')\n",
    "\n",
    "# receiver freq\n",
    "train_merged, test_merged = generate_feature(\n",
    "    train_merged, test_merged, pivot_name='BeneficiaryCountry', new_feature_name=\"BeneficiaryCountry_freq\", \n",
    "    func = 'value_count')\n",
    "print(train_merged.shape)\n",
    "print(test_merged.shape)"
   ]
  },
  {
   "cell_type": "markdown",
   "id": "facca37d",
   "metadata": {},
   "source": [
    "##### Number of transactions of account-country/bank-country pattern"
   ]
  },
  {
   "cell_type": "code",
   "execution_count": 41,
   "id": "85123a9d",
   "metadata": {
    "ExecuteTime": {
     "end_time": "2022-09-01T13:10:37.314082Z",
     "start_time": "2022-09-01T13:09:57.698767Z"
    }
   },
   "outputs": [],
   "source": [
    "# sender receiver\n",
    "train_merged[\"sender_country\"] = train_merged[\"Sender\"] + train_merged[\"OrderingCountry\"]\n",
    "train_merged[\"receiver_country\"] = train_merged[\"Receiver\"] + train_merged[\"BeneficiaryCountry\"]\n",
    "test_merged[\"sender_country\"] = test_merged[\"Sender\"] + test_merged[\"OrderingCountry\"]\n",
    "test_merged[\"receiver_country\"] = test_merged[\"Receiver\"] + test_merged[\"BeneficiaryCountry\"]\n",
    "\n",
    "train_merged, test_merged = generate_feature(\n",
    "    train_merged, test_merged, pivot_name='sender_country', new_feature_name=\"sender_country_freq\", func = 'value_count')\n",
    "\n",
    "train_merged, test_merged = generate_feature(\n",
    "    train_merged, test_merged, pivot_name='receiver_country', new_feature_name=\"receiver_country_freq\", func = 'value_count')\n",
    "\n",
    "train_merged = train_merged.drop([\"sender_country\", \"receiver_country\"], axis=1)\n",
    "test_merged = test_merged.drop([\"sender_country\", 'receiver_country'], axis=1)\n",
    "\n",
    "# ordering account beneficiary account\n",
    "train_merged[\"ordering_country\"] = train_merged[\"OrderingAccount\"] + train_merged[\"OrderingCountry\"]\n",
    "train_merged[\"beneficiary_country\"] = train_merged[\"BeneficiaryAccount\"] + train_merged[\"BeneficiaryCountry\"]\n",
    "test_merged[\"ordering_country\"] = test_merged[\"OrderingAccount\"] + test_merged[\"OrderingCountry\"]\n",
    "test_merged[\"beneficiary_country\"] = test_merged[\"BeneficiaryAccount\"] + test_merged[\"BeneficiaryCountry\"]\n",
    "\n",
    "train_merged, test_merged = generate_feature(\n",
    "    train_merged, test_merged, pivot_name='ordering_country', new_feature_name=\"ordering_country_freq\", func = 'value_count')\n",
    "\n",
    "train_merged, test_merged = generate_feature(\n",
    "    train_merged, test_merged, pivot_name='beneficiary_country', new_feature_name=\"beneficiary_country_freq\", func = 'value_count')\n",
    "\n",
    "train_merged = train_merged.drop([\"ordering_country\", \"beneficiary_country\"], axis=1)\n",
    "test_merged = test_merged.drop([\"ordering_country\", \"beneficiary_country\"], axis=1)"
   ]
  },
  {
   "cell_type": "markdown",
   "id": "799227a8",
   "metadata": {},
   "source": [
    "##### Number of transactions between country-country/account-country-account-country/bank-country-country"
   ]
  },
  {
   "cell_type": "code",
   "execution_count": 43,
   "id": "eb843484",
   "metadata": {
    "ExecuteTime": {
     "end_time": "2022-09-01T13:16:53.173357Z",
     "start_time": "2022-09-01T13:16:50.053439Z"
    }
   },
   "outputs": [],
   "source": [
    "train_merged[\"ordering_beneficiary_country\"] = train_merged[\"OrderingCountry\"] + train_merged[\"BeneficiaryCountry\"]\n",
    "test_merged[\"ordering_beneficiary_country\"] = test_merged[\"OrderingCountry\"] + test_merged[\"BeneficiaryCountry\"]\n",
    "\n",
    "train_merged, test_merged = generate_feature(\n",
    "    train_merged, test_merged, pivot_name='ordering_beneficiary_country', new_feature_name=\"ordering_beneficiary_country_freq\", \n",
    "    func = 'value_count')\n",
    "\n",
    "train_merged = train_merged.drop([\"ordering_beneficiary_country\"], axis=1)\n",
    "test_merged = test_merged.drop([\"ordering_beneficiary_country\"], axis=1)\n",
    "\n",
    "# account - country - account - country\n",
    "train_merged[\"orderingAccount_beneficiaryAccount_country\"] = train_merged[\"OrderingAccount\"] + train_merged[\"OrderingCountry\"] + train_merged['BeneficiaryAccount'] + train_merged[\"BeneficiaryCountry\"]\n",
    "test_merged[\"orderingAccount_beneficiaryAccount_country\"] = test_merged[\"OrderingAccount\"] + test_merged[\"OrderingCountry\"] + test[\"BeneficiaryAccount\"] + test_merged[\"BeneficiaryCountry\"]\n",
    "\n",
    "train_merged, test_merged = generate_feature(\n",
    "    train_merged, test_merged, pivot_name='orderingAccount_beneficiaryAccount_country', \n",
    "    new_feature_name=\"orderingAccount_beneficiaryAccount_country_freq\", func = 'value_count')\n",
    "\n",
    "train_merged = train_merged.drop([\"orderingAccount_beneficiaryAccount_country\"], axis=1)\n",
    "test_merged = test_merged.drop([\"orderingAccount_beneficiaryAccount_country\"], axis=1)\n",
    "\n",
    "# sender - country - receiver - country\n",
    "train_merged[\"sender_receiver_country\"] = train_merged[\"Sender\"] + train_merged[\"OrderingCountry\"] + train_merged['Receiver'] + train_merged[\"BeneficiaryCountry\"]\n",
    "test_merged[\"sender_receiver_country\"] = test_merged[\"Sender\"] + test_merged[\"OrderingCountry\"] + test[\"Receiver\"] + test_merged[\"BeneficiaryCountry\"]\n",
    "\n",
    "train_merged, test_merged = generate_feature(\n",
    "    train_merged, test_merged, pivot_name='sender_receiver_country', \n",
    "    new_feature_name=\"sender_receiver_country_freq\", func = 'value_count')\n",
    "\n",
    "train_merged = train_merged.drop([\"sender_receiver_country\"], axis=1)\n",
    "test_merged = test_merged.drop([\"sender_receiver_country\"], axis=1)"
   ]
  },
  {
   "cell_type": "markdown",
   "id": "2ff5aa54",
   "metadata": {},
   "source": [
    "#### Number of currency and average amount of currency"
   ]
  },
  {
   "cell_type": "markdown",
   "id": "c4a26874",
   "metadata": {},
   "source": [
    "##### Number of currency and average amount of currency for ordering country and beneficiary country"
   ]
  },
  {
   "cell_type": "code",
   "execution_count": null,
   "id": "20a56225",
   "metadata": {},
   "outputs": [],
   "source": [
    "def generate_currency_feature(train, test, name, agg_col):\n",
    "    \n",
    "    # currecy freq\n",
    "    train, test = generate_feature(\n",
    "        train, test, pivot_name=name, new_feature_name=name + \"_freq\", func = 'value_count')\n",
    "\n",
    "    # currecy avg amount\n",
    "    train, test = generate_feature(\n",
    "        train, test, pivot_name=name, new_feature_name=name + \"_avg_amount\", func = 'mean', agg_col=agg_col)\n",
    "    \n",
    "    return train, test\n",
    "\n",
    "#######################################################################################################\n",
    "# ordering country currecy\n",
    "train_merged[\"OrderingCountry_currency\"] = train_merged[\"OrderingCountry\"] + train_merged[\"InstructedCurrency\"]\n",
    "test_merged[\"OrderingCountry_currency\"] = test_merged[\"OrderingCountry\"] + test_merged[\"InstructedCurrency\"]\n",
    "name = 'OrderingCountry_currency'\n",
    "\n",
    "train_merged, test_merged = generate_currency_feature(train_merged, test_merged, name, 'InstructedAmount')\n",
    "\n",
    "\n",
    "#######################################################################################################\n",
    "# ordering country currency\n",
    "train_merged[\"BeneficiaryCountry_currency\"] = train_merged[\"BeneficiaryCountry\"] + train_merged[\"SettlementCurrency\"]\n",
    "test_merged[\"BeneficiaryCountry_currency\"] = test_merged[\"BeneficiaryCountry\"] + test_merged[\"SettlementCurrency\"]\n",
    "name = 'BeneficiaryCountry_currency'\n",
    "\n",
    "train_merged, test_merged = generate_currency_feature(train_merged, test_merged, name, \"SettlementAmount\")\n",
    "print(train_merged.shape)\n",
    "print(test_merged.shape)\n",
    "\n",
    "train_merged = train_merged.drop([\"OrderingCountry_currency\", \"BeneficiaryCountry_currency\"], axis=1)\n",
    "test_merged = test_merged.drop([\"OrderingCountry_currency\", \"BeneficiaryCountry_currency\"], axis=1)"
   ]
  },
  {
   "cell_type": "markdown",
   "id": "390237a0",
   "metadata": {
    "ExecuteTime": {
     "end_time": "2022-09-01T13:49:29.162998Z",
     "start_time": "2022-09-01T13:49:29.144434Z"
    }
   },
   "source": [
    "##### Currency feature for account-country/bank-country pattern"
   ]
  },
  {
   "cell_type": "code",
   "execution_count": null,
   "id": "8a6598a3",
   "metadata": {},
   "outputs": [],
   "source": [
    "#######################################################################################################\n",
    "# ordering accunt - country currecy\n",
    "train_merged[\"OrderingAccount_Country_currency\"] = train_merged[\"OrderingAccount\"] + train_merged[\"OrderingCountry\"] + train_merged[\"InstructedCurrency\"]\n",
    "test_merged[\"OrderingAccount_Country_currency\"] = test_merged[\"OrderingAccount\"] + test_merged[\"OrderingCountry\"] + test_merged[\"InstructedCurrency\"]\n",
    "name = 'OrderingAccountCountry_currency'\n",
    "\n",
    "train_merged, test_merged = generate_currency_feature(train_merged, test_merged, name, 'InstructedAmount')\n",
    "\n",
    "\n",
    "#######################################################################################################\n",
    "# beneficiary account - country currency\n",
    "train_merged[\"BeneficiaryAccount_Country_currency\"] = train_merged[\"BeneficiaryAccount\"] + train_merged[\"BeneficiaryCountry\"] + train_merged[\"SettlementCurrency\"]\n",
    "test_merged[\"BeneficiaryAccount_Country_currency\"] = test_merged[\"BeneficiaryAccount\"] + test_merged[\"BeneficiaryCountry\"] + test_merged[\"SettlementCurrency\"]\n",
    "name = 'BeneficiaryAccount_Country_currency'\n",
    "\n",
    "train_merged, test_merged = generate_currency_feature(train_merged, test_merged, name, \"SettlementAmount\")\n",
    "print(train_merged.shape)\n",
    "print(test_merged.shape)\n",
    "\n",
    "train_merged = train_merged.drop([\"OrderingAccount_Country_currency\", \"BeneficiaryAccount_Country_currency\"], axis=1)\n",
    "test_merged = test_merged.drop([\"OrderingAccount_Country_currency\", \"BeneficiaryAccount_Country_currency\"], axis=1)\n",
    "\n",
    "#######################################################################################################\n",
    "# sender - country currecy\n",
    "train_merged[\"Sender_Country_currency\"] = train_merged[\"Sender\"] + train_merged[\"OrderingCountry\"] + train_merged[\"InstructedCurrency\"]\n",
    "test_merged[\"Sender_Country_currency\"] = test_merged[\"Sender\"] + test_merged[\"OrderingCountry\"] + test_merged[\"InstructedCurrency\"]\n",
    "name = 'Sender_currency'\n",
    "\n",
    "train_merged, test_merged = generate_currency_feature(train_merged, test_merged, name, 'InstructedAmount')\n",
    "\n",
    "\n",
    "#######################################################################################################\n",
    "# receiver - country currency\n",
    "train_merged[\"Receiver_Country_currency\"] = train_merged[\"Receiver\"] + train_merged[\"BeneficiaryCountry\"] + train_merged[\"SettlementCurrency\"]\n",
    "test_merged[\"Receiver_Country_currency\"] = test_merged[\"Receiver\"] + test_merged[\"BeneficiaryCountry\"] + test_merged[\"SettlementCurrency\"]\n",
    "name = 'Receiver_Country_currency'\n",
    "\n",
    "train_merged, test_merged = generate_currency_feature(train_merged, test_merged, name, \"SettlementAmount\")\n",
    "print(train_merged.shape)\n",
    "print(test_merged.shape)\n",
    "\n",
    "train_merged = train_merged.drop([\"Sender_Country_currency\", \"Receiver_Country_currency\"], axis=1)\n",
    "test_merged = test_merged.drop([\"Sender_Country_currency\", \"Receiver_Country_currency\"], axis=1)"
   ]
  },
  {
   "cell_type": "markdown",
   "id": "524526c8",
   "metadata": {
    "ExecuteTime": {
     "end_time": "2022-09-01T13:57:44.415999Z",
     "start_time": "2022-09-01T13:57:44.395509Z"
    }
   },
   "source": [
    "##### Currency feature of country-country/acount-country-country-account/bank-country-country-bank"
   ]
  },
  {
   "cell_type": "code",
   "execution_count": null,
   "id": "9b7c9e7d",
   "metadata": {},
   "outputs": [],
   "source": [
    "#######################################################################################################\n",
    "# country-country\n",
    "train_merged[\"country_country_currency\"] = train_merged[\"OrderingCountry\"] + train_merged[\"BeneficiaryCountry\"] + train_merged[\"InstructedCurrency\"]\n",
    "test_merged[\"country_country_currency\"] = test_merged[\"OrderingCountry\"] + test_merged[\"BeneficiaryCountry\"] + test_merged[\"InstructedCurrency\"]\n",
    "name = 'country_country_currency'\n",
    "\n",
    "train_merged, test_merged = generate_currency_feature(train_merged, test_merged, name, 'InstructedAmount')\n",
    "train_merged = train_merged.drop(['country_country_currency'], axis=1)\n",
    "test_merged = test_merged.drop(['country_country_currency'], axis=1)\n",
    "\n",
    "#######################################################################################################\n",
    "# account - country - country - account\n",
    "train_merged[\"account_country_country_currency\"] = train_merged[\"OrderingAccount\"] + train_merged[\"OrderingCountry\"] + train_merged[\"BeneficiaryCountry\"] + train_merged[\"BeneficiaryAccount\"]  + train_merged[\"InstructedCurrency\"]\n",
    "test_merged[\"account_country_country_currency\"] = test_merged[\"OrderingAccount\"] + test_merged[\"OrderingCountry\"] + test_merged[\"BeneficiaryCountry\"] + test_merged[\"BeneficiaryAccount\"] + test_merged[\"InstructedCurrency\"]\n",
    "name = 'account_country_country_currency'\n",
    "\n",
    "train_merged, test_merged = generate_currency_feature(train_merged, test_merged, name, 'InstructedAmount')\n",
    "train_merged = train_merged.drop(['account_country_country_currency'], axis=1)\n",
    "test_merged = test_merged.drop(['account_country_country_currency'], axis=1)\n",
    "\n",
    "#######################################################################################################\n",
    "# sender - country - country - receiver\n",
    "train_merged[\"sender_country_country_reciever_currency\"] = train_merged[\"Sender\"] + train_merged[\"OrderingCountry\"] + train_merged[\"BeneficiaryCountry\"] + train_merged[\"Receiver\"]  + train_merged[\"InstructedCurrency\"]\n",
    "test_merged[\"sender_country_country_receiver_currency\"] = test_merged[\"Sender\"] + test_merged[\"OrderingCountry\"] + test_merged[\"BeneficiaryCountry\"] + test_merged[\"Receiver\"] + test_merged[\"InstructedCurrency\"]\n",
    "name = 'sender_country_country_receiver_currency'\n",
    "\n",
    "train_merged, test_merged = generate_currency_feature(train_merged, test_merged, name, 'InstructedAmount')\n",
    "train_merged = train_merged.drop(['sender_country_country_receiver_currency'], axis=1)\n",
    "test_merged = test_merged.drop(['sender_country_country_receiver_currency'], axis=1)\n"
   ]
  },
  {
   "cell_type": "markdown",
   "id": "feb51ecc",
   "metadata": {
    "pycharm": {
     "name": "#%% md\n"
    }
   },
   "source": [
    "## Drop unnecessary columns and save data"
   ]
  },
  {
   "cell_type": "code",
   "execution_count": 33,
   "id": "62507171",
   "metadata": {
    "ExecuteTime": {
     "end_time": "2022-08-28T18:36:54.722490Z",
     "start_time": "2022-08-28T18:36:54.685090Z"
    },
    "pycharm": {
     "name": "#%%\n"
    }
   },
   "outputs": [
    {
     "data": {
      "text/plain": [
       "Index(['Timestamp', 'UETR', 'Sender', 'Receiver', 'TransactionReference',\n",
       "       'OrderingAccount', 'OrderingName', 'OrderingStreet',\n",
       "       'OrderingCountryCityZip', 'BeneficiaryAccount', 'BeneficiaryName',\n",
       "       'BeneficiaryStreet', 'BeneficiaryCountryCityZip', 'SettlementDate',\n",
       "       'SettlementCurrency', 'SettlementAmount', 'InstructedCurrency',\n",
       "       'InstructedAmount', 'Label', 'Flag_ordering', 'Flag_beneficiary',\n",
       "       'num_hops', 'Sender_freq', 'Receiver_freq', 'sender_currency',\n",
       "       'sender_currency_freq', 'sender_currency_avg_amount',\n",
       "       'receiver_currency', 'receiver_currency_freq',\n",
       "       'receiver_currency_avg_amount', 'Sender_out_degree', 'Sender_in_degree',\n",
       "       'Receiver_out_degree', 'Receiver_in_degree', 'sender_receiver',\n",
       "       'sender_receiver_freq', 'sender_receiver_currency',\n",
       "       'sender_receiver_currency_freq', 'sender_receiver_currency_avg_amount',\n",
       "       'OrderingAccount_freq', 'BeneficiaryAccount_freq',\n",
       "       'OrderingAccount_currency', 'OrderingAccount_currency_freq',\n",
       "       'OrderingAccount_currency_avg_amount', 'BeneficiaryAccount_currency',\n",
       "       'BeneficiaryAccount_currency_freq',\n",
       "       'BeneficiaryAccount_currency_avg_amount', 'OrderingAccount_out_degree',\n",
       "       'OrderingAccount_in_degree', 'BeneficiaryAccount_out_degree',\n",
       "       'BeneficiaryAccount_in_degree', 'OrderingAccount_BeneficiaryAccount',\n",
       "       'OrderingAccount_BeneficiaryAccount_freq',\n",
       "       'OrderingAccount_BeneficiaryAccount_currency',\n",
       "       'OrderingAccount_BeneficiaryAccount_currency_freq',\n",
       "       'OrderingAccount_BeneficiaryAccount_currency_avg_amount', 'hour', 'day',\n",
       "       'week', 'Sender_hour_freq', 'Receiver_hour_freq',\n",
       "       'Sender_currency_hour_freq', 'Sender_currency_hour_avg_amount',\n",
       "       'Receiver_currency_hour_freq', 'Receiver_currency_hour_avg_amount',\n",
       "       'Sender_hour_out_degree', 'Sender_hour_in_degree',\n",
       "       'Receiver_hour_out_degree', 'Receiver_hour_in_degree',\n",
       "       'Sender_hour_Receiver_hour_freq',\n",
       "       'Sender_hour_Receiver_hour_currency_freq',\n",
       "       'Sender_hour_Receiver_hour_currency_avg_amount'],\n",
       "      dtype='object')"
      ]
     },
     "execution_count": 33,
     "metadata": {},
     "output_type": "execute_result"
    }
   ],
   "source": [
    "train_merged.columns"
   ]
  },
  {
   "cell_type": "code",
   "execution_count": null,
   "id": "0656c97b",
   "metadata": {
    "ExecuteTime": {
     "end_time": "2022-08-28T17:14:41.713567Z",
     "start_time": "2022-08-28T17:14:39.679640Z"
    },
    "pycharm": {
     "name": "#%%\n"
    }
   },
   "outputs": [],
   "source": [
    "columns_to_drop = [\n",
    "    \"UETR\",\n",
    "    \"Sender\",\n",
    "    \"Receiver\",\n",
    "    \"TransactionReference\",\n",
    "    \"OrderingAccount\",\n",
    "    \"OrderingName\",\n",
    "    \"OrderingStreet\",\n",
    "    \"OrderingCountryCityZip\",\n",
    "    \"BeneficiaryAccount\",\n",
    "    \"BeneficiaryName\",\n",
    "    \"BeneficiaryStreet\",\n",
    "    \"BeneficiaryCountryCityZip\",\n",
    "    \"SettlementDate\",\n",
    "    \"SettlementCurrency\",\n",
    "    \"InstructedCurrency\",\n",
    "    \"Timestamp\",\n",
    "    \"sender_receiver\",\n",
    "    'OrderingAccount_BeneficiaryAccount_currency',\n",
    "    'OrderingAccount_BeneficiaryAccount',\n",
    "    'BeneficiaryAccount_currency',\n",
    "    'OrderingAccount_currency',\n",
    "    'receiver_currency',\n",
    "    'sender_currency',\n",
    "    'sender_hour'\n",
    "]\n",
    "\n",
    "train_merged = train_merged.drop(columns_to_drop, axis=1)\n",
    "test_merged = test_merged.drop(columns_to_drop, axis=1)"
   ]
  },
  {
   "cell_type": "markdown",
   "id": "4e1cfd63",
   "metadata": {
    "pycharm": {
     "name": "#%% md\n"
    }
   },
   "source": [
    "## baseline verification"
   ]
  },
  {
   "cell_type": "code",
   "execution_count": 22,
   "id": "5ed7f28c",
   "metadata": {
    "ExecuteTime": {
     "end_time": "2022-08-28T17:47:43.418467Z",
     "start_time": "2022-08-28T17:47:42.102564Z"
    },
    "pycharm": {
     "name": "#%%\n"
    }
   },
   "outputs": [],
   "source": [
    "from sklearn.preprocessing import StandardScaler\n",
    "from sklearn.model_selection import train_test_split\n",
    "from sklearn.model_selection import KFold\n",
    "from sklearn.model_selection import ShuffleSplit, StratifiedKFold, StratifiedShuffleSplit\n",
    "from sklearn.model_selection import cross_val_score\n",
    "from sklearn import metrics\n",
    "from sklearn.metrics import classification_report\n",
    "from sklearn.metrics import confusion_matrix\n",
    "from sklearn.metrics import accuracy_score\n",
    "from sklearn.preprocessing import StandardScaler, MinMaxScaler\n",
    "import sklearn.utils"
   ]
  },
  {
   "cell_type": "code",
   "execution_count": 35,
   "id": "68fddb4b",
   "metadata": {
    "ExecuteTime": {
     "end_time": "2022-08-28T18:37:42.423552Z",
     "start_time": "2022-08-28T18:37:41.462155Z"
    },
    "pycharm": {
     "name": "#%%\n"
    }
   },
   "outputs": [],
   "source": [
    "retained_feature = ['SettlementAmount', 'InstructedAmount', 'Label', 'Sender_hour_freq', 'hour', \n",
    "                    'sender_currency_freq', 'sender_currency_avg_amount', 'sender_receiver_freq']\n",
    "train_rt = train_merged[retained_feature].copy()\n",
    "test_rt = test_merged[retained_feature].copy()"
   ]
  },
  {
   "cell_type": "code",
   "execution_count": 36,
   "id": "527c1a16",
   "metadata": {
    "ExecuteTime": {
     "end_time": "2022-08-28T18:38:00.253840Z",
     "start_time": "2022-08-28T18:37:59.366774Z"
    },
    "pycharm": {
     "name": "#%%\n"
    }
   },
   "outputs": [],
   "source": [
    "train_rt = train_rt.fillna(0)\n",
    "test_rt = test_rt.fillna(0)\n",
    "train_rt['hour'] = train_rt['hour'].astype('int64')\n",
    "test_rt['hour'] = test_rt['hour'].astype('int64')"
   ]
  },
  {
   "cell_type": "code",
   "execution_count": 37,
   "id": "292cadb2",
   "metadata": {
    "ExecuteTime": {
     "end_time": "2022-08-28T18:38:11.739398Z",
     "start_time": "2022-08-28T18:38:11.018333Z"
    },
    "pycharm": {
     "name": "#%%\n"
    }
   },
   "outputs": [],
   "source": [
    "del train_merged\n",
    "del test_merged"
   ]
  },
  {
   "cell_type": "code",
   "execution_count": 38,
   "id": "a2bf4b71",
   "metadata": {
    "ExecuteTime": {
     "end_time": "2022-08-28T18:38:27.128484Z",
     "start_time": "2022-08-28T18:38:26.554085Z"
    },
    "pycharm": {
     "name": "#%%\n"
    }
   },
   "outputs": [],
   "source": [
    "Y_train = train_rt[\"Label\"].values\n",
    "X_train = train_rt.drop([\"Label\"], axis=1).values\n",
    "Y_test = test_rt[\"Label\"].values\n",
    "X_test = test_rt.drop([\"Label\"], axis=1).values\n",
    "\n",
    "# Normalize\n",
    "\n",
    "scaler = StandardScaler()\n",
    "scaler.fit(X_train)\n",
    "\n",
    "X_train = scaler.transform(X_train)\n",
    "X_test = scaler.transform(X_test)"
   ]
  },
  {
   "cell_type": "code",
   "execution_count": 39,
   "id": "ee130ac6",
   "metadata": {
    "ExecuteTime": {
     "end_time": "2022-08-28T18:46:30.897434Z",
     "start_time": "2022-08-28T18:38:31.095334Z"
    },
    "pycharm": {
     "name": "#%%\n"
    }
   },
   "outputs": [
    {
     "name": "stdout",
     "output_type": "stream",
     "text": [
      "Minimum: 0.7734241908006814\n",
      "Maximum: 0.8044406490179333\n",
      "StanDev: 0.010830083353441794\n",
      "CPU times: total: 1h 46min 7s\n",
      "Wall time: 7min 59s\n"
     ]
    }
   ],
   "source": [
    "%%time\n",
    "from xgboost import XGBClassifier\n",
    "xgb = XGBClassifier(n_estimators=100)\n",
    "kfold = StratifiedKFold(n_splits=5, random_state=0, shuffle=True)\n",
    "cv_results = cross_val_score(xgb, X_train, Y_train, cv=kfold, scoring=\"f1\")\n",
    "\n",
    "xgb.fit(X_train, Y_train)\n",
    "print(\"Minimum:\", cv_results.min())\n",
    "print(\"Maximum:\", cv_results.max())\n",
    "print(\"StanDev:\", cv_results.std())"
   ]
  },
  {
   "cell_type": "code",
   "execution_count": 40,
   "id": "19a1af29",
   "metadata": {
    "ExecuteTime": {
     "end_time": "2022-08-28T18:49:27.041993Z",
     "start_time": "2022-08-28T18:49:26.009874Z"
    },
    "pycharm": {
     "name": "#%%\n"
    }
   },
   "outputs": [
    {
     "name": "stdout",
     "output_type": "stream",
     "text": [
      "XGBoost Classification Report=\n",
      "\n",
      "               precision    recall  f1-score   support\n",
      "\n",
      "           0       1.00      1.00      1.00    704357\n",
      "           1       0.90      0.68      0.78       499\n",
      "\n",
      "    accuracy                           1.00    704856\n",
      "   macro avg       0.95      0.84      0.89    704856\n",
      "weighted avg       1.00      1.00      1.00    704856\n",
      "\n",
      "XGBoost Confusion Matrix=\n",
      "\n",
      " [[704320     37]\n",
      " [   158    341]]\n",
      "AUPRC: 0.8689991047437784\n"
     ]
    }
   ],
   "source": [
    "pred_xgb = xgb.predict(X_test)\n",
    "print(\"XGBoost Classification Report=\\n\\n\", classification_report(Y_test, pred_xgb))\n",
    "print(\"XGBoost Confusion Matrix=\\n\\n\", confusion_matrix(Y_test, pred_xgb))\n",
    "pred_proba_xgb = xgb.predict_proba(X_test)[:, 1]\n",
    "print(\"AUPRC:\", metrics.average_precision_score(y_true=Y_test, y_score=pred_proba_xgb))"
   ]
  },
  {
   "cell_type": "code",
   "execution_count": null,
   "id": "ae663ad0",
   "metadata": {
    "ExecuteTime": {
     "end_time": "2022-08-24T16:50:04.207596Z",
     "start_time": "2022-08-24T16:50:04.207596Z"
    },
    "pycharm": {
     "name": "#%%\n"
    }
   },
   "outputs": [],
   "source": [
    "train_merged.to_csv('train_features.csv')\n",
    "test_merged.to_csv('test_features.csv')"
   ]
  },
  {
   "cell_type": "code",
   "execution_count": null,
   "id": "b98e5e12",
   "metadata": {
    "pycharm": {
     "name": "#%%\n"
    }
   },
   "outputs": [],
   "source": []
  }
 ],
 "metadata": {
  "finalized": {
   "timestamp": 1661272370096,
   "trusted": true
  },
  "kernelspec": {
   "display_name": "Python 3 (ipykernel)",
   "language": "python",
   "name": "python3"
  },
  "language_info": {
   "codemirror_mode": {
    "name": "ipython",
    "version": 3
   },
   "file_extension": ".py",
   "mimetype": "text/x-python",
   "name": "python",
   "nbconvert_exporter": "python",
   "pygments_lexer": "ipython3",
   "version": "3.9.13"
  },
  "require": {
   "paths": {
    "buttons.colvis": "https://cdn.datatables.net/buttons/1.5.6/js/buttons.colVis.min",
    "buttons.flash": "https://cdn.datatables.net/buttons/1.5.6/js/buttons.flash.min",
    "buttons.html5": "https://cdn.datatables.net/buttons/1.5.6/js/buttons.html5.min",
    "buttons.print": "https://cdn.datatables.net/buttons/1.5.6/js/buttons.print.min",
    "chartjs": "https://cdnjs.cloudflare.com/ajax/libs/Chart.js/2.8.0/Chart",
    "d3": "https://d3js.org/d3.v5.min",
    "d3-array": "https://d3js.org/d3-array.v2.min",
    "datatables.net": "https://cdn.datatables.net/1.10.18/js/jquery.dataTables",
    "datatables.net-buttons": "https://cdn.datatables.net/buttons/1.5.6/js/dataTables.buttons.min",
    "datatables.responsive": "https://cdn.datatables.net/responsive/2.2.2/js/dataTables.responsive.min",
    "datatables.scroller": "https://cdn.datatables.net/scroller/2.0.0/js/dataTables.scroller.min",
    "datatables.select": "https://cdn.datatables.net/select/1.3.0/js/dataTables.select.min",
    "jszip": "https://cdnjs.cloudflare.com/ajax/libs/jszip/2.5.0/jszip.min",
    "moment": "https://cdnjs.cloudflare.com/ajax/libs/moment.js/2.8.0/moment",
    "pdfmake": "https://cdnjs.cloudflare.com/ajax/libs/pdfmake/0.1.36/pdfmake.min",
    "vfsfonts": "https://cdnjs.cloudflare.com/ajax/libs/pdfmake/0.1.36/vfs_fonts"
   },
   "shim": {
    "buttons.colvis": {
     "deps": [
      "jszip",
      "datatables.net-buttons"
     ]
    },
    "buttons.flash": {
     "deps": [
      "jszip",
      "datatables.net-buttons"
     ]
    },
    "buttons.html5": {
     "deps": [
      "jszip",
      "datatables.net-buttons"
     ]
    },
    "buttons.print": {
     "deps": [
      "jszip",
      "datatables.net-buttons"
     ]
    },
    "chartjs": {
     "deps": [
      "moment"
     ]
    },
    "datatables.net": {
     "exports": "$.fn.dataTable"
    },
    "datatables.net-buttons": {
     "deps": [
      "datatables.net"
     ]
    },
    "pdfmake": {
     "deps": [
      "datatables.net"
     ]
    },
    "vfsfonts": {
     "deps": [
      "datatables.net"
     ]
    }
   }
  },
  "toc": {
   "base_numbering": 1,
   "nav_menu": {},
   "number_sections": true,
   "sideBar": true,
   "skip_h1_title": false,
   "title_cell": "Table of Contents",
   "title_sidebar": "Contents",
   "toc_cell": false,
   "toc_position": {
    "height": "calc(100% - 180px)",
    "left": "10px",
    "top": "150px",
    "width": "275px"
   },
   "toc_section_display": true,
   "toc_window_display": true
  },
  "varInspector": {
   "cols": {
    "lenName": 16,
    "lenType": 16,
    "lenVar": 40
   },
   "kernels_config": {
    "python": {
     "delete_cmd_postfix": "",
     "delete_cmd_prefix": "del ",
     "library": "var_list.py",
     "varRefreshCmd": "print(var_dic_list())"
    },
    "r": {
     "delete_cmd_postfix": ") ",
     "delete_cmd_prefix": "rm(",
     "library": "var_list.r",
     "varRefreshCmd": "cat(var_dic_list()) "
    }
   },
   "types_to_exclude": [
    "module",
    "function",
    "builtin_function_or_method",
    "instance",
    "_Feature"
   ],
   "window_display": false
  }
 },
 "nbformat": 4,
 "nbformat_minor": 5
}

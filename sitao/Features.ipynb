{
 "cells": [
  {
   "cell_type": "code",
   "execution_count": 1,
   "id": "47a4a780",
   "metadata": {
    "ExecuteTime": {
     "end_time": "2022-08-23T13:30:39.508332Z",
     "start_time": "2022-08-23T13:30:39.114831Z"
    }
   },
   "outputs": [],
   "source": [
    "import pandas as pd\n",
    "import utils.data_utils as data_utils\n",
    "from pathlib import Path"
   ]
  },
  {
   "cell_type": "markdown",
   "id": "0e0ed693",
   "metadata": {},
   "source": [
    "## Preparing Data"
   ]
  },
  {
   "cell_type": "code",
   "execution_count": 2,
   "id": "0ddc291b",
   "metadata": {
    "ExecuteTime": {
     "end_time": "2022-08-23T13:31:31.241704Z",
     "start_time": "2022-08-23T13:30:40.997925Z"
    }
   },
   "outputs": [],
   "source": [
    "# laoding data\n",
    "DATA_DIR = Path.cwd().parent / \"data\"\n",
    "train, test = data_utils.load_swift_data(DATA_DIR)\n",
    "bank_data = data_utils.load_bank_data(DATA_DIR)"
   ]
  },
  {
   "cell_type": "code",
   "execution_count": 3,
   "id": "75b99834",
   "metadata": {
    "ExecuteTime": {
     "end_time": "2022-08-23T13:32:00.684517Z",
     "start_time": "2022-08-23T13:31:31.585188Z"
    },
    "require": [
     "base/js/events",
     "datatables.net",
     "d3",
     "chartjs",
     "dt-config",
     "dt-components",
     "dt-graph-objects",
     "dt-toolbar",
     "dt-tooltips",
     "jupyter-datatables"
    ]
   },
   "outputs": [],
   "source": [
    "# Getting merged dataset\n",
    "train_merged = data_utils.merge_swift_bank_data(train, bank_data)\n",
    "test_merged = data_utils.merge_swift_bank_data(test, bank_data)\n",
    "del bank_data\n",
    "del train\n",
    "del test"
   ]
  },
  {
   "cell_type": "code",
   "execution_count": 4,
   "id": "3018141a",
   "metadata": {
    "ExecuteTime": {
     "end_time": "2022-08-23T13:32:28.356410Z",
     "start_time": "2022-08-23T13:32:25.338915Z"
    }
   },
   "outputs": [],
   "source": [
    "# fill missing data for flag as another category '12'\n",
    "train_merged['Flag_ordering'] = train_merged['Flag_ordering'].fillna('12')\n",
    "train_merged['Flag_beneficiary'] = train_merged['Flag_beneficiary'].fillna('12')\n",
    "test_merged['Flag_ordering'] = test_merged['Flag_ordering'].fillna('12')\n",
    "test_merged['Flag_beneficiary'] = test_merged['Flag_beneficiary'].fillna('12')"
   ]
  },
  {
   "cell_type": "code",
   "execution_count": 5,
   "id": "f3cb5167",
   "metadata": {
    "ExecuteTime": {
     "end_time": "2022-08-23T13:32:52.897834Z",
     "start_time": "2022-08-23T13:32:52.869657Z"
    }
   },
   "outputs": [
    {
     "data": {
      "text/plain": [
       "Index(['Timestamp', 'UETR', 'Sender', 'Receiver', 'TransactionReference',\n",
       "       'OrderingAccount', 'OrderingName', 'OrderingStreet',\n",
       "       'OrderingCountryCityZip', 'BeneficiaryAccount', 'BeneficiaryName',\n",
       "       'BeneficiaryStreet', 'BeneficiaryCountryCityZip', 'SettlementDate',\n",
       "       'SettlementCurrency', 'SettlementAmount', 'InstructedCurrency',\n",
       "       'InstructedAmount', 'Label', 'Flag_ordering', 'Flag_beneficiary'],\n",
       "      dtype='object')"
      ]
     },
     "execution_count": 5,
     "metadata": {},
     "output_type": "execute_result"
    }
   ],
   "source": [
    "train_merged.columns"
   ]
  },
  {
   "cell_type": "markdown",
   "id": "21e97a2c",
   "metadata": {
    "ExecuteTime": {
     "end_time": "2022-08-19T13:35:08.277083Z",
     "start_time": "2022-08-19T13:35:08.220584Z"
    }
   },
   "source": [
    "## Features"
   ]
  },
  {
   "cell_type": "code",
   "execution_count": 9,
   "id": "3389acda",
   "metadata": {
    "ExecuteTime": {
     "end_time": "2022-08-23T13:50:25.577365Z",
     "start_time": "2022-08-23T13:50:25.564523Z"
    }
   },
   "outputs": [],
   "source": [
    "# util funcs\n",
    "def generate_feature(train, test, pivot_name, new_feature_name, func, agg_col=None):\n",
    "    if func == 'value_count':\n",
    "        d = train[pivot_name].value_counts()\n",
    "        d.name = new_feature_name\n",
    "        train = train.merge(d, left_on=pivot_name, right_index=True)\n",
    "        test = test.merge(d, left_on=pivot_name, right_index=True)\n",
    "    elif func == 'mean':\n",
    "        d = train.groupby(pivot_name).agg(**{\n",
    "                new_feature_name: pd.NamedAgg(column=agg_col, aggfunc='mean')})\n",
    "        train=train.merge(d, left_on=pivot_name, right_index=True)\n",
    "        test=test.merge(d, left_on=pivot_name, right_index=True)\n",
    "    elif func == 'n_unique':\n",
    "        d=train.groupby(pivot_name).agg(**{\n",
    "                new_feature_name: pd.NamedAgg(column=agg_col, aggfunc=lambda x: len(x.unique()))})\n",
    "        train=train.merge(d, left_on=pivot_name, right_index=True)\n",
    "        test=test.merge(d, left_on=pivot_name, right_index=True)\n",
    "    else:\n",
    "        raise ValueError(\"func is not a valid option.\")\n",
    "\n",
    "\n",
    "    return train, test"
   ]
  },
  {
   "cell_type": "markdown",
   "id": "3a992aa4",
   "metadata": {},
   "source": [
    "### Hops"
   ]
  },
  {
   "cell_type": "code",
   "execution_count": 10,
   "id": "a37d966f",
   "metadata": {
    "ExecuteTime": {
     "end_time": "2022-08-23T13:51:06.167283Z",
     "start_time": "2022-08-23T13:50:52.293183Z"
    }
   },
   "outputs": [],
   "source": [
    "d_train = train_merged['UETR'].value_counts()\n",
    "d_train.name = 'num_hops'\n",
    "d_test = test_merged['UETR'].value_counts()\n",
    "d_test.name = 'num_hops'\n",
    "\n",
    "train_merged = train_merged.merge(d_train, left_on = 'UETR', right_index = True)\n",
    "test_merged = test_merged.merge(d_test, left_on = 'UETR', right_index = True)"
   ]
  },
  {
   "cell_type": "markdown",
   "id": "2e25c0f9",
   "metadata": {},
   "source": [
    "### Bank Network Features\n",
    "\n",
    "- node feature:\n",
    "    - number of transaction assoicate to the node\n",
    "    - number of currecy used and avg amount money transferred per currency for a node\n",
    "    - in and out degree\n",
    "- edge feature:\n",
    "    - number of transaction between two nodes\n",
    "    - number of currency used and avg amount money transferred per currency between two nodes"
   ]
  },
  {
   "cell_type": "markdown",
   "id": "47e63046",
   "metadata": {},
   "source": [
    "#### total number of transactions of sender and receiver bank"
   ]
  },
  {
   "cell_type": "code",
   "execution_count": 11,
   "id": "7387b6c1",
   "metadata": {
    "ExecuteTime": {
     "end_time": "2022-08-23T13:51:40.266052Z",
     "start_time": "2022-08-23T13:51:30.803747Z"
    }
   },
   "outputs": [],
   "source": [
    "# sender freq\n",
    "train_merged, test_merged = generate_feature(\n",
    "    train_merged, test_merged, pivot_name='Sender', new_feature_name=\"Sender_freq\", func = 'value_count')\n",
    "\n",
    "# receiver freq\n",
    "train_merged, test_merged = generate_feature(\n",
    "    train_merged, test_merged, pivot_name='Receiver', new_feature_name=\"Receiver_freq\", func = 'value_count')"
   ]
  },
  {
   "cell_type": "markdown",
   "id": "abfd30e2",
   "metadata": {
    "ExecuteTime": {
     "end_time": "2022-08-23T02:46:57.196990Z",
     "start_time": "2022-08-23T02:46:57.190414Z"
    }
   },
   "source": [
    "#### total number of currecy and avg amount per currecy of sender and receiver bank"
   ]
  },
  {
   "cell_type": "code",
   "execution_count": 12,
   "id": "f7deb808",
   "metadata": {
    "ExecuteTime": {
     "end_time": "2022-08-23T13:57:53.695443Z",
     "start_time": "2022-08-23T13:57:22.663472Z"
    }
   },
   "outputs": [],
   "source": [
    "def generate_currency_feature(train, test, name):\n",
    "    \n",
    "    # currecy freq\n",
    "    train, test = generate_feature(\n",
    "        train, test, pivot_name=name, new_feature_name=name + \"_freq\", func = 'value_count')\n",
    "\n",
    "    # currecy avg amount\n",
    "    train, test = generate_feature(\n",
    "        train, test, pivot_name=name, new_feature_name=name + \"_avg_amount\", func = 'mean', agg_col='InstructedAmount')\n",
    "    \n",
    "    return train, test\n",
    "\n",
    "#######################################################################################################\n",
    "# sender currecy\n",
    "train_merged[\"sender_currency\"] = train_merged[\"Sender\"] + train_merged[\"InstructedCurrency\"]\n",
    "test_merged[\"sender_currency\"] = test_merged[\"Sender\"] + test_merged[\"InstructedCurrency\"]\n",
    "\n",
    "name = 'sender_currency'\n",
    "train_merged, test_merged = generate_currency_feature(train_merged, test_merged, name)\n",
    "\n",
    "\n",
    "#######################################################################################################\n",
    "# receiver currency\n",
    "train_merged[\"receiver_currency\"] = train_merged[\"Receiver\"] + train_merged[\"InstructedCurrency\"]\n",
    "test_merged[\"receiver_currency\"] = test_merged[\"Receiver\"] + test_merged[\"InstructedCurrency\"]\n",
    "\n",
    "name = 'receiver_currency'\n",
    "train_merged, test_merged = generate_currency_feature(train_merged, test_merged, name)"
   ]
  },
  {
   "cell_type": "markdown",
   "id": "c8b66982",
   "metadata": {},
   "source": [
    "#### total number of banks sender and receiver connect to (in and out degree)"
   ]
  },
  {
   "cell_type": "code",
   "execution_count": 14,
   "id": "13636aaf",
   "metadata": {
    "ExecuteTime": {
     "end_time": "2022-08-23T14:06:15.108882Z",
     "start_time": "2022-08-23T14:05:51.225526Z"
    }
   },
   "outputs": [],
   "source": [
    "def generate_in_out_degree(train, test, from_node_name, to_node_name):\n",
    "    \n",
    "    # sender out degree\n",
    "    train, test = generate_feature(\n",
    "        train, test, pivot_name=from_node_name, new_feature_name = from_node_name + \"_out_degree\", \n",
    "        func = 'n_unique', agg_col = to_node_name)\n",
    "\n",
    "    # sender in degree\n",
    "    train, test = generate_feature(\n",
    "        train, test, pivot_name=to_node_name, new_feature_name = from_node_name + \"_in_degree\", \n",
    "        func = 'n_unique', agg_col = from_node_name)\n",
    "\n",
    "    # receiver out degree\n",
    "    train, test = generate_feature(\n",
    "        train, test, pivot_name=from_node_name, new_feature_name = to_node_name + \"_out_degree\", \n",
    "        func = 'n_unique', agg_col = to_node_name)\n",
    "\n",
    "    # receiver in degree\n",
    "    train, test = generate_feature(\n",
    "        train, test, pivot_name=to_node_name, new_feature_name = to_node_name + \"_in_degree\", \n",
    "        func = 'n_unique', agg_col = from_node_name)\n",
    "    \n",
    "    return train, test\n",
    "\n",
    "train_merged, test_merged = generate_in_out_degree(train_merged, test_merged, 'Sender', 'Receiver')"
   ]
  },
  {
   "cell_type": "markdown",
   "id": "56b8a2b1",
   "metadata": {},
   "source": [
    "#### total number of transactions  between sender and receiver bank"
   ]
  },
  {
   "cell_type": "code",
   "execution_count": 15,
   "id": "1b5cefdd",
   "metadata": {
    "ExecuteTime": {
     "end_time": "2022-08-23T14:17:24.014199Z",
     "start_time": "2022-08-23T14:17:08.846349Z"
    }
   },
   "outputs": [],
   "source": [
    "train_merged[\"sender_receiver\"] = train_merged[\"Sender\"] + train_merged[\"Receiver\"]\n",
    "test_merged[\"sender_receiver\"] = test_merged[\"Sender\"] + test_merged[\"Receiver\"]\n",
    "\n",
    "train_merged, test_merged = generate_feature(\n",
    "    train_merged, test_merged, pivot_name='sender_receiver', new_feature_name=\"sender_receiver_freq\", func = 'value_count')"
   ]
  },
  {
   "cell_type": "markdown",
   "id": "6fc3d5dd",
   "metadata": {},
   "source": [
    "#### total number of currecy and avg amount money between sender and receiver bank"
   ]
  },
  {
   "cell_type": "code",
   "execution_count": null,
   "id": "10d8bb4b",
   "metadata": {
    "ExecuteTime": {
     "end_time": "2022-08-23T13:34:29.067281Z",
     "start_time": "2022-08-23T13:34:29.067281Z"
    }
   },
   "outputs": [],
   "source": [
    "# number of currency\n",
    "train_merged[\"sender_receiver_currency\"] = train_merged[\"Sender\"] + train_merged[\"Receiver\"] + train_merged['InstructedCurrency']\n",
    "test_merged[\"sender_receiver_currency\"] = test_merged[\"Sender\"] + test_merged[\"Receiver\"] + train_merged['InstructedCurrency']\n",
    "\n",
    "train_merged, test_merged = generate_feature(\n",
    "    train_merged, test_merged, pivot_name='sender_receiver_currency', \n",
    "    new_feature_name=\"sender_receiver_currency_freq\", func = 'value_count')\n",
    "\n",
    "# avg amount currency\n",
    "train_merged, test_merged = generate_feature(\n",
    "    train_merged, test_merged, pivot_name=\"sender_receiver_currency\", \n",
    "    new_feature_name=\"sender_receiver_currency_avg_amount\", func = \"mean\", agg_col=\"InstructedAmount\")"
   ]
  },
  {
   "cell_type": "markdown",
   "id": "9a28c408",
   "metadata": {},
   "source": [
    "### Acount Network Features"
   ]
  },
  {
   "cell_type": "markdown",
   "id": "b2acf1c7",
   "metadata": {},
   "source": [
    "#### total number of transaction of ordering and beneficary account"
   ]
  },
  {
   "cell_type": "code",
   "execution_count": 17,
   "id": "8222d015",
   "metadata": {
    "ExecuteTime": {
     "end_time": "2022-08-23T14:23:12.982540Z",
     "start_time": "2022-08-23T14:22:41.150015Z"
    }
   },
   "outputs": [],
   "source": [
    "sender = 'OrderingAccount'\n",
    "receiver = 'BeneficiaryAccount'\n",
    "\n",
    "# sender freq\n",
    "train_merged, test_merged = generate_feature(\n",
    "    train_merged, test_merged, pivot_name=sender, new_feature_name=sender + '_freq', func = 'value_count')\n",
    "\n",
    "# receiver freq\n",
    "train_merged, test_merged = generate_feature(\n",
    "    train_merged, test_merged, pivot_name=receiver, new_feature_name=receiver + \"_freq\", func = 'value_count')"
   ]
  },
  {
   "cell_type": "markdown",
   "id": "fce23f87",
   "metadata": {},
   "source": [
    "#### total number of currecy and avg amount money per currecy of ordering and beneficiary account"
   ]
  },
  {
   "cell_type": "code",
   "execution_count": 18,
   "id": "1ff9a387",
   "metadata": {
    "ExecuteTime": {
     "end_time": "2022-08-23T14:25:24.263224Z",
     "start_time": "2022-08-23T14:23:53.848647Z"
    }
   },
   "outputs": [],
   "source": [
    "def generate_currency_feature(train, test, name):\n",
    "    \n",
    "    # currecy freq\n",
    "    train, test = generate_feature(\n",
    "        train, test, pivot_name=name, new_feature_name=name + \"_freq\", func = 'value_count')\n",
    "\n",
    "    # currecy avg amount\n",
    "    train, test = generate_feature(\n",
    "        train, test, pivot_name=name, new_feature_name=name + \"_avg_amount\", func = 'mean', agg_col='InstructedAmount')\n",
    "    \n",
    "    return train, test\n",
    "\n",
    "#######################################################################################################\n",
    "# sender currecy\n",
    "train_merged[\"OrderingAccount_currency\"] = train_merged[\"OrderingAccount\"] + train_merged[\"InstructedCurrency\"]\n",
    "test_merged[\"OrderingAccount_currency\"] = test_merged[\"OrderingAccount\"] + test_merged[\"InstructedCurrency\"]\n",
    "name = 'OrderingAccount_currency'\n",
    "\n",
    "train_merged, test_merged = generate_currency_feature(train_merged, test_merged, name)\n",
    "\n",
    "\n",
    "#######################################################################################################\n",
    "# receiver currency\n",
    "train_merged[\"BeneficiaryAccount_currency\"] = train_merged[\"BeneficiaryAccount\"] + train_merged[\"InstructedCurrency\"]\n",
    "test_merged[\"BeneficiaryAccount_currency\"] = test_merged[\"BeneficiaryAccount\"] + test_merged[\"InstructedCurrency\"]\n",
    "name = 'BeneficiaryAccount_currency'\n",
    "\n",
    "train_merged, test_merged = generate_currency_feature(train_merged, test_merged, name)"
   ]
  },
  {
   "cell_type": "markdown",
   "id": "e09ee15a",
   "metadata": {},
   "source": [
    "#### total number of accounts ordering and beneficiary account connect to (in and out degree)"
   ]
  },
  {
   "cell_type": "code",
   "execution_count": 19,
   "id": "171720e5",
   "metadata": {
    "ExecuteTime": {
     "end_time": "2022-08-23T14:29:21.045911Z",
     "start_time": "2022-08-23T14:26:12.150673Z"
    }
   },
   "outputs": [],
   "source": [
    "train_merged, test_merged = generate_in_out_degree(train_merged, test_merged, 'OrderingAccount', 'BeneficiaryAccount')"
   ]
  },
  {
   "cell_type": "markdown",
   "id": "27f11f24",
   "metadata": {},
   "source": [
    "#### total number of transactions between sender and receiver account"
   ]
  },
  {
   "cell_type": "code",
   "execution_count": 20,
   "id": "fd005784",
   "metadata": {
    "ExecuteTime": {
     "end_time": "2022-08-23T14:30:52.106035Z",
     "start_time": "2022-08-23T14:30:02.745713Z"
    }
   },
   "outputs": [
    {
     "name": "stdout",
     "output_type": "stream",
     "text": [
      "CPU times: total: 47.2 s\n",
      "Wall time: 49.3 s\n"
     ]
    }
   ],
   "source": [
    "%%time\n",
    "sender = 'OrderingAccount'\n",
    "receiver = 'BeneficiaryAccount'\n",
    "sender_receiver = sender + \"_\" + receiver\n",
    "train_merged[sender_receiver] = train_merged[sender] + train_merged[receiver]\n",
    "test_merged[sender_receiver] = test_merged[sender] + test_merged[receiver]\n",
    "\n",
    "train_merged, test_merged = generate_feature(\n",
    "    train_merged, test_merged, pivot_name=sender_receiver, \n",
    "    new_feature_name=sender_receiver + \"_freq\", func = 'value_count')"
   ]
  },
  {
   "cell_type": "markdown",
   "id": "21433eb9",
   "metadata": {},
   "source": [
    "#### total number of currecy and avg amount money between sender and receiver bank"
   ]
  },
  {
   "cell_type": "code",
   "execution_count": 21,
   "id": "290958cb",
   "metadata": {
    "ExecuteTime": {
     "end_time": "2022-08-23T14:33:06.051596Z",
     "start_time": "2022-08-23T14:31:29.352920Z"
    }
   },
   "outputs": [
    {
     "name": "stdout",
     "output_type": "stream",
     "text": [
      "CPU times: total: 1min 21s\n",
      "Wall time: 1min 36s\n"
     ]
    }
   ],
   "source": [
    "%%time\n",
    "# number of currency\n",
    "sender = 'OrderingAccount'\n",
    "receiver = 'BeneficiaryAccount'\n",
    "sender_receiver_currency = sender + \"_\" + receiver + \"_currency\"\n",
    "train_merged[sender_receiver_currency] = train_merged[sender] + train_merged[receiver] + train_merged['InstructedCurrency']\n",
    "test_merged[sender_receiver_currency] = test_merged[sender] + test_merged[receiver] + train_merged['InstructedCurrency']\n",
    "\n",
    "train_merged, test_merged = generate_feature(\n",
    "    train_merged, test_merged, pivot_name=sender_receiver_currency, \n",
    "    new_feature_name=sender_receiver_currency + \"_freq\", func = 'value_count')\n",
    "\n",
    "# avg amount currency\n",
    "train_merged, test_merged = generate_feature(\n",
    "    train_merged, test_merged, pivot_name=sender_receiver_currency, \n",
    "    new_feature_name=sender_receiver_currency + \"_avg_amount\", func = \"mean\", agg_col=\"InstructedAmount\")"
   ]
  },
  {
   "cell_type": "markdown",
   "id": "b164a8f9",
   "metadata": {},
   "source": [
    "### Account and Bank network features over time feature (hout, day, week)"
   ]
  },
  {
   "cell_type": "code",
   "execution_count": 26,
   "id": "0c535e95",
   "metadata": {
    "ExecuteTime": {
     "end_time": "2022-08-23T14:40:18.136343Z",
     "start_time": "2022-08-23T14:40:07.214075Z"
    }
   },
   "outputs": [],
   "source": [
    "# get hour day week from timestamp\n",
    "train_merged[\"hour\"] = train_merged[\"Timestamp\"].dt.hour.astype(str)\n",
    "test_merged[\"hour\"] = test_merged[\"Timestamp\"].dt.hour.astype(str)\n",
    "train_merged[\"day\"] = train_merged[\"Timestamp\"].dt.day.astype(str)\n",
    "test_merged[\"day\"] = test_merged[\"Timestamp\"].dt.day.astype(str)\n",
    "train_merged[\"week\"] = train_merged[\"Timestamp\"].dt.isocalendar().week.astype(str)\n",
    "test_merged[\"week\"] = test_merged[\"Timestamp\"].dt.isocalendar().week.astype(str)"
   ]
  },
  {
   "cell_type": "code",
   "execution_count": 23,
   "id": "eeff3147",
   "metadata": {
    "ExecuteTime": {
     "end_time": "2022-08-23T14:34:37.108485Z",
     "start_time": "2022-08-23T14:34:37.082203Z"
    }
   },
   "outputs": [],
   "source": [
    "def generate_features_based_on_time(train, test, from_node_name, to_node_name, time_col):\n",
    "    \n",
    "    ##############################################################################################\n",
    "    # construct feature\n",
    "    from_ = from_node_name + \"_\" + time_col\n",
    "    to_ = to_node_name + \"_\" + time_col\n",
    "    train[from_] = train[from_node_name] + train[time_col]\n",
    "    test[from_] = test[from_node_name] + test[time_col]\n",
    "    \n",
    "    train[to_] = train[to_node_name] + train[time_col]\n",
    "    test[to_] = test[to_node_name] + test[time_col]\n",
    "    \n",
    "    ##############################################################################################\n",
    "    # total number of transactions\n",
    "    # sender freq\n",
    "    train, test = generate_feature(\n",
    "        train, test, pivot_name=from_, new_feature_name=from_ + '_freq', func = 'value_count')\n",
    "\n",
    "    # receiver freq\n",
    "    train, test = generate_feature(\n",
    "        train, test, pivot_name=to_, new_feature_name=to_ + \"_freq\", func = 'value_count')\n",
    "    \n",
    "    \n",
    "    ################################################################################################\n",
    "    # currency and amount\n",
    "    # sender\n",
    "    feature_name = from_node_name + \"_currency_\" + time_col\n",
    "    train[feature_name] = train[from_node_name] + train[\"InstructedCurrency\"] + train[time_col]\n",
    "    test[feature_name] = test[from_node_name] + test[\"InstructedCurrency\"] + test[time_col]\n",
    "    \n",
    "    train, test = generate_currency_feature(train, test, feature_name)\n",
    "    \n",
    "    train = train.drop([feature_name], axis = 1)\n",
    "    test = test.drop([feature_name], axis = 1)\n",
    "    \n",
    "    # receiver\n",
    "    feature_name = to_node_name + \"_currency_\" + time_col\n",
    "    train[feature_name] = train[to_node_name] + train[\"InstructedCurrency\"] + train[time_col]\n",
    "    test[feature_name] = test[to_node_name] + test[\"InstructedCurrency\"] + test[time_col]\n",
    "    train, test = generate_currency_feature(train, test, feature_name)\n",
    "    \n",
    "    train = train.drop([feature_name], axis = 1)\n",
    "    test = test.drop([feature_name], axis = 1)\n",
    "    \n",
    "    ################################################################################################\n",
    "    # in and out degree\n",
    "    train, test = generate_in_out_degree(train, test, from_, to_)\n",
    "    \n",
    "    ###############################################################################################\n",
    "    # edge - number transaction\n",
    "    train[from_ + \"_\" + to_] = train[from_] + train[to_]\n",
    "    test[from_ + \"_\" + to_] = test[from_] + test[to_]\n",
    "    \n",
    "    train, test = generate_feature( train, test, \n",
    "               pivot_name=from_ + \"_\" + to_, new_feature_name=from_ + \"_\" + to_ + \"_freq\", func = 'value_count')\n",
    "    \n",
    "    train =train.drop([from_ + \"_\" + to_],axis = 1)\n",
    "    test = test.drop([from_ + \"_\" + to_], axis = 1)\n",
    "    \n",
    "    ##############################################################################################\n",
    "    # edge - currency and amount\n",
    "    # number of currency\n",
    "    train[from_ + \"_\" + to_ + \"_currency\"] = train[from_] + train[to_] + train['InstructedCurrency']\n",
    "    test[from_ + \"_\" + to_ + \"_currency\"] = test[from_] + test[to_] + train['InstructedCurrency']\n",
    "\n",
    "    train, test = generate_feature(\n",
    "        train, test, pivot_name=from_ + \"_\" + to_ + \"_currency\", \n",
    "        new_feature_name=from_ + \"_\" + to_ + \"_currency_freq\", func = 'value_count')\n",
    "\n",
    "    # avg amount currency\n",
    "    train, test = generate_feature(\n",
    "        train, test, pivot_name=from_ + \"_\" + to_ + \"_currency\", \n",
    "        new_feature_name=from_ + \"_\" + to_ + \"_currency_avg_amount\", func = \"mean\", agg_col=\"InstructedAmount\")\n",
    "    \n",
    "    train = train.drop([from_ + \"_\" + to_ + \"_currency\"], axis = 1)\n",
    "    test = test.drop([from_ + \"_\" + to_ + \"_currency\"], axis = 1)\n",
    "\n",
    "    \n",
    "    ###############################################################################################\n",
    "    # drop columns\n",
    "    train = train.drop([from_, to_], axis = 1)\n",
    "    test = test.drop([from_, to_], axis = 1)\n",
    "    \n",
    "    \n",
    "    return train, test"
   ]
  },
  {
   "cell_type": "markdown",
   "id": "45c3ecd5",
   "metadata": {},
   "source": [
    "#### Fine-grained by hour of day 1 - 24"
   ]
  },
  {
   "cell_type": "code",
   "execution_count": null,
   "id": "030761ce",
   "metadata": {
    "ExecuteTime": {
     "start_time": "2022-08-23T14:40:24.920Z"
    }
   },
   "outputs": [],
   "source": [
    "%%time\n",
    "# bank\n",
    "train_merged, test_merged = generate_features_based_on_time(train_merged, test_merged, 'Sender', 'Receiver', 'hour')"
   ]
  },
  {
   "cell_type": "markdown",
   "id": "8fa11dd4",
   "metadata": {},
   "source": [
    "#### Fine-grained by day of month 1 - 31"
   ]
  },
  {
   "cell_type": "markdown",
   "id": "08be6e7e",
   "metadata": {},
   "source": []
  }
 ],
 "metadata": {
  "kernelspec": {
   "display_name": "Python 3 (ipykernel)",
   "language": "python",
   "name": "python3"
  },
  "language_info": {
   "codemirror_mode": {
    "name": "ipython",
    "version": 3
   },
   "file_extension": ".py",
   "mimetype": "text/x-python",
   "name": "python",
   "nbconvert_exporter": "python",
   "pygments_lexer": "ipython3",
   "version": "3.9.13"
  },
  "require": {
   "paths": {
    "buttons.colvis": "https://cdn.datatables.net/buttons/1.5.6/js/buttons.colVis.min",
    "buttons.flash": "https://cdn.datatables.net/buttons/1.5.6/js/buttons.flash.min",
    "buttons.html5": "https://cdn.datatables.net/buttons/1.5.6/js/buttons.html5.min",
    "buttons.print": "https://cdn.datatables.net/buttons/1.5.6/js/buttons.print.min",
    "chartjs": "https://cdnjs.cloudflare.com/ajax/libs/Chart.js/2.8.0/Chart",
    "d3": "https://d3js.org/d3.v5.min",
    "d3-array": "https://d3js.org/d3-array.v2.min",
    "datatables.net": "https://cdn.datatables.net/1.10.18/js/jquery.dataTables",
    "datatables.net-buttons": "https://cdn.datatables.net/buttons/1.5.6/js/dataTables.buttons.min",
    "datatables.responsive": "https://cdn.datatables.net/responsive/2.2.2/js/dataTables.responsive.min",
    "datatables.scroller": "https://cdn.datatables.net/scroller/2.0.0/js/dataTables.scroller.min",
    "datatables.select": "https://cdn.datatables.net/select/1.3.0/js/dataTables.select.min",
    "jszip": "https://cdnjs.cloudflare.com/ajax/libs/jszip/2.5.0/jszip.min",
    "moment": "https://cdnjs.cloudflare.com/ajax/libs/moment.js/2.8.0/moment",
    "pdfmake": "https://cdnjs.cloudflare.com/ajax/libs/pdfmake/0.1.36/pdfmake.min",
    "vfsfonts": "https://cdnjs.cloudflare.com/ajax/libs/pdfmake/0.1.36/vfs_fonts"
   },
   "shim": {
    "buttons.colvis": {
     "deps": [
      "jszip",
      "datatables.net-buttons"
     ]
    },
    "buttons.flash": {
     "deps": [
      "jszip",
      "datatables.net-buttons"
     ]
    },
    "buttons.html5": {
     "deps": [
      "jszip",
      "datatables.net-buttons"
     ]
    },
    "buttons.print": {
     "deps": [
      "jszip",
      "datatables.net-buttons"
     ]
    },
    "chartjs": {
     "deps": [
      "moment"
     ]
    },
    "datatables.net": {
     "exports": "$.fn.dataTable"
    },
    "datatables.net-buttons": {
     "deps": [
      "datatables.net"
     ]
    },
    "pdfmake": {
     "deps": [
      "datatables.net"
     ]
    },
    "vfsfonts": {
     "deps": [
      "datatables.net"
     ]
    }
   }
  },
  "toc": {
   "base_numbering": 1,
   "nav_menu": {},
   "number_sections": true,
   "sideBar": true,
   "skip_h1_title": false,
   "title_cell": "Table of Contents",
   "title_sidebar": "Contents",
   "toc_cell": false,
   "toc_position": {
    "height": "calc(100% - 180px)",
    "left": "10px",
    "top": "150px",
    "width": "275px"
   },
   "toc_section_display": true,
   "toc_window_display": true
  },
  "varInspector": {
   "cols": {
    "lenName": 16,
    "lenType": 16,
    "lenVar": 40
   },
   "kernels_config": {
    "python": {
     "delete_cmd_postfix": "",
     "delete_cmd_prefix": "del ",
     "library": "var_list.py",
     "varRefreshCmd": "print(var_dic_list())"
    },
    "r": {
     "delete_cmd_postfix": ") ",
     "delete_cmd_prefix": "rm(",
     "library": "var_list.r",
     "varRefreshCmd": "cat(var_dic_list()) "
    }
   },
   "types_to_exclude": [
    "module",
    "function",
    "builtin_function_or_method",
    "instance",
    "_Feature"
   ],
   "window_display": false
  }
 },
 "nbformat": 4,
 "nbformat_minor": 5
}

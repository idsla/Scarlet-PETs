{
 "cells": [
  {
   "cell_type": "code",
   "execution_count": 1,
   "id": "47a4a780",
   "metadata": {
    "ExecuteTime": {
     "end_time": "2022-08-24T16:05:12.237604Z",
     "start_time": "2022-08-24T16:05:11.903130Z"
    }
   },
   "outputs": [],
   "source": [
    "import pandas as pd\n",
    "import utils.data_utils as data_utils\n",
    "from pathlib import Path"
   ]
  },
  {
   "cell_type": "markdown",
   "id": "0e0ed693",
   "metadata": {},
   "source": [
    "## Preparing Data"
   ]
  },
  {
   "cell_type": "code",
   "execution_count": 2,
   "id": "0ddc291b",
   "metadata": {
    "ExecuteTime": {
     "end_time": "2022-08-24T16:06:04.584201Z",
     "start_time": "2022-08-24T16:05:13.372716Z"
    }
   },
   "outputs": [],
   "source": [
    "# laoding data\n",
    "DATA_DIR = Path.cwd().parent / \"data\"\n",
    "train, test = data_utils.load_swift_data(DATA_DIR)\n",
    "bank_data = data_utils.load_bank_data(DATA_DIR)"
   ]
  },
  {
   "cell_type": "code",
   "execution_count": 3,
   "id": "75b99834",
   "metadata": {
    "ExecuteTime": {
     "end_time": "2022-08-24T16:06:33.423115Z",
     "start_time": "2022-08-24T16:06:04.927955Z"
    },
    "require": [
     "base/js/events",
     "datatables.net",
     "d3",
     "chartjs",
     "dt-config",
     "dt-components",
     "dt-graph-objects",
     "dt-toolbar",
     "dt-tooltips",
     "jupyter-datatables"
    ]
   },
   "outputs": [],
   "source": [
    "# Getting merged dataset\n",
    "train_merged = data_utils.merge_swift_bank_data(train, bank_data)\n",
    "test_merged = data_utils.merge_swift_bank_data(test, bank_data)\n",
    "del bank_data\n",
    "del train\n",
    "del test"
   ]
  },
  {
   "cell_type": "code",
   "execution_count": 4,
   "id": "3018141a",
   "metadata": {
    "ExecuteTime": {
     "end_time": "2022-08-24T16:06:57.935723Z",
     "start_time": "2022-08-24T16:06:54.904599Z"
    }
   },
   "outputs": [],
   "source": [
    "# fill missing data for flag as another category '12'\n",
    "train_merged['Flag_ordering'] = train_merged['Flag_ordering'].fillna('12')\n",
    "train_merged['Flag_beneficiary'] = train_merged['Flag_beneficiary'].fillna('12')\n",
    "test_merged['Flag_ordering'] = test_merged['Flag_ordering'].fillna('12')\n",
    "test_merged['Flag_beneficiary'] = test_merged['Flag_beneficiary'].fillna('12')"
   ]
  },
  {
   "cell_type": "code",
   "execution_count": 5,
   "id": "125e3f9c",
   "metadata": {
    "ExecuteTime": {
     "end_time": "2022-08-24T16:07:19.546578Z",
     "start_time": "2022-08-24T16:07:19.527938Z"
    }
   },
   "outputs": [
    {
     "name": "stdout",
     "output_type": "stream",
     "text": [
      "Index(['Timestamp', 'UETR', 'Sender', 'Receiver', 'TransactionReference',\n",
      "       'OrderingAccount', 'OrderingName', 'OrderingStreet',\n",
      "       'OrderingCountryCityZip', 'BeneficiaryAccount', 'BeneficiaryName',\n",
      "       'BeneficiaryStreet', 'BeneficiaryCountryCityZip', 'SettlementDate',\n",
      "       'SettlementCurrency', 'SettlementAmount', 'InstructedCurrency',\n",
      "       'InstructedAmount', 'Label', 'Flag_ordering', 'Flag_beneficiary'],\n",
      "      dtype='object')\n",
      "(4691725, 21)\n",
      "(705108, 21)\n"
     ]
    }
   ],
   "source": [
    "print(train_merged.columns)\n",
    "print(train_merged.shape)\n",
    "print(test_merged.shape)"
   ]
  },
  {
   "cell_type": "markdown",
   "id": "21e97a2c",
   "metadata": {
    "ExecuteTime": {
     "end_time": "2022-08-19T13:35:08.277083Z",
     "start_time": "2022-08-19T13:35:08.220584Z"
    }
   },
   "source": [
    "## Features"
   ]
  },
  {
   "cell_type": "code",
   "execution_count": 10,
   "id": "680b7308",
   "metadata": {
    "ExecuteTime": {
     "end_time": "2022-08-24T16:12:31.178330Z",
     "start_time": "2022-08-24T16:12:31.167345Z"
    }
   },
   "outputs": [],
   "source": [
    "# util funcs\n",
    "def generate_feature(train, test, pivot_name, new_feature_name, func, agg_col=None):\n",
    "    if func == 'value_count':\n",
    "        d = train[pivot_name].value_counts()\n",
    "        d.name = new_feature_name\n",
    "        train = train.merge(d, left_on=pivot_name, right_index=True, how = 'left')\n",
    "        test = test.merge(d, left_on=pivot_name, right_index=True, how = 'left')\n",
    "    elif func == 'mean':\n",
    "        d = train.groupby(pivot_name).agg(**{\n",
    "                new_feature_name: pd.NamedAgg(column=agg_col, aggfunc='mean')})\n",
    "        train=train.merge(d, left_on=pivot_name, right_index=True, how = 'left')\n",
    "        test=test.merge(d, left_on=pivot_name, right_index=True, how = 'left')\n",
    "    elif func == 'n_unique':\n",
    "        d=train.groupby(pivot_name).agg(**{\n",
    "                new_feature_name: pd.NamedAgg(column=agg_col, aggfunc=lambda x: len(x.unique()))})\n",
    "        train=train.merge(d, left_on=pivot_name, right_index=True, how = 'left')\n",
    "        test=test.merge(d, left_on=pivot_name, right_index=True, how = 'left')\n",
    "    else:\n",
    "        raise ValueError(\"func is not a valid option.\")\n",
    "\n",
    "\n",
    "    return train, test"
   ]
  },
  {
   "cell_type": "markdown",
   "id": "3a992aa4",
   "metadata": {},
   "source": [
    "### Hops"
   ]
  },
  {
   "cell_type": "code",
   "execution_count": 7,
   "id": "a37d966f",
   "metadata": {
    "ExecuteTime": {
     "end_time": "2022-08-24T16:08:21.853670Z",
     "start_time": "2022-08-24T16:08:03.290715Z"
    }
   },
   "outputs": [
    {
     "name": "stdout",
     "output_type": "stream",
     "text": [
      "(4691725, 22)\n",
      "(705108, 22)\n"
     ]
    }
   ],
   "source": [
    "d_train = train_merged['UETR'].value_counts()\n",
    "d_train.name = 'num_hops'\n",
    "d_test = test_merged['UETR'].value_counts()\n",
    "d_test.name = 'num_hops'\n",
    "\n",
    "train_merged = train_merged.merge(d_train, left_on = 'UETR', right_index = True)\n",
    "test_merged = test_merged.merge(d_test, left_on = 'UETR', right_index = True)\n",
    "print(train_merged.shape)\n",
    "print(test_merged.shape)"
   ]
  },
  {
   "cell_type": "markdown",
   "id": "05cb64b0",
   "metadata": {},
   "source": [
    "### Bank Network Features\n",
    "\n",
    "- node feature:\n",
    "    - number of transaction assoicate to the node\n",
    "    - number of currecy used and avg amount money transferred per currency for a node\n",
    "    - in and out degree\n",
    "- edge feature:\n",
    "    - number of transaction between two nodes\n",
    "    - number of currency used and avg amount money transferred per currency between two nodes"
   ]
  },
  {
   "cell_type": "markdown",
   "id": "fcba171d",
   "metadata": {},
   "source": [
    "#### total number of transactions of sender and receiver bank"
   ]
  },
  {
   "cell_type": "code",
   "execution_count": 8,
   "id": "17910306",
   "metadata": {
    "ExecuteTime": {
     "end_time": "2022-08-24T16:08:50.056179Z",
     "start_time": "2022-08-24T16:08:44.826614Z"
    }
   },
   "outputs": [
    {
     "name": "stdout",
     "output_type": "stream",
     "text": [
      "(4691725, 24)\n",
      "(705108, 24)\n"
     ]
    }
   ],
   "source": [
    "# sender freq\n",
    "train_merged, test_merged = generate_feature(\n",
    "    train_merged, test_merged, pivot_name='Sender', new_feature_name=\"Sender_freq\", func = 'value_count')\n",
    "\n",
    "# receiver freq\n",
    "train_merged, test_merged = generate_feature(\n",
    "    train_merged, test_merged, pivot_name='Receiver', new_feature_name=\"Receiver_freq\", func = 'value_count')\n",
    "print(train_merged.shape)\n",
    "print(test_merged.shape)"
   ]
  },
  {
   "cell_type": "markdown",
   "id": "dbfb29b9",
   "metadata": {
    "ExecuteTime": {
     "end_time": "2022-08-23T02:46:57.196990Z",
     "start_time": "2022-08-23T02:46:57.190414Z"
    }
   },
   "source": [
    "#### total number of currecy and avg amount per currecy of sender and receiver bank"
   ]
  },
  {
   "cell_type": "code",
   "execution_count": 11,
   "id": "d104cb3a",
   "metadata": {
    "ExecuteTime": {
     "end_time": "2022-08-24T16:13:08.214580Z",
     "start_time": "2022-08-24T16:12:54.214997Z"
    }
   },
   "outputs": [
    {
     "name": "stdout",
     "output_type": "stream",
     "text": [
      "(4691725, 30)\n",
      "(705108, 30)\n"
     ]
    }
   ],
   "source": [
    "def generate_currency_feature(train, test, name):\n",
    "    \n",
    "    # currecy freq\n",
    "    train, test = generate_feature(\n",
    "        train, test, pivot_name=name, new_feature_name=name + \"_freq\", func = 'value_count')\n",
    "\n",
    "    # currecy avg amount\n",
    "    train, test = generate_feature(\n",
    "        train, test, pivot_name=name, new_feature_name=name + \"_avg_amount\", func = 'mean', agg_col='InstructedAmount')\n",
    "    \n",
    "    return train, test\n",
    "\n",
    "#######################################################################################################\n",
    "# sender currecy\n",
    "train_merged[\"sender_currency\"] = train_merged[\"Sender\"] + train_merged[\"InstructedCurrency\"]\n",
    "test_merged[\"sender_currency\"] = test_merged[\"Sender\"] + test_merged[\"InstructedCurrency\"]\n",
    "\n",
    "name = 'sender_currency'\n",
    "train_merged, test_merged = generate_currency_feature(train_merged, test_merged, name)\n",
    "\n",
    "\n",
    "#######################################################################################################\n",
    "# receiver currency\n",
    "train_merged[\"receiver_currency\"] = train_merged[\"Receiver\"] + train_merged[\"InstructedCurrency\"]\n",
    "test_merged[\"receiver_currency\"] = test_merged[\"Receiver\"] + test_merged[\"InstructedCurrency\"]\n",
    "\n",
    "name = 'receiver_currency'\n",
    "train_merged, test_merged = generate_currency_feature(train_merged, test_merged, name)\n",
    "print(train_merged.shape)\n",
    "print(test_merged.shape)"
   ]
  },
  {
   "cell_type": "markdown",
   "id": "a9b4d234",
   "metadata": {},
   "source": [
    "#### total number of banks sender and receiver connect to (in and out degree)"
   ]
  },
  {
   "cell_type": "code",
   "execution_count": 12,
   "id": "ad58b748",
   "metadata": {
    "ExecuteTime": {
     "end_time": "2022-08-24T16:16:14.049697Z",
     "start_time": "2022-08-24T16:15:59.273219Z"
    }
   },
   "outputs": [
    {
     "name": "stdout",
     "output_type": "stream",
     "text": [
      "(4691725, 34)\n",
      "(705108, 34)\n"
     ]
    }
   ],
   "source": [
    "def generate_in_out_degree(train, test, from_node_name, to_node_name):\n",
    "    \n",
    "    # sender out degree\n",
    "    train, test = generate_feature(\n",
    "        train, test, pivot_name=from_node_name, new_feature_name = from_node_name + \"_out_degree\", \n",
    "        func = 'n_unique', agg_col = to_node_name)\n",
    "\n",
    "    # sender in degree\n",
    "    train, test = generate_feature(\n",
    "        train, test, pivot_name=to_node_name, new_feature_name = from_node_name + \"_in_degree\", \n",
    "        func = 'n_unique', agg_col = from_node_name)\n",
    "\n",
    "    # receiver out degree\n",
    "    train, test = generate_feature(\n",
    "        train, test, pivot_name=from_node_name, new_feature_name = to_node_name + \"_out_degree\", \n",
    "        func = 'n_unique', agg_col = to_node_name)\n",
    "\n",
    "    # receiver in degree\n",
    "    train, test = generate_feature(\n",
    "        train, test, pivot_name=to_node_name, new_feature_name = to_node_name + \"_in_degree\", \n",
    "        func = 'n_unique', agg_col = from_node_name)\n",
    "    \n",
    "    return train, test\n",
    "\n",
    "train_merged, test_merged = generate_in_out_degree(train_merged, test_merged, 'Sender', 'Receiver')\n",
    "print(train_merged.shape)\n",
    "print(test_merged.shape)"
   ]
  },
  {
   "cell_type": "markdown",
   "id": "56b8a2b1",
   "metadata": {},
   "source": [
    "#### total number of transactions  between sender and receiver bank"
   ]
  },
  {
   "cell_type": "code",
   "execution_count": 13,
   "id": "75bce3d4",
   "metadata": {
    "ExecuteTime": {
     "end_time": "2022-08-24T16:16:38.334797Z",
     "start_time": "2022-08-24T16:16:34.555319Z"
    }
   },
   "outputs": [
    {
     "name": "stdout",
     "output_type": "stream",
     "text": [
      "(4691725, 36)\n",
      "(705108, 36)\n"
     ]
    }
   ],
   "source": [
    "train_merged[\"sender_receiver\"] = train_merged[\"Sender\"] + train_merged[\"Receiver\"]\n",
    "test_merged[\"sender_receiver\"] = test_merged[\"Sender\"] + test_merged[\"Receiver\"]\n",
    "\n",
    "train_merged, test_merged = generate_feature(\n",
    "    train_merged, test_merged, pivot_name='sender_receiver', new_feature_name=\"sender_receiver_freq\", func = 'value_count')\n",
    "print(train_merged.shape)\n",
    "print(test_merged.shape)"
   ]
  },
  {
   "cell_type": "markdown",
   "id": "c9567f6d",
   "metadata": {},
   "source": [
    "#### total number of currecy and avg amount money between sender and receiver bank"
   ]
  },
  {
   "cell_type": "code",
   "execution_count": 14,
   "id": "10d8bb4b",
   "metadata": {
    "ExecuteTime": {
     "end_time": "2022-08-24T16:17:08.322790Z",
     "start_time": "2022-08-24T16:16:59.614951Z"
    }
   },
   "outputs": [
    {
     "name": "stdout",
     "output_type": "stream",
     "text": [
      "(4691725, 39)\n",
      "(705108, 39)\n"
     ]
    }
   ],
   "source": [
    "# number of currency\n",
    "train_merged[\"sender_receiver_currency\"] = train_merged[\"Sender\"] + train_merged[\"Receiver\"] + train_merged['InstructedCurrency']\n",
    "test_merged[\"sender_receiver_currency\"] = test_merged[\"Sender\"] + test_merged[\"Receiver\"] + test_merged['InstructedCurrency']\n",
    "\n",
    "train_merged, test_merged = generate_feature(\n",
    "    train_merged, test_merged, pivot_name='sender_receiver_currency', \n",
    "    new_feature_name=\"sender_receiver_currency_freq\", func = 'value_count')\n",
    "\n",
    "# avg amount currency\n",
    "train_merged, test_merged = generate_feature(\n",
    "    train_merged, test_merged, pivot_name=\"sender_receiver_currency\", \n",
    "    new_feature_name=\"sender_receiver_currency_avg_amount\", func = \"mean\", agg_col=\"InstructedAmount\")\n",
    "print(train_merged.shape)\n",
    "print(test_merged.shape)"
   ]
  },
  {
   "cell_type": "code",
   "execution_count": 15,
   "id": "083bc98d",
   "metadata": {
    "ExecuteTime": {
     "end_time": "2022-08-24T16:17:29.984667Z",
     "start_time": "2022-08-24T16:17:29.979670Z"
    }
   },
   "outputs": [
    {
     "name": "stdout",
     "output_type": "stream",
     "text": [
      "(4691725, 39)\n",
      "(705108, 39)\n"
     ]
    }
   ],
   "source": [
    "print(train_merged.shape)\n",
    "print(test_merged.shape)"
   ]
  },
  {
   "cell_type": "markdown",
   "id": "35c9715f",
   "metadata": {},
   "source": [
    "### Acount Network Features"
   ]
  },
  {
   "cell_type": "markdown",
   "id": "d673da62",
   "metadata": {},
   "source": [
    "#### total number of transaction of ordering and beneficary account"
   ]
  },
  {
   "cell_type": "code",
   "execution_count": 16,
   "id": "a1fafac0",
   "metadata": {
    "ExecuteTime": {
     "end_time": "2022-08-24T16:18:04.767795Z",
     "start_time": "2022-08-24T16:17:51.413558Z"
    }
   },
   "outputs": [
    {
     "name": "stdout",
     "output_type": "stream",
     "text": [
      "(4691725, 41)\n",
      "(705108, 41)\n"
     ]
    }
   ],
   "source": [
    "sender = 'OrderingAccount'\n",
    "receiver = 'BeneficiaryAccount'\n",
    "\n",
    "# sender freq\n",
    "train_merged, test_merged = generate_feature(\n",
    "    train_merged, test_merged, pivot_name=sender, new_feature_name=sender + '_freq', func = 'value_count')\n",
    "\n",
    "# receiver freq\n",
    "train_merged, test_merged = generate_feature(\n",
    "    train_merged, test_merged, pivot_name=receiver, new_feature_name=receiver + \"_freq\", func = 'value_count')\n",
    "print(train_merged.shape)\n",
    "print(test_merged.shape)"
   ]
  },
  {
   "cell_type": "markdown",
   "id": "b6bb538f",
   "metadata": {},
   "source": [
    "#### total number of currecy and avg amount money per currecy of ordering and beneficiary account"
   ]
  },
  {
   "cell_type": "code",
   "execution_count": 17,
   "id": "225864c8",
   "metadata": {
    "ExecuteTime": {
     "end_time": "2022-08-24T16:19:10.747053Z",
     "start_time": "2022-08-24T16:18:26.636775Z"
    }
   },
   "outputs": [
    {
     "name": "stdout",
     "output_type": "stream",
     "text": [
      "(4691725, 47)\n",
      "(705108, 47)\n"
     ]
    }
   ],
   "source": [
    "def generate_currency_feature(train, test, name):\n",
    "    \n",
    "    # currecy freq\n",
    "    train, test = generate_feature(\n",
    "        train, test, pivot_name=name, new_feature_name=name + \"_freq\", func = 'value_count')\n",
    "\n",
    "    # currecy avg amount\n",
    "    train, test = generate_feature(\n",
    "        train, test, pivot_name=name, new_feature_name=name + \"_avg_amount\", func = 'mean', agg_col='InstructedAmount')\n",
    "    \n",
    "    return train, test\n",
    "\n",
    "#######################################################################################################\n",
    "# sender currecy\n",
    "train_merged[\"OrderingAccount_currency\"] = train_merged[\"OrderingAccount\"] + train_merged[\"InstructedCurrency\"]\n",
    "test_merged[\"OrderingAccount_currency\"] = test_merged[\"OrderingAccount\"] + test_merged[\"InstructedCurrency\"]\n",
    "name = 'OrderingAccount_currency'\n",
    "\n",
    "train_merged, test_merged = generate_currency_feature(train_merged, test_merged, name)\n",
    "\n",
    "\n",
    "#######################################################################################################\n",
    "# receiver currency\n",
    "train_merged[\"BeneficiaryAccount_currency\"] = train_merged[\"BeneficiaryAccount\"] + train_merged[\"InstructedCurrency\"]\n",
    "test_merged[\"BeneficiaryAccount_currency\"] = test_merged[\"BeneficiaryAccount\"] + test_merged[\"InstructedCurrency\"]\n",
    "name = 'BeneficiaryAccount_currency'\n",
    "\n",
    "train_merged, test_merged = generate_currency_feature(train_merged, test_merged, name)\n",
    "print(train_merged.shape)\n",
    "print(test_merged.shape)"
   ]
  },
  {
   "cell_type": "markdown",
   "id": "e43ce435",
   "metadata": {},
   "source": [
    "#### total number of accounts ordering and beneficiary account connect to (in and out degree)"
   ]
  },
  {
   "cell_type": "code",
   "execution_count": 18,
   "id": "bdc42dc4",
   "metadata": {
    "ExecuteTime": {
     "end_time": "2022-08-24T16:22:04.944268Z",
     "start_time": "2022-08-24T16:19:31.971012Z"
    }
   },
   "outputs": [
    {
     "name": "stdout",
     "output_type": "stream",
     "text": [
      "(4691725, 51)\n",
      "(705108, 51)\n"
     ]
    }
   ],
   "source": [
    "train_merged, test_merged = generate_in_out_degree(train_merged, test_merged, 'OrderingAccount', 'BeneficiaryAccount')\n",
    "print(train_merged.shape)\n",
    "print(test_merged.shape)"
   ]
  },
  {
   "cell_type": "markdown",
   "id": "c6514891",
   "metadata": {},
   "source": [
    "#### total number of transactions between sender and receiver account"
   ]
  },
  {
   "cell_type": "code",
   "execution_count": 19,
   "id": "1ea6532e",
   "metadata": {
    "ExecuteTime": {
     "end_time": "2022-08-24T16:22:32.035686Z",
     "start_time": "2022-08-24T16:22:14.653279Z"
    }
   },
   "outputs": [
    {
     "name": "stdout",
     "output_type": "stream",
     "text": [
      "(4691725, 53)\n",
      "(705108, 53)\n",
      "CPU times: total: 17 s\n",
      "Wall time: 17.4 s\n"
     ]
    }
   ],
   "source": [
    "%%time\n",
    "sender = 'OrderingAccount'\n",
    "receiver = 'BeneficiaryAccount'\n",
    "sender_receiver = sender + \"_\" + receiver\n",
    "train_merged[sender_receiver] = train_merged[sender] + train_merged[receiver]\n",
    "test_merged[sender_receiver] = test_merged[sender] + test_merged[receiver]\n",
    "\n",
    "train_merged, test_merged = generate_feature(\n",
    "    train_merged, test_merged, pivot_name=sender_receiver, \n",
    "    new_feature_name=sender_receiver + \"_freq\", func = 'value_count')\n",
    "print(train_merged.shape)\n",
    "print(test_merged.shape)"
   ]
  },
  {
   "cell_type": "markdown",
   "id": "600e87bd",
   "metadata": {},
   "source": [
    "#### total number of currecy and avg amount money between sender and receiver bank"
   ]
  },
  {
   "cell_type": "code",
   "execution_count": 20,
   "id": "6975cdf3",
   "metadata": {
    "ExecuteTime": {
     "end_time": "2022-08-24T16:24:15.099026Z",
     "start_time": "2022-08-24T16:22:55.071989Z"
    }
   },
   "outputs": [
    {
     "name": "stdout",
     "output_type": "stream",
     "text": [
      "(4691725, 56)\n",
      "(705108, 56)\n",
      "CPU times: total: 1min 13s\n",
      "Wall time: 1min 19s\n"
     ]
    }
   ],
   "source": [
    "%%time\n",
    "# number of currency\n",
    "sender = 'OrderingAccount'\n",
    "receiver = 'BeneficiaryAccount'\n",
    "sender_receiver_currency = sender + \"_\" + receiver + \"_currency\"\n",
    "train_merged[sender_receiver_currency] = train_merged[sender] + train_merged[receiver] + train_merged['InstructedCurrency']\n",
    "test_merged[sender_receiver_currency] = test_merged[sender] + test_merged[receiver] + test_merged['InstructedCurrency']\n",
    "\n",
    "train_merged, test_merged = generate_feature(\n",
    "    train_merged, test_merged, pivot_name=sender_receiver_currency, \n",
    "    new_feature_name=sender_receiver_currency + \"_freq\", func = 'value_count')\n",
    "\n",
    "# avg amount currency\n",
    "train_merged, test_merged = generate_feature(\n",
    "    train_merged, test_merged, pivot_name=sender_receiver_currency, \n",
    "    new_feature_name=sender_receiver_currency + \"_avg_amount\", func = \"mean\", agg_col=\"InstructedAmount\")\n",
    "print(train_merged.shape)\n",
    "print(test_merged.shape)"
   ]
  },
  {
   "cell_type": "markdown",
   "id": "fa139643",
   "metadata": {},
   "source": [
    "### Account and Bank network features over time feature (hout, day, week)"
   ]
  },
  {
   "cell_type": "code",
   "execution_count": 21,
   "id": "5d739769",
   "metadata": {
    "ExecuteTime": {
     "end_time": "2022-08-24T16:24:49.220799Z",
     "start_time": "2022-08-24T16:24:37.336802Z"
    }
   },
   "outputs": [],
   "source": [
    "# get hour day week from timestamp\n",
    "train_merged[\"hour\"] = train_merged[\"Timestamp\"].dt.hour.astype(str)\n",
    "test_merged[\"hour\"] = test_merged[\"Timestamp\"].dt.hour.astype(str)\n",
    "train_merged[\"day\"] = train_merged[\"Timestamp\"].dt.day.astype(str)\n",
    "test_merged[\"day\"] = test_merged[\"Timestamp\"].dt.day.astype(str)\n",
    "train_merged[\"week\"] = train_merged[\"Timestamp\"].dt.isocalendar().week.astype(str)\n",
    "test_merged[\"week\"] = test_merged[\"Timestamp\"].dt.isocalendar().week.astype(str)"
   ]
  },
  {
   "cell_type": "code",
   "execution_count": 22,
   "id": "d9317c9d",
   "metadata": {
    "ExecuteTime": {
     "end_time": "2022-08-24T16:25:14.093764Z",
     "start_time": "2022-08-24T16:25:14.050774Z"
    }
   },
   "outputs": [],
   "source": [
    "def generate_features_based_on_time(train, test, from_node_name, to_node_name, time_col):\n",
    "    \n",
    "    ##############################################################################################\n",
    "    # construct feature\n",
    "    from_ = from_node_name + \"_\" + time_col\n",
    "    to_ = to_node_name + \"_\" + time_col\n",
    "    train[from_] = train[from_node_name] + train[time_col]\n",
    "    test[from_] = test[from_node_name] + test[time_col]\n",
    "    \n",
    "    train[to_] = train[to_node_name] + train[time_col]\n",
    "    test[to_] = test[to_node_name] + test[time_col]\n",
    "    \n",
    "    ##############################################################################################\n",
    "    # total number of transactions\n",
    "    # sender freq\n",
    "    train, test = generate_feature(\n",
    "        train, test, pivot_name=from_, new_feature_name=from_ + '_freq', func = 'value_count')\n",
    "\n",
    "    # receiver freq\n",
    "    train, test = generate_feature(\n",
    "        train, test, pivot_name=to_, new_feature_name=to_ + \"_freq\", func = 'value_count')\n",
    "    \n",
    "    \n",
    "    ################################################################################################\n",
    "    # currency and amount\n",
    "    # sender\n",
    "    feature_name = from_node_name + \"_currency_\" + time_col\n",
    "    train[feature_name] = train[from_node_name] + train[\"InstructedCurrency\"] + train[time_col]\n",
    "    test[feature_name] = test[from_node_name] + test[\"InstructedCurrency\"] + test[time_col]\n",
    "    \n",
    "    train, test = generate_currency_feature(train, test, feature_name)\n",
    "    \n",
    "    train = train.drop([feature_name], axis = 1)\n",
    "    test = test.drop([feature_name], axis = 1)\n",
    "    \n",
    "    # receiver\n",
    "    feature_name = to_node_name + \"_currency_\" + time_col\n",
    "    train[feature_name] = train[to_node_name] + train[\"InstructedCurrency\"] + train[time_col]\n",
    "    test[feature_name] = test[to_node_name] + test[\"InstructedCurrency\"] + test[time_col]\n",
    "    train, test = generate_currency_feature(train, test, feature_name)\n",
    "    \n",
    "    train = train.drop([feature_name], axis = 1)\n",
    "    test = test.drop([feature_name], axis = 1)\n",
    "    \n",
    "    ################################################################################################\n",
    "    # in and out degree\n",
    "    train, test = generate_in_out_degree(train, test, from_, to_)\n",
    "    \n",
    "    ###############################################################################################\n",
    "    # edge - number transaction\n",
    "    train[from_ + \"_\" + to_] = train[from_] + train[to_]\n",
    "    test[from_ + \"_\" + to_] = test[from_] + test[to_]\n",
    "    \n",
    "    train, test = generate_feature( train, test, \n",
    "               pivot_name=from_ + \"_\" + to_, new_feature_name=from_ + \"_\" + to_ + \"_freq\", func = 'value_count')\n",
    "    \n",
    "    train =train.drop([from_ + \"_\" + to_],axis = 1)\n",
    "    test = test.drop([from_ + \"_\" + to_], axis = 1)\n",
    "    \n",
    "    ##############################################################################################\n",
    "    # edge - currency and amount\n",
    "    # number of currency\n",
    "    train[from_ + \"_\" + to_ + \"_currency\"] = train[from_] + train[to_] + train['InstructedCurrency']\n",
    "    test[from_ + \"_\" + to_ + \"_currency\"] = test[from_] + test[to_] + train['InstructedCurrency']\n",
    "\n",
    "    train, test = generate_feature(\n",
    "        train, test, pivot_name=from_ + \"_\" + to_ + \"_currency\", \n",
    "        new_feature_name=from_ + \"_\" + to_ + \"_currency_freq\", func = 'value_count')\n",
    "\n",
    "    # avg amount currency\n",
    "    train, test = generate_feature(\n",
    "        train, test, pivot_name=from_ + \"_\" + to_ + \"_currency\", \n",
    "        new_feature_name=from_ + \"_\" + to_ + \"_currency_avg_amount\", func = \"mean\", agg_col=\"InstructedAmount\")\n",
    "    \n",
    "    train = train.drop([from_ + \"_\" + to_ + \"_currency\"], axis = 1)\n",
    "    test = test.drop([from_ + \"_\" + to_ + \"_currency\"], axis = 1)\n",
    "\n",
    "    \n",
    "    ###############################################################################################\n",
    "    # drop columns\n",
    "    train = train.drop([from_, to_], axis = 1)\n",
    "    test = test.drop([from_, to_], axis = 1)\n",
    "    \n",
    "    \n",
    "    return train, test"
   ]
  },
  {
   "cell_type": "markdown",
   "id": "092e4f86",
   "metadata": {},
   "source": [
    "#### Fine-grained by hour of day 1 - 24"
   ]
  },
  {
   "cell_type": "code",
   "execution_count": 23,
   "id": "284fe21f",
   "metadata": {
    "ExecuteTime": {
     "end_time": "2022-08-24T16:47:26.317492Z",
     "start_time": "2022-08-24T16:25:39.057444Z"
    }
   },
   "outputs": [
    {
     "ename": "KeyboardInterrupt",
     "evalue": "",
     "output_type": "error",
     "traceback": [
      "\u001b[1;31m---------------------------------------------------------------------------\u001b[0m",
      "\u001b[1;31mKeyboardInterrupt\u001b[0m                         Traceback (most recent call last)",
      "File \u001b[1;32m<timed exec>:2\u001b[0m, in \u001b[0;36m<module>\u001b[1;34m\u001b[0m\n",
      "Input \u001b[1;32mIn [22]\u001b[0m, in \u001b[0;36mgenerate_features_based_on_time\u001b[1;34m(train, test, from_node_name, to_node_name, time_col)\u001b[0m\n\u001b[0;32m     63\u001b[0m train[from_ \u001b[38;5;241m+\u001b[39m \u001b[38;5;124m\"\u001b[39m\u001b[38;5;124m_\u001b[39m\u001b[38;5;124m\"\u001b[39m \u001b[38;5;241m+\u001b[39m to_ \u001b[38;5;241m+\u001b[39m \u001b[38;5;124m\"\u001b[39m\u001b[38;5;124m_currency\u001b[39m\u001b[38;5;124m\"\u001b[39m] \u001b[38;5;241m=\u001b[39m train[from_] \u001b[38;5;241m+\u001b[39m train[to_] \u001b[38;5;241m+\u001b[39m train[\u001b[38;5;124m'\u001b[39m\u001b[38;5;124mInstructedCurrency\u001b[39m\u001b[38;5;124m'\u001b[39m]\n\u001b[0;32m     64\u001b[0m test[from_ \u001b[38;5;241m+\u001b[39m \u001b[38;5;124m\"\u001b[39m\u001b[38;5;124m_\u001b[39m\u001b[38;5;124m\"\u001b[39m \u001b[38;5;241m+\u001b[39m to_ \u001b[38;5;241m+\u001b[39m \u001b[38;5;124m\"\u001b[39m\u001b[38;5;124m_currency\u001b[39m\u001b[38;5;124m\"\u001b[39m] \u001b[38;5;241m=\u001b[39m test[from_] \u001b[38;5;241m+\u001b[39m test[to_] \u001b[38;5;241m+\u001b[39m train[\u001b[38;5;124m'\u001b[39m\u001b[38;5;124mInstructedCurrency\u001b[39m\u001b[38;5;124m'\u001b[39m]\n\u001b[1;32m---> 66\u001b[0m train, test \u001b[38;5;241m=\u001b[39m \u001b[43mgenerate_feature\u001b[49m\u001b[43m(\u001b[49m\n\u001b[0;32m     67\u001b[0m \u001b[43m    \u001b[49m\u001b[43mtrain\u001b[49m\u001b[43m,\u001b[49m\u001b[43m \u001b[49m\u001b[43mtest\u001b[49m\u001b[43m,\u001b[49m\u001b[43m \u001b[49m\u001b[43mpivot_name\u001b[49m\u001b[38;5;241;43m=\u001b[39;49m\u001b[43mfrom_\u001b[49m\u001b[43m \u001b[49m\u001b[38;5;241;43m+\u001b[39;49m\u001b[43m \u001b[49m\u001b[38;5;124;43m\"\u001b[39;49m\u001b[38;5;124;43m_\u001b[39;49m\u001b[38;5;124;43m\"\u001b[39;49m\u001b[43m \u001b[49m\u001b[38;5;241;43m+\u001b[39;49m\u001b[43m \u001b[49m\u001b[43mto_\u001b[49m\u001b[43m \u001b[49m\u001b[38;5;241;43m+\u001b[39;49m\u001b[43m \u001b[49m\u001b[38;5;124;43m\"\u001b[39;49m\u001b[38;5;124;43m_currency\u001b[39;49m\u001b[38;5;124;43m\"\u001b[39;49m\u001b[43m,\u001b[49m\u001b[43m \u001b[49m\n\u001b[0;32m     68\u001b[0m \u001b[43m    \u001b[49m\u001b[43mnew_feature_name\u001b[49m\u001b[38;5;241;43m=\u001b[39;49m\u001b[43mfrom_\u001b[49m\u001b[43m \u001b[49m\u001b[38;5;241;43m+\u001b[39;49m\u001b[43m \u001b[49m\u001b[38;5;124;43m\"\u001b[39;49m\u001b[38;5;124;43m_\u001b[39;49m\u001b[38;5;124;43m\"\u001b[39;49m\u001b[43m \u001b[49m\u001b[38;5;241;43m+\u001b[39;49m\u001b[43m \u001b[49m\u001b[43mto_\u001b[49m\u001b[43m \u001b[49m\u001b[38;5;241;43m+\u001b[39;49m\u001b[43m \u001b[49m\u001b[38;5;124;43m\"\u001b[39;49m\u001b[38;5;124;43m_currency_freq\u001b[39;49m\u001b[38;5;124;43m\"\u001b[39;49m\u001b[43m,\u001b[49m\u001b[43m \u001b[49m\u001b[43mfunc\u001b[49m\u001b[43m \u001b[49m\u001b[38;5;241;43m=\u001b[39;49m\u001b[43m \u001b[49m\u001b[38;5;124;43m'\u001b[39;49m\u001b[38;5;124;43mvalue_count\u001b[39;49m\u001b[38;5;124;43m'\u001b[39;49m\u001b[43m)\u001b[49m\n\u001b[0;32m     70\u001b[0m \u001b[38;5;66;03m# avg amount currency\u001b[39;00m\n\u001b[0;32m     71\u001b[0m train, test \u001b[38;5;241m=\u001b[39m generate_feature(\n\u001b[0;32m     72\u001b[0m     train, test, pivot_name\u001b[38;5;241m=\u001b[39mfrom_ \u001b[38;5;241m+\u001b[39m \u001b[38;5;124m\"\u001b[39m\u001b[38;5;124m_\u001b[39m\u001b[38;5;124m\"\u001b[39m \u001b[38;5;241m+\u001b[39m to_ \u001b[38;5;241m+\u001b[39m \u001b[38;5;124m\"\u001b[39m\u001b[38;5;124m_currency\u001b[39m\u001b[38;5;124m\"\u001b[39m, \n\u001b[0;32m     73\u001b[0m     new_feature_name\u001b[38;5;241m=\u001b[39mfrom_ \u001b[38;5;241m+\u001b[39m \u001b[38;5;124m\"\u001b[39m\u001b[38;5;124m_\u001b[39m\u001b[38;5;124m\"\u001b[39m \u001b[38;5;241m+\u001b[39m to_ \u001b[38;5;241m+\u001b[39m \u001b[38;5;124m\"\u001b[39m\u001b[38;5;124m_currency_avg_amount\u001b[39m\u001b[38;5;124m\"\u001b[39m, func \u001b[38;5;241m=\u001b[39m \u001b[38;5;124m\"\u001b[39m\u001b[38;5;124mmean\u001b[39m\u001b[38;5;124m\"\u001b[39m, agg_col\u001b[38;5;241m=\u001b[39m\u001b[38;5;124m\"\u001b[39m\u001b[38;5;124mInstructedAmount\u001b[39m\u001b[38;5;124m\"\u001b[39m)\n",
      "Input \u001b[1;32mIn [10]\u001b[0m, in \u001b[0;36mgenerate_feature\u001b[1;34m(train, test, pivot_name, new_feature_name, func, agg_col)\u001b[0m\n\u001b[0;32m      4\u001b[0m     d \u001b[38;5;241m=\u001b[39m train[pivot_name]\u001b[38;5;241m.\u001b[39mvalue_counts()\n\u001b[0;32m      5\u001b[0m     d\u001b[38;5;241m.\u001b[39mname \u001b[38;5;241m=\u001b[39m new_feature_name\n\u001b[1;32m----> 6\u001b[0m     train \u001b[38;5;241m=\u001b[39m \u001b[43mtrain\u001b[49m\u001b[38;5;241;43m.\u001b[39;49m\u001b[43mmerge\u001b[49m\u001b[43m(\u001b[49m\u001b[43md\u001b[49m\u001b[43m,\u001b[49m\u001b[43m \u001b[49m\u001b[43mleft_on\u001b[49m\u001b[38;5;241;43m=\u001b[39;49m\u001b[43mpivot_name\u001b[49m\u001b[43m,\u001b[49m\u001b[43m \u001b[49m\u001b[43mright_index\u001b[49m\u001b[38;5;241;43m=\u001b[39;49m\u001b[38;5;28;43;01mTrue\u001b[39;49;00m\u001b[43m,\u001b[49m\u001b[43m \u001b[49m\u001b[43mhow\u001b[49m\u001b[43m \u001b[49m\u001b[38;5;241;43m=\u001b[39;49m\u001b[43m \u001b[49m\u001b[38;5;124;43m'\u001b[39;49m\u001b[38;5;124;43mleft\u001b[39;49m\u001b[38;5;124;43m'\u001b[39;49m\u001b[43m)\u001b[49m\n\u001b[0;32m      7\u001b[0m     test \u001b[38;5;241m=\u001b[39m test\u001b[38;5;241m.\u001b[39mmerge(d, left_on\u001b[38;5;241m=\u001b[39mpivot_name, right_index\u001b[38;5;241m=\u001b[39m\u001b[38;5;28;01mTrue\u001b[39;00m, how \u001b[38;5;241m=\u001b[39m \u001b[38;5;124m'\u001b[39m\u001b[38;5;124mleft\u001b[39m\u001b[38;5;124m'\u001b[39m)\n\u001b[0;32m      8\u001b[0m \u001b[38;5;28;01melif\u001b[39;00m func \u001b[38;5;241m==\u001b[39m \u001b[38;5;124m'\u001b[39m\u001b[38;5;124mmean\u001b[39m\u001b[38;5;124m'\u001b[39m:\n",
      "File \u001b[1;32m~\\miniconda3\\lib\\site-packages\\pandas\\core\\frame.py:9345\u001b[0m, in \u001b[0;36mDataFrame.merge\u001b[1;34m(self, right, how, on, left_on, right_on, left_index, right_index, sort, suffixes, copy, indicator, validate)\u001b[0m\n\u001b[0;32m   9326\u001b[0m \u001b[38;5;129m@Substitution\u001b[39m(\u001b[38;5;124m\"\u001b[39m\u001b[38;5;124m\"\u001b[39m)\n\u001b[0;32m   9327\u001b[0m \u001b[38;5;129m@Appender\u001b[39m(_merge_doc, indents\u001b[38;5;241m=\u001b[39m\u001b[38;5;241m2\u001b[39m)\n\u001b[0;32m   9328\u001b[0m \u001b[38;5;28;01mdef\u001b[39;00m \u001b[38;5;21mmerge\u001b[39m(\n\u001b[1;32m   (...)\u001b[0m\n\u001b[0;32m   9341\u001b[0m     validate: \u001b[38;5;28mstr\u001b[39m \u001b[38;5;241m|\u001b[39m \u001b[38;5;28;01mNone\u001b[39;00m \u001b[38;5;241m=\u001b[39m \u001b[38;5;28;01mNone\u001b[39;00m,\n\u001b[0;32m   9342\u001b[0m ) \u001b[38;5;241m-\u001b[39m\u001b[38;5;241m>\u001b[39m DataFrame:\n\u001b[0;32m   9343\u001b[0m     \u001b[38;5;28;01mfrom\u001b[39;00m \u001b[38;5;21;01mpandas\u001b[39;00m\u001b[38;5;21;01m.\u001b[39;00m\u001b[38;5;21;01mcore\u001b[39;00m\u001b[38;5;21;01m.\u001b[39;00m\u001b[38;5;21;01mreshape\u001b[39;00m\u001b[38;5;21;01m.\u001b[39;00m\u001b[38;5;21;01mmerge\u001b[39;00m \u001b[38;5;28;01mimport\u001b[39;00m merge\n\u001b[1;32m-> 9345\u001b[0m     \u001b[38;5;28;01mreturn\u001b[39;00m \u001b[43mmerge\u001b[49m\u001b[43m(\u001b[49m\n\u001b[0;32m   9346\u001b[0m \u001b[43m        \u001b[49m\u001b[38;5;28;43mself\u001b[39;49m\u001b[43m,\u001b[49m\n\u001b[0;32m   9347\u001b[0m \u001b[43m        \u001b[49m\u001b[43mright\u001b[49m\u001b[43m,\u001b[49m\n\u001b[0;32m   9348\u001b[0m \u001b[43m        \u001b[49m\u001b[43mhow\u001b[49m\u001b[38;5;241;43m=\u001b[39;49m\u001b[43mhow\u001b[49m\u001b[43m,\u001b[49m\n\u001b[0;32m   9349\u001b[0m \u001b[43m        \u001b[49m\u001b[43mon\u001b[49m\u001b[38;5;241;43m=\u001b[39;49m\u001b[43mon\u001b[49m\u001b[43m,\u001b[49m\n\u001b[0;32m   9350\u001b[0m \u001b[43m        \u001b[49m\u001b[43mleft_on\u001b[49m\u001b[38;5;241;43m=\u001b[39;49m\u001b[43mleft_on\u001b[49m\u001b[43m,\u001b[49m\n\u001b[0;32m   9351\u001b[0m \u001b[43m        \u001b[49m\u001b[43mright_on\u001b[49m\u001b[38;5;241;43m=\u001b[39;49m\u001b[43mright_on\u001b[49m\u001b[43m,\u001b[49m\n\u001b[0;32m   9352\u001b[0m \u001b[43m        \u001b[49m\u001b[43mleft_index\u001b[49m\u001b[38;5;241;43m=\u001b[39;49m\u001b[43mleft_index\u001b[49m\u001b[43m,\u001b[49m\n\u001b[0;32m   9353\u001b[0m \u001b[43m        \u001b[49m\u001b[43mright_index\u001b[49m\u001b[38;5;241;43m=\u001b[39;49m\u001b[43mright_index\u001b[49m\u001b[43m,\u001b[49m\n\u001b[0;32m   9354\u001b[0m \u001b[43m        \u001b[49m\u001b[43msort\u001b[49m\u001b[38;5;241;43m=\u001b[39;49m\u001b[43msort\u001b[49m\u001b[43m,\u001b[49m\n\u001b[0;32m   9355\u001b[0m \u001b[43m        \u001b[49m\u001b[43msuffixes\u001b[49m\u001b[38;5;241;43m=\u001b[39;49m\u001b[43msuffixes\u001b[49m\u001b[43m,\u001b[49m\n\u001b[0;32m   9356\u001b[0m \u001b[43m        \u001b[49m\u001b[43mcopy\u001b[49m\u001b[38;5;241;43m=\u001b[39;49m\u001b[43mcopy\u001b[49m\u001b[43m,\u001b[49m\n\u001b[0;32m   9357\u001b[0m \u001b[43m        \u001b[49m\u001b[43mindicator\u001b[49m\u001b[38;5;241;43m=\u001b[39;49m\u001b[43mindicator\u001b[49m\u001b[43m,\u001b[49m\n\u001b[0;32m   9358\u001b[0m \u001b[43m        \u001b[49m\u001b[43mvalidate\u001b[49m\u001b[38;5;241;43m=\u001b[39;49m\u001b[43mvalidate\u001b[49m\u001b[43m,\u001b[49m\n\u001b[0;32m   9359\u001b[0m \u001b[43m    \u001b[49m\u001b[43m)\u001b[49m\n",
      "File \u001b[1;32m~\\miniconda3\\lib\\site-packages\\pandas\\core\\reshape\\merge.py:122\u001b[0m, in \u001b[0;36mmerge\u001b[1;34m(left, right, how, on, left_on, right_on, left_index, right_index, sort, suffixes, copy, indicator, validate)\u001b[0m\n\u001b[0;32m     90\u001b[0m \u001b[38;5;129m@Substitution\u001b[39m(\u001b[38;5;124m\"\u001b[39m\u001b[38;5;130;01m\\n\u001b[39;00m\u001b[38;5;124mleft : DataFrame or named Series\u001b[39m\u001b[38;5;124m\"\u001b[39m)\n\u001b[0;32m     91\u001b[0m \u001b[38;5;129m@Appender\u001b[39m(_merge_doc, indents\u001b[38;5;241m=\u001b[39m\u001b[38;5;241m0\u001b[39m)\n\u001b[0;32m     92\u001b[0m \u001b[38;5;28;01mdef\u001b[39;00m \u001b[38;5;21mmerge\u001b[39m(\n\u001b[1;32m   (...)\u001b[0m\n\u001b[0;32m    105\u001b[0m     validate: \u001b[38;5;28mstr\u001b[39m \u001b[38;5;241m|\u001b[39m \u001b[38;5;28;01mNone\u001b[39;00m \u001b[38;5;241m=\u001b[39m \u001b[38;5;28;01mNone\u001b[39;00m,\n\u001b[0;32m    106\u001b[0m ) \u001b[38;5;241m-\u001b[39m\u001b[38;5;241m>\u001b[39m DataFrame:\n\u001b[0;32m    107\u001b[0m     op \u001b[38;5;241m=\u001b[39m _MergeOperation(\n\u001b[0;32m    108\u001b[0m         left,\n\u001b[0;32m    109\u001b[0m         right,\n\u001b[1;32m   (...)\u001b[0m\n\u001b[0;32m    120\u001b[0m         validate\u001b[38;5;241m=\u001b[39mvalidate,\n\u001b[0;32m    121\u001b[0m     )\n\u001b[1;32m--> 122\u001b[0m     \u001b[38;5;28;01mreturn\u001b[39;00m \u001b[43mop\u001b[49m\u001b[38;5;241;43m.\u001b[39;49m\u001b[43mget_result\u001b[49m\u001b[43m(\u001b[49m\u001b[43m)\u001b[49m\n",
      "File \u001b[1;32m~\\miniconda3\\lib\\site-packages\\pandas\\core\\reshape\\merge.py:725\u001b[0m, in \u001b[0;36m_MergeOperation.get_result\u001b[1;34m(self)\u001b[0m\n\u001b[0;32m    722\u001b[0m lindexers \u001b[38;5;241m=\u001b[39m {\u001b[38;5;241m1\u001b[39m: left_indexer} \u001b[38;5;28;01mif\u001b[39;00m left_indexer \u001b[38;5;129;01mis\u001b[39;00m \u001b[38;5;129;01mnot\u001b[39;00m \u001b[38;5;28;01mNone\u001b[39;00m \u001b[38;5;28;01melse\u001b[39;00m {}\n\u001b[0;32m    723\u001b[0m rindexers \u001b[38;5;241m=\u001b[39m {\u001b[38;5;241m1\u001b[39m: right_indexer} \u001b[38;5;28;01mif\u001b[39;00m right_indexer \u001b[38;5;129;01mis\u001b[39;00m \u001b[38;5;129;01mnot\u001b[39;00m \u001b[38;5;28;01mNone\u001b[39;00m \u001b[38;5;28;01melse\u001b[39;00m {}\n\u001b[1;32m--> 725\u001b[0m result_data \u001b[38;5;241m=\u001b[39m \u001b[43mconcatenate_managers\u001b[49m\u001b[43m(\u001b[49m\n\u001b[0;32m    726\u001b[0m \u001b[43m    \u001b[49m\u001b[43m[\u001b[49m\u001b[43m(\u001b[49m\u001b[38;5;28;43mself\u001b[39;49m\u001b[38;5;241;43m.\u001b[39;49m\u001b[43mleft\u001b[49m\u001b[38;5;241;43m.\u001b[39;49m\u001b[43m_mgr\u001b[49m\u001b[43m,\u001b[49m\u001b[43m \u001b[49m\u001b[43mlindexers\u001b[49m\u001b[43m)\u001b[49m\u001b[43m,\u001b[49m\u001b[43m \u001b[49m\u001b[43m(\u001b[49m\u001b[38;5;28;43mself\u001b[39;49m\u001b[38;5;241;43m.\u001b[39;49m\u001b[43mright\u001b[49m\u001b[38;5;241;43m.\u001b[39;49m\u001b[43m_mgr\u001b[49m\u001b[43m,\u001b[49m\u001b[43m \u001b[49m\u001b[43mrindexers\u001b[49m\u001b[43m)\u001b[49m\u001b[43m]\u001b[49m\u001b[43m,\u001b[49m\n\u001b[0;32m    727\u001b[0m \u001b[43m    \u001b[49m\u001b[43maxes\u001b[49m\u001b[38;5;241;43m=\u001b[39;49m\u001b[43m[\u001b[49m\u001b[43mllabels\u001b[49m\u001b[38;5;241;43m.\u001b[39;49m\u001b[43mappend\u001b[49m\u001b[43m(\u001b[49m\u001b[43mrlabels\u001b[49m\u001b[43m)\u001b[49m\u001b[43m,\u001b[49m\u001b[43m \u001b[49m\u001b[43mjoin_index\u001b[49m\u001b[43m]\u001b[49m\u001b[43m,\u001b[49m\n\u001b[0;32m    728\u001b[0m \u001b[43m    \u001b[49m\u001b[43mconcat_axis\u001b[49m\u001b[38;5;241;43m=\u001b[39;49m\u001b[38;5;241;43m0\u001b[39;49m\u001b[43m,\u001b[49m\n\u001b[0;32m    729\u001b[0m \u001b[43m    \u001b[49m\u001b[43mcopy\u001b[49m\u001b[38;5;241;43m=\u001b[39;49m\u001b[38;5;28;43mself\u001b[39;49m\u001b[38;5;241;43m.\u001b[39;49m\u001b[43mcopy\u001b[49m\u001b[43m,\u001b[49m\n\u001b[0;32m    730\u001b[0m \u001b[43m\u001b[49m\u001b[43m)\u001b[49m\n\u001b[0;32m    732\u001b[0m typ \u001b[38;5;241m=\u001b[39m \u001b[38;5;28mself\u001b[39m\u001b[38;5;241m.\u001b[39mleft\u001b[38;5;241m.\u001b[39m_constructor\n\u001b[0;32m    733\u001b[0m result \u001b[38;5;241m=\u001b[39m typ(result_data)\u001b[38;5;241m.\u001b[39m__finalize__(\u001b[38;5;28mself\u001b[39m, method\u001b[38;5;241m=\u001b[39m\u001b[38;5;28mself\u001b[39m\u001b[38;5;241m.\u001b[39m_merge_type)\n",
      "File \u001b[1;32m~\\miniconda3\\lib\\site-packages\\pandas\\core\\internals\\concat.py:202\u001b[0m, in \u001b[0;36mconcatenate_managers\u001b[1;34m(mgrs_indexers, axes, concat_axis, copy)\u001b[0m\n\u001b[0;32m    195\u001b[0m \u001b[38;5;66;03m# Assertions disabled for performance\u001b[39;00m\n\u001b[0;32m    196\u001b[0m \u001b[38;5;66;03m# for tup in mgrs_indexers:\u001b[39;00m\n\u001b[0;32m    197\u001b[0m \u001b[38;5;66;03m#    # caller is responsible for ensuring this\u001b[39;00m\n\u001b[0;32m    198\u001b[0m \u001b[38;5;66;03m#    indexers = tup[1]\u001b[39;00m\n\u001b[0;32m    199\u001b[0m \u001b[38;5;66;03m#    assert concat_axis not in indexers\u001b[39;00m\n\u001b[0;32m    201\u001b[0m \u001b[38;5;28;01mif\u001b[39;00m concat_axis \u001b[38;5;241m==\u001b[39m \u001b[38;5;241m0\u001b[39m:\n\u001b[1;32m--> 202\u001b[0m     \u001b[38;5;28;01mreturn\u001b[39;00m \u001b[43m_concat_managers_axis0\u001b[49m\u001b[43m(\u001b[49m\u001b[43mmgrs_indexers\u001b[49m\u001b[43m,\u001b[49m\u001b[43m \u001b[49m\u001b[43maxes\u001b[49m\u001b[43m,\u001b[49m\u001b[43m \u001b[49m\u001b[43mcopy\u001b[49m\u001b[43m)\u001b[49m\n\u001b[0;32m    204\u001b[0m mgrs_indexers \u001b[38;5;241m=\u001b[39m _maybe_reindex_columns_na_proxy(axes, mgrs_indexers)\n\u001b[0;32m    206\u001b[0m \u001b[38;5;66;03m# Assertion disabled for performance\u001b[39;00m\n\u001b[0;32m    207\u001b[0m \u001b[38;5;66;03m# assert all(not x[1] for x in mgrs_indexers)\u001b[39;00m\n",
      "File \u001b[1;32m~\\miniconda3\\lib\\site-packages\\pandas\\core\\internals\\concat.py:283\u001b[0m, in \u001b[0;36m_concat_managers_axis0\u001b[1;34m(mgrs_indexers, axes, copy)\u001b[0m\n\u001b[0;32m    279\u001b[0m     \u001b[38;5;28;01melse\u001b[39;00m:\n\u001b[0;32m    280\u001b[0m         \u001b[38;5;66;03m# by slicing instead of copy(deep=False), we get a new array\u001b[39;00m\n\u001b[0;32m    281\u001b[0m         \u001b[38;5;66;03m#  object, see test_concat_copy\u001b[39;00m\n\u001b[0;32m    282\u001b[0m         nb \u001b[38;5;241m=\u001b[39m blk\u001b[38;5;241m.\u001b[39mgetitem_block(\u001b[38;5;28mslice\u001b[39m(\u001b[38;5;28;01mNone\u001b[39;00m))\n\u001b[1;32m--> 283\u001b[0m     \u001b[43mnb\u001b[49m\u001b[38;5;241;43m.\u001b[39;49m\u001b[43m_mgr_locs\u001b[49m \u001b[38;5;241m=\u001b[39m nb\u001b[38;5;241m.\u001b[39m_mgr_locs\u001b[38;5;241m.\u001b[39madd(offset)\n\u001b[0;32m    284\u001b[0m     blocks\u001b[38;5;241m.\u001b[39mappend(nb)\n\u001b[0;32m    286\u001b[0m offset \u001b[38;5;241m+\u001b[39m\u001b[38;5;241m=\u001b[39m \u001b[38;5;28mlen\u001b[39m(mgr\u001b[38;5;241m.\u001b[39mitems)\n",
      "\u001b[1;31mKeyboardInterrupt\u001b[0m: "
     ]
    }
   ],
   "source": [
    "%%time\n",
    "# bank\n",
    "train_merged, test_merged = generate_features_based_on_time(train_merged, test_merged, 'Sender', 'Receiver', 'hour')"
   ]
  },
  {
   "cell_type": "markdown",
   "id": "aa7735f5",
   "metadata": {},
   "source": [
    "#### Fine-grained by day of month 1 - 31"
   ]
  },
  {
   "cell_type": "code",
   "execution_count": null,
   "id": "1dc55dbd",
   "metadata": {
    "ExecuteTime": {
     "start_time": "2022-08-24T16:23:05.612Z"
    }
   },
   "outputs": [],
   "source": [
    "train_merged, test_merged = generate_features_based_on_time(train_merged, test_merged, 'Sender', 'Receiver', 'day')"
   ]
  },
  {
   "cell_type": "markdown",
   "id": "d70c0bf0",
   "metadata": {},
   "source": [
    "#### Fine-grained by week of month 1 - 4"
   ]
  },
  {
   "cell_type": "code",
   "execution_count": null,
   "id": "d35d98c6",
   "metadata": {
    "ExecuteTime": {
     "start_time": "2022-08-24T16:23:06.434Z"
    }
   },
   "outputs": [],
   "source": [
    "train_merged, test_merged = generate_features_based_on_time(train_merged, test_merged, 'Sender', 'Receiver', 'week')"
   ]
  },
  {
   "cell_type": "markdown",
   "id": "feb51ecc",
   "metadata": {},
   "source": [
    "## Drop unnecessary columns and save data"
   ]
  },
  {
   "cell_type": "code",
   "execution_count": null,
   "id": "0656c97b",
   "metadata": {
    "ExecuteTime": {
     "start_time": "2022-08-24T16:23:07.290Z"
    }
   },
   "outputs": [],
   "source": [
    "columns_to_drop = [\n",
    "    \"UETR\",\n",
    "    \"Sender\",\n",
    "    \"Receiver\",\n",
    "    \"TransactionReference\",\n",
    "    \"OrderingAccount\",\n",
    "    \"OrderingName\",\n",
    "    \"OrderingStreet\",\n",
    "    \"OrderingCountryCityZip\",\n",
    "    \"BeneficiaryAccount\",\n",
    "    \"BeneficiaryName\",\n",
    "    \"BeneficiaryStreet\",\n",
    "    \"BeneficiaryCountryCityZip\",\n",
    "    \"SettlementDate\",\n",
    "    \"SettlementCurrency\",\n",
    "    \"InstructedCurrency\",\n",
    "    \"Timestamp\",\n",
    "    \"sender_receiver\",\n",
    "    'OrderingAccount_BeneficiaryAccount_currency',\n",
    "    'OrderingAccount_BeneficiaryAccount',\n",
    "    'BeneficiaryAccount_currency',\n",
    "    'OrderingAccount_currency',\n",
    "    'receiver_currency',\n",
    "    'sender_currency',\n",
    "]\n",
    "\n",
    "train_merged = train_merged.drop(columns_to_drop, axis=1)\n",
    "test_merged = test_merged.drop(columns_to_drop, axis=1)"
   ]
  },
  {
   "cell_type": "code",
   "execution_count": null,
   "id": "ae663ad0",
   "metadata": {
    "ExecuteTime": {
     "start_time": "2022-08-24T16:23:07.891Z"
    }
   },
   "outputs": [],
   "source": [
    "train_merged.to_csv('train_features.csv')\n",
    "test_merged.to_csv('test_features.csv')"
   ]
  },
  {
   "cell_type": "code",
   "execution_count": null,
   "id": "22450d1a",
   "metadata": {},
   "outputs": [],
   "source": []
  }
 ],
 "metadata": {
  "finalized": {
   "timestamp": 1661272370096,
   "trusted": true
  },
  "kernelspec": {
   "display_name": "Python 3 (ipykernel)",
   "language": "python",
   "name": "python3"
  },
  "language_info": {
   "codemirror_mode": {
    "name": "ipython",
    "version": 3
   },
   "file_extension": ".py",
   "mimetype": "text/x-python",
   "name": "python",
   "nbconvert_exporter": "python",
   "pygments_lexer": "ipython3",
   "version": "3.9.13"
  },
  "require": {
   "paths": {
    "buttons.colvis": "https://cdn.datatables.net/buttons/1.5.6/js/buttons.colVis.min",
    "buttons.flash": "https://cdn.datatables.net/buttons/1.5.6/js/buttons.flash.min",
    "buttons.html5": "https://cdn.datatables.net/buttons/1.5.6/js/buttons.html5.min",
    "buttons.print": "https://cdn.datatables.net/buttons/1.5.6/js/buttons.print.min",
    "chartjs": "https://cdnjs.cloudflare.com/ajax/libs/Chart.js/2.8.0/Chart",
    "d3": "https://d3js.org/d3.v5.min",
    "d3-array": "https://d3js.org/d3-array.v2.min",
    "datatables.net": "https://cdn.datatables.net/1.10.18/js/jquery.dataTables",
    "datatables.net-buttons": "https://cdn.datatables.net/buttons/1.5.6/js/dataTables.buttons.min",
    "datatables.responsive": "https://cdn.datatables.net/responsive/2.2.2/js/dataTables.responsive.min",
    "datatables.scroller": "https://cdn.datatables.net/scroller/2.0.0/js/dataTables.scroller.min",
    "datatables.select": "https://cdn.datatables.net/select/1.3.0/js/dataTables.select.min",
    "jszip": "https://cdnjs.cloudflare.com/ajax/libs/jszip/2.5.0/jszip.min",
    "moment": "https://cdnjs.cloudflare.com/ajax/libs/moment.js/2.8.0/moment",
    "pdfmake": "https://cdnjs.cloudflare.com/ajax/libs/pdfmake/0.1.36/pdfmake.min",
    "vfsfonts": "https://cdnjs.cloudflare.com/ajax/libs/pdfmake/0.1.36/vfs_fonts"
   },
   "shim": {
    "buttons.colvis": {
     "deps": [
      "jszip",
      "datatables.net-buttons"
     ]
    },
    "buttons.flash": {
     "deps": [
      "jszip",
      "datatables.net-buttons"
     ]
    },
    "buttons.html5": {
     "deps": [
      "jszip",
      "datatables.net-buttons"
     ]
    },
    "buttons.print": {
     "deps": [
      "jszip",
      "datatables.net-buttons"
     ]
    },
    "chartjs": {
     "deps": [
      "moment"
     ]
    },
    "datatables.net": {
     "exports": "$.fn.dataTable"
    },
    "datatables.net-buttons": {
     "deps": [
      "datatables.net"
     ]
    },
    "pdfmake": {
     "deps": [
      "datatables.net"
     ]
    },
    "vfsfonts": {
     "deps": [
      "datatables.net"
     ]
    }
   }
  },
  "toc": {
   "base_numbering": 1,
   "nav_menu": {},
   "number_sections": true,
   "sideBar": true,
   "skip_h1_title": false,
   "title_cell": "Table of Contents",
   "title_sidebar": "Contents",
   "toc_cell": false,
   "toc_position": {
    "height": "calc(100% - 180px)",
    "left": "10px",
    "top": "150px",
    "width": "275px"
   },
   "toc_section_display": true,
   "toc_window_display": true
  },
  "varInspector": {
   "cols": {
    "lenName": 16,
    "lenType": 16,
    "lenVar": 40
   },
   "kernels_config": {
    "python": {
     "delete_cmd_postfix": "",
     "delete_cmd_prefix": "del ",
     "library": "var_list.py",
     "varRefreshCmd": "print(var_dic_list())"
    },
    "r": {
     "delete_cmd_postfix": ") ",
     "delete_cmd_prefix": "rm(",
     "library": "var_list.r",
     "varRefreshCmd": "cat(var_dic_list()) "
    }
   },
   "types_to_exclude": [
    "module",
    "function",
    "builtin_function_or_method",
    "instance",
    "_Feature"
   ],
   "window_display": false
  }
 },
 "nbformat": 4,
 "nbformat_minor": 5
}

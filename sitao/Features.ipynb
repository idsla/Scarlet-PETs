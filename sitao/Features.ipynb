{
 "cells": [
  {
   "cell_type": "code",
   "execution_count": 1,
   "id": "47a4a780",
   "metadata": {
    "ExecuteTime": {
     "end_time": "2022-08-23T02:56:08.140806Z",
     "start_time": "2022-08-23T02:56:07.786323Z"
    }
   },
   "outputs": [],
   "source": [
    "import pandas as pd\n",
    "import utils.data_utils as data_utils\n",
    "from pathlib import Path"
   ]
  },
  {
   "cell_type": "markdown",
   "id": "0e0ed693",
   "metadata": {},
   "source": [
    "## Preparing Data"
   ]
  },
  {
   "cell_type": "code",
   "execution_count": 2,
   "id": "0ddc291b",
   "metadata": {
    "ExecuteTime": {
     "end_time": "2022-08-23T02:56:37.995267Z",
     "start_time": "2022-08-23T02:56:11.412331Z"
    }
   },
   "outputs": [],
   "source": [
    "# laoding data\n",
    "DATA_DIR = Path.cwd().parent / \"data\"\n",
    "train, test = data_utils.load_swift_data(DATA_DIR)\n",
    "bank_data = data_utils.load_bank_data(DATA_DIR)"
   ]
  },
  {
   "cell_type": "code",
   "execution_count": 3,
   "id": "75b99834",
   "metadata": {
    "ExecuteTime": {
     "end_time": "2022-08-23T02:57:03.973249Z",
     "start_time": "2022-08-23T02:56:48.485827Z"
    },
    "require": [
     "base/js/events",
     "datatables.net",
     "d3",
     "chartjs",
     "dt-config",
     "dt-components",
     "dt-graph-objects",
     "dt-toolbar",
     "dt-tooltips",
     "jupyter-datatables"
    ]
   },
   "outputs": [],
   "source": [
    "# Getting merged dataset\n",
    "train_merged = data_utils.merge_swift_bank_data(train, bank_data)\n",
    "test_merged = data_utils.merge_swift_bank_data(test, bank_data)\n",
    "del bank_data\n",
    "del train\n",
    "del test"
   ]
  },
  {
   "cell_type": "code",
   "execution_count": 4,
   "id": "3018141a",
   "metadata": {
    "ExecuteTime": {
     "end_time": "2022-08-23T02:57:13.635632Z",
     "start_time": "2022-08-23T02:57:12.001112Z"
    }
   },
   "outputs": [],
   "source": [
    "# fill missing data for flag as another category '12'\n",
    "train_merged['Flag_ordering'] = train_merged['Flag_ordering'].fillna('12')\n",
    "train_merged['Flag_beneficiary'] = train_merged['Flag_beneficiary'].fillna('12')\n",
    "test_merged['Flag_ordering'] = test_merged['Flag_ordering'].fillna('12')\n",
    "test_merged['Flag_beneficiary'] = test_merged['Flag_beneficiary'].fillna('12')"
   ]
  },
  {
   "cell_type": "code",
   "execution_count": 5,
   "id": "bbd02ce9",
   "metadata": {
    "ExecuteTime": {
     "end_time": "2022-08-23T02:57:21.519151Z",
     "start_time": "2022-08-23T02:57:21.490773Z"
    }
   },
   "outputs": [
    {
     "data": {
      "text/html": [
       "<div>\n",
       "<style scoped>\n",
       "    .dataframe tbody tr th:only-of-type {\n",
       "        vertical-align: middle;\n",
       "    }\n",
       "\n",
       "    .dataframe tbody tr th {\n",
       "        vertical-align: top;\n",
       "    }\n",
       "\n",
       "    .dataframe thead th {\n",
       "        text-align: right;\n",
       "    }\n",
       "</style>\n",
       "<table border=\"1\" class=\"dataframe\">\n",
       "  <thead>\n",
       "    <tr style=\"text-align: right;\">\n",
       "      <th></th>\n",
       "      <th>Timestamp</th>\n",
       "      <th>UETR</th>\n",
       "      <th>Sender</th>\n",
       "      <th>Receiver</th>\n",
       "      <th>TransactionReference</th>\n",
       "      <th>OrderingAccount</th>\n",
       "      <th>OrderingName</th>\n",
       "      <th>OrderingStreet</th>\n",
       "      <th>OrderingCountryCityZip</th>\n",
       "      <th>BeneficiaryAccount</th>\n",
       "      <th>...</th>\n",
       "      <th>BeneficiaryStreet</th>\n",
       "      <th>BeneficiaryCountryCityZip</th>\n",
       "      <th>SettlementDate</th>\n",
       "      <th>SettlementCurrency</th>\n",
       "      <th>SettlementAmount</th>\n",
       "      <th>InstructedCurrency</th>\n",
       "      <th>InstructedAmount</th>\n",
       "      <th>Label</th>\n",
       "      <th>Flag_ordering</th>\n",
       "      <th>Flag_beneficiary</th>\n",
       "    </tr>\n",
       "  </thead>\n",
       "  <tbody>\n",
       "    <tr>\n",
       "      <th>0</th>\n",
       "      <td>2022-01-01</td>\n",
       "      <td>f474fdb3-4675-4fff-ab7e-3469f82bd6a7</td>\n",
       "      <td>DPSUFRPP</td>\n",
       "      <td>ABVVUS6S</td>\n",
       "      <td>PETX22-FXIDA-7054</td>\n",
       "      <td>FR90714755422956984353</td>\n",
       "      <td>PHACELIA HETEROPHYLLA</td>\n",
       "      <td>3| RUE HAMON</td>\n",
       "      <td>FR/42859 SAINTE AURÉLIE</td>\n",
       "      <td>611024064274704358</td>\n",
       "      <td>...</td>\n",
       "      <td>2584 CHARLES PLACE</td>\n",
       "      <td>US/ROJASLAND| DC 58442</td>\n",
       "      <td>220101</td>\n",
       "      <td>USD</td>\n",
       "      <td>1.746319e+09</td>\n",
       "      <td>EUR</td>\n",
       "      <td>1.560189e+09</td>\n",
       "      <td>0</td>\n",
       "      <td>0.0</td>\n",
       "      <td>0.0</td>\n",
       "    </tr>\n",
       "    <tr>\n",
       "      <th>1</th>\n",
       "      <td>2022-01-01</td>\n",
       "      <td>c9158def-dab1-4bfb-a31f-7f51c6679d60</td>\n",
       "      <td>BRRGPTPL</td>\n",
       "      <td>CBLHESMM</td>\n",
       "      <td>PETX22-NO-FX-1736</td>\n",
       "      <td>PT8895792452733129969</td>\n",
       "      <td>GONOLOBUS STEPHANOTRICHUS</td>\n",
       "      <td>AV RITA ALVES| 60</td>\n",
       "      <td>PT/5863-752 CANTANHEDE</td>\n",
       "      <td>ES61897100852916932423</td>\n",
       "      <td>...</td>\n",
       "      <td>ACCESO DE CARMINA ARAGÓN 83 PUERTA 4</td>\n",
       "      <td>ES/ÁVILA| 02281</td>\n",
       "      <td>220101</td>\n",
       "      <td>EUR</td>\n",
       "      <td>4.711420e+06</td>\n",
       "      <td>EUR</td>\n",
       "      <td>4.711420e+06</td>\n",
       "      <td>0</td>\n",
       "      <td>0.0</td>\n",
       "      <td>0.0</td>\n",
       "    </tr>\n",
       "    <tr>\n",
       "      <th>2</th>\n",
       "      <td>2022-01-01</td>\n",
       "      <td>d371ba0a-823f-4243-98ba-94ff18523420</td>\n",
       "      <td>BRRGPTPL</td>\n",
       "      <td>CBLHESMM</td>\n",
       "      <td>PETX22-NO-FX-1687</td>\n",
       "      <td>PT92895792452733126420</td>\n",
       "      <td>LECHEA INTERMEDIA-INTERMEDIA</td>\n",
       "      <td>PRAÇA VALENTE| 85</td>\n",
       "      <td>PT/1100-087 BARCELOS</td>\n",
       "      <td>ES31897100852916935097</td>\n",
       "      <td>...</td>\n",
       "      <td>PASADIZO ANÍBAL LUJÁN 57</td>\n",
       "      <td>ES/SEGOVIA| 40727</td>\n",
       "      <td>220101</td>\n",
       "      <td>EUR</td>\n",
       "      <td>7.528216e+05</td>\n",
       "      <td>EUR</td>\n",
       "      <td>7.528216e+05</td>\n",
       "      <td>0</td>\n",
       "      <td>0.0</td>\n",
       "      <td>0.0</td>\n",
       "    </tr>\n",
       "    <tr>\n",
       "      <th>3</th>\n",
       "      <td>2022-01-01</td>\n",
       "      <td>5a53a257-4dc9-4800-abb2-4cd1d55c8345</td>\n",
       "      <td>DPSUFRPP</td>\n",
       "      <td>ABVVUS6S</td>\n",
       "      <td>DPSU22-FXIYA-517</td>\n",
       "      <td>358727697099645998</td>\n",
       "      <td>SCLERANTHUS</td>\n",
       "      <td>341 4 CHOME 4 BAN 2 GO</td>\n",
       "      <td>JP/FUKUOKA PREFECTURE|ŌKAWA</td>\n",
       "      <td>611024064274698543</td>\n",
       "      <td>...</td>\n",
       "      <td>7864 MORRIS MEWS APT. 464</td>\n",
       "      <td>US/DPO AE 78549</td>\n",
       "      <td>220101</td>\n",
       "      <td>USD</td>\n",
       "      <td>6.371209e+06</td>\n",
       "      <td>JPY</td>\n",
       "      <td>6.490487e+08</td>\n",
       "      <td>0</td>\n",
       "      <td>0.0</td>\n",
       "      <td>0.0</td>\n",
       "    </tr>\n",
       "    <tr>\n",
       "      <th>4</th>\n",
       "      <td>2022-01-01</td>\n",
       "      <td>f27867ac-35e2-46af-8248-0a2d0d9bf00d</td>\n",
       "      <td>DPSUFRPP</td>\n",
       "      <td>ABVVUS6S</td>\n",
       "      <td>PETX22-FXIDA-11878</td>\n",
       "      <td>FR71714755422956985471</td>\n",
       "      <td>SELAGINELLA ASPRELLA</td>\n",
       "      <td>28| BOULEVARD LÉVÊQUE</td>\n",
       "      <td>FR/36357 TURPIN</td>\n",
       "      <td>611024064274707099</td>\n",
       "      <td>...</td>\n",
       "      <td>363 ROBERT GARDENS</td>\n",
       "      <td>US/NEW KAREN| MS 49461</td>\n",
       "      <td>220101</td>\n",
       "      <td>USD</td>\n",
       "      <td>5.179423e+06</td>\n",
       "      <td>EUR</td>\n",
       "      <td>4.627377e+06</td>\n",
       "      <td>0</td>\n",
       "      <td>0.0</td>\n",
       "      <td>0.0</td>\n",
       "    </tr>\n",
       "  </tbody>\n",
       "</table>\n",
       "<p>5 rows × 21 columns</p>\n",
       "</div>"
      ],
      "text/plain": [
       "   Timestamp                                  UETR    Sender  Receiver  \\\n",
       "0 2022-01-01  f474fdb3-4675-4fff-ab7e-3469f82bd6a7  DPSUFRPP  ABVVUS6S   \n",
       "1 2022-01-01  c9158def-dab1-4bfb-a31f-7f51c6679d60  BRRGPTPL  CBLHESMM   \n",
       "2 2022-01-01  d371ba0a-823f-4243-98ba-94ff18523420  BRRGPTPL  CBLHESMM   \n",
       "3 2022-01-01  5a53a257-4dc9-4800-abb2-4cd1d55c8345  DPSUFRPP  ABVVUS6S   \n",
       "4 2022-01-01  f27867ac-35e2-46af-8248-0a2d0d9bf00d  DPSUFRPP  ABVVUS6S   \n",
       "\n",
       "  TransactionReference         OrderingAccount                  OrderingName  \\\n",
       "0    PETX22-FXIDA-7054  FR90714755422956984353         PHACELIA HETEROPHYLLA   \n",
       "1    PETX22-NO-FX-1736   PT8895792452733129969     GONOLOBUS STEPHANOTRICHUS   \n",
       "2    PETX22-NO-FX-1687  PT92895792452733126420  LECHEA INTERMEDIA-INTERMEDIA   \n",
       "3     DPSU22-FXIYA-517      358727697099645998                   SCLERANTHUS   \n",
       "4   PETX22-FXIDA-11878  FR71714755422956985471          SELAGINELLA ASPRELLA   \n",
       "\n",
       "           OrderingStreet       OrderingCountryCityZip  \\\n",
       "0            3| RUE HAMON      FR/42859 SAINTE AURÉLIE   \n",
       "1       AV RITA ALVES| 60       PT/5863-752 CANTANHEDE   \n",
       "2       PRAÇA VALENTE| 85         PT/1100-087 BARCELOS   \n",
       "3  341 4 CHOME 4 BAN 2 GO  JP/FUKUOKA PREFECTURE|ŌKAWA   \n",
       "4   28| BOULEVARD LÉVÊQUE              FR/36357 TURPIN   \n",
       "\n",
       "       BeneficiaryAccount  ...                      BeneficiaryStreet  \\\n",
       "0      611024064274704358  ...                     2584 CHARLES PLACE   \n",
       "1  ES61897100852916932423  ...  ACCESO DE CARMINA ARAGÓN 83 PUERTA 4    \n",
       "2  ES31897100852916935097  ...               PASADIZO ANÍBAL LUJÁN 57   \n",
       "3      611024064274698543  ...              7864 MORRIS MEWS APT. 464   \n",
       "4      611024064274707099  ...                     363 ROBERT GARDENS   \n",
       "\n",
       "  BeneficiaryCountryCityZip SettlementDate  SettlementCurrency  \\\n",
       "0    US/ROJASLAND| DC 58442         220101                 USD   \n",
       "1           ES/ÁVILA| 02281         220101                 EUR   \n",
       "2         ES/SEGOVIA| 40727         220101                 EUR   \n",
       "3           US/DPO AE 78549         220101                 USD   \n",
       "4    US/NEW KAREN| MS 49461         220101                 USD   \n",
       "\n",
       "  SettlementAmount  InstructedCurrency InstructedAmount  Label  Flag_ordering  \\\n",
       "0     1.746319e+09                 EUR     1.560189e+09      0            0.0   \n",
       "1     4.711420e+06                 EUR     4.711420e+06      0            0.0   \n",
       "2     7.528216e+05                 EUR     7.528216e+05      0            0.0   \n",
       "3     6.371209e+06                 JPY     6.490487e+08      0            0.0   \n",
       "4     5.179423e+06                 EUR     4.627377e+06      0            0.0   \n",
       "\n",
       "  Flag_beneficiary  \n",
       "0              0.0  \n",
       "1              0.0  \n",
       "2              0.0  \n",
       "3              0.0  \n",
       "4              0.0  \n",
       "\n",
       "[5 rows x 21 columns]"
      ]
     },
     "execution_count": 5,
     "metadata": {},
     "output_type": "execute_result"
    }
   ],
   "source": [
    "train_merged.head()"
   ]
  },
  {
   "cell_type": "markdown",
   "id": "21e97a2c",
   "metadata": {
    "ExecuteTime": {
     "end_time": "2022-08-19T13:35:08.277083Z",
     "start_time": "2022-08-19T13:35:08.220584Z"
    }
   },
   "source": [
    "## Features"
   ]
  },
  {
   "cell_type": "markdown",
   "id": "3a992aa4",
   "metadata": {},
   "source": [
    "### transaction frequency of sender bank per hour"
   ]
  },
  {
   "cell_type": "code",
   "execution_count": 28,
   "id": "a37d966f",
   "metadata": {
    "ExecuteTime": {
     "end_time": "2022-08-19T13:52:34.111125Z",
     "start_time": "2022-08-19T13:52:22.223243Z"
    }
   },
   "outputs": [
    {
     "name": "stdout",
     "output_type": "stream",
     "text": [
      "CPU times: total: 11.8 s\n",
      "Wall time: 11.9 s\n"
     ]
    }
   ],
   "source": [
    "%%time\n",
    "# Hour\n",
    "train_merged[\"hour\"] = train_merged[\"Timestamp\"].dt.hour\n",
    "test_merged[\"hour\"] = test_merged[\"Timestamp\"].dt.hour\n",
    "\n",
    "# Hour frequency for each sender\n",
    "senders = train_merged[\"Sender\"].unique()\n",
    "train_merged[\"sender_hour\"] = train_merged[\"Sender\"] + train_merged[\"hour\"].astype(str)\n",
    "test_merged[\"sender_hour\"] = test_merged[\"Sender\"] + test_merged[\"hour\"].astype(str)\n",
    "sender_hour_frequency = {}\n",
    "for s in senders:\n",
    "    sender_rows = train_merged[train_merged[\"Sender\"] == s]\n",
    "    for h in range(24):\n",
    "        sender_hour_frequency[s + str(h)] = len(sender_rows[sender_rows[\"hour\"] == h])\n",
    "\n",
    "train_merged[\"sender_hour_freq\"] = train_merged[\"sender_hour\"].map(sender_hour_frequency)\n",
    "test_merged[\"sender_hour_freq\"] = test_merged[\"sender_hour\"].map(sender_hour_frequency)"
   ]
  },
  {
   "cell_type": "markdown",
   "id": "3d19db27",
   "metadata": {},
   "source": [
    "### Bank Network Features\n",
    "\n",
    "- node feature:\n",
    "    - number of transaction assoicate to the node\n",
    "    - number of currecy used and avg amount money transferred per currency for a node\n",
    "    - in and out degree\n",
    "- edge feature:\n",
    "    - number of transaction between two nodes"
   ]
  },
  {
   "cell_type": "markdown",
   "id": "7bd697a9",
   "metadata": {},
   "source": [
    "#### total number of transactions of sender and receiver bank"
   ]
  },
  {
   "cell_type": "code",
   "execution_count": 7,
   "id": "87ee21e4",
   "metadata": {
    "ExecuteTime": {
     "end_time": "2022-08-23T02:57:50.510731Z",
     "start_time": "2022-08-23T02:57:45.396615Z"
    }
   },
   "outputs": [],
   "source": [
    "sender = 'Sender'\n",
    "receiver = 'Receiver'\n",
    "sender_feature_name = sender + '_freq'\n",
    "receiver_feature_name = receiver + \"_freq\"\n",
    "\n",
    "sender_freq = train_merged[sender].value_counts() # count number of transactions of sender\n",
    "sender_freq.name = sender_feature_name  \n",
    "train_merged = train_merged.merge(sender_freq, left_on = sender, right_index = True) # merge to transaction level data\n",
    "test_merged = test_merged.merge(sender_freq, left_on = sender, right_index = True)   \n",
    "\n",
    "receiver_freq = train_merged[receiver].value_counts()\n",
    "receiver_freq.name = receiver_feature_name\n",
    "train_merged = train_merged.merge(receiver_freq, left_on = receiver, right_index = True)\n",
    "test_merged = test_merged.merge(receiver_freq, left_on = receiver, right_index = True)"
   ]
  },
  {
   "cell_type": "markdown",
   "id": "90127e1f",
   "metadata": {
    "ExecuteTime": {
     "end_time": "2022-08-23T02:46:57.196990Z",
     "start_time": "2022-08-23T02:46:57.190414Z"
    }
   },
   "source": [
    "#### total number of currecy and avg amount per currecy of sender and receiver bank"
   ]
  },
  {
   "cell_type": "code",
   "execution_count": 11,
   "id": "de2a5615",
   "metadata": {
    "ExecuteTime": {
     "end_time": "2022-08-23T02:59:24.711592Z",
     "start_time": "2022-08-23T02:59:07.352257Z"
    }
   },
   "outputs": [],
   "source": [
    "# sender currecy\n",
    "train_merged[\"sender_currency\"] = train_merged[\"Sender\"] + train_merged[\"InstructedCurrency\"]\n",
    "test_merged[\"sender_currency\"] = test_merged[\"Sender\"] + test_merged[\"InstructedCurrency\"]\n",
    "sender = 'sender_currency'\n",
    "\n",
    "# currecy freq\n",
    "sender_freq = train_merged[sender].value_counts() # count number of records\n",
    "sender_freq.name = 'sender_currecy_freq'\n",
    "train_merged = train_merged.merge(sender_freq, left_on = sender, right_index = True) # merge to transaction level data\n",
    "test_merged = test_merged.merge(sender_freq, left_on = sender, right_index = True)\n",
    "# currecy avg amount\n",
    "sender_avg_amount = train_merged.groupby(sender).agg(\n",
    "    sender_currecy_avg_amount=pd.NamedAgg(column=\"InstructedAmount\", aggfunc='mean'))\n",
    "train_merged = train_merged.merge(sender_avg_amount, left_on = sender, right_index = True) # merge to transaction level data\n",
    "test_merged = test_merged.merge(sender_avg_amount, left_on = sender, right_index = True)\n",
    "\n",
    "#######################################################################################################\n",
    "# receiver currency\n",
    "train_merged[\"receiver_currency\"] = train_merged[\"Receiver\"] + train_merged[\"InstructedCurrency\"]\n",
    "test_merged[\"receiver_currency\"] = test_merged[\"Receiver\"] + test_merged[\"InstructedCurrency\"]\n",
    "receiver = 'receiver_currency'\n",
    "# currecy freq\n",
    "receiver_freq = train_merged[receiver].value_counts() # count number of records\n",
    "receiver_freq.name = 'receiver_currecy_freq'\n",
    "train_merged = train_merged.merge(receiver_freq, left_on = receiver, right_index = True) # merge to transaction level data\n",
    "test_merged = test_merged.merge(receiver_freq, left_on = receiver, right_index = True)\n",
    "# currecy avg amount\n",
    "receiver_avg_amount = train_merged.groupby(receiver).agg(\n",
    "    receiver_currecy_avg_amount=pd.NamedAgg(column=\"InstructedAmount\", aggfunc='mean'))\n",
    "train_merged = train_merged.merge(receiver_avg_amount, left_on = receiver, right_index = True) # merge to transaction level data\n",
    "test_merged = test_merged.merge(receiver_avg_amount, left_on = receiver, right_index = True)"
   ]
  },
  {
   "cell_type": "markdown",
   "id": "84e7b6e7",
   "metadata": {},
   "source": [
    "#### total number of banks sender and receiver connect to (in and out degree)"
   ]
  },
  {
   "cell_type": "code",
   "execution_count": 12,
   "id": "33870dfe",
   "metadata": {
    "ExecuteTime": {
     "end_time": "2022-08-23T02:59:45.272379Z",
     "start_time": "2022-08-23T02:59:34.457062Z"
    }
   },
   "outputs": [],
   "source": [
    "sender = 'Sender'\n",
    "receiver = 'Receiver'\n",
    "\n",
    "# sender out degree\n",
    "sender_out_degree = train_merged.groupby(sender).agg(\n",
    "    sender_out_degree=pd.NamedAgg(column=receiver, aggfunc=lambda x: len(x.unique())))     \n",
    "train_merged = train_merged.merge(sender_out_degree, left_on = sender, right_index = True)\n",
    "test_merged = test_merged.merge(sender_out_degree, left_on = sender, right_index = True)\n",
    "\n",
    "# sender in degree\n",
    "sender_in_degree = train_merged.groupby(receiver).agg(\n",
    "    sender_in_degree=pd.NamedAgg(column=sender, aggfunc=lambda x: len(x.unique())))\n",
    "train_merged = train_merged.merge(sender_in_degree, left_on = sender, right_index = True)\n",
    "test_merged = test_merged.merge(sender_in_degree, left_on = sender, right_index = True)\n",
    "\n",
    "# receiver out degree\n",
    "receiver_out_degree = train_merged.groupby(sender).agg(\n",
    "    receiver_out_degree=pd.NamedAgg(column=receiver, aggfunc=lambda x: len(x.unique())))\n",
    "train_merged = train_merged.merge(receiver_out_degree, left_on = receiver, right_index = True)\n",
    "test_merged = test_merged.merge(receiver_out_degree, left_on = receiver, right_index = True)\n",
    "\n",
    "# receiver in degree\n",
    "receiver_in_degree = train_merged.groupby(receiver).agg(\n",
    "    receiver_in_degree=pd.NamedAgg(column=sender, aggfunc=lambda x: len(x.unique())))\n",
    "train_merged = train_merged.merge(receiver_in_degree, left_on = receiver, right_index = True)\n",
    "test_merged = test_merged.merge(receiver_in_degree, left_on = receiver, right_index = True)"
   ]
  },
  {
   "cell_type": "markdown",
   "id": "56b8a2b1",
   "metadata": {},
   "source": [
    "#### total number of transactions  between sender and receiver bank"
   ]
  },
  {
   "cell_type": "code",
   "execution_count": 13,
   "id": "10d8bb4b",
   "metadata": {
    "ExecuteTime": {
     "end_time": "2022-08-23T03:00:07.347677Z",
     "start_time": "2022-08-23T03:00:01.889002Z"
    }
   },
   "outputs": [
    {
     "name": "stdout",
     "output_type": "stream",
     "text": [
      "CPU times: total: 5.42 s\n",
      "Wall time: 5.45 s\n"
     ]
    }
   ],
   "source": [
    "%%time\n",
    "train_merged[\"sender_receiver\"] = train_merged[\"Sender\"] + train_merged[\"Receiver\"]\n",
    "test_merged[\"sender_receiver\"] = test_merged[\"Sender\"] + test_merged[\"Receiver\"]\n",
    "\n",
    "sender_receiver_freq = train_merged['sender_receiver'].value_counts()\n",
    "sender_receiver_freq.name = 'sender_receiver_freq'\n",
    "\n",
    "train_merged = train_merged.merge(sender_receiver_freq, left_on = 'sender_receiver', right_index = True)\n",
    "test_merged = test_merged.merge(sender_receiver_freq, left_on = 'sender_receiver', right_index = True)"
   ]
  },
  {
   "cell_type": "markdown",
   "id": "1fd9bcc8",
   "metadata": {},
   "source": [
    "### Acount Network Features"
   ]
  },
  {
   "cell_type": "markdown",
   "id": "8b8c1811",
   "metadata": {},
   "source": [
    "#### total number of transaction of ordering and beneficary account"
   ]
  },
  {
   "cell_type": "code",
   "execution_count": 15,
   "id": "92f84fa8",
   "metadata": {
    "ExecuteTime": {
     "end_time": "2022-08-23T03:03:41.304614Z",
     "start_time": "2022-08-23T03:03:31.443071Z"
    }
   },
   "outputs": [],
   "source": [
    "sender = 'OrderingAccount'\n",
    "receiver = 'BeneficiaryAccount'\n",
    "sender_feature_name = sender + '_freq'\n",
    "receiver_feature_name = receiver + \"_freq\"\n",
    "\n",
    "sender_freq = train_merged[sender].value_counts() # count number of transactions of sender\n",
    "sender_freq.name = sender_feature_name  \n",
    "train_merged = train_merged.merge(sender_freq, left_on = sender, right_index = True) # merge to transaction level data\n",
    "test_merged = test_merged.merge(sender_freq, left_on = sender, right_index = True)   \n",
    "\n",
    "receiver_freq = train_merged[receiver].value_counts()\n",
    "receiver_freq.name = receiver_feature_name\n",
    "train_merged = train_merged.merge(receiver_freq, left_on = receiver, right_index = True)\n",
    "test_merged = test_merged.merge(receiver_freq, left_on = receiver, right_index = True)"
   ]
  },
  {
   "cell_type": "markdown",
   "id": "1fa15973",
   "metadata": {},
   "source": [
    "#### total number of currecy and avg amount money per currecy of ordering and beneficiary account"
   ]
  },
  {
   "cell_type": "code",
   "execution_count": 17,
   "id": "e651fa0f",
   "metadata": {
    "ExecuteTime": {
     "end_time": "2022-08-23T03:04:52.420869Z",
     "start_time": "2022-08-23T03:04:23.554355Z"
    }
   },
   "outputs": [],
   "source": [
    "# sender currecy\n",
    "train_merged[\"OrderingAccount_currency\"] = train_merged[\"OrderingAccount\"] + train_merged[\"InstructedCurrency\"]\n",
    "test_merged[\"OrderingAccount_currency\"] = test_merged[\"OrderingAccount\"] + test_merged[\"InstructedCurrency\"]\n",
    "sender = 'OrderingAccount_currency'\n",
    "\n",
    "# currecy freq\n",
    "sender_freq = train_merged[sender].value_counts() # count number of records\n",
    "sender_freq.name = 'OrderingAccount_currecy_freq'\n",
    "train_merged = train_merged.merge(sender_freq, left_on = sender, right_index = True) # merge to transaction level data\n",
    "test_merged = test_merged.merge(sender_freq, left_on = sender, right_index = True)\n",
    "# currecy avg amount\n",
    "sender_avg_amount = train_merged.groupby(sender).agg(\n",
    "    OrderingAccount_currecy_avg_amount=pd.NamedAgg(column=\"InstructedAmount\", aggfunc='mean'))\n",
    "train_merged = train_merged.merge(sender_avg_amount, left_on = sender, right_index = True) # merge to transaction level data\n",
    "test_merged = test_merged.merge(sender_avg_amount, left_on = sender, right_index = True)\n",
    "\n",
    "#######################################################################################################\n",
    "# receiver currency\n",
    "train_merged[\"BeneficiaryAccount_currency\"] = train_merged[\"BeneficiaryAccount\"] + train_merged[\"InstructedCurrency\"]\n",
    "test_merged[\"BeneficiaryAccount_currency\"] = test_merged[\"BeneficiaryAccount\"] + test_merged[\"InstructedCurrency\"]\n",
    "receiver = 'BeneficiaryAccount_currency'\n",
    "# currecy freq\n",
    "receiver_freq = train_merged[receiver].value_counts() # count number of records\n",
    "receiver_freq.name = 'BeneficiaryAccount_currecy_freq'\n",
    "train_merged = train_merged.merge(receiver_freq, left_on = receiver, right_index = True) # merge to transaction level data\n",
    "test_merged = test_merged.merge(receiver_freq, left_on = receiver, right_index = True)\n",
    "# currecy avg amount\n",
    "receiver_avg_amount = train_merged.groupby(receiver).agg(\n",
    "    BeneficiaryAccount_currecy_avg_amount=pd.NamedAgg(column=\"InstructedAmount\", aggfunc='mean'))\n",
    "train_merged = train_merged.merge(receiver_avg_amount, left_on = receiver, right_index = True) # merge to transaction level data\n",
    "test_merged = test_merged.merge(receiver_avg_amount, left_on = receiver, right_index = True)"
   ]
  },
  {
   "cell_type": "markdown",
   "id": "fc432499",
   "metadata": {},
   "source": [
    "#### total number of accounts ordering and beneficiary account connect to (in and out degree)"
   ]
  },
  {
   "cell_type": "code",
   "execution_count": 18,
   "id": "d821664c",
   "metadata": {
    "ExecuteTime": {
     "end_time": "2022-08-23T03:06:16.229098Z",
     "start_time": "2022-08-23T03:05:40.158283Z"
    }
   },
   "outputs": [],
   "source": [
    "sender = 'OrderingAccount'\n",
    "receiver = 'BeneficiaryAccount'\n",
    "\n",
    "# sender out degree\n",
    "sender_out_degree = train_merged.groupby(sender).agg(\n",
    "    sender_out_degree=pd.NamedAgg(column=receiver, aggfunc=lambda x: len(x.unique())))     \n",
    "train_merged = train_merged.merge(sender_out_degree, left_on = sender, right_index = True)\n",
    "test_merged = test_merged.merge(sender_out_degree, left_on = sender, right_index = True)\n",
    "\n",
    "# sender in degree\n",
    "sender_in_degree = train_merged.groupby(receiver).agg(\n",
    "    sender_in_degree=pd.NamedAgg(column=sender, aggfunc=lambda x: len(x.unique())))\n",
    "train_merged = train_merged.merge(sender_in_degree, left_on = sender, right_index = True)\n",
    "test_merged = test_merged.merge(sender_in_degree, left_on = sender, right_index = True)\n",
    "\n",
    "# receiver out degree\n",
    "receiver_out_degree = train_merged.groupby(sender).agg(\n",
    "    receiver_out_degree=pd.NamedAgg(column=receiver, aggfunc=lambda x: len(x.unique())))\n",
    "train_merged = train_merged.merge(receiver_out_degree, left_on = receiver, right_index = True)\n",
    "test_merged = test_merged.merge(receiver_out_degree, left_on = receiver, right_index = True)\n",
    "\n",
    "# receiver in degree\n",
    "receiver_in_degree = train_merged.groupby(receiver).agg(\n",
    "    receiver_in_degree=pd.NamedAgg(column=sender, aggfunc=lambda x: len(x.unique())))\n",
    "train_merged = train_merged.merge(receiver_in_degree, left_on = receiver, right_index = True)\n",
    "test_merged = test_merged.merge(receiver_in_degree, left_on = receiver, right_index = True)"
   ]
  },
  {
   "cell_type": "markdown",
   "id": "f28e3fd5",
   "metadata": {},
   "source": [
    "#### total number of transactions between sender and receiver account"
   ]
  },
  {
   "cell_type": "code",
   "execution_count": 19,
   "id": "95d28a94",
   "metadata": {
    "ExecuteTime": {
     "end_time": "2022-08-23T03:06:46.749342Z",
     "start_time": "2022-08-23T03:06:36.523891Z"
    }
   },
   "outputs": [
    {
     "name": "stdout",
     "output_type": "stream",
     "text": [
      "CPU times: total: 10.1 s\n",
      "Wall time: 10.2 s\n"
     ]
    }
   ],
   "source": [
    "%%time\n",
    "sender = 'OrderingAccount'\n",
    "receiver = 'BeneficiaryAccount'\n",
    "sender_receiver = sender + \"_\" + receiver\n",
    "feature_name = sender_receiver + '_freq'\n",
    "\n",
    "train_merged[sender_receiver] = train_merged[sender] + train_merged[receiver]\n",
    "test_merged[sender_receiver] = test_merged[sender] + test_merged[receiver]\n",
    "\n",
    "sender_receiver_freq = train_merged[sender_receiver].value_counts()\n",
    "sender_receiver_freq.name = feature_name\n",
    "\n",
    "train_merged = train_merged.merge(sender_receiver_freq, left_on = sender_receiver, right_index = True)\n",
    "test_merged = test_merged.merge(sender_receiver_freq, left_on = sender_receiver, right_index = True)"
   ]
  },
  {
   "cell_type": "code",
   "execution_count": null,
   "id": "9db82a5f",
   "metadata": {},
   "outputs": [],
   "source": []
  }
 ],
 "metadata": {
  "kernelspec": {
   "display_name": "Python 3 (ipykernel)",
   "language": "python",
   "name": "python3"
  },
  "language_info": {
   "codemirror_mode": {
    "name": "ipython",
    "version": 3
   },
   "file_extension": ".py",
   "mimetype": "text/x-python",
   "name": "python",
   "nbconvert_exporter": "python",
   "pygments_lexer": "ipython3",
   "version": "3.9.13"
  },
  "require": {
   "paths": {
    "buttons.colvis": "https://cdn.datatables.net/buttons/1.5.6/js/buttons.colVis.min",
    "buttons.flash": "https://cdn.datatables.net/buttons/1.5.6/js/buttons.flash.min",
    "buttons.html5": "https://cdn.datatables.net/buttons/1.5.6/js/buttons.html5.min",
    "buttons.print": "https://cdn.datatables.net/buttons/1.5.6/js/buttons.print.min",
    "chartjs": "https://cdnjs.cloudflare.com/ajax/libs/Chart.js/2.8.0/Chart",
    "d3": "https://d3js.org/d3.v5.min",
    "d3-array": "https://d3js.org/d3-array.v2.min",
    "datatables.net": "https://cdn.datatables.net/1.10.18/js/jquery.dataTables",
    "datatables.net-buttons": "https://cdn.datatables.net/buttons/1.5.6/js/dataTables.buttons.min",
    "datatables.responsive": "https://cdn.datatables.net/responsive/2.2.2/js/dataTables.responsive.min",
    "datatables.scroller": "https://cdn.datatables.net/scroller/2.0.0/js/dataTables.scroller.min",
    "datatables.select": "https://cdn.datatables.net/select/1.3.0/js/dataTables.select.min",
    "jszip": "https://cdnjs.cloudflare.com/ajax/libs/jszip/2.5.0/jszip.min",
    "moment": "https://cdnjs.cloudflare.com/ajax/libs/moment.js/2.8.0/moment",
    "pdfmake": "https://cdnjs.cloudflare.com/ajax/libs/pdfmake/0.1.36/pdfmake.min",
    "vfsfonts": "https://cdnjs.cloudflare.com/ajax/libs/pdfmake/0.1.36/vfs_fonts"
   },
   "shim": {
    "buttons.colvis": {
     "deps": [
      "jszip",
      "datatables.net-buttons"
     ]
    },
    "buttons.flash": {
     "deps": [
      "jszip",
      "datatables.net-buttons"
     ]
    },
    "buttons.html5": {
     "deps": [
      "jszip",
      "datatables.net-buttons"
     ]
    },
    "buttons.print": {
     "deps": [
      "jszip",
      "datatables.net-buttons"
     ]
    },
    "chartjs": {
     "deps": [
      "moment"
     ]
    },
    "datatables.net": {
     "exports": "$.fn.dataTable"
    },
    "datatables.net-buttons": {
     "deps": [
      "datatables.net"
     ]
    },
    "pdfmake": {
     "deps": [
      "datatables.net"
     ]
    },
    "vfsfonts": {
     "deps": [
      "datatables.net"
     ]
    }
   }
  },
  "toc": {
   "base_numbering": 1,
   "nav_menu": {},
   "number_sections": true,
   "sideBar": true,
   "skip_h1_title": false,
   "title_cell": "Table of Contents",
   "title_sidebar": "Contents",
   "toc_cell": false,
   "toc_position": {
    "height": "calc(100% - 180px)",
    "left": "10px",
    "top": "150px",
    "width": "164.988px"
   },
   "toc_section_display": true,
   "toc_window_display": true
  },
  "varInspector": {
   "cols": {
    "lenName": 16,
    "lenType": 16,
    "lenVar": 40
   },
   "kernels_config": {
    "python": {
     "delete_cmd_postfix": "",
     "delete_cmd_prefix": "del ",
     "library": "var_list.py",
     "varRefreshCmd": "print(var_dic_list())"
    },
    "r": {
     "delete_cmd_postfix": ") ",
     "delete_cmd_prefix": "rm(",
     "library": "var_list.r",
     "varRefreshCmd": "cat(var_dic_list()) "
    }
   },
   "types_to_exclude": [
    "module",
    "function",
    "builtin_function_or_method",
    "instance",
    "_Feature"
   ],
   "window_display": false
  }
 },
 "nbformat": 4,
 "nbformat_minor": 5
}

{
 "cells": [
  {
   "cell_type": "code",
   "execution_count": 1,
   "id": "47a4a780",
   "metadata": {
    "ExecuteTime": {
     "end_time": "2022-08-23T11:11:02.560135Z",
     "start_time": "2022-08-23T11:11:01.819442Z"
    }
   },
   "outputs": [],
   "source": [
    "import pandas as pd\n",
    "import utils.data_utils as data_utils\n",
    "from pathlib import Path"
   ]
  },
  {
   "cell_type": "markdown",
   "id": "0e0ed693",
   "metadata": {},
   "source": [
    "## Preparing Data"
   ]
  },
  {
   "cell_type": "code",
   "execution_count": 2,
   "id": "0ddc291b",
   "metadata": {
    "ExecuteTime": {
     "end_time": "2022-08-23T11:12:09.871626Z",
     "start_time": "2022-08-23T11:11:17.304450Z"
    }
   },
   "outputs": [],
   "source": [
    "# laoding data\n",
    "DATA_DIR = Path.cwd().parent / \"data\"\n",
    "train, test = data_utils.load_swift_data(DATA_DIR)\n",
    "bank_data = data_utils.load_bank_data(DATA_DIR)"
   ]
  },
  {
   "cell_type": "code",
   "execution_count": 3,
   "id": "75b99834",
   "metadata": {
    "ExecuteTime": {
     "end_time": "2022-08-23T11:12:38.606231Z",
     "start_time": "2022-08-23T11:12:10.247538Z"
    },
    "require": [
     "base/js/events",
     "datatables.net",
     "d3",
     "chartjs",
     "dt-config",
     "dt-components",
     "dt-graph-objects",
     "dt-toolbar",
     "dt-tooltips",
     "jupyter-datatables"
    ]
   },
   "outputs": [],
   "source": [
    "# Getting merged dataset\n",
    "train_merged = data_utils.merge_swift_bank_data(train, bank_data)\n",
    "test_merged = data_utils.merge_swift_bank_data(test, bank_data)\n",
    "del bank_data\n",
    "del train\n",
    "del test"
   ]
  },
  {
   "cell_type": "code",
   "execution_count": 4,
   "id": "3018141a",
   "metadata": {
    "ExecuteTime": {
     "end_time": "2022-08-23T11:13:02.915835Z",
     "start_time": "2022-08-23T11:12:59.994941Z"
    }
   },
   "outputs": [],
   "source": [
    "# fill missing data for flag as another category '12'\n",
    "train_merged['Flag_ordering'] = train_merged['Flag_ordering'].fillna('12')\n",
    "train_merged['Flag_beneficiary'] = train_merged['Flag_beneficiary'].fillna('12')\n",
    "test_merged['Flag_ordering'] = test_merged['Flag_ordering'].fillna('12')\n",
    "test_merged['Flag_beneficiary'] = test_merged['Flag_beneficiary'].fillna('12')"
   ]
  },
  {
   "cell_type": "code",
   "execution_count": 5,
   "id": "8d4d3d5e",
   "metadata": {
    "ExecuteTime": {
     "end_time": "2022-08-23T11:13:24.250275Z",
     "start_time": "2022-08-23T11:13:24.232879Z"
    }
   },
   "outputs": [
    {
     "data": {
      "text/plain": [
       "Index(['Timestamp', 'UETR', 'Sender', 'Receiver', 'TransactionReference',\n",
       "       'OrderingAccount', 'OrderingName', 'OrderingStreet',\n",
       "       'OrderingCountryCityZip', 'BeneficiaryAccount', 'BeneficiaryName',\n",
       "       'BeneficiaryStreet', 'BeneficiaryCountryCityZip', 'SettlementDate',\n",
       "       'SettlementCurrency', 'SettlementAmount', 'InstructedCurrency',\n",
       "       'InstructedAmount', 'Label', 'Flag_ordering', 'Flag_beneficiary'],\n",
       "      dtype='object')"
      ]
     },
     "execution_count": 5,
     "metadata": {},
     "output_type": "execute_result"
    }
   ],
   "source": [
    "train_merged.columns"
   ]
  },
  {
   "cell_type": "markdown",
   "id": "21e97a2c",
   "metadata": {
    "ExecuteTime": {
     "end_time": "2022-08-19T13:35:08.277083Z",
     "start_time": "2022-08-19T13:35:08.220584Z"
    }
   },
   "source": [
    "## Features"
   ]
  },
  {
   "cell_type": "markdown",
   "id": "3a992aa4",
   "metadata": {},
   "source": [
    "### Hops"
   ]
  },
  {
   "cell_type": "code",
   "execution_count": 24,
   "id": "a37d966f",
   "metadata": {
    "ExecuteTime": {
     "end_time": "2022-08-23T12:21:49.291410Z",
     "start_time": "2022-08-23T12:21:32.471973Z"
    }
   },
   "outputs": [],
   "source": [
    "d_train = train_merged['UETR'].value_counts()\n",
    "d_train.name = 'num_hops'\n",
    "d_test = test_merged['UETR'].value_counts()\n",
    "d_test.name = 'num_hops'\n",
    "\n",
    "train_merged = train_merged.merge(d_train, left_on = 'UETR', right_index = True)\n",
    "test_merged = test_merged.merge(d_test, left_on = 'UETR', right_index = True)  "
   ]
  },
  {
   "cell_type": "markdown",
   "id": "f28e2cac",
   "metadata": {},
   "source": [
    "### Bank Network Features\n",
    "\n",
    "- node feature:\n",
    "    - number of transaction assoicate to the node\n",
    "    - number of currecy used and avg amount money transferred per currency for a node\n",
    "    - in and out degree\n",
    "- edge feature:\n",
    "    - number of transaction between two nodes\n",
    "    - number of currency used and avg amount money transferred per currency between two nodes"
   ]
  },
  {
   "cell_type": "markdown",
   "id": "dd0d4e4b",
   "metadata": {},
   "source": [
    "#### total number of transactions of sender and receiver bank"
   ]
  },
  {
   "cell_type": "code",
   "execution_count": 7,
   "id": "5af74264",
   "metadata": {
    "ExecuteTime": {
     "end_time": "2022-08-23T11:14:37.740721Z",
     "start_time": "2022-08-23T11:14:27.404211Z"
    }
   },
   "outputs": [],
   "source": [
    "sender = 'Sender'\n",
    "receiver = 'Receiver'\n",
    "sender_feature_name = sender + '_freq'\n",
    "receiver_feature_name = receiver + \"_freq\"\n",
    "\n",
    "sender_freq = train_merged[sender].value_counts() # count number of transactions of sender\n",
    "sender_freq.name = sender_feature_name  \n",
    "train_merged = train_merged.merge(sender_freq, left_on = sender, right_index = True) # merge to transaction level data\n",
    "test_merged = test_merged.merge(sender_freq, left_on = sender, right_index = True) \n",
    "\n",
    "receiver_freq = train_merged[receiver].value_counts()\n",
    "receiver_freq.name = receiver_feature_name\n",
    "train_merged = train_merged.merge(receiver_freq, left_on = receiver, right_index = True)\n",
    "test_merged = test_merged.merge(receiver_freq, left_on = receiver, right_index = True)"
   ]
  },
  {
   "cell_type": "markdown",
   "id": "91b35e33",
   "metadata": {
    "ExecuteTime": {
     "end_time": "2022-08-23T02:46:57.196990Z",
     "start_time": "2022-08-23T02:46:57.190414Z"
    }
   },
   "source": [
    "#### total number of currecy and avg amount per currecy of sender and receiver bank"
   ]
  },
  {
   "cell_type": "code",
   "execution_count": 8,
   "id": "e17ed0d3",
   "metadata": {
    "ExecuteTime": {
     "end_time": "2022-08-23T11:15:42.518262Z",
     "start_time": "2022-08-23T11:15:10.431182Z"
    }
   },
   "outputs": [],
   "source": [
    "# sender currecy\n",
    "train_merged[\"sender_currency\"] = train_merged[\"Sender\"] + train_merged[\"InstructedCurrency\"]\n",
    "test_merged[\"sender_currency\"] = test_merged[\"Sender\"] + test_merged[\"InstructedCurrency\"]\n",
    "sender = 'sender_currency'\n",
    "\n",
    "# currecy freq\n",
    "sender_freq = train_merged[sender].value_counts() # count number of records\n",
    "sender_freq.name = 'sender_currecy_freq'\n",
    "train_merged = train_merged.merge(sender_freq, left_on = sender, right_index = True) # merge to transaction level data\n",
    "test_merged = test_merged.merge(sender_freq, left_on = sender, right_index = True)\n",
    "# currecy avg amount\n",
    "sender_avg_amount = train_merged.groupby(sender).agg(\n",
    "    sender_currecy_avg_amount=pd.NamedAgg(column=\"InstructedAmount\", aggfunc='mean'))\n",
    "train_merged = train_merged.merge(sender_avg_amount, left_on = sender, right_index = True) # merge to transaction level data\n",
    "test_merged = test_merged.merge(sender_avg_amount, left_on = sender, right_index = True)\n",
    "\n",
    "#######################################################################################################\n",
    "# receiver currency\n",
    "train_merged[\"receiver_currency\"] = train_merged[\"Receiver\"] + train_merged[\"InstructedCurrency\"]\n",
    "test_merged[\"receiver_currency\"] = test_merged[\"Receiver\"] + test_merged[\"InstructedCurrency\"]\n",
    "receiver = 'receiver_currency'\n",
    "# currecy freq\n",
    "receiver_freq = train_merged[receiver].value_counts() # count number of records\n",
    "receiver_freq.name = 'receiver_currecy_freq'\n",
    "train_merged = train_merged.merge(receiver_freq, left_on = receiver, right_index = True) # merge to transaction level data\n",
    "test_merged = test_merged.merge(receiver_freq, left_on = receiver, right_index = True)\n",
    "# currecy avg amount\n",
    "receiver_avg_amount = train_merged.groupby(receiver).agg(\n",
    "    receiver_currecy_avg_amount=pd.NamedAgg(column=\"InstructedAmount\", aggfunc='mean'))\n",
    "train_merged = train_merged.merge(receiver_avg_amount, left_on = receiver, right_index = True) # merge to transaction level data\n",
    "test_merged = test_merged.merge(receiver_avg_amount, left_on = receiver, right_index = True)"
   ]
  },
  {
   "cell_type": "markdown",
   "id": "bc287310",
   "metadata": {},
   "source": [
    "#### total number of banks sender and receiver connect to (in and out degree)"
   ]
  },
  {
   "cell_type": "code",
   "execution_count": 9,
   "id": "b0d17c74",
   "metadata": {
    "ExecuteTime": {
     "end_time": "2022-08-23T11:16:37.207698Z",
     "start_time": "2022-08-23T11:16:13.927322Z"
    }
   },
   "outputs": [],
   "source": [
    "sender = 'Sender'\n",
    "receiver = 'Receiver'\n",
    "\n",
    "# sender out degree\n",
    "sender_out_degree = train_merged.groupby(sender).agg(\n",
    "    sender_out_degree=pd.NamedAgg(column=receiver, aggfunc=lambda x: len(x.unique())))     \n",
    "train_merged = train_merged.merge(sender_out_degree, left_on = sender, right_index = True)\n",
    "test_merged = test_merged.merge(sender_out_degree, left_on = sender, right_index = True)\n",
    "\n",
    "# sender in degree\n",
    "sender_in_degree = train_merged.groupby(receiver).agg(\n",
    "    sender_in_degree=pd.NamedAgg(column=sender, aggfunc=lambda x: len(x.unique())))\n",
    "train_merged = train_merged.merge(sender_in_degree, left_on = sender, right_index = True)\n",
    "test_merged = test_merged.merge(sender_in_degree, left_on = sender, right_index = True)\n",
    "\n",
    "# receiver out degree\n",
    "receiver_out_degree = train_merged.groupby(sender).agg(\n",
    "    receiver_out_degree=pd.NamedAgg(column=receiver, aggfunc=lambda x: len(x.unique())))\n",
    "train_merged = train_merged.merge(receiver_out_degree, left_on = receiver, right_index = True)\n",
    "test_merged = test_merged.merge(receiver_out_degree, left_on = receiver, right_index = True)\n",
    "\n",
    "# receiver in degree\n",
    "receiver_in_degree = train_merged.groupby(receiver).agg(\n",
    "    receiver_in_degree=pd.NamedAgg(column=sender, aggfunc=lambda x: len(x.unique())))\n",
    "train_merged = train_merged.merge(receiver_in_degree, left_on = receiver, right_index = True)\n",
    "test_merged = test_merged.merge(receiver_in_degree, left_on = receiver, right_index = True)"
   ]
  },
  {
   "cell_type": "markdown",
   "id": "56b8a2b1",
   "metadata": {},
   "source": [
    "#### total number of transactions  between sender and receiver bank"
   ]
  },
  {
   "cell_type": "code",
   "execution_count": 10,
   "id": "ee07e917",
   "metadata": {
    "ExecuteTime": {
     "end_time": "2022-08-23T11:17:10.841903Z",
     "start_time": "2022-08-23T11:17:00.447710Z"
    }
   },
   "outputs": [
    {
     "name": "stdout",
     "output_type": "stream",
     "text": [
      "CPU times: total: 10.4 s\n",
      "Wall time: 10.4 s\n"
     ]
    }
   ],
   "source": [
    "%%time\n",
    "train_merged[\"sender_receiver\"] = train_merged[\"Sender\"] + train_merged[\"Receiver\"]\n",
    "test_merged[\"sender_receiver\"] = test_merged[\"Sender\"] + test_merged[\"Receiver\"]\n",
    "\n",
    "sender_receiver_freq = train_merged['sender_receiver'].value_counts()\n",
    "sender_receiver_freq.name = 'sender_receiver_freq'\n",
    "\n",
    "train_merged = train_merged.merge(sender_receiver_freq, left_on = 'sender_receiver', right_index = True)\n",
    "test_merged = test_merged.merge(sender_receiver_freq, left_on = 'sender_receiver', right_index = True)"
   ]
  },
  {
   "cell_type": "markdown",
   "id": "5a5cefdb",
   "metadata": {},
   "source": [
    "#### total number of currecy and avg amount money between sender and receiver bank"
   ]
  },
  {
   "cell_type": "code",
   "execution_count": 11,
   "id": "10d8bb4b",
   "metadata": {
    "ExecuteTime": {
     "end_time": "2022-08-23T11:17:55.078691Z",
     "start_time": "2022-08-23T11:17:35.775168Z"
    }
   },
   "outputs": [
    {
     "name": "stdout",
     "output_type": "stream",
     "text": [
      "CPU times: total: 19.2 s\n",
      "Wall time: 19.3 s\n"
     ]
    }
   ],
   "source": [
    "%%time\n",
    "# number of currency\n",
    "train_merged[\"sender_receiver_currency\"] = train_merged[\"Sender\"] + train_merged[\"Receiver\"] + train_merged['InstructedCurrency']\n",
    "test_merged[\"sender_receiver_currency\"] = test_merged[\"Sender\"] + test_merged[\"Receiver\"] + train_merged['InstructedCurrency']\n",
    "\n",
    "sender_receiver_freq = train_merged['sender_receiver_currency'].value_counts()\n",
    "sender_receiver_freq.name = 'sender_receiver_currency_freq'\n",
    "\n",
    "train_merged = train_merged.merge(sender_receiver_freq, left_on = 'sender_receiver_currency', right_index = True)\n",
    "test_merged = test_merged.merge(sender_receiver_freq, left_on = 'sender_receiver_currency', right_index = True)\n",
    "\n",
    "# avg amount currency\n",
    "sender_receiver_currency = \"sender_receiver_currency\"\n",
    "sender_receiver_avg_amount = train_merged.groupby(sender_receiver_currency).agg(\n",
    "    sender_receiver_currecy_avg_amount=pd.NamedAgg(column=\"InstructedAmount\", aggfunc='mean'))\n",
    "train_merged = train_merged.merge(sender_receiver_avg_amount, left_on = sender_receiver_currency, right_index = True) # merge to transaction level data\n",
    "test_merged = test_merged.merge(sender_receiver_avg_amount, left_on = sender_receiver_currency, right_index = True)"
   ]
  },
  {
   "cell_type": "markdown",
   "id": "37cd7c5c",
   "metadata": {},
   "source": [
    "### Acount Network Features"
   ]
  },
  {
   "cell_type": "markdown",
   "id": "a62f064e",
   "metadata": {},
   "source": [
    "#### total number of transaction of ordering and beneficary account"
   ]
  },
  {
   "cell_type": "code",
   "execution_count": 12,
   "id": "ca9762e0",
   "metadata": {
    "ExecuteTime": {
     "end_time": "2022-08-23T11:18:46.512998Z",
     "start_time": "2022-08-23T11:18:19.135453Z"
    }
   },
   "outputs": [],
   "source": [
    "sender = 'OrderingAccount'\n",
    "receiver = 'BeneficiaryAccount'\n",
    "sender_feature_name = sender + '_freq'\n",
    "receiver_feature_name = receiver + \"_freq\"\n",
    "\n",
    "sender_freq = train_merged[sender].value_counts() # count number of transactions of sender\n",
    "sender_freq.name = sender_feature_name  \n",
    "train_merged = train_merged.merge(sender_freq, left_on = sender, right_index = True) # merge to transaction level data\n",
    "test_merged = test_merged.merge(sender_freq, left_on = sender, right_index = True)   \n",
    "\n",
    "receiver_freq = train_merged[receiver].value_counts()\n",
    "receiver_freq.name = receiver_feature_name\n",
    "train_merged = train_merged.merge(receiver_freq, left_on = receiver, right_index = True)\n",
    "test_merged = test_merged.merge(receiver_freq, left_on = receiver, right_index = True)"
   ]
  },
  {
   "cell_type": "markdown",
   "id": "d6914e93",
   "metadata": {},
   "source": [
    "#### total number of currecy and avg amount money per currecy of ordering and beneficiary account"
   ]
  },
  {
   "cell_type": "code",
   "execution_count": 13,
   "id": "cd421884",
   "metadata": {
    "ExecuteTime": {
     "end_time": "2022-08-23T11:20:19.983586Z",
     "start_time": "2022-08-23T11:19:18.602902Z"
    }
   },
   "outputs": [],
   "source": [
    "# sender currecy\n",
    "train_merged[\"OrderingAccount_currency\"] = train_merged[\"OrderingAccount\"] + train_merged[\"InstructedCurrency\"]\n",
    "test_merged[\"OrderingAccount_currency\"] = test_merged[\"OrderingAccount\"] + test_merged[\"InstructedCurrency\"]\n",
    "sender = 'OrderingAccount_currency'\n",
    "\n",
    "# currecy freq\n",
    "sender_freq = train_merged[sender].value_counts() # count number of records\n",
    "sender_freq.name = 'OrderingAccount_currecy_freq'\n",
    "train_merged = train_merged.merge(sender_freq, left_on = sender, right_index = True) # merge to transaction level data\n",
    "test_merged = test_merged.merge(sender_freq, left_on = sender, right_index = True)\n",
    "# currecy avg amount\n",
    "sender_avg_amount = train_merged.groupby(sender).agg(\n",
    "    OrderingAccount_currecy_avg_amount=pd.NamedAgg(column=\"InstructedAmount\", aggfunc='mean'))\n",
    "train_merged = train_merged.merge(sender_avg_amount, left_on = sender, right_index = True) # merge to transaction level data\n",
    "test_merged = test_merged.merge(sender_avg_amount, left_on = sender, right_index = True)\n",
    "\n",
    "#######################################################################################################\n",
    "# receiver currency\n",
    "train_merged[\"BeneficiaryAccount_currency\"] = train_merged[\"BeneficiaryAccount\"] + train_merged[\"InstructedCurrency\"]\n",
    "test_merged[\"BeneficiaryAccount_currency\"] = test_merged[\"BeneficiaryAccount\"] + test_merged[\"InstructedCurrency\"]\n",
    "receiver = 'BeneficiaryAccount_currency'\n",
    "# currecy freq\n",
    "receiver_freq = train_merged[receiver].value_counts() # count number of records\n",
    "receiver_freq.name = 'BeneficiaryAccount_currecy_freq'\n",
    "train_merged = train_merged.merge(receiver_freq, left_on = receiver, right_index = True) # merge to transaction level data\n",
    "test_merged = test_merged.merge(receiver_freq, left_on = receiver, right_index = True)\n",
    "# currecy avg amount\n",
    "receiver_avg_amount = train_merged.groupby(receiver).agg(\n",
    "    BeneficiaryAccount_currecy_avg_amount=pd.NamedAgg(column=\"InstructedAmount\", aggfunc='mean'))\n",
    "train_merged = train_merged.merge(receiver_avg_amount, left_on = receiver, right_index = True) # merge to transaction level data\n",
    "test_merged = test_merged.merge(receiver_avg_amount, left_on = receiver, right_index = True)"
   ]
  },
  {
   "cell_type": "markdown",
   "id": "eb6a7d94",
   "metadata": {},
   "source": [
    "#### total number of accounts ordering and beneficiary account connect to (in and out degree)"
   ]
  },
  {
   "cell_type": "code",
   "execution_count": 14,
   "id": "25a2d5ef",
   "metadata": {
    "ExecuteTime": {
     "end_time": "2022-08-23T11:22:42.331289Z",
     "start_time": "2022-08-23T11:20:50.193487Z"
    }
   },
   "outputs": [],
   "source": [
    "sender = 'OrderingAccount'\n",
    "receiver = 'BeneficiaryAccount'\n",
    "\n",
    "# sender out degree\n",
    "sender_out_degree = train_merged.groupby(sender).agg(\n",
    "    sender_out_degree=pd.NamedAgg(column=receiver, aggfunc=lambda x: len(x.unique())))     \n",
    "train_merged = train_merged.merge(sender_out_degree, left_on = sender, right_index = True)\n",
    "test_merged = test_merged.merge(sender_out_degree, left_on = sender, right_index = True)\n",
    "\n",
    "# sender in degree\n",
    "sender_in_degree = train_merged.groupby(receiver).agg(\n",
    "    sender_in_degree=pd.NamedAgg(column=sender, aggfunc=lambda x: len(x.unique())))\n",
    "train_merged = train_merged.merge(sender_in_degree, left_on = sender, right_index = True)\n",
    "test_merged = test_merged.merge(sender_in_degree, left_on = sender, right_index = True)\n",
    "\n",
    "# receiver out degree\n",
    "receiver_out_degree = train_merged.groupby(sender).agg(\n",
    "    receiver_out_degree=pd.NamedAgg(column=receiver, aggfunc=lambda x: len(x.unique())))\n",
    "train_merged = train_merged.merge(receiver_out_degree, left_on = receiver, right_index = True)\n",
    "test_merged = test_merged.merge(receiver_out_degree, left_on = receiver, right_index = True)\n",
    "\n",
    "# receiver in degree\n",
    "receiver_in_degree = train_merged.groupby(receiver).agg(\n",
    "    receiver_in_degree=pd.NamedAgg(column=sender, aggfunc=lambda x: len(x.unique())))\n",
    "train_merged = train_merged.merge(receiver_in_degree, left_on = receiver, right_index = True)\n",
    "test_merged = test_merged.merge(receiver_in_degree, left_on = receiver, right_index = True)"
   ]
  },
  {
   "cell_type": "markdown",
   "id": "8a6d622a",
   "metadata": {},
   "source": [
    "#### total number of transactions between sender and receiver account"
   ]
  },
  {
   "cell_type": "code",
   "execution_count": 15,
   "id": "523b0912",
   "metadata": {
    "ExecuteTime": {
     "end_time": "2022-08-23T11:23:28.354070Z",
     "start_time": "2022-08-23T11:23:06.757803Z"
    }
   },
   "outputs": [
    {
     "name": "stdout",
     "output_type": "stream",
     "text": [
      "CPU times: total: 21.6 s\n",
      "Wall time: 21.6 s\n"
     ]
    }
   ],
   "source": [
    "%%time\n",
    "sender = 'OrderingAccount'\n",
    "receiver = 'BeneficiaryAccount'\n",
    "sender_receiver = sender + \"_\" + receiver\n",
    "feature_name = sender_receiver + '_freq'\n",
    "\n",
    "train_merged[sender_receiver] = train_merged[sender] + train_merged[receiver]\n",
    "test_merged[sender_receiver] = test_merged[sender] + test_merged[receiver]\n",
    "\n",
    "sender_receiver_freq = train_merged[sender_receiver].value_counts()\n",
    "sender_receiver_freq.name = feature_name\n",
    "\n",
    "train_merged = train_merged.merge(sender_receiver_freq, left_on = sender_receiver, right_index = True)\n",
    "test_merged = test_merged.merge(sender_receiver_freq, left_on = sender_receiver, right_index = True)"
   ]
  },
  {
   "cell_type": "markdown",
   "id": "efe139bf",
   "metadata": {},
   "source": [
    "#### total number of currecy and avg amount money between sender and receiver bank"
   ]
  },
  {
   "cell_type": "code",
   "execution_count": 16,
   "id": "0ab40eda",
   "metadata": {
    "ExecuteTime": {
     "end_time": "2022-08-23T11:24:32.082611Z",
     "start_time": "2022-08-23T11:23:50.650492Z"
    }
   },
   "outputs": [
    {
     "name": "stdout",
     "output_type": "stream",
     "text": [
      "CPU times: total: 41.3 s\n",
      "Wall time: 41.4 s\n"
     ]
    }
   ],
   "source": [
    "%%time\n",
    "# number of currency\n",
    "sender = 'OrderingAccount'\n",
    "receiver = 'BeneficiaryAccount'\n",
    "sender_receiver_currency = sender + \"_\" + receiver + \"_currency\"\n",
    "train_merged[sender_receiver_currency] = train_merged[sender] + train_merged[receiver] + train_merged['InstructedCurrency']\n",
    "test_merged[sender_receiver_currency] = test_merged[sender] + test_merged[receiver] + train_merged['InstructedCurrency']\n",
    "\n",
    "sender_receiver_freq = train_merged[sender_receiver_currency].value_counts()\n",
    "sender_receiver_freq.name = sender_receiver_currency + \"_freq\"\n",
    "\n",
    "train_merged = train_merged.merge(sender_receiver_freq, left_on = sender_receiver_currency, right_index = True)\n",
    "test_merged = test_merged.merge(sender_receiver_freq, left_on = sender_receiver_currency, right_index = True)\n",
    "\n",
    "# avg amount currency\n",
    "sender_receiver_avg_amount = train_merged.groupby(sender_receiver_currency).agg(\n",
    "    OrderingAccount_BeneficiaryAccount_currecy_avg_amount=pd.NamedAgg(column=\"InstructedAmount\", aggfunc='mean'))\n",
    "train_merged = train_merged.merge(sender_receiver_avg_amount, left_on = sender_receiver_currency, right_index = True) # merge to transaction level data\n",
    "test_merged = test_merged.merge(sender_receiver_avg_amount, left_on = sender_receiver_currency, right_index = True)"
   ]
  },
  {
   "cell_type": "markdown",
   "id": "06643e6c",
   "metadata": {},
   "source": [
    "### Account and Bank network features over time feature (hout, day, week)"
   ]
  },
  {
   "cell_type": "code",
   "execution_count": 22,
   "id": "953a70ef",
   "metadata": {
    "ExecuteTime": {
     "end_time": "2022-08-23T11:26:40.112782Z",
     "start_time": "2022-08-23T11:26:40.088076Z"
    }
   },
   "outputs": [
    {
     "data": {
      "text/plain": [
       "4    214\n",
       "Name: week, dtype: Int64"
      ]
     },
     "execution_count": 22,
     "metadata": {},
     "output_type": "execute_result"
    }
   ],
   "source": [
    "test_merged[\"Timestamp\"].dt.isocalendar().week.value_counts()"
   ]
  },
  {
   "cell_type": "markdown",
   "id": "dac43dd2",
   "metadata": {},
   "source": [
    "#### Fine-grained by hour of day 1 - 24"
   ]
  },
  {
   "cell_type": "code",
   "execution_count": null,
   "id": "1da80033",
   "metadata": {},
   "outputs": [],
   "source": [
    "%%time\n",
    "# Hour\n",
    "train_merged[\"hour\"] = train_merged[\"Timestamp\"].dt.hour\n",
    "test_merged[\"hour\"] = test_merged[\"Timestamp\"].dt.hour\n",
    "\n",
    "# Hour frequency for each sender\n",
    "senders = train_merged[\"Sender\"].unique()\n",
    "train_merged[\"sender_hour\"] = train_merged[\"Sender\"] + train_merged[\"hour\"].astype(str)\n",
    "test_merged[\"sender_hour\"] = test_merged[\"Sender\"] + test_merged[\"hour\"].astype(str)\n",
    "sender_hour_frequency = {}\n",
    "for s in senders:\n",
    "    sender_rows = train_merged[train_merged[\"Sender\"] == s]\n",
    "    for h in range(24):\n",
    "        sender_hour_frequency[s + str(h)] = len(sender_rows[sender_rows[\"hour\"] == h])\n",
    "\n",
    "train_merged[\"sender_hour_freq\"] = train_merged[\"sender_hour\"].map(sender_hour_frequency)\n",
    "test_merged[\"sender_hour_freq\"] = test_merged[\"sender_hour\"].map(sender_hour_frequency)"
   ]
  },
  {
   "cell_type": "markdown",
   "id": "5c8dc638",
   "metadata": {},
   "source": [
    "#### Fine-grained by day of month 1 - 31"
   ]
  },
  {
   "cell_type": "markdown",
   "id": "9f5c45bf",
   "metadata": {},
   "source": []
  }
 ],
 "metadata": {
  "kernelspec": {
   "display_name": "Python 3 (ipykernel)",
   "language": "python",
   "name": "python3"
  },
  "language_info": {
   "codemirror_mode": {
    "name": "ipython",
    "version": 3
   },
   "file_extension": ".py",
   "mimetype": "text/x-python",
   "name": "python",
   "nbconvert_exporter": "python",
   "pygments_lexer": "ipython3",
   "version": "3.9.13"
  },
  "require": {
   "paths": {
    "buttons.colvis": "https://cdn.datatables.net/buttons/1.5.6/js/buttons.colVis.min",
    "buttons.flash": "https://cdn.datatables.net/buttons/1.5.6/js/buttons.flash.min",
    "buttons.html5": "https://cdn.datatables.net/buttons/1.5.6/js/buttons.html5.min",
    "buttons.print": "https://cdn.datatables.net/buttons/1.5.6/js/buttons.print.min",
    "chartjs": "https://cdnjs.cloudflare.com/ajax/libs/Chart.js/2.8.0/Chart",
    "d3": "https://d3js.org/d3.v5.min",
    "d3-array": "https://d3js.org/d3-array.v2.min",
    "datatables.net": "https://cdn.datatables.net/1.10.18/js/jquery.dataTables",
    "datatables.net-buttons": "https://cdn.datatables.net/buttons/1.5.6/js/dataTables.buttons.min",
    "datatables.responsive": "https://cdn.datatables.net/responsive/2.2.2/js/dataTables.responsive.min",
    "datatables.scroller": "https://cdn.datatables.net/scroller/2.0.0/js/dataTables.scroller.min",
    "datatables.select": "https://cdn.datatables.net/select/1.3.0/js/dataTables.select.min",
    "jszip": "https://cdnjs.cloudflare.com/ajax/libs/jszip/2.5.0/jszip.min",
    "moment": "https://cdnjs.cloudflare.com/ajax/libs/moment.js/2.8.0/moment",
    "pdfmake": "https://cdnjs.cloudflare.com/ajax/libs/pdfmake/0.1.36/pdfmake.min",
    "vfsfonts": "https://cdnjs.cloudflare.com/ajax/libs/pdfmake/0.1.36/vfs_fonts"
   },
   "shim": {
    "buttons.colvis": {
     "deps": [
      "jszip",
      "datatables.net-buttons"
     ]
    },
    "buttons.flash": {
     "deps": [
      "jszip",
      "datatables.net-buttons"
     ]
    },
    "buttons.html5": {
     "deps": [
      "jszip",
      "datatables.net-buttons"
     ]
    },
    "buttons.print": {
     "deps": [
      "jszip",
      "datatables.net-buttons"
     ]
    },
    "chartjs": {
     "deps": [
      "moment"
     ]
    },
    "datatables.net": {
     "exports": "$.fn.dataTable"
    },
    "datatables.net-buttons": {
     "deps": [
      "datatables.net"
     ]
    },
    "pdfmake": {
     "deps": [
      "datatables.net"
     ]
    },
    "vfsfonts": {
     "deps": [
      "datatables.net"
     ]
    }
   }
  },
  "toc": {
   "base_numbering": 1,
   "nav_menu": {},
   "number_sections": true,
   "sideBar": true,
   "skip_h1_title": false,
   "title_cell": "Table of Contents",
   "title_sidebar": "Contents",
   "toc_cell": false,
   "toc_position": {
    "height": "calc(100% - 180px)",
    "left": "10px",
    "top": "150px",
    "width": "164.988px"
   },
   "toc_section_display": true,
   "toc_window_display": true
  },
  "varInspector": {
   "cols": {
    "lenName": 16,
    "lenType": 16,
    "lenVar": 40
   },
   "kernels_config": {
    "python": {
     "delete_cmd_postfix": "",
     "delete_cmd_prefix": "del ",
     "library": "var_list.py",
     "varRefreshCmd": "print(var_dic_list())"
    },
    "r": {
     "delete_cmd_postfix": ") ",
     "delete_cmd_prefix": "rm(",
     "library": "var_list.r",
     "varRefreshCmd": "cat(var_dic_list()) "
    }
   },
   "types_to_exclude": [
    "module",
    "function",
    "builtin_function_or_method",
    "instance",
    "_Feature"
   ],
   "window_display": false
  }
 },
 "nbformat": 4,
 "nbformat_minor": 5
}

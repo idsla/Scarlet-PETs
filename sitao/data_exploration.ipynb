{
 "cells": [
  {
   "cell_type": "code",
   "execution_count": 3,
   "metadata": {
    "collapsed": true,
    "pycharm": {
     "name": "#%%\n"
    }
   },
   "outputs": [],
   "source": [
    "import pandas as pd\n",
    "from pathlib import Path"
   ]
  },
  {
   "cell_type": "markdown",
   "source": [
    "## Fetch Data"
   ],
   "metadata": {
    "collapsed": false,
    "pycharm": {
     "name": "#%% md\n"
    }
   }
  },
  {
   "cell_type": "code",
   "execution_count": 4,
   "outputs": [],
   "source": [
    "import utils.data_utils as data_utils\n",
    "\n",
    "DATA_DIR = Path.cwd().parent / \"data\"\n",
    "train, test = data_utils.load_swift_data(DATA_DIR)\n",
    "bank_data = data_utils.load_bank_data(DATA_DIR)"
   ],
   "metadata": {
    "collapsed": false,
    "pycharm": {
     "name": "#%%\n"
    }
   }
  },
  {
   "cell_type": "code",
   "execution_count": 7,
   "outputs": [
    {
     "data": {
      "text/plain": "            Timestamp                                  UETR    Sender  \\\nMessageId                                                               \nTRA7CGN3FF 2022-01-01  f474fdb3-4675-4fff-ab7e-3469f82bd6a7  DPSUFRPP   \nTRPNEMZIR7 2022-01-01  c9158def-dab1-4bfb-a31f-7f51c6679d60  BRRGPTPL   \nTR6S6A5JYL 2022-01-01  d371ba0a-823f-4243-98ba-94ff18523420  BRRGPTPL   \nTRT4VPEHAK 2022-01-01  5a53a257-4dc9-4800-abb2-4cd1d55c8345  DPSUFRPP   \nTRTADQPGAV 2022-01-01  f27867ac-35e2-46af-8248-0a2d0d9bf00d  DPSUFRPP   \n\n            Receiver TransactionReference         OrderingAccount  \\\nMessageId                                                           \nTRA7CGN3FF  ABVVUS6S    PETX22-FXIDA-7054  FR90714755422956984353   \nTRPNEMZIR7  CBLHESMM    PETX22-NO-FX-1736   PT8895792452733129969   \nTR6S6A5JYL  CBLHESMM    PETX22-NO-FX-1687  PT92895792452733126420   \nTRT4VPEHAK  ABVVUS6S     DPSU22-FXIYA-517      358727697099645998   \nTRTADQPGAV  ABVVUS6S   PETX22-FXIDA-11878  FR71714755422956985471   \n\n                            OrderingName          OrderingStreet  \\\nMessageId                                                          \nTRA7CGN3FF         PHACELIA HETEROPHYLLA            3| RUE HAMON   \nTRPNEMZIR7     GONOLOBUS STEPHANOTRICHUS       AV RITA ALVES| 60   \nTR6S6A5JYL  LECHEA INTERMEDIA-INTERMEDIA       PRAÇA VALENTE| 85   \nTRT4VPEHAK                   SCLERANTHUS  341 4 CHOME 4 BAN 2 GO   \nTRTADQPGAV          SELAGINELLA ASPRELLA   28| BOULEVARD LÉVÊQUE   \n\n                 OrderingCountryCityZip      BeneficiaryAccount  \\\nMessageId                                                         \nTRA7CGN3FF      FR/42859 SAINTE AURÉLIE      611024064274704358   \nTRPNEMZIR7       PT/5863-752 CANTANHEDE  ES61897100852916932423   \nTR6S6A5JYL         PT/1100-087 BARCELOS  ES31897100852916935097   \nTRT4VPEHAK  JP/FUKUOKA PREFECTURE|ŌKAWA      611024064274698543   \nTRTADQPGAV              FR/36357 TURPIN      611024064274707099   \n\n                         BeneficiaryName  \\\nMessageId                                  \nTRA7CGN3FF          PAPAVER CALIFORNICUM   \nTRPNEMZIR7  MINUARTIA NUTTALLII-GREGARIA   \nTR6S6A5JYL         ASTRAGALUS MAGDALENAE   \nTRT4VPEHAK         SYNGONIUM PODOPHYLLUM   \nTRTADQPGAV           GALACTIA PARVIFOLIA   \n\n                                BeneficiaryStreet BeneficiaryCountryCityZip  \\\nMessageId                                                                     \nTRA7CGN3FF                     2584 CHARLES PLACE    US/ROJASLAND| DC 58442   \nTRPNEMZIR7  ACCESO DE CARMINA ARAGÓN 83 PUERTA 4            ES/ÁVILA| 02281   \nTR6S6A5JYL               PASADIZO ANÍBAL LUJÁN 57         ES/SEGOVIA| 40727   \nTRT4VPEHAK              7864 MORRIS MEWS APT. 464           US/DPO AE 78549   \nTRTADQPGAV                     363 ROBERT GARDENS    US/NEW KAREN| MS 49461   \n\n            SettlementDate SettlementCurrency  SettlementAmount  \\\nMessageId                                                         \nTRA7CGN3FF          220101                USD      1.746319e+09   \nTRPNEMZIR7          220101                EUR      4.711420e+06   \nTR6S6A5JYL          220101                EUR      7.528216e+05   \nTRT4VPEHAK          220101                USD      6.371209e+06   \nTRTADQPGAV          220101                USD      5.179423e+06   \n\n           InstructedCurrency  InstructedAmount  Label  \nMessageId                                               \nTRA7CGN3FF                EUR      1.560189e+09      0  \nTRPNEMZIR7                EUR      4.711420e+06      0  \nTR6S6A5JYL                EUR      7.528216e+05      0  \nTRT4VPEHAK                JPY      6.490487e+08      0  \nTRTADQPGAV                EUR      4.627377e+06      0  ",
      "text/html": "<div>\n<style scoped>\n    .dataframe tbody tr th:only-of-type {\n        vertical-align: middle;\n    }\n\n    .dataframe tbody tr th {\n        vertical-align: top;\n    }\n\n    .dataframe thead th {\n        text-align: right;\n    }\n</style>\n<table border=\"1\" class=\"dataframe\">\n  <thead>\n    <tr style=\"text-align: right;\">\n      <th></th>\n      <th>Timestamp</th>\n      <th>UETR</th>\n      <th>Sender</th>\n      <th>Receiver</th>\n      <th>TransactionReference</th>\n      <th>OrderingAccount</th>\n      <th>OrderingName</th>\n      <th>OrderingStreet</th>\n      <th>OrderingCountryCityZip</th>\n      <th>BeneficiaryAccount</th>\n      <th>BeneficiaryName</th>\n      <th>BeneficiaryStreet</th>\n      <th>BeneficiaryCountryCityZip</th>\n      <th>SettlementDate</th>\n      <th>SettlementCurrency</th>\n      <th>SettlementAmount</th>\n      <th>InstructedCurrency</th>\n      <th>InstructedAmount</th>\n      <th>Label</th>\n    </tr>\n    <tr>\n      <th>MessageId</th>\n      <th></th>\n      <th></th>\n      <th></th>\n      <th></th>\n      <th></th>\n      <th></th>\n      <th></th>\n      <th></th>\n      <th></th>\n      <th></th>\n      <th></th>\n      <th></th>\n      <th></th>\n      <th></th>\n      <th></th>\n      <th></th>\n      <th></th>\n      <th></th>\n      <th></th>\n    </tr>\n  </thead>\n  <tbody>\n    <tr>\n      <th>TRA7CGN3FF</th>\n      <td>2022-01-01</td>\n      <td>f474fdb3-4675-4fff-ab7e-3469f82bd6a7</td>\n      <td>DPSUFRPP</td>\n      <td>ABVVUS6S</td>\n      <td>PETX22-FXIDA-7054</td>\n      <td>FR90714755422956984353</td>\n      <td>PHACELIA HETEROPHYLLA</td>\n      <td>3| RUE HAMON</td>\n      <td>FR/42859 SAINTE AURÉLIE</td>\n      <td>611024064274704358</td>\n      <td>PAPAVER CALIFORNICUM</td>\n      <td>2584 CHARLES PLACE</td>\n      <td>US/ROJASLAND| DC 58442</td>\n      <td>220101</td>\n      <td>USD</td>\n      <td>1.746319e+09</td>\n      <td>EUR</td>\n      <td>1.560189e+09</td>\n      <td>0</td>\n    </tr>\n    <tr>\n      <th>TRPNEMZIR7</th>\n      <td>2022-01-01</td>\n      <td>c9158def-dab1-4bfb-a31f-7f51c6679d60</td>\n      <td>BRRGPTPL</td>\n      <td>CBLHESMM</td>\n      <td>PETX22-NO-FX-1736</td>\n      <td>PT8895792452733129969</td>\n      <td>GONOLOBUS STEPHANOTRICHUS</td>\n      <td>AV RITA ALVES| 60</td>\n      <td>PT/5863-752 CANTANHEDE</td>\n      <td>ES61897100852916932423</td>\n      <td>MINUARTIA NUTTALLII-GREGARIA</td>\n      <td>ACCESO DE CARMINA ARAGÓN 83 PUERTA 4</td>\n      <td>ES/ÁVILA| 02281</td>\n      <td>220101</td>\n      <td>EUR</td>\n      <td>4.711420e+06</td>\n      <td>EUR</td>\n      <td>4.711420e+06</td>\n      <td>0</td>\n    </tr>\n    <tr>\n      <th>TR6S6A5JYL</th>\n      <td>2022-01-01</td>\n      <td>d371ba0a-823f-4243-98ba-94ff18523420</td>\n      <td>BRRGPTPL</td>\n      <td>CBLHESMM</td>\n      <td>PETX22-NO-FX-1687</td>\n      <td>PT92895792452733126420</td>\n      <td>LECHEA INTERMEDIA-INTERMEDIA</td>\n      <td>PRAÇA VALENTE| 85</td>\n      <td>PT/1100-087 BARCELOS</td>\n      <td>ES31897100852916935097</td>\n      <td>ASTRAGALUS MAGDALENAE</td>\n      <td>PASADIZO ANÍBAL LUJÁN 57</td>\n      <td>ES/SEGOVIA| 40727</td>\n      <td>220101</td>\n      <td>EUR</td>\n      <td>7.528216e+05</td>\n      <td>EUR</td>\n      <td>7.528216e+05</td>\n      <td>0</td>\n    </tr>\n    <tr>\n      <th>TRT4VPEHAK</th>\n      <td>2022-01-01</td>\n      <td>5a53a257-4dc9-4800-abb2-4cd1d55c8345</td>\n      <td>DPSUFRPP</td>\n      <td>ABVVUS6S</td>\n      <td>DPSU22-FXIYA-517</td>\n      <td>358727697099645998</td>\n      <td>SCLERANTHUS</td>\n      <td>341 4 CHOME 4 BAN 2 GO</td>\n      <td>JP/FUKUOKA PREFECTURE|ŌKAWA</td>\n      <td>611024064274698543</td>\n      <td>SYNGONIUM PODOPHYLLUM</td>\n      <td>7864 MORRIS MEWS APT. 464</td>\n      <td>US/DPO AE 78549</td>\n      <td>220101</td>\n      <td>USD</td>\n      <td>6.371209e+06</td>\n      <td>JPY</td>\n      <td>6.490487e+08</td>\n      <td>0</td>\n    </tr>\n    <tr>\n      <th>TRTADQPGAV</th>\n      <td>2022-01-01</td>\n      <td>f27867ac-35e2-46af-8248-0a2d0d9bf00d</td>\n      <td>DPSUFRPP</td>\n      <td>ABVVUS6S</td>\n      <td>PETX22-FXIDA-11878</td>\n      <td>FR71714755422956985471</td>\n      <td>SELAGINELLA ASPRELLA</td>\n      <td>28| BOULEVARD LÉVÊQUE</td>\n      <td>FR/36357 TURPIN</td>\n      <td>611024064274707099</td>\n      <td>GALACTIA PARVIFOLIA</td>\n      <td>363 ROBERT GARDENS</td>\n      <td>US/NEW KAREN| MS 49461</td>\n      <td>220101</td>\n      <td>USD</td>\n      <td>5.179423e+06</td>\n      <td>EUR</td>\n      <td>4.627377e+06</td>\n      <td>0</td>\n    </tr>\n  </tbody>\n</table>\n</div>"
     },
     "execution_count": 7,
     "metadata": {},
     "output_type": "execute_result"
    }
   ],
   "source": [
    "train.head()"
   ],
   "metadata": {
    "collapsed": false,
    "pycharm": {
     "name": "#%%\n"
    }
   }
  },
  {
   "cell_type": "code",
   "execution_count": 10,
   "outputs": [
    {
     "data": {
      "text/plain": "       Bank             Account                     Name  \\\n0  ABVVUS6S  611024064274690946      OXYTROPIS PODOCARPA   \n1  ABVVUS6S  611024064274690947         VIOLA ◊ESCULENTA   \n2  ABVVUS6S  611024064274690948  CROSSOSOMA CALIFORNICUM   \n3  ABVVUS6S  611024064274690949    HYDROCOTYLE PROLIFERA   \n4  ABVVUS6S  611024064274690950     CHAMAEMELUM FUSCATUM   \n\n                      Street              CountryCityZip  Flags  \n0           784 YANG PASSAGE    US/NEW SHANNON, IA 49432      0  \n1           786 CINDY HARBOR             US/APO AP 02202      0  \n2  235 JAMES VIEWS SUITE 206       US/ORRVILLE, LA 49084      0  \n3           270 THERESA MILL  US/WEST JAYSHIRE, WA 67409      0  \n4          20734 ISAIAH BURG       US/KINGVIEW, CO 71032      0  ",
      "text/html": "<div>\n<style scoped>\n    .dataframe tbody tr th:only-of-type {\n        vertical-align: middle;\n    }\n\n    .dataframe tbody tr th {\n        vertical-align: top;\n    }\n\n    .dataframe thead th {\n        text-align: right;\n    }\n</style>\n<table border=\"1\" class=\"dataframe\">\n  <thead>\n    <tr style=\"text-align: right;\">\n      <th></th>\n      <th>Bank</th>\n      <th>Account</th>\n      <th>Name</th>\n      <th>Street</th>\n      <th>CountryCityZip</th>\n      <th>Flags</th>\n    </tr>\n  </thead>\n  <tbody>\n    <tr>\n      <th>0</th>\n      <td>ABVVUS6S</td>\n      <td>611024064274690946</td>\n      <td>OXYTROPIS PODOCARPA</td>\n      <td>784 YANG PASSAGE</td>\n      <td>US/NEW SHANNON, IA 49432</td>\n      <td>0</td>\n    </tr>\n    <tr>\n      <th>1</th>\n      <td>ABVVUS6S</td>\n      <td>611024064274690947</td>\n      <td>VIOLA ◊ESCULENTA</td>\n      <td>786 CINDY HARBOR</td>\n      <td>US/APO AP 02202</td>\n      <td>0</td>\n    </tr>\n    <tr>\n      <th>2</th>\n      <td>ABVVUS6S</td>\n      <td>611024064274690948</td>\n      <td>CROSSOSOMA CALIFORNICUM</td>\n      <td>235 JAMES VIEWS SUITE 206</td>\n      <td>US/ORRVILLE, LA 49084</td>\n      <td>0</td>\n    </tr>\n    <tr>\n      <th>3</th>\n      <td>ABVVUS6S</td>\n      <td>611024064274690949</td>\n      <td>HYDROCOTYLE PROLIFERA</td>\n      <td>270 THERESA MILL</td>\n      <td>US/WEST JAYSHIRE, WA 67409</td>\n      <td>0</td>\n    </tr>\n    <tr>\n      <th>4</th>\n      <td>ABVVUS6S</td>\n      <td>611024064274690950</td>\n      <td>CHAMAEMELUM FUSCATUM</td>\n      <td>20734 ISAIAH BURG</td>\n      <td>US/KINGVIEW, CO 71032</td>\n      <td>0</td>\n    </tr>\n  </tbody>\n</table>\n</div>"
     },
     "execution_count": 10,
     "metadata": {},
     "output_type": "execute_result"
    }
   ],
   "source": [
    "bank_data.head()"
   ],
   "metadata": {
    "collapsed": false,
    "pycharm": {
     "name": "#%%\n"
    }
   }
  },
  {
   "cell_type": "markdown",
   "source": [
    "### merge data"
   ],
   "metadata": {
    "collapsed": false,
    "pycharm": {
     "name": "#%% md\n"
    }
   }
  },
  {
   "cell_type": "code",
   "execution_count": 9,
   "outputs": [
    {
     "data": {
      "text/plain": "           Bank                 Account                          Name  \\\n29115  BRRGPTPL  PT92895792452733126420  LECHEA INTERMEDIA-INTERMEDIA   \n\n                  Street        CountryCityZip  Flags  \n29115  PRAÇA VALENTE, 85  PT/1100-087 BARCELOS      0  ",
      "text/html": "<div>\n<style scoped>\n    .dataframe tbody tr th:only-of-type {\n        vertical-align: middle;\n    }\n\n    .dataframe tbody tr th {\n        vertical-align: top;\n    }\n\n    .dataframe thead th {\n        text-align: right;\n    }\n</style>\n<table border=\"1\" class=\"dataframe\">\n  <thead>\n    <tr style=\"text-align: right;\">\n      <th></th>\n      <th>Bank</th>\n      <th>Account</th>\n      <th>Name</th>\n      <th>Street</th>\n      <th>CountryCityZip</th>\n      <th>Flags</th>\n    </tr>\n  </thead>\n  <tbody>\n    <tr>\n      <th>29115</th>\n      <td>BRRGPTPL</td>\n      <td>PT92895792452733126420</td>\n      <td>LECHEA INTERMEDIA-INTERMEDIA</td>\n      <td>PRAÇA VALENTE, 85</td>\n      <td>PT/1100-087 BARCELOS</td>\n      <td>0</td>\n    </tr>\n  </tbody>\n</table>\n</div>"
     },
     "execution_count": 9,
     "metadata": {},
     "output_type": "execute_result"
    }
   ],
   "source": [
    "bank_data[bank_data['Account'] == 'PT92895792452733126420']"
   ],
   "metadata": {
    "collapsed": false,
    "pycharm": {
     "name": "#%%\n"
    }
   }
  }
 ],
 "metadata": {
  "kernelspec": {
   "display_name": "Python 3",
   "language": "python",
   "name": "python3"
  },
  "language_info": {
   "codemirror_mode": {
    "name": "ipython",
    "version": 2
   },
   "file_extension": ".py",
   "mimetype": "text/x-python",
   "name": "python",
   "nbconvert_exporter": "python",
   "pygments_lexer": "ipython2",
   "version": "2.7.6"
  }
 },
 "nbformat": 4,
 "nbformat_minor": 0
}
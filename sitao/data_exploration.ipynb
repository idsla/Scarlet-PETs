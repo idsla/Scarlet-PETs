{
 "cells": [
  {
   "cell_type": "code",
   "execution_count": 18,
   "metadata": {
    "collapsed": true,
    "pycharm": {
     "name": "#%%\n"
    }
   },
   "outputs": [],
   "source": [
    "import pandas as pd\n",
    "import numpy as np\n",
    "from pathlib import Path"
   ]
  },
  {
   "cell_type": "markdown",
   "metadata": {
    "pycharm": {
     "name": "#%% md\n"
    }
   },
   "source": [
    "## Fetch Data"
   ]
  },
  {
   "cell_type": "code",
   "execution_count": 4,
   "metadata": {
    "pycharm": {
     "name": "#%%\n"
    }
   },
   "outputs": [],
   "source": [
    "import utils.data_utils as data_utils\n",
    "\n",
    "DATA_DIR = Path.cwd().parent / \"data\"\n",
    "train, test = data_utils.load_swift_data(DATA_DIR)\n",
    "bank_data = data_utils.load_bank_data(DATA_DIR)"
   ]
  },
  {
   "cell_type": "code",
   "execution_count": 7,
   "metadata": {
    "pycharm": {
     "name": "#%%\n"
    }
   },
   "outputs": [
    {
     "data": {
      "text/html": [
       "<div>\n",
       "<style scoped>\n",
       "    .dataframe tbody tr th:only-of-type {\n",
       "        vertical-align: middle;\n",
       "    }\n",
       "\n",
       "    .dataframe tbody tr th {\n",
       "        vertical-align: top;\n",
       "    }\n",
       "\n",
       "    .dataframe thead th {\n",
       "        text-align: right;\n",
       "    }\n",
       "</style>\n",
       "<table border=\"1\" class=\"dataframe\">\n",
       "  <thead>\n",
       "    <tr style=\"text-align: right;\">\n",
       "      <th></th>\n",
       "      <th>Timestamp</th>\n",
       "      <th>UETR</th>\n",
       "      <th>Sender</th>\n",
       "      <th>Receiver</th>\n",
       "      <th>TransactionReference</th>\n",
       "      <th>OrderingAccount</th>\n",
       "      <th>OrderingName</th>\n",
       "      <th>OrderingStreet</th>\n",
       "      <th>OrderingCountryCityZip</th>\n",
       "      <th>BeneficiaryAccount</th>\n",
       "      <th>BeneficiaryName</th>\n",
       "      <th>BeneficiaryStreet</th>\n",
       "      <th>BeneficiaryCountryCityZip</th>\n",
       "      <th>SettlementDate</th>\n",
       "      <th>SettlementCurrency</th>\n",
       "      <th>SettlementAmount</th>\n",
       "      <th>InstructedCurrency</th>\n",
       "      <th>InstructedAmount</th>\n",
       "      <th>Label</th>\n",
       "    </tr>\n",
       "    <tr>\n",
       "      <th>MessageId</th>\n",
       "      <th></th>\n",
       "      <th></th>\n",
       "      <th></th>\n",
       "      <th></th>\n",
       "      <th></th>\n",
       "      <th></th>\n",
       "      <th></th>\n",
       "      <th></th>\n",
       "      <th></th>\n",
       "      <th></th>\n",
       "      <th></th>\n",
       "      <th></th>\n",
       "      <th></th>\n",
       "      <th></th>\n",
       "      <th></th>\n",
       "      <th></th>\n",
       "      <th></th>\n",
       "      <th></th>\n",
       "      <th></th>\n",
       "    </tr>\n",
       "  </thead>\n",
       "  <tbody>\n",
       "    <tr>\n",
       "      <th>TRA7CGN3FF</th>\n",
       "      <td>2022-01-01</td>\n",
       "      <td>f474fdb3-4675-4fff-ab7e-3469f82bd6a7</td>\n",
       "      <td>DPSUFRPP</td>\n",
       "      <td>ABVVUS6S</td>\n",
       "      <td>PETX22-FXIDA-7054</td>\n",
       "      <td>FR90714755422956984353</td>\n",
       "      <td>PHACELIA HETEROPHYLLA</td>\n",
       "      <td>3| RUE HAMON</td>\n",
       "      <td>FR/42859 SAINTE AURÉLIE</td>\n",
       "      <td>611024064274704358</td>\n",
       "      <td>PAPAVER CALIFORNICUM</td>\n",
       "      <td>2584 CHARLES PLACE</td>\n",
       "      <td>US/ROJASLAND| DC 58442</td>\n",
       "      <td>220101</td>\n",
       "      <td>USD</td>\n",
       "      <td>1.746319e+09</td>\n",
       "      <td>EUR</td>\n",
       "      <td>1.560189e+09</td>\n",
       "      <td>0</td>\n",
       "    </tr>\n",
       "    <tr>\n",
       "      <th>TRPNEMZIR7</th>\n",
       "      <td>2022-01-01</td>\n",
       "      <td>c9158def-dab1-4bfb-a31f-7f51c6679d60</td>\n",
       "      <td>BRRGPTPL</td>\n",
       "      <td>CBLHESMM</td>\n",
       "      <td>PETX22-NO-FX-1736</td>\n",
       "      <td>PT8895792452733129969</td>\n",
       "      <td>GONOLOBUS STEPHANOTRICHUS</td>\n",
       "      <td>AV RITA ALVES| 60</td>\n",
       "      <td>PT/5863-752 CANTANHEDE</td>\n",
       "      <td>ES61897100852916932423</td>\n",
       "      <td>MINUARTIA NUTTALLII-GREGARIA</td>\n",
       "      <td>ACCESO DE CARMINA ARAGÓN 83 PUERTA 4</td>\n",
       "      <td>ES/ÁVILA| 02281</td>\n",
       "      <td>220101</td>\n",
       "      <td>EUR</td>\n",
       "      <td>4.711420e+06</td>\n",
       "      <td>EUR</td>\n",
       "      <td>4.711420e+06</td>\n",
       "      <td>0</td>\n",
       "    </tr>\n",
       "    <tr>\n",
       "      <th>TR6S6A5JYL</th>\n",
       "      <td>2022-01-01</td>\n",
       "      <td>d371ba0a-823f-4243-98ba-94ff18523420</td>\n",
       "      <td>BRRGPTPL</td>\n",
       "      <td>CBLHESMM</td>\n",
       "      <td>PETX22-NO-FX-1687</td>\n",
       "      <td>PT92895792452733126420</td>\n",
       "      <td>LECHEA INTERMEDIA-INTERMEDIA</td>\n",
       "      <td>PRAÇA VALENTE| 85</td>\n",
       "      <td>PT/1100-087 BARCELOS</td>\n",
       "      <td>ES31897100852916935097</td>\n",
       "      <td>ASTRAGALUS MAGDALENAE</td>\n",
       "      <td>PASADIZO ANÍBAL LUJÁN 57</td>\n",
       "      <td>ES/SEGOVIA| 40727</td>\n",
       "      <td>220101</td>\n",
       "      <td>EUR</td>\n",
       "      <td>7.528216e+05</td>\n",
       "      <td>EUR</td>\n",
       "      <td>7.528216e+05</td>\n",
       "      <td>0</td>\n",
       "    </tr>\n",
       "    <tr>\n",
       "      <th>TRT4VPEHAK</th>\n",
       "      <td>2022-01-01</td>\n",
       "      <td>5a53a257-4dc9-4800-abb2-4cd1d55c8345</td>\n",
       "      <td>DPSUFRPP</td>\n",
       "      <td>ABVVUS6S</td>\n",
       "      <td>DPSU22-FXIYA-517</td>\n",
       "      <td>358727697099645998</td>\n",
       "      <td>SCLERANTHUS</td>\n",
       "      <td>341 4 CHOME 4 BAN 2 GO</td>\n",
       "      <td>JP/FUKUOKA PREFECTURE|ŌKAWA</td>\n",
       "      <td>611024064274698543</td>\n",
       "      <td>SYNGONIUM PODOPHYLLUM</td>\n",
       "      <td>7864 MORRIS MEWS APT. 464</td>\n",
       "      <td>US/DPO AE 78549</td>\n",
       "      <td>220101</td>\n",
       "      <td>USD</td>\n",
       "      <td>6.371209e+06</td>\n",
       "      <td>JPY</td>\n",
       "      <td>6.490487e+08</td>\n",
       "      <td>0</td>\n",
       "    </tr>\n",
       "    <tr>\n",
       "      <th>TRTADQPGAV</th>\n",
       "      <td>2022-01-01</td>\n",
       "      <td>f27867ac-35e2-46af-8248-0a2d0d9bf00d</td>\n",
       "      <td>DPSUFRPP</td>\n",
       "      <td>ABVVUS6S</td>\n",
       "      <td>PETX22-FXIDA-11878</td>\n",
       "      <td>FR71714755422956985471</td>\n",
       "      <td>SELAGINELLA ASPRELLA</td>\n",
       "      <td>28| BOULEVARD LÉVÊQUE</td>\n",
       "      <td>FR/36357 TURPIN</td>\n",
       "      <td>611024064274707099</td>\n",
       "      <td>GALACTIA PARVIFOLIA</td>\n",
       "      <td>363 ROBERT GARDENS</td>\n",
       "      <td>US/NEW KAREN| MS 49461</td>\n",
       "      <td>220101</td>\n",
       "      <td>USD</td>\n",
       "      <td>5.179423e+06</td>\n",
       "      <td>EUR</td>\n",
       "      <td>4.627377e+06</td>\n",
       "      <td>0</td>\n",
       "    </tr>\n",
       "  </tbody>\n",
       "</table>\n",
       "</div>"
      ],
      "text/plain": [
       "            Timestamp                                  UETR    Sender  \\\n",
       "MessageId                                                               \n",
       "TRA7CGN3FF 2022-01-01  f474fdb3-4675-4fff-ab7e-3469f82bd6a7  DPSUFRPP   \n",
       "TRPNEMZIR7 2022-01-01  c9158def-dab1-4bfb-a31f-7f51c6679d60  BRRGPTPL   \n",
       "TR6S6A5JYL 2022-01-01  d371ba0a-823f-4243-98ba-94ff18523420  BRRGPTPL   \n",
       "TRT4VPEHAK 2022-01-01  5a53a257-4dc9-4800-abb2-4cd1d55c8345  DPSUFRPP   \n",
       "TRTADQPGAV 2022-01-01  f27867ac-35e2-46af-8248-0a2d0d9bf00d  DPSUFRPP   \n",
       "\n",
       "            Receiver TransactionReference         OrderingAccount  \\\n",
       "MessageId                                                           \n",
       "TRA7CGN3FF  ABVVUS6S    PETX22-FXIDA-7054  FR90714755422956984353   \n",
       "TRPNEMZIR7  CBLHESMM    PETX22-NO-FX-1736   PT8895792452733129969   \n",
       "TR6S6A5JYL  CBLHESMM    PETX22-NO-FX-1687  PT92895792452733126420   \n",
       "TRT4VPEHAK  ABVVUS6S     DPSU22-FXIYA-517      358727697099645998   \n",
       "TRTADQPGAV  ABVVUS6S   PETX22-FXIDA-11878  FR71714755422956985471   \n",
       "\n",
       "                            OrderingName          OrderingStreet  \\\n",
       "MessageId                                                          \n",
       "TRA7CGN3FF         PHACELIA HETEROPHYLLA            3| RUE HAMON   \n",
       "TRPNEMZIR7     GONOLOBUS STEPHANOTRICHUS       AV RITA ALVES| 60   \n",
       "TR6S6A5JYL  LECHEA INTERMEDIA-INTERMEDIA       PRAÇA VALENTE| 85   \n",
       "TRT4VPEHAK                   SCLERANTHUS  341 4 CHOME 4 BAN 2 GO   \n",
       "TRTADQPGAV          SELAGINELLA ASPRELLA   28| BOULEVARD LÉVÊQUE   \n",
       "\n",
       "                 OrderingCountryCityZip      BeneficiaryAccount  \\\n",
       "MessageId                                                         \n",
       "TRA7CGN3FF      FR/42859 SAINTE AURÉLIE      611024064274704358   \n",
       "TRPNEMZIR7       PT/5863-752 CANTANHEDE  ES61897100852916932423   \n",
       "TR6S6A5JYL         PT/1100-087 BARCELOS  ES31897100852916935097   \n",
       "TRT4VPEHAK  JP/FUKUOKA PREFECTURE|ŌKAWA      611024064274698543   \n",
       "TRTADQPGAV              FR/36357 TURPIN      611024064274707099   \n",
       "\n",
       "                         BeneficiaryName  \\\n",
       "MessageId                                  \n",
       "TRA7CGN3FF          PAPAVER CALIFORNICUM   \n",
       "TRPNEMZIR7  MINUARTIA NUTTALLII-GREGARIA   \n",
       "TR6S6A5JYL         ASTRAGALUS MAGDALENAE   \n",
       "TRT4VPEHAK         SYNGONIUM PODOPHYLLUM   \n",
       "TRTADQPGAV           GALACTIA PARVIFOLIA   \n",
       "\n",
       "                                BeneficiaryStreet BeneficiaryCountryCityZip  \\\n",
       "MessageId                                                                     \n",
       "TRA7CGN3FF                     2584 CHARLES PLACE    US/ROJASLAND| DC 58442   \n",
       "TRPNEMZIR7  ACCESO DE CARMINA ARAGÓN 83 PUERTA 4            ES/ÁVILA| 02281   \n",
       "TR6S6A5JYL               PASADIZO ANÍBAL LUJÁN 57         ES/SEGOVIA| 40727   \n",
       "TRT4VPEHAK              7864 MORRIS MEWS APT. 464           US/DPO AE 78549   \n",
       "TRTADQPGAV                     363 ROBERT GARDENS    US/NEW KAREN| MS 49461   \n",
       "\n",
       "            SettlementDate SettlementCurrency  SettlementAmount  \\\n",
       "MessageId                                                         \n",
       "TRA7CGN3FF          220101                USD      1.746319e+09   \n",
       "TRPNEMZIR7          220101                EUR      4.711420e+06   \n",
       "TR6S6A5JYL          220101                EUR      7.528216e+05   \n",
       "TRT4VPEHAK          220101                USD      6.371209e+06   \n",
       "TRTADQPGAV          220101                USD      5.179423e+06   \n",
       "\n",
       "           InstructedCurrency  InstructedAmount  Label  \n",
       "MessageId                                               \n",
       "TRA7CGN3FF                EUR      1.560189e+09      0  \n",
       "TRPNEMZIR7                EUR      4.711420e+06      0  \n",
       "TR6S6A5JYL                EUR      7.528216e+05      0  \n",
       "TRT4VPEHAK                JPY      6.490487e+08      0  \n",
       "TRTADQPGAV                EUR      4.627377e+06      0  "
      ]
     },
     "execution_count": 7,
     "metadata": {},
     "output_type": "execute_result"
    }
   ],
   "source": [
    "train.head()"
   ]
  },
  {
   "cell_type": "code",
   "execution_count": 10,
   "metadata": {
    "pycharm": {
     "name": "#%%\n"
    }
   },
   "outputs": [
    {
     "data": {
      "text/html": [
       "<div>\n",
       "<style scoped>\n",
       "    .dataframe tbody tr th:only-of-type {\n",
       "        vertical-align: middle;\n",
       "    }\n",
       "\n",
       "    .dataframe tbody tr th {\n",
       "        vertical-align: top;\n",
       "    }\n",
       "\n",
       "    .dataframe thead th {\n",
       "        text-align: right;\n",
       "    }\n",
       "</style>\n",
       "<table border=\"1\" class=\"dataframe\">\n",
       "  <thead>\n",
       "    <tr style=\"text-align: right;\">\n",
       "      <th></th>\n",
       "      <th>Bank</th>\n",
       "      <th>Account</th>\n",
       "      <th>Name</th>\n",
       "      <th>Street</th>\n",
       "      <th>CountryCityZip</th>\n",
       "      <th>Flags</th>\n",
       "    </tr>\n",
       "  </thead>\n",
       "  <tbody>\n",
       "    <tr>\n",
       "      <th>0</th>\n",
       "      <td>ABVVUS6S</td>\n",
       "      <td>611024064274690946</td>\n",
       "      <td>OXYTROPIS PODOCARPA</td>\n",
       "      <td>784 YANG PASSAGE</td>\n",
       "      <td>US/NEW SHANNON, IA 49432</td>\n",
       "      <td>0</td>\n",
       "    </tr>\n",
       "    <tr>\n",
       "      <th>1</th>\n",
       "      <td>ABVVUS6S</td>\n",
       "      <td>611024064274690947</td>\n",
       "      <td>VIOLA ◊ESCULENTA</td>\n",
       "      <td>786 CINDY HARBOR</td>\n",
       "      <td>US/APO AP 02202</td>\n",
       "      <td>0</td>\n",
       "    </tr>\n",
       "    <tr>\n",
       "      <th>2</th>\n",
       "      <td>ABVVUS6S</td>\n",
       "      <td>611024064274690948</td>\n",
       "      <td>CROSSOSOMA CALIFORNICUM</td>\n",
       "      <td>235 JAMES VIEWS SUITE 206</td>\n",
       "      <td>US/ORRVILLE, LA 49084</td>\n",
       "      <td>0</td>\n",
       "    </tr>\n",
       "    <tr>\n",
       "      <th>3</th>\n",
       "      <td>ABVVUS6S</td>\n",
       "      <td>611024064274690949</td>\n",
       "      <td>HYDROCOTYLE PROLIFERA</td>\n",
       "      <td>270 THERESA MILL</td>\n",
       "      <td>US/WEST JAYSHIRE, WA 67409</td>\n",
       "      <td>0</td>\n",
       "    </tr>\n",
       "    <tr>\n",
       "      <th>4</th>\n",
       "      <td>ABVVUS6S</td>\n",
       "      <td>611024064274690950</td>\n",
       "      <td>CHAMAEMELUM FUSCATUM</td>\n",
       "      <td>20734 ISAIAH BURG</td>\n",
       "      <td>US/KINGVIEW, CO 71032</td>\n",
       "      <td>0</td>\n",
       "    </tr>\n",
       "  </tbody>\n",
       "</table>\n",
       "</div>"
      ],
      "text/plain": [
       "       Bank             Account                     Name  \\\n",
       "0  ABVVUS6S  611024064274690946      OXYTROPIS PODOCARPA   \n",
       "1  ABVVUS6S  611024064274690947         VIOLA ◊ESCULENTA   \n",
       "2  ABVVUS6S  611024064274690948  CROSSOSOMA CALIFORNICUM   \n",
       "3  ABVVUS6S  611024064274690949    HYDROCOTYLE PROLIFERA   \n",
       "4  ABVVUS6S  611024064274690950     CHAMAEMELUM FUSCATUM   \n",
       "\n",
       "                      Street              CountryCityZip  Flags  \n",
       "0           784 YANG PASSAGE    US/NEW SHANNON, IA 49432      0  \n",
       "1           786 CINDY HARBOR             US/APO AP 02202      0  \n",
       "2  235 JAMES VIEWS SUITE 206       US/ORRVILLE, LA 49084      0  \n",
       "3           270 THERESA MILL  US/WEST JAYSHIRE, WA 67409      0  \n",
       "4          20734 ISAIAH BURG       US/KINGVIEW, CO 71032      0  "
      ]
     },
     "execution_count": 10,
     "metadata": {},
     "output_type": "execute_result"
    }
   ],
   "source": [
    "bank_data.head()"
   ]
  },
  {
   "cell_type": "markdown",
   "metadata": {
    "pycharm": {
     "name": "#%% md\n"
    }
   },
   "source": [
    "### merge data"
   ]
  },
  {
   "cell_type": "markdown",
   "metadata": {
    "pycharm": {
     "name": "#%% md\n"
    }
   },
   "source": [
    "### Features"
   ]
  },
  {
   "cell_type": "code",
   "execution_count": 12,
   "metadata": {
    "pycharm": {
     "name": "#%%\n"
    }
   },
   "outputs": [],
   "source": [
    "%%time\n",
    "# Hour\n",
    "train[\"hour\"] = train[\"Timestamp\"].dt.hour\n",
    "test[\"hour\"] = test[\"Timestamp\"].dt.hour\n",
    "\n",
    "# Hour frequency for each sender\n",
    "senders = train[\"Sender\"].unique()\n",
    "train[\"sender_hour\"] = train[\"Sender\"] + train[\"hour\"].astype(str)\n",
    "test[\"sender_hour\"] = test[\"Sender\"] + test[\"hour\"].astype(str)\n",
    "sender_hour_frequency = {}\n",
    "for s in senders:\n",
    "    sender_rows = train[train[\"Sender\"] == s]\n",
    "    for h in range(24):\n",
    "        sender_hour_frequency[s + str(h)] = len(sender_rows[sender_rows[\"hour\"] == h])\n",
    "\n",
    "train[\"sender_hour_freq\"] = train[\"sender_hour\"].map(sender_hour_frequency)\n",
    "test[\"sender_hour_freq\"] = test[\"sender_hour\"].map(sender_hour_frequency)"
   ]
  },
  {
   "cell_type": "code",
   "execution_count": 13,
   "metadata": {
    "pycharm": {
     "name": "#%%\n"
    }
   },
   "outputs": [
    {
     "name": "stdout",
     "output_type": "stream",
     "text": [
      "CPU times: total: 20.1 s\n",
      "Wall time: 20.1 s\n"
     ]
    }
   ],
   "source": [
    "%%time\n",
    "# Sender-Currency Frequency and Average Amount per Sender-Currency\n",
    "train[\"sender_currency\"] = train[\"Sender\"] + train[\"InstructedCurrency\"]\n",
    "test[\"sender_currency\"] = test[\"Sender\"] + test[\"InstructedCurrency\"]\n",
    "\n",
    "sender_currency_freq = {}\n",
    "sender_currency_avg = {}\n",
    "\n",
    "for sc in set(\n",
    "    list(train[\"sender_currency\"].unique()) + list(test[\"sender_currency\"].unique())\n",
    "):\n",
    "    sender_currency_freq[sc] = len(train[train[\"sender_currency\"] == sc])\n",
    "    sender_currency_avg[sc] = train[train[\"sender_currency\"] == sc][\n",
    "        \"InstructedAmount\"\n",
    "    ].mean()\n",
    "\n",
    "train[\"sender_currency_freq\"] = train[\"sender_currency\"].map(sender_currency_freq)\n",
    "test[\"sender_currency_freq\"] = test[\"sender_currency\"].map(sender_currency_freq)\n",
    "\n",
    "train[\"sender_currency_amount_average\"] = train[\"sender_currency\"].map(\n",
    "    sender_currency_avg\n",
    ")\n",
    "test[\"sender_currency_amount_average\"] = test[\"sender_currency\"].map(sender_currency_avg)"
   ]
  },
  {
   "cell_type": "code",
   "execution_count": 14,
   "metadata": {
    "pycharm": {
     "name": "#%%\n"
    }
   },
   "outputs": [
    {
     "name": "stdout",
     "output_type": "stream",
     "text": [
      "CPU times: total: 23.7 s\n",
      "Wall time: 23.7 s\n"
     ]
    }
   ],
   "source": [
    "%%time\n",
    "# Sender-Receiver Frequency\n",
    "train[\"sender_receiver\"] = train[\"Sender\"] + train[\"Receiver\"]\n",
    "test[\"sender_receiver\"] = test[\"Sender\"] + test[\"Receiver\"]\n",
    "\n",
    "sender_receiver_freq = {}\n",
    "\n",
    "for sr in set(\n",
    "    list(train[\"sender_receiver\"].unique()) + list(test[\"sender_receiver\"].unique())\n",
    "):\n",
    "    sender_receiver_freq[sr] = len(train[train[\"sender_receiver\"] == sr])\n",
    "\n",
    "train[\"sender_receiver_freq\"] = train[\"sender_receiver\"].map(sender_receiver_freq)\n",
    "test[\"sender_receiver_freq\"] = test[\"sender_receiver\"].map(sender_receiver_freq)"
   ]
  },
  {
   "cell_type": "code",
   "execution_count": 15,
   "metadata": {
    "pycharm": {
     "name": "#%%\n"
    }
   },
   "outputs": [
    {
     "data": {
      "text/html": [
       "<div>\n",
       "<style scoped>\n",
       "    .dataframe tbody tr th:only-of-type {\n",
       "        vertical-align: middle;\n",
       "    }\n",
       "\n",
       "    .dataframe tbody tr th {\n",
       "        vertical-align: top;\n",
       "    }\n",
       "\n",
       "    .dataframe thead th {\n",
       "        text-align: right;\n",
       "    }\n",
       "</style>\n",
       "<table border=\"1\" class=\"dataframe\">\n",
       "  <thead>\n",
       "    <tr style=\"text-align: right;\">\n",
       "      <th></th>\n",
       "      <th>SettlementAmount</th>\n",
       "      <th>InstructedAmount</th>\n",
       "      <th>Label</th>\n",
       "      <th>hour</th>\n",
       "      <th>sender_hour_freq</th>\n",
       "      <th>sender_currency_freq</th>\n",
       "      <th>sender_currency_amount_average</th>\n",
       "      <th>sender_receiver_freq</th>\n",
       "    </tr>\n",
       "    <tr>\n",
       "      <th>MessageId</th>\n",
       "      <th></th>\n",
       "      <th></th>\n",
       "      <th></th>\n",
       "      <th></th>\n",
       "      <th></th>\n",
       "      <th></th>\n",
       "      <th></th>\n",
       "      <th></th>\n",
       "    </tr>\n",
       "  </thead>\n",
       "  <tbody>\n",
       "    <tr>\n",
       "      <th>TRA7CGN3FF</th>\n",
       "      <td>1.746319e+09</td>\n",
       "      <td>1.560189e+09</td>\n",
       "      <td>0</td>\n",
       "      <td>0</td>\n",
       "      <td>16519</td>\n",
       "      <td>1598751</td>\n",
       "      <td>1.692465e+08</td>\n",
       "      <td>1708051</td>\n",
       "    </tr>\n",
       "    <tr>\n",
       "      <th>TRPNEMZIR7</th>\n",
       "      <td>4.711420e+06</td>\n",
       "      <td>4.711420e+06</td>\n",
       "      <td>0</td>\n",
       "      <td>0</td>\n",
       "      <td>4214</td>\n",
       "      <td>36690</td>\n",
       "      <td>1.667354e+06</td>\n",
       "      <td>36690</td>\n",
       "    </tr>\n",
       "    <tr>\n",
       "      <th>TR6S6A5JYL</th>\n",
       "      <td>7.528216e+05</td>\n",
       "      <td>7.528216e+05</td>\n",
       "      <td>0</td>\n",
       "      <td>0</td>\n",
       "      <td>4214</td>\n",
       "      <td>36690</td>\n",
       "      <td>1.667354e+06</td>\n",
       "      <td>36690</td>\n",
       "    </tr>\n",
       "  </tbody>\n",
       "</table>\n",
       "</div>"
      ],
      "text/plain": [
       "            SettlementAmount  InstructedAmount  Label  hour  sender_hour_freq  \\\n",
       "MessageId                                                                       \n",
       "TRA7CGN3FF      1.746319e+09      1.560189e+09      0     0             16519   \n",
       "TRPNEMZIR7      4.711420e+06      4.711420e+06      0     0              4214   \n",
       "TR6S6A5JYL      7.528216e+05      7.528216e+05      0     0              4214   \n",
       "\n",
       "            sender_currency_freq  sender_currency_amount_average  \\\n",
       "MessageId                                                          \n",
       "TRA7CGN3FF               1598751                    1.692465e+08   \n",
       "TRPNEMZIR7                 36690                    1.667354e+06   \n",
       "TR6S6A5JYL                 36690                    1.667354e+06   \n",
       "\n",
       "            sender_receiver_freq  \n",
       "MessageId                         \n",
       "TRA7CGN3FF               1708051  \n",
       "TRPNEMZIR7                 36690  \n",
       "TR6S6A5JYL                 36690  "
      ]
     },
     "execution_count": 15,
     "metadata": {},
     "output_type": "execute_result"
    }
   ],
   "source": [
    "columns_to_drop = [\n",
    "    \"UETR\",\n",
    "    \"Sender\",\n",
    "    \"Receiver\",\n",
    "    \"TransactionReference\",\n",
    "    \"OrderingAccount\",\n",
    "    \"OrderingName\",\n",
    "    \"OrderingStreet\",\n",
    "    \"OrderingCountryCityZip\",\n",
    "    \"BeneficiaryAccount\",\n",
    "    \"BeneficiaryName\",\n",
    "    \"BeneficiaryStreet\",\n",
    "    \"BeneficiaryCountryCityZip\",\n",
    "    \"SettlementDate\",\n",
    "    \"SettlementCurrency\",\n",
    "    \"InstructedCurrency\",\n",
    "    \"Timestamp\",\n",
    "    \"sender_hour\",\n",
    "    \"sender_currency\",\n",
    "    \"sender_receiver\",\n",
    "]\n",
    "\n",
    "train_sub = train.drop(columns_to_drop, axis=1)\n",
    "test_sub = test.drop(columns_to_drop, axis=1)\n",
    "train_sub.head(3)"
   ]
  },
  {
   "cell_type": "markdown",
   "metadata": {
    "pycharm": {
     "name": "#%% md\n"
    }
   },
   "source": [
    "### PCA"
   ]
  },
  {
   "cell_type": "code",
   "execution_count": 41,
   "metadata": {
    "pycharm": {
     "name": "#%%\n"
    }
   },
   "outputs": [
    {
     "data": {
      "image/png": "[encoded data removed]",
      "text/plain": [
       "<Figure size 432x288 with 1 Axes>"
      ]
     },
     "metadata": {
      "needs_background": "light"
     },
     "output_type": "display_data"
    }
   ],
   "source": [
    "from sklearn.decomposition import PCA\n",
    "import matplotlib.pyplot as plt\n",
    "from sklearn.preprocessing import StandardScaler\n",
    "\n",
    "train_sub_pca = train_sub.drop(['Label'],axis=1)\n",
    "scaler = StandardScaler()\n",
    "scaler.fit(train_sub_pca)\n",
    "\n",
    "X_train = scaler.transform(train_sub_pca)\n",
    "pca = PCA(n_components=7).fit(X_train)\n",
    "\n",
    "plt.plot(pca.explained_variance_ratio_.cumsum(), lw=3, color='#087E8B')\n",
    "plt.title('Cumulative explained variance by number of principal components', size=20)\n",
    "plt.show()"
   ]
  },
  {
   "cell_type": "code",
   "execution_count": 42,
   "metadata": {
    "pycharm": {
     "name": "#%%\n"
    }
   },
   "outputs": [
    {
     "data": {
      "text/plain": [
       "array([0.31288719, 0.25560167, 0.14347123, 0.12503169, 0.09181146,\n",
       "       0.04076424, 0.03043253])"
      ]
     },
     "execution_count": 42,
     "metadata": {},
     "output_type": "execute_result"
    }
   ],
   "source": [
    "pca.explained_variance_ratio_"
   ]
  },
  {
   "cell_type": "code",
   "execution_count": 43,
   "metadata": {
    "pycharm": {
     "name": "#%%\n"
    }
   },
   "outputs": [
    {
     "data": {
      "text/plain": [
       "array([3205.59892525, 2897.3244989 , 2170.68948188, 2026.40075608,\n",
       "       1736.45581767, 1157.05751102,  999.73373302])"
      ]
     },
     "execution_count": 43,
     "metadata": {},
     "output_type": "execute_result"
    }
   ],
   "source": [
    "pca.singular_values_"
   ]
  },
  {
   "cell_type": "code",
   "execution_count": 46,
   "metadata": {
    "pycharm": {
     "name": "#%%\n"
    }
   },
   "outputs": [
    {
     "data": {
      "text/html": [
       "<div>\n",
       "<style scoped>\n",
       "    .dataframe tbody tr th:only-of-type {\n",
       "        vertical-align: middle;\n",
       "    }\n",
       "\n",
       "    .dataframe tbody tr th {\n",
       "        vertical-align: top;\n",
       "    }\n",
       "\n",
       "    .dataframe thead th {\n",
       "        text-align: right;\n",
       "    }\n",
       "</style>\n",
       "<table border=\"1\" class=\"dataframe\">\n",
       "  <thead>\n",
       "    <tr style=\"text-align: right;\">\n",
       "      <th></th>\n",
       "      <th>PC1</th>\n",
       "      <th>PC2</th>\n",
       "      <th>PC3</th>\n",
       "      <th>PC4</th>\n",
       "      <th>PC5</th>\n",
       "      <th>PC6</th>\n",
       "      <th>PC7</th>\n",
       "    </tr>\n",
       "  </thead>\n",
       "  <tbody>\n",
       "    <tr>\n",
       "      <th>SettlementAmount</th>\n",
       "      <td>0.140739</td>\n",
       "      <td>0.650102</td>\n",
       "      <td>0.084600</td>\n",
       "      <td>0.247766</td>\n",
       "      <td>0.007012</td>\n",
       "      <td>-0.698919</td>\n",
       "      <td>-0.021858</td>\n",
       "    </tr>\n",
       "    <tr>\n",
       "      <th>InstructedAmount</th>\n",
       "      <td>0.152309</td>\n",
       "      <td>0.656384</td>\n",
       "      <td>0.066900</td>\n",
       "      <td>0.181124</td>\n",
       "      <td>0.004159</td>\n",
       "      <td>0.712840</td>\n",
       "      <td>0.022859</td>\n",
       "    </tr>\n",
       "    <tr>\n",
       "      <th>hour</th>\n",
       "      <td>0.072633</td>\n",
       "      <td>0.008713</td>\n",
       "      <td>-0.959724</td>\n",
       "      <td>0.264284</td>\n",
       "      <td>-0.056146</td>\n",
       "      <td>-0.001066</td>\n",
       "      <td>0.024063</td>\n",
       "    </tr>\n",
       "    <tr>\n",
       "      <th>sender_hour_freq</th>\n",
       "      <td>-0.467038</td>\n",
       "      <td>0.130648</td>\n",
       "      <td>-0.104738</td>\n",
       "      <td>-0.064141</td>\n",
       "      <td>0.859485</td>\n",
       "      <td>0.003963</td>\n",
       "      <td>-0.104842</td>\n",
       "    </tr>\n",
       "    <tr>\n",
       "      <th>sender_currency_freq</th>\n",
       "      <td>-0.583913</td>\n",
       "      <td>0.144563</td>\n",
       "      <td>-0.039087</td>\n",
       "      <td>-0.015648</td>\n",
       "      <td>-0.427421</td>\n",
       "      <td>0.023372</td>\n",
       "      <td>-0.673156</td>\n",
       "    </tr>\n",
       "    <tr>\n",
       "      <th>sender_currency_amount_average</th>\n",
       "      <td>0.190517</td>\n",
       "      <td>0.283004</td>\n",
       "      <td>-0.231680</td>\n",
       "      <td>-0.907721</td>\n",
       "      <td>-0.040817</td>\n",
       "      <td>-0.047211</td>\n",
       "      <td>-0.045652</td>\n",
       "    </tr>\n",
       "    <tr>\n",
       "      <th>sender_receiver_freq</th>\n",
       "      <td>-0.596945</td>\n",
       "      <td>0.168503</td>\n",
       "      <td>-0.033522</td>\n",
       "      <td>-0.087429</td>\n",
       "      <td>-0.271499</td>\n",
       "      <td>-0.024061</td>\n",
       "      <td>0.729524</td>\n",
       "    </tr>\n",
       "  </tbody>\n",
       "</table>\n",
       "</div>"
      ],
      "text/plain": [
       "                                     PC1       PC2       PC3       PC4  \\\n",
       "SettlementAmount                0.140739  0.650102  0.084600  0.247766   \n",
       "InstructedAmount                0.152309  0.656384  0.066900  0.181124   \n",
       "hour                            0.072633  0.008713 -0.959724  0.264284   \n",
       "sender_hour_freq               -0.467038  0.130648 -0.104738 -0.064141   \n",
       "sender_currency_freq           -0.583913  0.144563 -0.039087 -0.015648   \n",
       "sender_currency_amount_average  0.190517  0.283004 -0.231680 -0.907721   \n",
       "sender_receiver_freq           -0.596945  0.168503 -0.033522 -0.087429   \n",
       "\n",
       "                                     PC5       PC6       PC7  \n",
       "SettlementAmount                0.007012 -0.698919 -0.021858  \n",
       "InstructedAmount                0.004159  0.712840  0.022859  \n",
       "hour                           -0.056146 -0.001066  0.024063  \n",
       "sender_hour_freq                0.859485  0.003963 -0.104842  \n",
       "sender_currency_freq           -0.427421  0.023372 -0.673156  \n",
       "sender_currency_amount_average -0.040817 -0.047211 -0.045652  \n",
       "sender_receiver_freq           -0.271499 -0.024061  0.729524  "
      ]
     },
     "execution_count": 46,
     "metadata": {},
     "output_type": "execute_result"
    }
   ],
   "source": [
    "loadings = pd.DataFrame(pca.components_.T, columns=['PC{}'.format(str(i)) for i in range(1, 8)], index=train_sub_pca.columns)\n",
    "loadings"
   ]
  }
 ],
 "metadata": {
  "kernelspec": {
   "display_name": "Python 3 (ipykernel)",
   "language": "python",
   "name": "python3"
  },
  "language_info": {
   "codemirror_mode": {
    "name": "ipython",
    "version": 3
   },
   "file_extension": ".py",
   "mimetype": "text/x-python",
   "name": "python",
   "nbconvert_exporter": "python",
   "pygments_lexer": "ipython3",
   "version": "3.9.13"
  },
  "toc": {
   "base_numbering": 1,
   "nav_menu": {},
   "number_sections": true,
   "sideBar": true,
   "skip_h1_title": false,
   "title_cell": "Table of Contents",
   "title_sidebar": "Contents",
   "toc_cell": false,
   "toc_position": {
    "height": "calc(100% - 180px)",
    "left": "10px",
    "top": "150px",
    "width": "193.449px"
   },
   "toc_section_display": true,
   "toc_window_display": true
  },
  "varInspector": {
   "cols": {
    "lenName": 16,
    "lenType": 16,
    "lenVar": 40
   },
   "kernels_config": {
    "python": {
     "delete_cmd_postfix": "",
     "delete_cmd_prefix": "del ",
     "library": "var_list.py",
     "varRefreshCmd": "print(var_dic_list())"
    },
    "r": {
     "delete_cmd_postfix": ") ",
     "delete_cmd_prefix": "rm(",
     "library": "var_list.r",
     "varRefreshCmd": "cat(var_dic_list()) "
    }
   },
   "types_to_exclude": [
    "module",
    "function",
    "builtin_function_or_method",
    "instance",
    "_Feature"
   ],
   "window_display": false
  }
 },
 "nbformat": 4,
 "nbformat_minor": 1
}
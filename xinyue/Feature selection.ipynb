{
 "cells": [
  {
   "cell_type": "code",
   "execution_count": 1,
   "id": "cb3e17d0",
   "metadata": {
    "ExecuteTime": {
     "end_time": "2022-08-29T17:48:48.696013Z",
     "start_time": "2022-08-29T17:48:48.424241Z"
    }
   },
   "outputs": [],
   "source": [
    "import pandas as pd\n",
    "import numpy as np\n",
    "import os"
   ]
  },
  {
   "cell_type": "markdown",
   "id": "8787b0cb",
   "metadata": {},
   "source": [
    "# feature selection\n"
   ]
  },
  {
   "cell_type": "markdown",
   "id": "647986f6",
   "metadata": {},
   "source": [
    "https://www.datacamp.com/tutorial/feature-selection-python"
   ]
  },
  {
   "cell_type": "markdown",
   "id": "f938a289",
   "metadata": {},
   "source": [
    "feature ranks are shown in the adbench_results.csv, sheetname = feature selection"
   ]
  },
  {
   "cell_type": "code",
   "execution_count": 49,
   "id": "586841aa",
   "metadata": {
    "ExecuteTime": {
     "end_time": "2022-08-29T20:14:04.824197Z",
     "start_time": "2022-08-29T20:14:04.815161Z"
    }
   },
   "outputs": [],
   "source": [
    "from sklearn.linear_model import LinearRegression, Ridge, Lasso\n",
    "from sklearn.feature_selection import RFE, f_regression\n",
    "from sklearn.preprocessing import MinMaxScaler\n",
    "from sklearn.ensemble import RandomForestRegressor\n",
    "from minepy import MINE\n",
    "from sklearn.preprocessing import StandardScaler\n",
    "\n",
    "from sklearn.decomposition import PCA\n",
    "from xgboost import XGBClassifier\n",
    "from sklearn import metrics\n",
    "\n",
    "from sklearn.model_selection import train_test_split\n",
    "from sklearn.model_selection import KFold, cross_val_score\n",
    "from sklearn.model_selection import ShuffleSplit, StratifiedKFold, StratifiedShuffleSplit\n"
   ]
  },
  {
   "cell_type": "code",
   "execution_count": null,
   "id": "dffb7664",
   "metadata": {},
   "outputs": [],
   "source": [
    "train = pd.read_csv('train_features.csv')\n",
    "test = pd.read_csv('test_features.csv')"
   ]
  },
  {
   "cell_type": "code",
   "execution_count": null,
   "id": "6f2a5376",
   "metadata": {},
   "outputs": [],
   "source": [
    "Y = train[\"Label\"].values\n",
    "Y_test = test[\"Label\"].values\n",
    "\n",
    "X_train = train.drop([\"Label\"], axis=1).values\n",
    "X_test = test.drop([\"Label\"], axis=1).values\n",
    "\n",
    "scaler = StandardScaler()\n",
    "scaler.fit(X_train)\n",
    "\n",
    "X = scaler.transform(X_train)\n",
    "X_test = scaler.transform(X_test)"
   ]
  },
  {
   "cell_type": "code",
   "execution_count": null,
   "id": "b89fc56b",
   "metadata": {},
   "outputs": [],
   "source": [
    "np.random.seed(0)\n",
    "\n",
    "names = list(train.drop([\"Label\"], axis=1).columns)\n",
    "ranks = {}\n",
    "\n",
    "def rank_to_dict(ranks, names, order=1):\n",
    "    minmax = MinMaxScaler()\n",
    "    ranks = minmax.fit_transform(order*np.array([ranks]).T).T[0]\n",
    "    ranks = map(lambda x: round(x, 2), ranks)\n",
    "    return dict(zip(names, ranks ))\n",
    "\n",
    "lr = LinearRegression(normalize=True)\n",
    "lr.fit(X, Y)\n",
    "ranks[\"Linear reg\"] = rank_to_dict(np.abs(lr.coef_), names)\n",
    "\n",
    "ridge = Ridge(alpha=7)\n",
    "ridge.fit(X, Y)\n",
    "ranks[\"Ridge\"] = rank_to_dict(np.abs(ridge.coef_), names)\n",
    "\n",
    "\n",
    "lasso = Lasso(alpha=.05)\n",
    "lasso.fit(X, Y)\n",
    "ranks[\"Lasso\"] = rank_to_dict(np.abs(lasso.coef_), names)\n",
    "\n",
    "#stop the search when 5 features are left (they will get equal scores)\n",
    "rfe = RFE(lr, n_features_to_select=5)\n",
    "rfe.fit(X,Y)\n",
    "ranks[\"RFE\"] = rank_to_dict(rfe.ranking_.astype(float), names, order=-1)"
   ]
  },
  {
   "cell_type": "code",
   "execution_count": null,
   "id": "179cab07",
   "metadata": {},
   "outputs": [],
   "source": [
    "# time-consuming\n",
    "rf = RandomForestRegressor()\n",
    "rf.fit(X,Y)\n",
    "ranks[\"RF\"] = rank_to_dict(rf.feature_importances_, names)"
   ]
  },
  {
   "cell_type": "code",
   "execution_count": null,
   "id": "e815c6a9",
   "metadata": {},
   "outputs": [],
   "source": [
    "f, pval  = f_regression(X, Y, center=True)\n",
    "ranks[\"Corr.\"] = rank_to_dict(f, names)"
   ]
  },
  {
   "cell_type": "code",
   "execution_count": null,
   "id": "6fe73ccd",
   "metadata": {},
   "outputs": [],
   "source": [
    "# time-consuming\n",
    "\n",
    "mine = MINE()\n",
    "mic_scores = []\n",
    "for i in range(X.shape[1]):\n",
    "    mine.compute_score(X[:,i], Y)\n",
    "    m = mine.mic()\n",
    "    mic_scores.append(m)\n",
    "\n",
    "ranks[\"MIC\"] = rank_to_dict(mic_scores, names)"
   ]
  },
  {
   "cell_type": "code",
   "execution_count": null,
   "id": "3873f4ba",
   "metadata": {},
   "outputs": [],
   "source": [
    "r = {}\n",
    "for name in names:\n",
    "    try:\n",
    "        r[name] = round(np.mean([ranks[method][name] \n",
    "                             for method in ranks.keys()]), 2)\n",
    "    except:\n",
    "        print(name)"
   ]
  },
  {
   "cell_type": "code",
   "execution_count": null,
   "id": "e716ac1b",
   "metadata": {},
   "outputs": [],
   "source": [
    "methods = sorted(ranks.keys())\n",
    "ranks[\"Mean\"] = r\n",
    "methods.append(\"Mean\")\n",
    "\n",
    "print (\"\\t%s\" % \"\\t\".join(methods))\n",
    "for name in names:\n",
    "    try:\n",
    "        print (\"%s\\t%s\" % (name, \"\\t\".join(map(str, \n",
    "                         [ranks[method][name] for method in methods]))))\n",
    "    except:\n",
    "        pass"
   ]
  },
  {
   "cell_type": "markdown",
   "id": "097f9f7f",
   "metadata": {},
   "source": [
    "# Directly apply XGBoost"
   ]
  },
  {
   "cell_type": "markdown",
   "id": "f344c213",
   "metadata": {},
   "source": [
    "results are shown in the adbench_results.csv, sheetname = xgboost"
   ]
  },
  {
   "cell_type": "code",
   "execution_count": 9,
   "id": "769e7ebd",
   "metadata": {
    "ExecuteTime": {
     "end_time": "2022-08-29T17:56:21.623663Z",
     "start_time": "2022-08-29T17:56:00.978327Z"
    }
   },
   "outputs": [],
   "source": [
    "train = pd.read_csv('train_features.csv')\n",
    "test = pd.read_csv('test_features.csv')"
   ]
  },
  {
   "cell_type": "code",
   "execution_count": 37,
   "id": "b23179e9",
   "metadata": {
    "ExecuteTime": {
     "end_time": "2022-08-29T19:09:36.851191Z",
     "start_time": "2022-08-29T19:09:36.841807Z"
    }
   },
   "outputs": [],
   "source": [
    "ori_col =  ['SettlementAmount','InstructedAmount',\n",
    "            'Label',\n",
    "            'hour',\n",
    " 'Sender_hour_freq',\n",
    " 'sender_currency_freq',\n",
    " 'sender_currency_avg_amount',\n",
    " 'sender_receiver_freq']"
   ]
  },
  {
   "cell_type": "code",
   "execution_count": 38,
   "id": "c86878dc",
   "metadata": {
    "ExecuteTime": {
     "end_time": "2022-08-29T19:09:43.461103Z",
     "start_time": "2022-08-29T19:09:43.181497Z"
    }
   },
   "outputs": [],
   "source": [
    "names = list(train.drop(ori_col, axis=1).columns)"
   ]
  },
  {
   "cell_type": "code",
   "execution_count": 39,
   "id": "39457767",
   "metadata": {
    "ExecuteTime": {
     "end_time": "2022-08-29T19:09:44.949508Z",
     "start_time": "2022-08-29T19:09:44.940747Z"
    }
   },
   "outputs": [],
   "source": [
    "cols = ['SettlementAmount','InstructedAmount',\n",
    " 'hour',\n",
    " 'Sender_hour_freq',\n",
    " 'sender_currency_freq',\n",
    " 'sender_currency_avg_amount',\n",
    " 'sender_receiver_freq']"
   ]
  },
  {
   "cell_type": "code",
   "execution_count": 40,
   "id": "c045ff94",
   "metadata": {
    "ExecuteTime": {
     "end_time": "2022-08-29T20:04:49.322475Z",
     "start_time": "2022-08-29T19:10:04.924473Z"
    },
    "collapsed": true
   },
   "outputs": [
    {
     "name": "stdout",
     "output_type": "stream",
     "text": [
      "0.8714357045073786\n",
      "num_hops 0.8616706281248703\n",
      "Sender_freq 0.8696121344584612\n",
      "Receiver_freq 0.8676577808789161\n",
      "receiver_currency_freq 0.8467111997777877\n",
      "receiver_currency_avg_amount 0.8653493684217466\n",
      "Sender_out_degree 0.8723253814291491\n",
      "Sender_in_degree 0.8693890708617604\n",
      "Receiver_out_degree 0.8723253814291491\n",
      "Receiver_in_degree 0.8693890708617604\n",
      "sender_receiver_currency_freq 0.871031587669454\n",
      "sender_receiver_currency_avg_amount 0.8680594359286492\n",
      "OrderingAccount_freq 0.8474713406573251\n",
      "BeneficiaryAccount_freq 0.8725333136094878\n",
      "OrderingAccount_currency_freq 0.7638745449438862\n",
      "OrderingAccount_currency_avg_amount 0.8209403126783755\n",
      "BeneficiaryAccount_currency_freq 0.8204561571452327\n",
      "BeneficiaryAccount_currency_avg_amount 0.8609135371167154\n",
      "OrderingAccount_out_degree 0.7502796038561261\n",
      "OrderingAccount_in_degree 0.8676605381099526\n",
      "BeneficiaryAccount_out_degree 0.7502796038561261\n",
      "BeneficiaryAccount_in_degree 0.8676605381099526\n",
      "OrderingAccount_BeneficiaryAccount_freq 0.49682662525696525\n",
      "OrderingAccount_BeneficiaryAccount_currency_freq 0.257167395247208\n",
      "OrderingAccount_BeneficiaryAccount_currency_avg_amount 0.8366548946180972\n",
      "day 0.865042458254175\n",
      "week 0.8701215856879522\n",
      "Receiver_hour_freq 0.8694445245292564\n",
      "Sender_currency_hour_freq 0.8422191071898959\n",
      "Sender_currency_hour_avg_amount 0.8688307710420059\n",
      "Receiver_currency_hour_freq 0.8665431488175637\n",
      "Receiver_currency_hour_avg_amount 0.8486563382744128\n",
      "Sender_hour_out_degree 0.871135788174378\n",
      "Sender_hour_in_degree 0.8719397281708844\n",
      "Receiver_hour_out_degree 0.871135788174378\n",
      "Receiver_hour_in_degree 0.8719397281708844\n",
      "Sender_hour_Receiver_hour_freq 0.7782547900948494\n",
      "Sender_hour_Receiver_hour_currency_freq 0.12208123869877616\n",
      "Sender_hour_Receiver_hour_currency_avg_amount 0.3005166247522198\n",
      "Sender_day_freq 0.8625576368941297\n",
      "Receiver_day_freq 0.8653978666661716\n",
      "Sender_currency_day_freq 0.8658164821053925\n",
      "Sender_currency_day_avg_amount 0.8548872004066032\n",
      "Receiver_currency_day_freq 0.846121696606793\n",
      "Receiver_currency_day_avg_amount 0.8660531650871033\n",
      "Sender_day_out_degree 0.8679032084780238\n",
      "Sender_day_in_degree 0.8685977407737988\n",
      "Receiver_day_out_degree 0.8679032084780238\n",
      "Receiver_day_in_degree 0.8685977407737988\n",
      "Sender_day_Receiver_day_freq 0.8657093371273453\n",
      "Sender_day_Receiver_day_currency_freq 0.008374379396083258\n",
      "Sender_day_Receiver_day_currency_avg_amount 0.5083477037972748\n",
      "Sender_week_freq 0.8686102031730176\n",
      "Receiver_week_freq 0.8663748420794481\n",
      "Sender_currency_week_freq 0.8709801952407512\n",
      "Sender_currency_week_avg_amount 0.860459622036588\n",
      "Receiver_currency_week_freq 0.866729428560037\n",
      "Receiver_currency_week_avg_amount 0.86367766075515\n",
      "Sender_week_out_degree 0.8692453040401914\n",
      "Sender_week_in_degree 0.8689253242689565\n",
      "Receiver_week_out_degree 0.8692453040401914\n",
      "Receiver_week_in_degree 0.8689253242689565\n",
      "Sender_week_Receiver_week_freq 0.8699014574225172\n",
      "Sender_week_Receiver_week_currency_freq 0.018637091275332616\n",
      "Sender_week_Receiver_week_currency_avg_amount 0.4261089407962221\n"
     ]
    }
   ],
   "source": [
    "Y = train[\"Label\"].values\n",
    "Y_test = test[\"Label\"].values\n",
    "\n",
    "\n",
    "res = {}\n",
    "\n",
    "new_cols = cols\n",
    "\n",
    "X_train = train[new_cols].values\n",
    "X_test = test[new_cols].values\n",
    "\n",
    "scaler = StandardScaler()\n",
    "scaler.fit(X_train)\n",
    "\n",
    "X_train = scaler.transform(X_train)\n",
    "X_test = scaler.transform(X_test)\n",
    "\n",
    "# training\n",
    "xgb = XGBClassifier(n_estimators=100)\n",
    "xgb.fit(X_train, Y)\n",
    "pred_proba_xgb = xgb.predict_proba(X_test)[:, 1]\n",
    "\n",
    "res['initial'] = metrics.average_precision_score(y_true=Y_test, y_score=pred_proba_xgb)\n",
    "print(res['initial'])\n",
    "\n",
    "for name in names:\n",
    "    new_cols = cols.copy()\n",
    "    new_cols.append(name)\n",
    "    \n",
    "    X_train = train[new_cols].values\n",
    "    X_test = test[new_cols].values\n",
    "\n",
    "    scaler = StandardScaler()\n",
    "    scaler.fit(X_train)\n",
    "\n",
    "    X_train = scaler.transform(X_train)\n",
    "    X_test = scaler.transform(X_test)\n",
    "    \n",
    "    # training\n",
    "    xgb = XGBClassifier(n_estimators=100)\n",
    "    xgb.fit(X_train, Y)\n",
    "    pred_proba_xgb = xgb.predict_proba(X_test)[:, 1]\n",
    "\n",
    "    res[name] = metrics.average_precision_score(y_true=Y_test, y_score=pred_proba_xgb)\n",
    "    print(new_cols[-1], res[name])"
   ]
  },
  {
   "cell_type": "markdown",
   "id": "970ee061",
   "metadata": {},
   "source": [
    "# PCA"
   ]
  },
  {
   "cell_type": "markdown",
   "id": "5bf28d2f",
   "metadata": {},
   "source": [
    "There are around 70 features in total, after PCA, top 10 PC can explain 91% of the variance. \n",
    "\n",
    "However, the results are really bad"
   ]
  },
  {
   "cell_type": "code",
   "execution_count": 63,
   "id": "a3be50ed",
   "metadata": {
    "ExecuteTime": {
     "end_time": "2022-08-27T13:28:30.256301Z",
     "start_time": "2022-08-27T13:28:30.250634Z"
    }
   },
   "outputs": [],
   "source": [
    "from sklearn.decomposition import PCA\n",
    "from xgboost import XGBClassifier\n",
    "from sklearn import metrics"
   ]
  },
  {
   "cell_type": "code",
   "execution_count": null,
   "id": "3b0454f9",
   "metadata": {},
   "outputs": [],
   "source": [
    "train = pd.read_csv('train_features.csv')\n",
    "test = pd.read_csv('test_features.csv')"
   ]
  },
  {
   "cell_type": "code",
   "execution_count": null,
   "id": "a9669f64",
   "metadata": {},
   "outputs": [],
   "source": [
    "Y = train[\"Label\"].values\n",
    "Y_test = test[\"Label\"].values\n",
    "\n",
    "X_train = train.drop([\"Label\"], axis=1).values\n",
    "X_test = test.drop([\"Label\"], axis=1).values\n",
    "\n",
    "scaler = StandardScaler()\n",
    "scaler.fit(X_train)\n",
    "\n",
    "X = scaler.transform(X_train)\n",
    "X_test = scaler.transform(X_test)"
   ]
  },
  {
   "cell_type": "code",
   "execution_count": 40,
   "id": "642cbcad",
   "metadata": {
    "ExecuteTime": {
     "end_time": "2022-08-26T23:00:24.030304Z",
     "start_time": "2022-08-26T23:00:11.818442Z"
    }
   },
   "outputs": [
    {
     "data": {
      "text/plain": [
       "PCA()"
      ]
     },
     "execution_count": 40,
     "metadata": {},
     "output_type": "execute_result"
    }
   ],
   "source": [
    "pca = PCA()\n",
    "pca.fit(X)"
   ]
  },
  {
   "cell_type": "code",
   "execution_count": 43,
   "id": "f53b995f",
   "metadata": {
    "ExecuteTime": {
     "end_time": "2022-08-26T23:04:39.619720Z",
     "start_time": "2022-08-26T23:04:39.607244Z"
    },
    "collapsed": true
   },
   "outputs": [
    {
     "data": {
      "text/plain": [
       "array([0.39001175, 0.55766783, 0.66059804, 0.72390357, 0.77615799,\n",
       "       0.81807436, 0.84934067, 0.87432506, 0.89636264, 0.91532038,\n",
       "       0.92982349, 0.94148202, 0.95021887, 0.95751506, 0.96457816,\n",
       "       0.96993984, 0.97489278, 0.97928893, 0.98297448, 0.98634787,\n",
       "       0.98877386, 0.99066147, 0.99209291, 0.99335048, 0.99436456,\n",
       "       0.99524555, 0.99598958, 0.99661546, 0.99709483, 0.99754739,\n",
       "       0.99789835, 0.99816232, 0.99841444, 0.99864179, 0.99885526,\n",
       "       0.99905431, 0.99923173, 0.99936229, 0.99946885, 0.99957294,\n",
       "       0.99967396, 0.99973346, 0.99979051, 0.99983601, 0.99988009,\n",
       "       0.99991008, 0.99993131, 0.9999453 , 0.9999572 , 0.99996759,\n",
       "       0.99997648, 0.99998347, 0.99998979, 0.99999405, 0.99999594,\n",
       "       0.99999731, 0.99999828, 0.99999907, 0.99999956, 0.9999999 ,\n",
       "       1.        , 1.        , 1.        , 1.        , 1.        ,\n",
       "       1.        , 1.        , 1.        , 1.        , 1.        ,\n",
       "       1.        ])"
      ]
     },
     "execution_count": 43,
     "metadata": {},
     "output_type": "execute_result"
    }
   ],
   "source": [
    "np.cumsum(pca.explained_variance_ratio_)"
   ]
  },
  {
   "cell_type": "code",
   "execution_count": 58,
   "id": "b06b2bed",
   "metadata": {
    "ExecuteTime": {
     "end_time": "2022-08-27T13:25:07.103704Z",
     "start_time": "2022-08-27T13:25:04.043758Z"
    }
   },
   "outputs": [],
   "source": [
    "from sklearn.impute import SimpleImputer\n",
    "imp = SimpleImputer(strategy='mean',missing_values=np.nan)\n",
    "X_test_imp = imp.fit(X).transform(X_test)"
   ]
  },
  {
   "cell_type": "code",
   "execution_count": 52,
   "id": "a13c1c7f",
   "metadata": {
    "ExecuteTime": {
     "end_time": "2022-08-27T12:47:43.354796Z",
     "start_time": "2022-08-27T12:47:14.156465Z"
    },
    "collapsed": true
   },
   "outputs": [
    {
     "ename": "KeyboardInterrupt",
     "evalue": "",
     "output_type": "error",
     "traceback": [
      "\u001b[0;31m---------------------------------------------------------------------------\u001b[0m",
      "\u001b[0;31mKeyboardInterrupt\u001b[0m                         Traceback (most recent call last)",
      "Input \u001b[0;32mIn [52]\u001b[0m, in \u001b[0;36m<cell line: 2>\u001b[0;34m()\u001b[0m\n\u001b[1;32m      4\u001b[0m pca \u001b[38;5;241m=\u001b[39m PCA(n_components \u001b[38;5;241m=\u001b[39m n_)\n\u001b[1;32m      5\u001b[0m X_pca \u001b[38;5;241m=\u001b[39m pca\u001b[38;5;241m.\u001b[39mfit(X)\u001b[38;5;241m.\u001b[39mtransform(X)\n\u001b[0;32m----> 6\u001b[0m X_test_pca \u001b[38;5;241m=\u001b[39m \u001b[43mpca\u001b[49m\u001b[38;5;241;43m.\u001b[39;49m\u001b[43mfit\u001b[49m\u001b[43m(\u001b[49m\u001b[43mX\u001b[49m\u001b[43m)\u001b[49m\u001b[38;5;241m.\u001b[39mtransform(X_test_imp)\n\u001b[1;32m      8\u001b[0m xgb \u001b[38;5;241m=\u001b[39m XGBClassifier(n_estimators\u001b[38;5;241m=\u001b[39m\u001b[38;5;241m100\u001b[39m)\n\u001b[1;32m      9\u001b[0m xgb\u001b[38;5;241m.\u001b[39mfit(X_pca, Y_train)\n",
      "File \u001b[0;32m/opt/homebrew/Caskroom/miniforge/base/envs/amiomac/lib/python3.8/site-packages/sklearn/decomposition/_pca.py:382\u001b[0m, in \u001b[0;36mPCA.fit\u001b[0;34m(self, X, y)\u001b[0m\n\u001b[1;32m    365\u001b[0m \u001b[38;5;28;01mdef\u001b[39;00m \u001b[38;5;21mfit\u001b[39m(\u001b[38;5;28mself\u001b[39m, X, y\u001b[38;5;241m=\u001b[39m\u001b[38;5;28;01mNone\u001b[39;00m):\n\u001b[1;32m    366\u001b[0m     \u001b[38;5;124;03m\"\"\"Fit the model with X.\u001b[39;00m\n\u001b[1;32m    367\u001b[0m \n\u001b[1;32m    368\u001b[0m \u001b[38;5;124;03m    Parameters\u001b[39;00m\n\u001b[0;32m   (...)\u001b[0m\n\u001b[1;32m    380\u001b[0m \u001b[38;5;124;03m        Returns the instance itself.\u001b[39;00m\n\u001b[1;32m    381\u001b[0m \u001b[38;5;124;03m    \"\"\"\u001b[39;00m\n\u001b[0;32m--> 382\u001b[0m     \u001b[38;5;28;43mself\u001b[39;49m\u001b[38;5;241;43m.\u001b[39;49m\u001b[43m_fit\u001b[49m\u001b[43m(\u001b[49m\u001b[43mX\u001b[49m\u001b[43m)\u001b[49m\n\u001b[1;32m    383\u001b[0m     \u001b[38;5;28;01mreturn\u001b[39;00m \u001b[38;5;28mself\u001b[39m\n",
      "File \u001b[0;32m/opt/homebrew/Caskroom/miniforge/base/envs/amiomac/lib/python3.8/site-packages/sklearn/decomposition/_pca.py:459\u001b[0m, in \u001b[0;36mPCA._fit\u001b[0;34m(self, X)\u001b[0m\n\u001b[1;32m    457\u001b[0m     \u001b[38;5;28;01mreturn\u001b[39;00m \u001b[38;5;28mself\u001b[39m\u001b[38;5;241m.\u001b[39m_fit_full(X, n_components)\n\u001b[1;32m    458\u001b[0m \u001b[38;5;28;01melif\u001b[39;00m \u001b[38;5;28mself\u001b[39m\u001b[38;5;241m.\u001b[39m_fit_svd_solver \u001b[38;5;129;01min\u001b[39;00m [\u001b[38;5;124m\"\u001b[39m\u001b[38;5;124marpack\u001b[39m\u001b[38;5;124m\"\u001b[39m, \u001b[38;5;124m\"\u001b[39m\u001b[38;5;124mrandomized\u001b[39m\u001b[38;5;124m\"\u001b[39m]:\n\u001b[0;32m--> 459\u001b[0m     \u001b[38;5;28;01mreturn\u001b[39;00m \u001b[38;5;28;43mself\u001b[39;49m\u001b[38;5;241;43m.\u001b[39;49m\u001b[43m_fit_truncated\u001b[49m\u001b[43m(\u001b[49m\u001b[43mX\u001b[49m\u001b[43m,\u001b[49m\u001b[43m \u001b[49m\u001b[43mn_components\u001b[49m\u001b[43m,\u001b[49m\u001b[43m \u001b[49m\u001b[38;5;28;43mself\u001b[39;49m\u001b[38;5;241;43m.\u001b[39;49m\u001b[43m_fit_svd_solver\u001b[49m\u001b[43m)\u001b[49m\n\u001b[1;32m    460\u001b[0m \u001b[38;5;28;01melse\u001b[39;00m:\n\u001b[1;32m    461\u001b[0m     \u001b[38;5;28;01mraise\u001b[39;00m \u001b[38;5;167;01mValueError\u001b[39;00m(\n\u001b[1;32m    462\u001b[0m         \u001b[38;5;124m\"\u001b[39m\u001b[38;5;124mUnrecognized svd_solver=\u001b[39m\u001b[38;5;124m'\u001b[39m\u001b[38;5;132;01m{0}\u001b[39;00m\u001b[38;5;124m'\u001b[39m\u001b[38;5;124m\"\u001b[39m\u001b[38;5;241m.\u001b[39mformat(\u001b[38;5;28mself\u001b[39m\u001b[38;5;241m.\u001b[39m_fit_svd_solver)\n\u001b[1;32m    463\u001b[0m     )\n",
      "File \u001b[0;32m/opt/homebrew/Caskroom/miniforge/base/envs/amiomac/lib/python3.8/site-packages/sklearn/decomposition/_pca.py:580\u001b[0m, in \u001b[0;36mPCA._fit_truncated\u001b[0;34m(self, X, n_components, svd_solver)\u001b[0m\n\u001b[1;32m    576\u001b[0m     U, Vt \u001b[38;5;241m=\u001b[39m svd_flip(U[:, ::\u001b[38;5;241m-\u001b[39m\u001b[38;5;241m1\u001b[39m], Vt[::\u001b[38;5;241m-\u001b[39m\u001b[38;5;241m1\u001b[39m])\n\u001b[1;32m    578\u001b[0m \u001b[38;5;28;01melif\u001b[39;00m svd_solver \u001b[38;5;241m==\u001b[39m \u001b[38;5;124m\"\u001b[39m\u001b[38;5;124mrandomized\u001b[39m\u001b[38;5;124m\"\u001b[39m:\n\u001b[1;32m    579\u001b[0m     \u001b[38;5;66;03m# sign flipping is done inside\u001b[39;00m\n\u001b[0;32m--> 580\u001b[0m     U, S, Vt \u001b[38;5;241m=\u001b[39m \u001b[43mrandomized_svd\u001b[49m\u001b[43m(\u001b[49m\n\u001b[1;32m    581\u001b[0m \u001b[43m        \u001b[49m\u001b[43mX\u001b[49m\u001b[43m,\u001b[49m\n\u001b[1;32m    582\u001b[0m \u001b[43m        \u001b[49m\u001b[43mn_components\u001b[49m\u001b[38;5;241;43m=\u001b[39;49m\u001b[43mn_components\u001b[49m\u001b[43m,\u001b[49m\n\u001b[1;32m    583\u001b[0m \u001b[43m        \u001b[49m\u001b[43mn_iter\u001b[49m\u001b[38;5;241;43m=\u001b[39;49m\u001b[38;5;28;43mself\u001b[39;49m\u001b[38;5;241;43m.\u001b[39;49m\u001b[43miterated_power\u001b[49m\u001b[43m,\u001b[49m\n\u001b[1;32m    584\u001b[0m \u001b[43m        \u001b[49m\u001b[43mflip_sign\u001b[49m\u001b[38;5;241;43m=\u001b[39;49m\u001b[38;5;28;43;01mTrue\u001b[39;49;00m\u001b[43m,\u001b[49m\n\u001b[1;32m    585\u001b[0m \u001b[43m        \u001b[49m\u001b[43mrandom_state\u001b[49m\u001b[38;5;241;43m=\u001b[39;49m\u001b[43mrandom_state\u001b[49m\u001b[43m,\u001b[49m\n\u001b[1;32m    586\u001b[0m \u001b[43m    \u001b[49m\u001b[43m)\u001b[49m\n\u001b[1;32m    588\u001b[0m \u001b[38;5;28mself\u001b[39m\u001b[38;5;241m.\u001b[39mn_samples_, \u001b[38;5;28mself\u001b[39m\u001b[38;5;241m.\u001b[39mn_features_ \u001b[38;5;241m=\u001b[39m n_samples, n_features\n\u001b[1;32m    589\u001b[0m \u001b[38;5;28mself\u001b[39m\u001b[38;5;241m.\u001b[39mcomponents_ \u001b[38;5;241m=\u001b[39m Vt\n",
      "File \u001b[0;32m/opt/homebrew/Caskroom/miniforge/base/envs/amiomac/lib/python3.8/site-packages/sklearn/utils/extmath.py:395\u001b[0m, in \u001b[0;36mrandomized_svd\u001b[0;34m(M, n_components, n_oversamples, n_iter, power_iteration_normalizer, transpose, flip_sign, random_state)\u001b[0m\n\u001b[1;32m    391\u001b[0m \u001b[38;5;28;01mif\u001b[39;00m transpose:\n\u001b[1;32m    392\u001b[0m     \u001b[38;5;66;03m# this implementation is a bit faster with smaller shape[1]\u001b[39;00m\n\u001b[1;32m    393\u001b[0m     M \u001b[38;5;241m=\u001b[39m M\u001b[38;5;241m.\u001b[39mT\n\u001b[0;32m--> 395\u001b[0m Q \u001b[38;5;241m=\u001b[39m \u001b[43mrandomized_range_finder\u001b[49m\u001b[43m(\u001b[49m\n\u001b[1;32m    396\u001b[0m \u001b[43m    \u001b[49m\u001b[43mM\u001b[49m\u001b[43m,\u001b[49m\n\u001b[1;32m    397\u001b[0m \u001b[43m    \u001b[49m\u001b[43msize\u001b[49m\u001b[38;5;241;43m=\u001b[39;49m\u001b[43mn_random\u001b[49m\u001b[43m,\u001b[49m\n\u001b[1;32m    398\u001b[0m \u001b[43m    \u001b[49m\u001b[43mn_iter\u001b[49m\u001b[38;5;241;43m=\u001b[39;49m\u001b[43mn_iter\u001b[49m\u001b[43m,\u001b[49m\n\u001b[1;32m    399\u001b[0m \u001b[43m    \u001b[49m\u001b[43mpower_iteration_normalizer\u001b[49m\u001b[38;5;241;43m=\u001b[39;49m\u001b[43mpower_iteration_normalizer\u001b[49m\u001b[43m,\u001b[49m\n\u001b[1;32m    400\u001b[0m \u001b[43m    \u001b[49m\u001b[43mrandom_state\u001b[49m\u001b[38;5;241;43m=\u001b[39;49m\u001b[43mrandom_state\u001b[49m\u001b[43m,\u001b[49m\n\u001b[1;32m    401\u001b[0m \u001b[43m\u001b[49m\u001b[43m)\u001b[49m\n\u001b[1;32m    403\u001b[0m \u001b[38;5;66;03m# project M to the (k + p) dimensional space using the basis vectors\u001b[39;00m\n\u001b[1;32m    404\u001b[0m B \u001b[38;5;241m=\u001b[39m safe_sparse_dot(Q\u001b[38;5;241m.\u001b[39mT, M)\n",
      "File \u001b[0;32m/opt/homebrew/Caskroom/miniforge/base/envs/amiomac/lib/python3.8/site-packages/sklearn/utils/extmath.py:237\u001b[0m, in \u001b[0;36mrandomized_range_finder\u001b[0;34m(A, size, n_iter, power_iteration_normalizer, random_state)\u001b[0m\n\u001b[1;32m    235\u001b[0m     Q \u001b[38;5;241m=\u001b[39m safe_sparse_dot(A\u001b[38;5;241m.\u001b[39mT, Q)\n\u001b[1;32m    236\u001b[0m \u001b[38;5;28;01melif\u001b[39;00m power_iteration_normalizer \u001b[38;5;241m==\u001b[39m \u001b[38;5;124m\"\u001b[39m\u001b[38;5;124mLU\u001b[39m\u001b[38;5;124m\"\u001b[39m:\n\u001b[0;32m--> 237\u001b[0m     Q, _ \u001b[38;5;241m=\u001b[39m linalg\u001b[38;5;241m.\u001b[39mlu(\u001b[43msafe_sparse_dot\u001b[49m\u001b[43m(\u001b[49m\u001b[43mA\u001b[49m\u001b[43m,\u001b[49m\u001b[43m \u001b[49m\u001b[43mQ\u001b[49m\u001b[43m)\u001b[49m, permute_l\u001b[38;5;241m=\u001b[39m\u001b[38;5;28;01mTrue\u001b[39;00m)\n\u001b[1;32m    238\u001b[0m     Q, _ \u001b[38;5;241m=\u001b[39m linalg\u001b[38;5;241m.\u001b[39mlu(safe_sparse_dot(A\u001b[38;5;241m.\u001b[39mT, Q), permute_l\u001b[38;5;241m=\u001b[39m\u001b[38;5;28;01mTrue\u001b[39;00m)\n\u001b[1;32m    239\u001b[0m \u001b[38;5;28;01melif\u001b[39;00m power_iteration_normalizer \u001b[38;5;241m==\u001b[39m \u001b[38;5;124m\"\u001b[39m\u001b[38;5;124mQR\u001b[39m\u001b[38;5;124m\"\u001b[39m:\n",
      "File \u001b[0;32m/opt/homebrew/Caskroom/miniforge/base/envs/amiomac/lib/python3.8/site-packages/sklearn/utils/extmath.py:153\u001b[0m, in \u001b[0;36msafe_sparse_dot\u001b[0;34m(a, b, dense_output)\u001b[0m\n\u001b[1;32m    151\u001b[0m         ret \u001b[38;5;241m=\u001b[39m np\u001b[38;5;241m.\u001b[39mdot(a, b)\n\u001b[1;32m    152\u001b[0m \u001b[38;5;28;01melse\u001b[39;00m:\n\u001b[0;32m--> 153\u001b[0m     ret \u001b[38;5;241m=\u001b[39m \u001b[43ma\u001b[49m\u001b[43m \u001b[49m\u001b[38;5;241;43m@\u001b[39;49m\u001b[43m \u001b[49m\u001b[43mb\u001b[49m\n\u001b[1;32m    155\u001b[0m \u001b[38;5;28;01mif\u001b[39;00m (\n\u001b[1;32m    156\u001b[0m     sparse\u001b[38;5;241m.\u001b[39missparse(a)\n\u001b[1;32m    157\u001b[0m     \u001b[38;5;129;01mand\u001b[39;00m sparse\u001b[38;5;241m.\u001b[39missparse(b)\n\u001b[1;32m    158\u001b[0m     \u001b[38;5;129;01mand\u001b[39;00m dense_output\n\u001b[1;32m    159\u001b[0m     \u001b[38;5;129;01mand\u001b[39;00m \u001b[38;5;28mhasattr\u001b[39m(ret, \u001b[38;5;124m\"\u001b[39m\u001b[38;5;124mtoarray\u001b[39m\u001b[38;5;124m\"\u001b[39m)\n\u001b[1;32m    160\u001b[0m ):\n\u001b[1;32m    161\u001b[0m     \u001b[38;5;28;01mreturn\u001b[39;00m ret\u001b[38;5;241m.\u001b[39mtoarray()\n",
      "\u001b[0;31mKeyboardInterrupt\u001b[0m: "
     ]
    }
   ],
   "source": [
    "res_pca = {}\n",
    "for n_ in [3, 5, 7, 9, 12]:\n",
    "    # PCA\n",
    "    pca = PCA(n_components = n_)\n",
    "    X_pca = pca.fit(X).transform(X)\n",
    "    X_test_pca = pca.fit(X).transform(X_test_imp)\n",
    "    \n",
    "    \n",
    "    # normalization\n",
    "    scaler = StandardScaler()\n",
    "    scaler.fit(X_train)\n",
    "\n",
    "    X_pca = scaler.transform(X_pca)\n",
    "    X_test_pca = scaler.transform(X_test_pca)\n",
    "\n",
    "    \n",
    "    # fit the model\n",
    "    xgb = XGBClassifier(n_estimators=100)\n",
    "    xgb.fit(X_pca, Y)\n",
    "    \n",
    "    #pred_xgb = xgb.predict(X_test_pca)\n",
    "    pred_proba_xgb = xgb.predict_proba(X_test_pca)[:, 1]\n",
    "\n",
    "    res_pca[n_] = metrics.average_precision_score(y_true=Y_test, y_score=pred_proba_xgb)\n",
    "    "
   ]
  },
  {
   "cell_type": "code",
   "execution_count": null,
   "id": "da335d17",
   "metadata": {},
   "outputs": [],
   "source": []
  }
 ],
 "metadata": {
  "kernelspec": {
   "display_name": "Python 3 (ipykernel)",
   "language": "python",
   "name": "python3"
  },
  "language_info": {
   "codemirror_mode": {
    "name": "ipython",
    "version": 3
   },
   "file_extension": ".py",
   "mimetype": "text/x-python",
   "name": "python",
   "nbconvert_exporter": "python",
   "pygments_lexer": "ipython3",
   "version": "3.8.13"
  },
  "toc": {
   "base_numbering": 1,
   "nav_menu": {},
   "number_sections": true,
   "sideBar": true,
   "skip_h1_title": false,
   "title_cell": "Table of Contents",
   "title_sidebar": "Contents",
   "toc_cell": false,
   "toc_position": {},
   "toc_section_display": true,
   "toc_window_display": false
  }
 },
 "nbformat": 4,
 "nbformat_minor": 5
}

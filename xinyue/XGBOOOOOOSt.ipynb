{
 "cells": [
  {
   "cell_type": "code",
   "execution_count": 13,
   "id": "d22e5f4e",
   "metadata": {
    "ExecuteTime": {
     "end_time": "2023-01-16T22:30:22.387979Z",
     "start_time": "2023-01-16T22:30:22.278469Z"
    }
   },
   "outputs": [],
   "source": [
    "import pandas as pd\n",
    "import numpy as np\n",
    "### Libraries for Algorithms\n",
    "import time\n",
    "from sklearn.model_selection import train_test_split\n",
    "from sklearn.model_selection import KFold\n",
    "from sklearn.model_selection import ShuffleSplit, StratifiedKFold, StratifiedShuffleSplit\n",
    "from sklearn.model_selection import cross_val_score\n",
    "from sklearn import metrics\n",
    "from sklearn.metrics import classification_report\n",
    "from sklearn.metrics import confusion_matrix\n",
    "from sklearn.metrics import accuracy_score\n",
    "from sklearn.preprocessing import StandardScaler, MinMaxScaler\n",
    "import sklearn.utils\n",
    "from sklearn.impute import SimpleImputer\n",
    "from sklearn.model_selection import train_test_split\n",
    "from sklearn.linear_model import LogisticRegression\n",
    "import matplotlib.pyplot as plt\n",
    "from loguru import logger\n",
    "import seaborn as sns\n",
    "from xgboost import XGBClassifier"
   ]
  },
  {
   "cell_type": "code",
   "execution_count": 22,
   "id": "5f885dfd",
   "metadata": {
    "ExecuteTime": {
     "end_time": "2023-01-16T23:13:14.394076Z",
     "start_time": "2023-01-16T23:13:14.089926Z"
    }
   },
   "outputs": [],
   "source": [
    "from imblearn.over_sampling import SMOTE"
   ]
  },
  {
   "cell_type": "markdown",
   "id": "5eba8e24",
   "metadata": {},
   "source": [
    "# Training model"
   ]
  },
  {
   "cell_type": "code",
   "execution_count": 2,
   "id": "952b9fee",
   "metadata": {
    "ExecuteTime": {
     "end_time": "2023-01-16T22:23:41.690166Z",
     "start_time": "2023-01-16T22:23:40.026539Z"
    }
   },
   "outputs": [],
   "source": [
    "cur_train = pd.read_csv('../new_data/fincrime/scenario01/solution_centralized/train.csv')\n",
    "cur_test = pd.read_csv('../new_data/fincrime/scenario01/solution_centralized/test.csv')"
   ]
  },
  {
   "cell_type": "markdown",
   "id": "5ae3e1db",
   "metadata": {},
   "source": [
    "# Oversampling"
   ]
  },
  {
   "cell_type": "code",
   "execution_count": 136,
   "id": "43092a1a",
   "metadata": {
    "ExecuteTime": {
     "end_time": "2023-01-17T00:30:08.179236Z",
     "start_time": "2023-01-17T00:30:08.023000Z"
    }
   },
   "outputs": [],
   "source": [
    "new_train = cur_train.copy()\n",
    "new_test = cur_test.copy()\n",
    "\n",
    "X_train = new_train.iloc[:, new_train.columns != \"Label\"]\n",
    "y_train = new_train.iloc[:, new_train.columns == \"Label\"]\n",
    "X_test = new_test.iloc[:, new_test.columns != \"Label\"]\n",
    "y_test = new_test.iloc[:, new_test.columns == \"Label\"]\n"
   ]
  },
  {
   "cell_type": "code",
   "execution_count": 30,
   "id": "79699a2a",
   "metadata": {
    "ExecuteTime": {
     "end_time": "2023-01-16T23:15:02.889184Z",
     "start_time": "2023-01-16T23:15:02.147233Z"
    }
   },
   "outputs": [
    {
     "name": "stdout",
     "output_type": "stream",
     "text": [
      "Fraudulent transactions are 50.00% of the test set.\n"
     ]
    }
   ],
   "source": [
    "X_train_smote, y_train_smote = SMOTE(random_state=1234).fit_resample(X_train, y_train)\n",
    "smote_value_counts = y_train_smote[\"Label\"].value_counts()\n",
    "print(\"Fraudulent transactions are %.2f%% of the test set.\" % (smote_value_counts[0] * 100 / len(y_train_smote)))"
   ]
  },
  {
   "cell_type": "code",
   "execution_count": 154,
   "id": "ecc88612",
   "metadata": {
    "ExecuteTime": {
     "end_time": "2023-01-17T15:07:30.090461Z",
     "start_time": "2023-01-17T15:06:26.912845Z"
    },
    "scrolled": true
   },
   "outputs": [
    {
     "name": "stdout",
     "output_type": "stream",
     "text": [
      "[[1002359      36]\n",
      " [    312     967]]\n",
      "AUPRC: 0.8754638213971173\n",
      "AUC 0.9987848099111464\n"
     ]
    }
   ],
   "source": [
    "# original performance\n",
    "\n",
    "model = XGBClassifier(n_estimators = 180, learning_rate = 0.12, max_depth = 6)\n",
    "\n",
    "model.fit(X_train,y_train)\n",
    "y_pred = model.predict(X_test)\n",
    "pred_proba_xgb = model.predict_proba(X_test)[:, 1]\n",
    "y_pred = model.predict(X_test)\n",
    "\n",
    "print(confusion_matrix(y_test, y_pred))\n",
    "\n",
    "print(\"AUPRC:\", metrics.average_precision_score(y_true=y_test, y_score=pred_proba_xgb))\n",
    "print('AUC', metrics.roc_auc_score(Y_test, pred_proba_xgb))"
   ]
  },
  {
   "cell_type": "code",
   "execution_count": 36,
   "id": "8f01d373",
   "metadata": {
    "ExecuteTime": {
     "end_time": "2023-01-16T23:21:03.326100Z",
     "start_time": "2023-01-16T23:20:02.556687Z"
    }
   },
   "outputs": [
    {
     "name": "stdout",
     "output_type": "stream",
     "text": [
      "[[991136  11259]\n",
      " [   118   1161]]\n",
      "AUPRC: 0.8176496598410984\n",
      "AUC 0.9944110715664755\n"
     ]
    }
   ],
   "source": [
    "# train on the oversampled traning data\n",
    "\n",
    "model_smote = XGBClassifier(n_estimators = 100)\n",
    "\n",
    "model_smote.fit(X_train_smote,y_train_smote)\n",
    "y_pred = model_smote.predict(X_test)\n",
    "pred_proba_xgb = model_smote.predict_proba(X_test)[:, 1]\n",
    "y_pred = model_smote.predict(X_test)\n",
    "\n",
    "print(confusion_matrix(y_test, y_pred))\n",
    "\n",
    "print(\"AUPRC:\", metrics.average_precision_score(y_true=y_test, y_score=pred_proba_xgb))\n",
    "print('AUC', metrics.roc_auc_score(Y_test, pred_proba_xgb))"
   ]
  },
  {
   "cell_type": "markdown",
   "id": "e9059078",
   "metadata": {},
   "source": [
    "# Thresholds"
   ]
  },
  {
   "cell_type": "code",
   "execution_count": 10,
   "id": "f1f29d59",
   "metadata": {
    "ExecuteTime": {
     "end_time": "2023-01-16T22:29:29.572571Z",
     "start_time": "2023-01-16T22:29:29.413414Z"
    },
    "collapsed": true
   },
   "outputs": [
    {
     "data": {
      "image/png": "[encoded data removed]",
      "text/plain": [
       "<Figure size 576x432 with 1 Axes>"
      ]
     },
     "metadata": {
      "needs_background": "light"
     },
     "output_type": "display_data"
    }
   ],
   "source": [
    "model = XGBClassifier(n_estimators = 180, learning_rate = 0.12, max_depth = 6)\n",
    "model.fit(X_train,y_train)\n",
    "\n",
    "\n",
    "y_pred = model.predict(X_test)\n",
    "\n",
    "fp_r, tp_r, t = metrics.roc_curve(Y_test, y_pred)\n",
    "auc = metrics.auc(fp_r, tp_r)\n",
    "plt.figure(figsize=(8, 6))\n",
    "plt.plot(fp_r, tp_r, label=\"AUC = %.2f\" % auc)\n",
    "plt.plot([0,1],[0,1],\"r--\")\n",
    "plt.ylabel(\"TP rate\")\n",
    "plt.xlabel(\"FP rate\")\n",
    "plt.legend(loc=4)\n",
    "plt.title(\"ROC Curve\")\n",
    "plt.show()"
   ]
  },
  {
   "cell_type": "code",
   "execution_count": 11,
   "id": "ddb6af0f",
   "metadata": {
    "ExecuteTime": {
     "end_time": "2023-01-16T22:29:49.609282Z",
     "start_time": "2023-01-16T22:29:49.606885Z"
    }
   },
   "outputs": [
    {
     "name": "stdout",
     "output_type": "stream",
     "text": [
      "Threshold value is: 1.00\n"
     ]
    }
   ],
   "source": [
    "t_opt_idx = np.argmax(tp_r - fp_r)\n",
    "t_opt = t[t_opt_idx]\n",
    "print(\"Threshold value is: %.2f\" % t_opt)"
   ]
  },
  {
   "cell_type": "code",
   "execution_count": 17,
   "id": "96ea7351",
   "metadata": {
    "ExecuteTime": {
     "end_time": "2023-01-16T22:31:39.581117Z",
     "start_time": "2023-01-16T22:31:38.236510Z"
    },
    "collapsed": true
   },
   "outputs": [
    {
     "data": {
      "text/plain": [
       "Text(0.5, 0.98, 'Impact of threshold adjustment on the error matrix')"
      ]
     },
     "execution_count": 17,
     "metadata": {},
     "output_type": "execute_result"
    },
    {
     "data": {
      "image/png": "[encoded data removed]",
      "text/plain": [
       "<Figure size 720x720 with 9 Axes>"
      ]
     },
     "metadata": {
      "needs_background": "light"
     },
     "output_type": "display_data"
    }
   ],
   "source": [
    "y_pred = model.predict_proba(X_test)[:,1]\n",
    "\n",
    "fig, axes = plt.subplots(3,3, figsize=(10,10))\n",
    "\n",
    "for t, ax in enumerate(axes.flat):\n",
    "    threshold = (t+1)/100\n",
    "\n",
    "    y_pred_int = (y_pred > threshold).astype(int)\n",
    "    c_matrix = metrics.confusion_matrix(Y_test, y_pred_int)\n",
    "    sns.heatmap(c_matrix, annot=True, cmap=\"Blues\", fmt=\"d\", ax=ax, cbar=False)\n",
    "    ax.title.set_text(\"T=%.1f\" % threshold)\n",
    "\n",
    "plt.subplots_adjust(hspace=0.5, wspace=0.5)\n",
    "plt.suptitle(\"Impact of threshold adjustment on the error matrix\")"
   ]
  },
  {
   "cell_type": "code",
   "execution_count": 291,
   "id": "c852612f",
   "metadata": {
    "ExecuteTime": {
     "end_time": "2023-01-18T15:10:42.597913Z",
     "start_time": "2023-01-18T15:10:41.314358Z"
    },
    "collapsed": true
   },
   "outputs": [
    {
     "data": {
      "image/png": "[encoded data removed]",
      "text/plain": [
       "<Figure size 720x720 with 9 Axes>"
      ]
     },
     "metadata": {
      "needs_background": "light"
     },
     "output_type": "display_data"
    }
   ],
   "source": [
    "y_pred = model.predict_proba(X_test)[:,1]\n",
    "\n",
    "fig, axes = plt.subplots(3,3, figsize=(10,10))\n",
    "\n",
    "for t, ax in enumerate(axes.flat):\n",
    "    threshold = (t+1)/100\n",
    "\n",
    "    y_pred_int = (y_pred > threshold).astype(int)\n",
    "    c_matrix = metrics.confusion_matrix(Y_test, y_pred_int)\n",
    "    sns.heatmap(c_matrix, annot=True, cmap=\"Blues\", fmt=\"d\", ax=ax, cbar=False)\n",
    "    ax.title.set_text(\"T=%.2f\" % threshold)\n",
    "\n",
    "plt.subplots_adjust(hspace=0.5, wspace=0.5)\n",
    "plt.suptitle(\"Impact of threshold adjustment on the error matrix\")\n",
    "plt.show()"
   ]
  },
  {
   "cell_type": "code",
   "execution_count": 144,
   "id": "89c24e5d",
   "metadata": {
    "ExecuteTime": {
     "end_time": "2023-01-17T00:34:55.032819Z",
     "start_time": "2023-01-17T00:34:46.450834Z"
    }
   },
   "outputs": [],
   "source": [
    "y_pred = model.predict_proba(X_test)[:,1]\n",
    "\n",
    "res = []\n",
    "for t in range(100):\n",
    "    threshold = (t+1)/100\n",
    "    \n",
    "    y_pred_int = (y_pred > threshold).astype(float)\n",
    "    res.append(metrics.average_precision_score(y_true=y_test, y_score=pred_proba_int))\n",
    "    "
   ]
  },
  {
   "cell_type": "code",
   "execution_count": 145,
   "id": "56e83ba0",
   "metadata": {
    "ExecuteTime": {
     "end_time": "2023-01-17T00:34:55.037946Z",
     "start_time": "2023-01-17T00:34:55.034494Z"
    }
   },
   "outputs": [
    {
     "data": {
      "text/plain": [
       "0.717430842393272"
      ]
     },
     "execution_count": 145,
     "metadata": {},
     "output_type": "execute_result"
    }
   ],
   "source": [
    "np.max(res)"
   ]
  },
  {
   "cell_type": "markdown",
   "id": "066414dd",
   "metadata": {
    "ExecuteTime": {
     "end_time": "2023-01-16T23:51:58.263737Z",
     "start_time": "2023-01-16T23:51:58.260786Z"
    }
   },
   "source": [
    "# Hafiz"
   ]
  },
  {
   "cell_type": "code",
   "execution_count": null,
   "id": "3ea7067f",
   "metadata": {},
   "outputs": [],
   "source": [
    "new_train = cur_train.copy()\n",
    "new_test = cur_test.copy()\n",
    "\n",
    "X_train = new_train.iloc[:, new_train.columns != \"Label\"]\n",
    "y_train = new_train.iloc[:, new_train.columns == \"Label\"]\n",
    "X_test = new_test.iloc[:, new_test.columns != \"Label\"]\n",
    "y_test = new_test.iloc[:, new_test.columns == \"Label\"]\n"
   ]
  },
  {
   "cell_type": "code",
   "execution_count": 74,
   "id": "8c4284e8",
   "metadata": {
    "ExecuteTime": {
     "end_time": "2023-01-16T23:54:24.869738Z",
     "start_time": "2023-01-16T23:53:28.100344Z"
    }
   },
   "outputs": [
    {
     "name": "stdout",
     "output_type": "stream",
     "text": [
      "[[2990297      52]\n",
      " [    736    2785]]\n",
      "[[1002359      36]\n",
      " [    312     967]]\n",
      "AUPRC: 0.8754638213971173\n",
      "AUC 0.9987848099111464\n"
     ]
    }
   ],
   "source": [
    "# computing the score on the test set\n",
    "\n",
    "model = XGBClassifier(n_estimators = 100)\n",
    "\n",
    "model.fit(X_train,y_train)\n",
    "y_train_pred = model.predict(X_train)\n",
    "print(confusion_matrix(y_train, y_train_pred))\n",
    "\n",
    "pred_proba_xgb = model.predict_proba(X_test)[:, 1]\n",
    "y_pred = model.predict(X_test)\n",
    "\n",
    "print(confusion_matrix(y_test, y_pred))\n",
    "\n",
    "print(\"AUPRC:\", metrics.average_precision_score(y_true=y_test, y_score=pred_proba_xgb))\n",
    "print('AUC', metrics.roc_auc_score(Y_test, pred_proba_xgb))"
   ]
  },
  {
   "cell_type": "code",
   "execution_count": 76,
   "id": "abe1ef41",
   "metadata": {
    "ExecuteTime": {
     "end_time": "2023-01-16T23:55:55.112263Z",
     "start_time": "2023-01-16T23:55:55.092871Z"
    }
   },
   "outputs": [],
   "source": [
    "new_test['pred'] = y_pred\n",
    "new_test['score'] = pred_proba_xgb"
   ]
  },
  {
   "cell_type": "code",
   "execution_count": 77,
   "id": "0fa3ed10",
   "metadata": {
    "ExecuteTime": {
     "end_time": "2023-01-16T23:56:18.777648Z",
     "start_time": "2023-01-16T23:56:18.695409Z"
    }
   },
   "outputs": [],
   "source": [
    "neg = new_test[new_test['pred']==0]"
   ]
  },
  {
   "cell_type": "code",
   "execution_count": 78,
   "id": "20d11f9a",
   "metadata": {
    "ExecuteTime": {
     "end_time": "2023-01-16T23:56:21.129935Z",
     "start_time": "2023-01-16T23:56:21.099488Z"
    },
    "collapsed": true
   },
   "outputs": [
    {
     "data": {
      "text/html": [
       "<div>\n",
       "<style scoped>\n",
       "    .dataframe tbody tr th:only-of-type {\n",
       "        vertical-align: middle;\n",
       "    }\n",
       "\n",
       "    .dataframe tbody tr th {\n",
       "        vertical-align: top;\n",
       "    }\n",
       "\n",
       "    .dataframe thead th {\n",
       "        text-align: right;\n",
       "    }\n",
       "</style>\n",
       "<table border=\"1\" class=\"dataframe\">\n",
       "  <thead>\n",
       "    <tr style=\"text-align: right;\">\n",
       "      <th></th>\n",
       "      <th>SettlementAmount</th>\n",
       "      <th>InstructedAmount</th>\n",
       "      <th>Label</th>\n",
       "      <th>BF</th>\n",
       "      <th>hour</th>\n",
       "      <th>sender_hour_freq</th>\n",
       "      <th>sender_currency_freq</th>\n",
       "      <th>sender_currency_avg_amount</th>\n",
       "      <th>sender_receiver_freq</th>\n",
       "      <th>pred</th>\n",
       "      <th>score</th>\n",
       "    </tr>\n",
       "  </thead>\n",
       "  <tbody>\n",
       "    <tr>\n",
       "      <th>0</th>\n",
       "      <td>9.340010e+08</td>\n",
       "      <td>9.340010e+08</td>\n",
       "      <td>0</td>\n",
       "      <td>0</td>\n",
       "      <td>0</td>\n",
       "      <td>556.0</td>\n",
       "      <td>3996.0</td>\n",
       "      <td>1.006226e+11</td>\n",
       "      <td>4115</td>\n",
       "      <td>0</td>\n",
       "      <td>1.272724e-07</td>\n",
       "    </tr>\n",
       "    <tr>\n",
       "      <th>1</th>\n",
       "      <td>1.392714e+09</td>\n",
       "      <td>1.392714e+09</td>\n",
       "      <td>0</td>\n",
       "      <td>0</td>\n",
       "      <td>0</td>\n",
       "      <td>733.0</td>\n",
       "      <td>5076.0</td>\n",
       "      <td>9.801209e+10</td>\n",
       "      <td>5268</td>\n",
       "      <td>0</td>\n",
       "      <td>3.004620e-07</td>\n",
       "    </tr>\n",
       "    <tr>\n",
       "      <th>2</th>\n",
       "      <td>9.426845e+07</td>\n",
       "      <td>9.426845e+07</td>\n",
       "      <td>0</td>\n",
       "      <td>0</td>\n",
       "      <td>0</td>\n",
       "      <td>33.0</td>\n",
       "      <td>220.0</td>\n",
       "      <td>9.405543e+10</td>\n",
       "      <td>227</td>\n",
       "      <td>0</td>\n",
       "      <td>7.549247e-08</td>\n",
       "    </tr>\n",
       "    <tr>\n",
       "      <th>3</th>\n",
       "      <td>1.087671e+08</td>\n",
       "      <td>1.087671e+08</td>\n",
       "      <td>0</td>\n",
       "      <td>0</td>\n",
       "      <td>0</td>\n",
       "      <td>709.0</td>\n",
       "      <td>4655.0</td>\n",
       "      <td>1.035847e+11</td>\n",
       "      <td>5086</td>\n",
       "      <td>0</td>\n",
       "      <td>1.023951e-07</td>\n",
       "    </tr>\n",
       "    <tr>\n",
       "      <th>4</th>\n",
       "      <td>1.068417e+08</td>\n",
       "      <td>1.068417e+08</td>\n",
       "      <td>0</td>\n",
       "      <td>0</td>\n",
       "      <td>0</td>\n",
       "      <td>999.0</td>\n",
       "      <td>6749.0</td>\n",
       "      <td>1.017103e+11</td>\n",
       "      <td>6965</td>\n",
       "      <td>0</td>\n",
       "      <td>1.921234e-07</td>\n",
       "    </tr>\n",
       "    <tr>\n",
       "      <th>...</th>\n",
       "      <td>...</td>\n",
       "      <td>...</td>\n",
       "      <td>...</td>\n",
       "      <td>...</td>\n",
       "      <td>...</td>\n",
       "      <td>...</td>\n",
       "      <td>...</td>\n",
       "      <td>...</td>\n",
       "      <td>...</td>\n",
       "      <td>...</td>\n",
       "      <td>...</td>\n",
       "    </tr>\n",
       "    <tr>\n",
       "      <th>1003669</th>\n",
       "      <td>5.624866e+10</td>\n",
       "      <td>5.624866e+10</td>\n",
       "      <td>0</td>\n",
       "      <td>0</td>\n",
       "      <td>15</td>\n",
       "      <td>6489.0</td>\n",
       "      <td>53332.0</td>\n",
       "      <td>1.431644e+11</td>\n",
       "      <td>56129</td>\n",
       "      <td>0</td>\n",
       "      <td>3.874253e-07</td>\n",
       "    </tr>\n",
       "    <tr>\n",
       "      <th>1003670</th>\n",
       "      <td>8.075275e+09</td>\n",
       "      <td>8.075275e+09</td>\n",
       "      <td>0</td>\n",
       "      <td>0</td>\n",
       "      <td>15</td>\n",
       "      <td>8454.0</td>\n",
       "      <td>65763.0</td>\n",
       "      <td>1.433698e+11</td>\n",
       "      <td>71769</td>\n",
       "      <td>0</td>\n",
       "      <td>1.613893e-07</td>\n",
       "    </tr>\n",
       "    <tr>\n",
       "      <th>1003671</th>\n",
       "      <td>9.531184e+09</td>\n",
       "      <td>9.531184e+09</td>\n",
       "      <td>0</td>\n",
       "      <td>0</td>\n",
       "      <td>15</td>\n",
       "      <td>815.0</td>\n",
       "      <td>6676.0</td>\n",
       "      <td>1.423152e+11</td>\n",
       "      <td>7097</td>\n",
       "      <td>0</td>\n",
       "      <td>2.075006e-07</td>\n",
       "    </tr>\n",
       "    <tr>\n",
       "      <th>1003672</th>\n",
       "      <td>1.097831e+10</td>\n",
       "      <td>1.097831e+10</td>\n",
       "      <td>0</td>\n",
       "      <td>0</td>\n",
       "      <td>15</td>\n",
       "      <td>160.0</td>\n",
       "      <td>1143.0</td>\n",
       "      <td>1.460978e+11</td>\n",
       "      <td>1207</td>\n",
       "      <td>0</td>\n",
       "      <td>5.960975e-07</td>\n",
       "    </tr>\n",
       "    <tr>\n",
       "      <th>1003673</th>\n",
       "      <td>5.441763e+10</td>\n",
       "      <td>5.441763e+10</td>\n",
       "      <td>0</td>\n",
       "      <td>0</td>\n",
       "      <td>15</td>\n",
       "      <td>8081.0</td>\n",
       "      <td>66410.0</td>\n",
       "      <td>1.438377e+11</td>\n",
       "      <td>69824</td>\n",
       "      <td>0</td>\n",
       "      <td>3.104064e-07</td>\n",
       "    </tr>\n",
       "  </tbody>\n",
       "</table>\n",
       "<p>1002671 rows × 11 columns</p>\n",
       "</div>"
      ],
      "text/plain": [
       "         SettlementAmount  InstructedAmount  ...  pred         score\n",
       "0            9.340010e+08      9.340010e+08  ...     0  1.272724e-07\n",
       "1            1.392714e+09      1.392714e+09  ...     0  3.004620e-07\n",
       "2            9.426845e+07      9.426845e+07  ...     0  7.549247e-08\n",
       "3            1.087671e+08      1.087671e+08  ...     0  1.023951e-07\n",
       "4            1.068417e+08      1.068417e+08  ...     0  1.921234e-07\n",
       "...                   ...               ...  ...   ...           ...\n",
       "1003669      5.624866e+10      5.624866e+10  ...     0  3.874253e-07\n",
       "1003670      8.075275e+09      8.075275e+09  ...     0  1.613893e-07\n",
       "1003671      9.531184e+09      9.531184e+09  ...     0  2.075006e-07\n",
       "1003672      1.097831e+10      1.097831e+10  ...     0  5.960975e-07\n",
       "1003673      5.441763e+10      5.441763e+10  ...     0  3.104064e-07\n",
       "\n",
       "[1002671 rows x 11 columns]"
      ]
     },
     "execution_count": 78,
     "metadata": {},
     "output_type": "execute_result"
    }
   ],
   "source": [
    "neg"
   ]
  },
  {
   "cell_type": "code",
   "execution_count": 151,
   "id": "57eb83b1",
   "metadata": {
    "ExecuteTime": {
     "end_time": "2023-01-17T14:46:36.281377Z",
     "start_time": "2023-01-17T14:46:14.561647Z"
    }
   },
   "outputs": [
    {
     "name": "stdout",
     "output_type": "stream",
     "text": [
      "[[1002358       1]\n",
      " [    171     141]]\n",
      "AUPRC: 0.8455422056679145\n"
     ]
    }
   ],
   "source": [
    "X = neg.drop(['Label', 'pred', 'score'], axis = 1).values\n",
    "y = neg['Label'].values\n",
    "\n",
    "model = XGBClassifier(n_estimators = 100)\n",
    "\n",
    "model.fit(X,y)\n",
    "y_proba = model.predict_proba(X)[:, 1]\n",
    "predy = model.predict(X)\n",
    "\n",
    "print(confusion_matrix(y, predy))\n",
    "\n",
    "print(\"AUPRC:\", metrics.average_precision_score(y_true=y, y_score=y_proba))\n"
   ]
  },
  {
   "cell_type": "code",
   "execution_count": 83,
   "id": "69e7ab5b",
   "metadata": {
    "ExecuteTime": {
     "end_time": "2023-01-17T00:03:06.228957Z",
     "start_time": "2023-01-17T00:02:50.728558Z"
    }
   },
   "outputs": [
    {
     "name": "stdout",
     "output_type": "stream",
     "text": [
      "[[200454     19]\n",
      " [    59      3]]\n",
      "AUPRC: 0.08689676850799746\n",
      "AUC 0.9915651902605177\n"
     ]
    }
   ],
   "source": [
    "X = neg.drop(['Label', 'pred', 'score'], axis = 1).values\n",
    "y = neg['Label'].values\n",
    "\n",
    "trainX, testX, trainY, testY = train_test_split(X,y, test_size=0.2, stratify= y)\n",
    "model = XGBClassifier(n_estimators = 100)\n",
    "\n",
    "model.fit(trainX,trainY)\n",
    "y_proba = model.predict_proba(testX)[:, 1]\n",
    "predy = model.predict(testX)\n",
    "\n",
    "print(confusion_matrix(testY, predy))\n",
    "\n",
    "print(\"AUPRC:\", metrics.average_precision_score(y_true=testY, y_score=y_proba))\n",
    "print('AUC', metrics.roc_auc_score(testY, y_proba))"
   ]
  },
  {
   "cell_type": "code",
   "execution_count": 91,
   "id": "92c3175c",
   "metadata": {
    "ExecuteTime": {
     "end_time": "2023-01-17T00:09:10.240326Z",
     "start_time": "2023-01-17T00:09:10.199945Z"
    },
    "collapsed": true
   },
   "outputs": [
    {
     "data": {
      "text/html": [
       "<div>\n",
       "<style scoped>\n",
       "    .dataframe tbody tr th:only-of-type {\n",
       "        vertical-align: middle;\n",
       "    }\n",
       "\n",
       "    .dataframe tbody tr th {\n",
       "        vertical-align: top;\n",
       "    }\n",
       "\n",
       "    .dataframe thead th {\n",
       "        text-align: right;\n",
       "    }\n",
       "</style>\n",
       "<table border=\"1\" class=\"dataframe\">\n",
       "  <thead>\n",
       "    <tr style=\"text-align: right;\">\n",
       "      <th></th>\n",
       "      <th>SettlementAmount</th>\n",
       "      <th>InstructedAmount</th>\n",
       "      <th>Label</th>\n",
       "      <th>BF</th>\n",
       "      <th>hour</th>\n",
       "      <th>sender_hour_freq</th>\n",
       "      <th>sender_currency_freq</th>\n",
       "      <th>sender_currency_avg_amount</th>\n",
       "      <th>sender_receiver_freq</th>\n",
       "      <th>pred</th>\n",
       "      <th>score</th>\n",
       "    </tr>\n",
       "  </thead>\n",
       "  <tbody>\n",
       "    <tr>\n",
       "      <th>0</th>\n",
       "      <td>9.340010e+08</td>\n",
       "      <td>9.340010e+08</td>\n",
       "      <td>0</td>\n",
       "      <td>0</td>\n",
       "      <td>0</td>\n",
       "      <td>556.0</td>\n",
       "      <td>3996.0</td>\n",
       "      <td>1.006226e+11</td>\n",
       "      <td>4115</td>\n",
       "      <td>0</td>\n",
       "      <td>1.272724e-07</td>\n",
       "    </tr>\n",
       "    <tr>\n",
       "      <th>1</th>\n",
       "      <td>1.392714e+09</td>\n",
       "      <td>1.392714e+09</td>\n",
       "      <td>0</td>\n",
       "      <td>0</td>\n",
       "      <td>0</td>\n",
       "      <td>733.0</td>\n",
       "      <td>5076.0</td>\n",
       "      <td>9.801209e+10</td>\n",
       "      <td>5268</td>\n",
       "      <td>0</td>\n",
       "      <td>3.004620e-07</td>\n",
       "    </tr>\n",
       "    <tr>\n",
       "      <th>2</th>\n",
       "      <td>9.426845e+07</td>\n",
       "      <td>9.426845e+07</td>\n",
       "      <td>0</td>\n",
       "      <td>0</td>\n",
       "      <td>0</td>\n",
       "      <td>33.0</td>\n",
       "      <td>220.0</td>\n",
       "      <td>9.405543e+10</td>\n",
       "      <td>227</td>\n",
       "      <td>0</td>\n",
       "      <td>7.549247e-08</td>\n",
       "    </tr>\n",
       "    <tr>\n",
       "      <th>3</th>\n",
       "      <td>1.087671e+08</td>\n",
       "      <td>1.087671e+08</td>\n",
       "      <td>0</td>\n",
       "      <td>0</td>\n",
       "      <td>0</td>\n",
       "      <td>709.0</td>\n",
       "      <td>4655.0</td>\n",
       "      <td>1.035847e+11</td>\n",
       "      <td>5086</td>\n",
       "      <td>0</td>\n",
       "      <td>1.023951e-07</td>\n",
       "    </tr>\n",
       "    <tr>\n",
       "      <th>4</th>\n",
       "      <td>1.068417e+08</td>\n",
       "      <td>1.068417e+08</td>\n",
       "      <td>0</td>\n",
       "      <td>0</td>\n",
       "      <td>0</td>\n",
       "      <td>999.0</td>\n",
       "      <td>6749.0</td>\n",
       "      <td>1.017103e+11</td>\n",
       "      <td>6965</td>\n",
       "      <td>0</td>\n",
       "      <td>1.921234e-07</td>\n",
       "    </tr>\n",
       "    <tr>\n",
       "      <th>...</th>\n",
       "      <td>...</td>\n",
       "      <td>...</td>\n",
       "      <td>...</td>\n",
       "      <td>...</td>\n",
       "      <td>...</td>\n",
       "      <td>...</td>\n",
       "      <td>...</td>\n",
       "      <td>...</td>\n",
       "      <td>...</td>\n",
       "      <td>...</td>\n",
       "      <td>...</td>\n",
       "    </tr>\n",
       "    <tr>\n",
       "      <th>1003669</th>\n",
       "      <td>5.624866e+10</td>\n",
       "      <td>5.624866e+10</td>\n",
       "      <td>0</td>\n",
       "      <td>0</td>\n",
       "      <td>15</td>\n",
       "      <td>6489.0</td>\n",
       "      <td>53332.0</td>\n",
       "      <td>1.431644e+11</td>\n",
       "      <td>56129</td>\n",
       "      <td>0</td>\n",
       "      <td>3.874253e-07</td>\n",
       "    </tr>\n",
       "    <tr>\n",
       "      <th>1003670</th>\n",
       "      <td>8.075275e+09</td>\n",
       "      <td>8.075275e+09</td>\n",
       "      <td>0</td>\n",
       "      <td>0</td>\n",
       "      <td>15</td>\n",
       "      <td>8454.0</td>\n",
       "      <td>65763.0</td>\n",
       "      <td>1.433698e+11</td>\n",
       "      <td>71769</td>\n",
       "      <td>0</td>\n",
       "      <td>1.613893e-07</td>\n",
       "    </tr>\n",
       "    <tr>\n",
       "      <th>1003671</th>\n",
       "      <td>9.531184e+09</td>\n",
       "      <td>9.531184e+09</td>\n",
       "      <td>0</td>\n",
       "      <td>0</td>\n",
       "      <td>15</td>\n",
       "      <td>815.0</td>\n",
       "      <td>6676.0</td>\n",
       "      <td>1.423152e+11</td>\n",
       "      <td>7097</td>\n",
       "      <td>0</td>\n",
       "      <td>2.075006e-07</td>\n",
       "    </tr>\n",
       "    <tr>\n",
       "      <th>1003672</th>\n",
       "      <td>1.097831e+10</td>\n",
       "      <td>1.097831e+10</td>\n",
       "      <td>0</td>\n",
       "      <td>0</td>\n",
       "      <td>15</td>\n",
       "      <td>160.0</td>\n",
       "      <td>1143.0</td>\n",
       "      <td>1.460978e+11</td>\n",
       "      <td>1207</td>\n",
       "      <td>0</td>\n",
       "      <td>5.960975e-07</td>\n",
       "    </tr>\n",
       "    <tr>\n",
       "      <th>1003673</th>\n",
       "      <td>5.441763e+10</td>\n",
       "      <td>5.441763e+10</td>\n",
       "      <td>0</td>\n",
       "      <td>0</td>\n",
       "      <td>15</td>\n",
       "      <td>8081.0</td>\n",
       "      <td>66410.0</td>\n",
       "      <td>1.438377e+11</td>\n",
       "      <td>69824</td>\n",
       "      <td>0</td>\n",
       "      <td>3.104064e-07</td>\n",
       "    </tr>\n",
       "  </tbody>\n",
       "</table>\n",
       "<p>1002671 rows × 11 columns</p>\n",
       "</div>"
      ],
      "text/plain": [
       "         SettlementAmount  InstructedAmount  ...  pred         score\n",
       "0            9.340010e+08      9.340010e+08  ...     0  1.272724e-07\n",
       "1            1.392714e+09      1.392714e+09  ...     0  3.004620e-07\n",
       "2            9.426845e+07      9.426845e+07  ...     0  7.549247e-08\n",
       "3            1.087671e+08      1.087671e+08  ...     0  1.023951e-07\n",
       "4            1.068417e+08      1.068417e+08  ...     0  1.921234e-07\n",
       "...                   ...               ...  ...   ...           ...\n",
       "1003669      5.624866e+10      5.624866e+10  ...     0  3.874253e-07\n",
       "1003670      8.075275e+09      8.075275e+09  ...     0  1.613893e-07\n",
       "1003671      9.531184e+09      9.531184e+09  ...     0  2.075006e-07\n",
       "1003672      1.097831e+10      1.097831e+10  ...     0  5.960975e-07\n",
       "1003673      5.441763e+10      5.441763e+10  ...     0  3.104064e-07\n",
       "\n",
       "[1002671 rows x 11 columns]"
      ]
     },
     "execution_count": 91,
     "metadata": {},
     "output_type": "execute_result"
    }
   ],
   "source": [
    "neg"
   ]
  },
  {
   "cell_type": "code",
   "execution_count": 113,
   "id": "7be7275b",
   "metadata": {
    "ExecuteTime": {
     "end_time": "2023-01-17T00:14:43.547618Z",
     "start_time": "2023-01-17T00:14:43.538627Z"
    }
   },
   "outputs": [],
   "source": [
    "def compare_leg_fraud(df, attribute):\n",
    "    fn_trS = df.loc[(df[\"pred\"] == 0) & (df['Label']==1) ][attribute].rename(\"FalseNegative\").describe()\n",
    "    tp_trS = df.loc[(df[\"pred\"] == 1) & (df['Label']==1)][attribute].rename(\"TruePositve\").describe()\n",
    "    tn_trS = df.loc[(df[\"pred\"] == 0) & (df['Label']==0) ][attribute].rename(\"TrueNegative\").describe()\n",
    "    tr_hourDF = fn_trS.to_frame().join(tp_trS.to_frame()).join(tn_trS.to_frame())\n",
    "    return tr_hourDF"
   ]
  },
  {
   "cell_type": "code",
   "execution_count": 115,
   "id": "ff6cb707",
   "metadata": {
    "ExecuteTime": {
     "end_time": "2023-01-17T00:15:35.953167Z",
     "start_time": "2023-01-17T00:15:35.316744Z"
    },
    "collapsed": true
   },
   "outputs": [
    {
     "name": "stdout",
     "output_type": "stream",
     "text": [
      "SettlementAmount\t\n",
      "       FalseNegative   TruePositve  TrueNegative\n",
      "count   3.120000e+02  9.670000e+02  1.002359e+06\n",
      "mean    3.533099e+11  2.366022e+11  1.163421e+11\n",
      "std     2.193678e+11  7.994738e+10  1.065098e+11\n",
      "min     4.580450e+09  2.212465e+10  0.000000e+00\n",
      "25%     1.252096e+11  1.922923e+11  3.006940e+10\n",
      "50%     3.831000e+11  2.344994e+11  9.011438e+10\n",
      "75%     5.476881e+11  2.777968e+11  1.731076e+11\n",
      "max     7.555838e+11  7.379816e+11  9.051958e+11\n",
      "InstructedAmount\t\n",
      "       FalseNegative   TruePositve  TrueNegative\n",
      "count   3.120000e+02  9.670000e+02  1.002359e+06\n",
      "mean    3.533099e+11  2.366022e+11  1.163421e+11\n",
      "std     2.193678e+11  7.994738e+10  1.065098e+11\n",
      "min     4.580450e+09  2.212465e+10  0.000000e+00\n",
      "25%     1.252096e+11  1.922923e+11  3.006940e+10\n",
      "50%     3.831000e+11  2.344994e+11  9.011438e+10\n",
      "75%     5.476881e+11  2.777968e+11  1.731076e+11\n",
      "max     7.555838e+11  7.379816e+11  9.051958e+11\n",
      "BF\t\n",
      "       FalseNegative  TruePositve  TrueNegative\n",
      "count          312.0   967.000000     1002359.0\n",
      "mean             0.0     0.441572           0.0\n",
      "std              0.0     0.496831           0.0\n",
      "min              0.0     0.000000           0.0\n",
      "25%              0.0     0.000000           0.0\n",
      "50%              0.0     0.000000           0.0\n",
      "75%              0.0     1.000000           0.0\n",
      "max              0.0     1.000000           0.0\n",
      "hour\t\n",
      "       FalseNegative  TruePositve  TrueNegative\n",
      "count     312.000000   967.000000  1.002359e+06\n",
      "mean       13.467949     9.226474  7.985202e+00\n",
      "std         8.167396     6.513039  5.420076e+00\n",
      "min         0.000000     0.000000  0.000000e+00\n",
      "25%         5.000000     3.000000  3.000000e+00\n",
      "50%        14.000000     9.000000  7.000000e+00\n",
      "75%        23.000000    14.000000  1.300000e+01\n",
      "max        23.000000    23.000000  2.300000e+01\n",
      "sender_hour_freq\t\n",
      "       FalseNegative   TruePositve  TrueNegative\n",
      "count     312.000000    967.000000  1.002359e+06\n",
      "mean      664.823718   1024.622544  1.471083e+03\n",
      "std      1756.515984   2496.265724  2.809470e+03\n",
      "min        -1.000000     -1.000000 -1.000000e+00\n",
      "25%         3.000000      1.000000  1.130000e+02\n",
      "50%        37.000000    106.000000  4.110000e+02\n",
      "75%       539.750000    746.000000  1.351000e+03\n",
      "max     13676.000000  15405.000000  1.540500e+04\n",
      "sender_currency_freq\t\n",
      "       FalseNegative   TruePositve  TrueNegative\n",
      "count     312.000000    967.000000  1.002359e+06\n",
      "mean     9289.022436   7096.354705  1.226684e+04\n",
      "std     13198.682637  14624.458073  1.711016e+04\n",
      "min         2.000000     -1.000000 -1.000000e+00\n",
      "25%       785.000000      4.000000  1.292000e+03\n",
      "50%      3729.500000    436.000000  4.960000e+03\n",
      "75%     14036.000000   6597.000000  1.658900e+04\n",
      "max     66410.000000  66410.000000  6.641000e+04\n",
      "sender_currency_avg_amount\t\n",
      "       FalseNegative   TruePositve  TrueNegative\n",
      "count   3.120000e+02  9.670000e+02  1.002359e+06\n",
      "mean    1.193050e+11  1.199899e+11  1.164762e+11\n",
      "std     3.180583e+10  7.996016e+10  3.501456e+10\n",
      "min     2.661754e+09 -1.000000e+00 -1.000000e+00\n",
      "25%     1.001299e+11  9.786609e+10  1.014223e+11\n",
      "50%     1.042664e+11  1.406362e+11  1.125201e+11\n",
      "75%     1.430235e+11  1.486352e+11  1.433698e+11\n",
      "max     2.836689e+11  3.574809e+11  5.139400e+11\n",
      "sender_receiver_freq\t\n",
      "       FalseNegative   TruePositve  TrueNegative\n",
      "count     312.000000    967.000000  1.002359e+06\n",
      "mean     9988.919872  11264.405377  1.397307e+04\n",
      "std     13980.132725  17824.937024  1.860289e+04\n",
      "min         3.000000      3.000000  1.000000e+00\n",
      "25%       933.250000    367.000000  1.839000e+03\n",
      "50%      3957.500000   3306.000000  6.195000e+03\n",
      "75%     15021.000000  13598.000000  1.816800e+04\n",
      "max     71769.000000  71769.000000  7.176900e+04\n",
      "pred\t\n",
      "       FalseNegative  TruePositve  TrueNegative\n",
      "count          312.0        967.0     1002359.0\n",
      "mean             0.0          1.0           0.0\n",
      "std              0.0          0.0           0.0\n",
      "min              0.0          1.0           0.0\n",
      "25%              0.0          1.0           0.0\n",
      "50%              0.0          1.0           0.0\n",
      "75%              0.0          1.0           0.0\n",
      "max              0.0          1.0           0.0\n",
      "score\t\n",
      "       FalseNegative  TruePositve  TrueNegative\n",
      "count     312.000000   967.000000  1.002359e+06\n",
      "mean        0.120655     0.951929  2.718305e-04\n",
      "std         0.149973     0.106526  5.267858e-03\n",
      "min         0.000012     0.501795  4.421885e-08\n",
      "25%         0.008071     0.975632  3.933425e-07\n",
      "50%         0.035051     0.999540  9.308099e-07\n",
      "75%         0.195390     0.999830  2.932096e-06\n",
      "max         0.499805     1.000000  4.998648e-01\n"
     ]
    }
   ],
   "source": [
    "for col in new_test.columns:\n",
    "    if col != 'Label':\n",
    "        print(col + '\\t')\n",
    "        print(compare_leg_fraud(new_test, col))"
   ]
  },
  {
   "cell_type": "code",
   "execution_count": 116,
   "id": "c9a11e5b",
   "metadata": {
    "ExecuteTime": {
     "end_time": "2023-01-17T00:16:39.932647Z",
     "start_time": "2023-01-17T00:16:39.853557Z"
    }
   },
   "outputs": [],
   "source": [
    "fn_trS = new_test.loc[(new_test[\"pred\"] == 0) & (new_test['Label']==1) ]\n",
    "tp_trS = new_test.loc[(new_test[\"pred\"] == 1) & (new_test['Label']==1)]\n",
    "tn_trS = new_test.loc[(new_test[\"pred\"] == 0) & (new_test['Label']==0) ]"
   ]
  },
  {
   "cell_type": "code",
   "execution_count": 152,
   "id": "ad42678a",
   "metadata": {
    "ExecuteTime": {
     "end_time": "2023-01-17T14:49:17.528324Z",
     "start_time": "2023-01-17T14:49:17.366710Z"
    },
    "collapsed": true
   },
   "outputs": [
    {
     "data": {
      "image/png": "[encoded data removed]",
      "text/plain": [
       "<Figure size 432x288 with 1 Axes>"
      ]
     },
     "metadata": {
      "needs_background": "light"
     },
     "output_type": "display_data"
    }
   ],
   "source": [
    "\n",
    "ax = plt.gca()\n",
    "\n",
    "fn_trS['score'].plot(color = 'black', kind='hist', ax=ax, density=True, alpha=0.3) #  1 0\n",
    "tp_trS['score'].plot(color = 'orange', kind='hist', ax=ax, density=True, alpha=0.3)#  1 1\n",
    "tn_trS['score'].plot(color = 'green', kind='hist', ax=ax, density=True, alpha=0.5) #  0 0\n",
    "\n",
    "plt.show()"
   ]
  },
  {
   "cell_type": "markdown",
   "id": "eacfee7c",
   "metadata": {},
   "source": [
    "# Classifiers"
   ]
  },
  {
   "cell_type": "markdown",
   "id": "18d3df14",
   "metadata": {},
   "source": [
    "Given the train data, build the first XGBoost Classifer<br>\n",
    "Predict the score for each transaction in the training dataset<br>\n",
    "Train a new XGBoost for transactions whose scores are \"lower/higher/inbetween\" than the thresholds<br>\n",
    "Replace the score of these transactions with the new predictions<br>\n"
   ]
  },
  {
   "cell_type": "code",
   "execution_count": 156,
   "id": "294ab02f",
   "metadata": {
    "ExecuteTime": {
     "end_time": "2023-01-17T15:54:25.493703Z",
     "start_time": "2023-01-17T15:54:23.820390Z"
    }
   },
   "outputs": [],
   "source": [
    "cur_train = pd.read_csv('../new_data/fincrime/scenario01/solution_centralized/train.csv')\n",
    "cur_test = pd.read_csv('../new_data/fincrime/scenario01/solution_centralized/test.csv')"
   ]
  },
  {
   "cell_type": "code",
   "execution_count": null,
   "id": "f1ad8107",
   "metadata": {},
   "outputs": [],
   "source": [
    "new_train = cur_train.copy()\n",
    "new_test = cur_test.copy()\n",
    "\n",
    "X_train = new_train.iloc[:, new_train.columns != \"Label\"]\n",
    "y_train = new_train.iloc[:, new_train.columns == \"Label\"]\n",
    "\n",
    "X_test = new_test.iloc[:, new_test.columns != \"Label\"]\n",
    "y_test = new_test.iloc[:, new_test.columns == \"Label\"]\n"
   ]
  },
  {
   "cell_type": "code",
   "execution_count": 171,
   "id": "0256befa",
   "metadata": {
    "ExecuteTime": {
     "end_time": "2023-01-17T16:20:25.119442Z",
     "start_time": "2023-01-17T16:19:25.252914Z"
    },
    "collapsed": true
   },
   "outputs": [
    {
     "data": {
      "text/plain": [
       "XGBClassifier(base_score=0.5, booster='gbtree', callbacks=None,\n",
       "              colsample_bylevel=1, colsample_bynode=1, colsample_bytree=1,\n",
       "              early_stopping_rounds=None, enable_categorical=False,\n",
       "              eval_metric=None, gamma=0, gpu_id=-1, grow_policy='depthwise',\n",
       "              importance_type=None, interaction_constraints='',\n",
       "              learning_rate=0.300000012, max_bin=256, max_cat_to_onehot=4,\n",
       "              max_delta_step=0, max_depth=6, max_leaves=0, min_child_weight=1,\n",
       "              missing=nan, monotone_constraints='()', n_estimators=100,\n",
       "              n_jobs=0, num_parallel_tree=1, predictor='auto', random_state=0,\n",
       "              reg_alpha=0, reg_lambda=1, ...)"
      ]
     },
     "execution_count": 171,
     "metadata": {},
     "output_type": "execute_result"
    }
   ],
   "source": [
    "model = XGBClassifier(n_estimators = 100, base_score = 0.5)\n",
    "model.fit(X_train,y_train)"
   ]
  },
  {
   "cell_type": "code",
   "execution_count": 174,
   "id": "7abbd884",
   "metadata": {
    "ExecuteTime": {
     "end_time": "2023-01-17T16:29:19.073194Z",
     "start_time": "2023-01-17T16:29:18.362247Z"
    },
    "collapsed": true
   },
   "outputs": [
    {
     "data": {
      "text/plain": [
       "array([1.1868819e-07, 1.1868819e-07, 1.1868819e-07, ..., 5.4827120e-05,\n",
       "       4.8924391e-03, 1.8429653e-05], dtype=float32)"
      ]
     },
     "execution_count": 174,
     "metadata": {},
     "output_type": "execute_result"
    }
   ],
   "source": [
    "y_prob_train = model.predict_proba(X_train)[:, 1]\n",
    "y_prob_train "
   ]
  },
  {
   "cell_type": "code",
   "execution_count": 168,
   "id": "4269fc64",
   "metadata": {
    "ExecuteTime": {
     "end_time": "2023-01-17T16:03:55.329475Z",
     "start_time": "2023-01-17T16:03:53.301307Z"
    }
   },
   "outputs": [
    {
     "name": "stdout",
     "output_type": "stream",
     "text": [
      "[[2990286      63]\n",
      " [    760    2761]]\n",
      "AUPRC: 0.9281252671234261\n"
     ]
    }
   ],
   "source": [
    "print(confusion_matrix(y_train, model.predict(X_train)))\n",
    "print(\"AUPRC:\", metrics.average_precision_score(y_true=y_train, y_score=y_prob_train))"
   ]
  },
  {
   "cell_type": "code",
   "execution_count": 169,
   "id": "3c378d6d",
   "metadata": {
    "ExecuteTime": {
     "end_time": "2023-01-17T16:03:56.087920Z",
     "start_time": "2023-01-17T16:03:55.331301Z"
    }
   },
   "outputs": [
    {
     "name": "stdout",
     "output_type": "stream",
     "text": [
      "[[1002353      42]\n",
      " [    323     956]]\n",
      "AUPRC: 0.8704537274523667\n"
     ]
    }
   ],
   "source": [
    "print(confusion_matrix(y_test, model.predict(X_test)))\n",
    "print(\"AUPRC:\", metrics.average_precision_score(y_true=y_test, y_score=model.predict_proba(X_test)[:, 1]))"
   ]
  },
  {
   "cell_type": "code",
   "execution_count": 270,
   "id": "f5bc8284",
   "metadata": {
    "ExecuteTime": {
     "end_time": "2023-01-17T22:37:46.317586Z",
     "start_time": "2023-01-17T22:37:46.296976Z"
    }
   },
   "outputs": [],
   "source": [
    "class xgbootS:\n",
    "    def __init__(self):\n",
    "        \n",
    "        return \n",
    "    \n",
    "    def select_idx(self, area, y_prob, threshold):\n",
    "        if area == 'right':\n",
    "            false_idx = np.where((y_prob > threshold))[0]\n",
    "        elif area == 'left':\n",
    "            false_idx = np.where((y_prob < threshold))[0]\n",
    "        else:\n",
    "            false_idx = np.where( (y_prob < 0.501) & (y_prob > threshold))[0]\n",
    "        \n",
    "        return false_idx\n",
    "    \n",
    "    def classifier_1(self, X_train, y_train):\n",
    "        \"\"\"\n",
    "        train the first XGBoost with the original training data\n",
    "        \"\"\"\n",
    "        model1 = XGBClassifier(n_estimators = 100)\n",
    "        model1.fit(X_train,y_train)\n",
    "        \n",
    "        return model1\n",
    "    \n",
    "    def classifier_2(self, area, model1, X_train, y_train, threshold):\n",
    "        \"\"\"\n",
    "        Given the first XGBoost model, get the predicted score for each transaction in the X_train\n",
    "        Select the transactions whose scores are in the defined range (select_idx)\n",
    "        \n",
    "        \"\"\"\n",
    "        y_prob_1 = model1.predict_proba(X_train)[:, 1] #Given the first XGBoost model, get the predicted score for each transaction in the X_train\n",
    "        false_idx = self.select_idx(area, y_prob_1, threshold)#Select the transactions whose scores are in the defined range\n",
    "        \n",
    "        self.model2 = XGBClassifier(n_estimators = 100 ) # Train the second XGBoost on the selected transaction data\n",
    "        self.model2.fit(X_train.take(false_idx, axis = 0),y_train.take(false_idx, axis = 0))\n",
    "        \n",
    "    def predict(self, area, model1, X_test, y_test, threshold):\n",
    "        y_prob_1 = model1.predict_proba(X_test)[:, 1] # get the predicitons for all the transactions in test data with the first model\n",
    "        y_pred_1 = model1.predict(X_test)\n",
    "        \n",
    "        \n",
    "        false_idx = self.select_idx(area, y_prob_1, threshold)\n",
    "        \n",
    "        y_prob_2 = self.model2.predict_proba(X_test.take(false_idx, axis = 0))[:, 1]\n",
    "        y_pred_2 = self.model2.predict(X_test.take(false_idx, axis = 0)) # get the predicitons for selected transactions in test data with the second model\n",
    "        \n",
    "        y_prob_1[false_idx] = y_prob_2 \n",
    "        y_pred_1[false_idx] = y_pred_2\n",
    "        \n",
    "        return y_prob_1, y_pred_1, false_idx # return the predictions and selected index\n",
    "    \n",
    "    def evaluate(self, y_test, y_prob, y_pred): \n",
    "        tp, fp, fn, tn = confusion_matrix(y_test,y_pred).ravel()\n",
    "        return tp, fp, fn, tn,  metrics.average_precision_score(y_test, y_prob)"
   ]
  },
  {
   "cell_type": "code",
   "execution_count": 271,
   "id": "7575bc0c",
   "metadata": {
    "ExecuteTime": {
     "end_time": "2023-01-18T04:30:36.280116Z",
     "start_time": "2023-01-17T22:37:46.630652Z"
    }
   },
   "outputs": [],
   "source": [
    "models = xgbootS()\n",
    "model1 = models.classifier_1(X_train, y_train) # Train first model for once\n",
    "false_negative_all = np.zeros((49,3))\n",
    "false_positive_all = np.zeros((49,3))\n",
    "\n",
    "false_negative_step2 = np.zeros((49,3))\n",
    "false_positive_step2 = np.zeros((49,3))\n",
    "true_negative_step2 = np.zeros((49,3))\n",
    "true_positive_step2 = np.zeros((49,3))\n",
    "\n",
    "\n",
    "res = np.zeros((49,3))\n",
    "res_step2 = np.zeros((49,3))\n",
    "\n",
    "for idx, area in enumerate(['left', 'right', 'between']):\n",
    "    for t in range(49):\n",
    "        threshold = (t+1)/100\n",
    "        models.classifier_2(area, model1, X_train, y_train, threshold) #overwrite the second xgboost with different thresholds\n",
    "        y_prob_1, y_pred_1, false_idx = models.predict(area, model1,X_test,y_test, threshold)\n",
    "        \n",
    "        # evaluate step2\n",
    "        tp, fp, fn, tn, score = models.evaluate(y_test.take(false_idx, axis = 0), \n",
    "                                                y_prob_1.take(false_idx, axis = 0),\n",
    "                                                y_pred_1.take(false_idx, axis = 0))\n",
    "        \n",
    "        # evaluate overall\n",
    "        _, fp_all, fn_all, _,  score_all = models.evaluate(y_test, y_prob_1, y_pred_1)\n",
    "        \n",
    "        res[t, idx] = score_all\n",
    "        res_step2[t, idx] = score\n",
    "        \n",
    "        false_negative_all[t, idx] = fn_all\n",
    "        false_positive_all[t, idx] = fp_all\n",
    "        \n",
    "        false_negative_step2[t, idx] = fn\n",
    "        false_positive_step2[t, idx] = fp\n",
    "        true_negative_step2[t, idx] = tn\n",
    "        true_positive_step2[t, idx] = tp\n"
   ]
  },
  {
   "cell_type": "code",
   "execution_count": 276,
   "id": "4811ee13",
   "metadata": {
    "ExecuteTime": {
     "end_time": "2023-01-18T14:22:58.370393Z",
     "start_time": "2023-01-18T14:22:58.362057Z"
    },
    "collapsed": true
   },
   "outputs": [
    {
     "data": {
      "text/plain": [
       "array([[ 93., 220., 215.],\n",
       "       [132., 169., 174.],\n",
       "       [150., 151., 159.],\n",
       "       [163., 143., 145.],\n",
       "       [169., 126., 139.],\n",
       "       [173., 118., 132.],\n",
       "       [175., 113., 122.],\n",
       "       [183., 108., 116.],\n",
       "       [185., 107., 114.],\n",
       "       [192.,  96., 107.],\n",
       "       [197.,  90., 101.],\n",
       "       [198.,  81.,  99.],\n",
       "       [206.,  70.,  89.],\n",
       "       [210.,  66.,  85.],\n",
       "       [211.,  67.,  84.],\n",
       "       [217.,  54.,  78.],\n",
       "       [223.,  50.,  70.],\n",
       "       [228.,  45.,  65.],\n",
       "       [230.,  36.,  60.],\n",
       "       [234.,  34.,  58.],\n",
       "       [237.,  33.,  48.],\n",
       "       [243.,  24.,  46.],\n",
       "       [247.,  23.,  41.],\n",
       "       [248.,  19.,  41.],\n",
       "       [249.,  22.,  40.],\n",
       "       [252.,  17.,  38.],\n",
       "       [251.,  15.,  34.],\n",
       "       [253.,  12.,  29.],\n",
       "       [256.,   9.,  24.],\n",
       "       [258.,  12.,  21.],\n",
       "       [259.,   8.,  21.],\n",
       "       [261.,   6.,  19.],\n",
       "       [268.,   6.,  13.],\n",
       "       [270.,   7.,  15.],\n",
       "       [271.,   6.,  14.],\n",
       "       [272.,   7.,  12.],\n",
       "       [275.,   6.,   9.],\n",
       "       [275.,   4.,   9.],\n",
       "       [280.,   3.,   6.],\n",
       "       [281.,   4.,   6.],\n",
       "       [282.,   4.,   5.],\n",
       "       [284.,   3.,   2.],\n",
       "       [287.,   4.,   2.],\n",
       "       [294.,   2.,   4.],\n",
       "       [298.,   2.,   4.],\n",
       "       [298.,   4.,   3.],\n",
       "       [300.,   3.,   3.],\n",
       "       [301.,   4.,   0.],\n",
       "       [302.,   3.,   0.]])"
      ]
     },
     "execution_count": 276,
     "metadata": {},
     "output_type": "execute_result"
    }
   ],
   "source": [
    "false_negative_step2"
   ]
  },
  {
   "cell_type": "code",
   "execution_count": 275,
   "id": "f2b6708d",
   "metadata": {
    "ExecuteTime": {
     "end_time": "2023-01-18T14:22:38.517741Z",
     "start_time": "2023-01-18T14:22:38.506491Z"
    },
    "collapsed": true
   },
   "outputs": [
    {
     "data": {
      "text/plain": [
       "array([[0.000e+00, 9.660e+02, 4.000e+00],\n",
       "       [0.000e+00, 9.780e+02, 6.000e+00],\n",
       "       [0.000e+00, 9.780e+02, 3.000e+00],\n",
       "       [0.000e+00, 9.730e+02, 4.000e+00],\n",
       "       [0.000e+00, 9.840e+02, 4.000e+00],\n",
       "       [0.000e+00, 9.880e+02, 7.000e+00],\n",
       "       [0.000e+00, 9.910e+02, 1.500e+01],\n",
       "       [0.000e+00, 9.880e+02, 1.300e+01],\n",
       "       [0.000e+00, 9.870e+02, 1.300e+01],\n",
       "       [0.000e+00, 9.910e+02, 1.300e+01],\n",
       "       [0.000e+00, 9.920e+02, 1.400e+01],\n",
       "       [0.000e+00, 1.000e+03, 1.500e+01],\n",
       "       [0.000e+00, 1.003e+03, 1.700e+01],\n",
       "       [0.000e+00, 1.003e+03, 1.700e+01],\n",
       "       [0.000e+00, 1.001e+03, 1.700e+01],\n",
       "       [0.000e+00, 1.008e+03, 1.700e+01],\n",
       "       [2.000e+00, 1.004e+03, 1.700e+01],\n",
       "       [2.000e+00, 1.004e+03, 1.700e+01],\n",
       "       [2.000e+00, 1.011e+03, 2.000e+01],\n",
       "       [2.000e+00, 1.009e+03, 1.800e+01],\n",
       "       [2.000e+00, 1.007e+03, 2.500e+01],\n",
       "       [0.000e+00, 1.012e+03, 2.300e+01],\n",
       "       [0.000e+00, 1.009e+03, 2.400e+01],\n",
       "       [0.000e+00, 1.012e+03, 2.300e+01],\n",
       "       [0.000e+00, 1.008e+03, 2.300e+01],\n",
       "       [1.000e+00, 1.009e+03, 2.100e+01],\n",
       "       [3.000e+00, 1.010e+03, 2.400e+01],\n",
       "       [3.000e+00, 1.011e+03, 2.700e+01],\n",
       "       [2.000e+00, 1.012e+03, 3.000e+01],\n",
       "       [2.000e+00, 1.007e+03, 3.100e+01],\n",
       "       [3.000e+00, 1.009e+03, 2.900e+01],\n",
       "       [3.000e+00, 1.009e+03, 2.900e+01],\n",
       "       [2.000e+00, 1.003e+03, 2.900e+01],\n",
       "       [2.000e+00, 1.000e+03, 2.500e+01],\n",
       "       [4.000e+00, 9.980e+02, 2.300e+01],\n",
       "       [3.000e+00, 9.970e+02, 2.500e+01],\n",
       "       [1.000e+00, 9.970e+02, 2.700e+01],\n",
       "       [1.000e+00, 9.990e+02, 2.700e+01],\n",
       "       [1.000e+00, 9.950e+02, 2.500e+01],\n",
       "       [2.000e+00, 9.920e+02, 2.300e+01],\n",
       "       [2.000e+00, 9.910e+02, 2.300e+01],\n",
       "       [1.000e+00, 9.910e+02, 2.500e+01],\n",
       "       [3.000e+00, 9.850e+02, 2.000e+01],\n",
       "       [1.000e+00, 9.820e+02, 1.300e+01],\n",
       "       [0.000e+00, 9.790e+02, 1.000e+01],\n",
       "       [1.000e+00, 9.760e+02, 1.000e+01],\n",
       "       [0.000e+00, 9.760e+02, 9.000e+00],\n",
       "       [1.000e+00, 9.730e+02, 1.000e+01],\n",
       "       [1.000e+00, 9.730e+02, 9.000e+00]])"
      ]
     },
     "execution_count": 275,
     "metadata": {},
     "output_type": "execute_result"
    }
   ],
   "source": [
    "true_negative_step2"
   ]
  },
  {
   "cell_type": "code",
   "execution_count": 277,
   "id": "862b0c24",
   "metadata": {
    "ExecuteTime": {
     "end_time": "2023-01-18T14:23:09.469643Z",
     "start_time": "2023-01-18T14:23:09.453402Z"
    },
    "collapsed": true
   },
   "outputs": [
    {
     "data": {
      "text/plain": [
       "array([[312., 313., 312.],\n",
       "       [312., 301., 310.],\n",
       "       [312., 301., 311.],\n",
       "       [312., 306., 308.],\n",
       "       [312., 295., 308.],\n",
       "       [312., 291., 307.],\n",
       "       [312., 288., 302.],\n",
       "       [312., 291., 304.],\n",
       "       [312., 292., 301.],\n",
       "       [312., 288., 301.],\n",
       "       [312., 287., 303.],\n",
       "       [312., 279., 300.],\n",
       "       [312., 276., 297.],\n",
       "       [312., 276., 299.],\n",
       "       [312., 278., 297.],\n",
       "       [312., 271., 294.],\n",
       "       [310., 275., 295.],\n",
       "       [310., 275., 295.],\n",
       "       [310., 268., 296.],\n",
       "       [310., 270., 292.],\n",
       "       [310., 272., 290.],\n",
       "       [312., 267., 289.],\n",
       "       [312., 270., 291.],\n",
       "       [312., 267., 291.],\n",
       "       [312., 271., 292.],\n",
       "       [311., 270., 292.],\n",
       "       [309., 269., 288.],\n",
       "       [309., 268., 287.],\n",
       "       [310., 267., 285.],\n",
       "       [310., 272., 284.],\n",
       "       [309., 270., 283.],\n",
       "       [309., 270., 281.],\n",
       "       [310., 276., 285.],\n",
       "       [310., 279., 285.],\n",
       "       [308., 281., 290.],\n",
       "       [309., 282., 287.],\n",
       "       [311., 282., 287.],\n",
       "       [311., 280., 287.],\n",
       "       [311., 284., 288.],\n",
       "       [310., 287., 290.],\n",
       "       [310., 288., 290.],\n",
       "       [311., 288., 289.],\n",
       "       [309., 294., 294.],\n",
       "       [311., 297., 301.],\n",
       "       [312., 300., 304.],\n",
       "       [311., 303., 304.],\n",
       "       [312., 303., 305.],\n",
       "       [311., 306., 302.],\n",
       "       [311., 306., 303.]])"
      ]
     },
     "execution_count": 277,
     "metadata": {},
     "output_type": "execute_result"
    }
   ],
   "source": [
    "false_negative"
   ]
  },
  {
   "cell_type": "code",
   "execution_count": 266,
   "id": "7272ac0b",
   "metadata": {
    "ExecuteTime": {
     "end_time": "2023-01-17T22:20:55.091223Z",
     "start_time": "2023-01-17T22:20:55.077396Z"
    },
    "collapsed": true
   },
   "outputs": [
    {
     "data": {
      "text/plain": [
       "array([[ 36.,  43.,  39.],\n",
       "       [ 36.,  59.,  42.],\n",
       "       [ 36.,  72.,  48.],\n",
       "       [ 36.,  80.,  64.],\n",
       "       [ 36.,  87.,  62.],\n",
       "       [ 36., 108.,  80.],\n",
       "       [ 36.,  99.,  82.],\n",
       "       [ 36., 101.,  85.],\n",
       "       [ 36., 113.,  96.],\n",
       "       [ 36., 135.,  96.],\n",
       "       [ 36., 134.,  92.],\n",
       "       [ 36., 139.,  98.],\n",
       "       [ 36., 144., 108.],\n",
       "       [ 36., 149., 101.],\n",
       "       [ 37., 150., 106.],\n",
       "       [ 36., 155., 110.],\n",
       "       [ 36., 152.,  99.],\n",
       "       [ 36., 134.,  97.],\n",
       "       [ 36., 151.,  97.],\n",
       "       [ 37., 140.,  92.],\n",
       "       [ 36., 136.,  98.],\n",
       "       [ 36., 127.,  95.],\n",
       "       [ 36., 134.,  91.],\n",
       "       [ 36., 124.,  94.],\n",
       "       [ 37., 121.,  89.],\n",
       "       [ 36., 120.,  92.],\n",
       "       [ 37., 116.,  87.],\n",
       "       [ 37., 114.,  85.],\n",
       "       [ 37., 116.,  87.],\n",
       "       [ 38., 108.,  85.],\n",
       "       [ 38., 105.,  83.],\n",
       "       [ 38., 100.,  77.],\n",
       "       [ 38.,  95.,  78.],\n",
       "       [ 38.,  89.,  74.],\n",
       "       [ 39.,  85.,  69.],\n",
       "       [ 39.,  84.,  68.],\n",
       "       [ 40.,  80.,  67.],\n",
       "       [ 39.,  72.,  64.],\n",
       "       [ 38.,  67.,  61.],\n",
       "       [ 40.,  63.,  55.],\n",
       "       [ 40.,  60.,  56.],\n",
       "       [ 39.,  54.,  54.],\n",
       "       [ 39.,  51.,  53.],\n",
       "       [ 37.,  52.,  54.],\n",
       "       [ 40.,  49.,  51.],\n",
       "       [ 37.,  48.,  47.],\n",
       "       [ 39.,  42.,  42.],\n",
       "       [ 36.,  40.,  40.],\n",
       "       [ 38.,  37.,  38.]])"
      ]
     },
     "execution_count": 266,
     "metadata": {},
     "output_type": "execute_result"
    }
   ],
   "source": [
    "false_positive"
   ]
  },
  {
   "cell_type": "code",
   "execution_count": 263,
   "id": "68c83a12",
   "metadata": {
    "ExecuteTime": {
     "end_time": "2023-01-17T22:12:45.274346Z",
     "start_time": "2023-01-17T22:12:45.261349Z"
    },
    "collapsed": true
   },
   "outputs": [
    {
     "data": {
      "text/plain": [
       "array([[0.87307072, 0.8682874 , 0.85367663],\n",
       "       [0.86949283, 0.86834036, 0.85320565],\n",
       "       [0.86702656, 0.86786163, 0.85556664],\n",
       "       [0.86556909, 0.86688035, 0.85639122],\n",
       "       [0.86550245, 0.86694201, 0.85669728],\n",
       "       [0.86606013, 0.86752803, 0.85872952],\n",
       "       [0.86565765, 0.86831329, 0.85943797],\n",
       "       [0.86460303, 0.86894633, 0.85970989],\n",
       "       [0.86403691, 0.86823576, 0.85940476],\n",
       "       [0.86054527, 0.86875777, 0.86174017],\n",
       "       [0.86104623, 0.86956389, 0.86211116],\n",
       "       [0.86218417, 0.86916697, 0.86027237],\n",
       "       [0.85977092, 0.86799797, 0.86133367],\n",
       "       [0.85683018, 0.86856669, 0.86217548],\n",
       "       [0.85756042, 0.8689846 , 0.86178912],\n",
       "       [0.85599327, 0.86784613, 0.86236469],\n",
       "       [0.85490696, 0.86810734, 0.86407318],\n",
       "       [0.85153961, 0.86972155, 0.86505327],\n",
       "       [0.84971429, 0.86861382, 0.86400897],\n",
       "       [0.84900881, 0.86881478, 0.86472695],\n",
       "       [0.84674451, 0.86879684, 0.8646518 ],\n",
       "       [0.84583476, 0.8700352 , 0.86555553],\n",
       "       [0.84778783, 0.8698808 , 0.86581591],\n",
       "       [0.84957359, 0.87009888, 0.86516182],\n",
       "       [0.85206512, 0.86963014, 0.8649719 ],\n",
       "       [0.85057392, 0.8693146 , 0.8657262 ],\n",
       "       [0.85190834, 0.86997861, 0.86534889],\n",
       "       [0.85219504, 0.87008426, 0.86616875],\n",
       "       [0.85123788, 0.86874056, 0.86668058],\n",
       "       [0.850097  , 0.86988852, 0.86696859],\n",
       "       [0.85269465, 0.8693081 , 0.86668074],\n",
       "       [0.85066748, 0.87076734, 0.86751205],\n",
       "       [0.85154797, 0.87039263, 0.8685667 ],\n",
       "       [0.8554887 , 0.87050365, 0.868271  ],\n",
       "       [0.85552331, 0.87100928, 0.868674  ],\n",
       "       [0.85618367, 0.87146362, 0.86873775],\n",
       "       [0.86134159, 0.86956061, 0.86803978],\n",
       "       [0.86294458, 0.87074287, 0.86917853],\n",
       "       [0.86260163, 0.87158744, 0.87090135],\n",
       "       [0.86234093, 0.87111285, 0.87168919],\n",
       "       [0.86339337, 0.87084631, 0.87132877],\n",
       "       [0.86401087, 0.87206076, 0.87269733],\n",
       "       [0.86217386, 0.87208035, 0.8722642 ],\n",
       "       [0.86309044, 0.86859749, 0.87111729],\n",
       "       [0.86174879, 0.8697518 , 0.87212878],\n",
       "       [0.86103512, 0.87046917, 0.87314813],\n",
       "       [0.86181734, 0.87092178, 0.87439093],\n",
       "       [0.86357533, 0.87172172, 0.87500977],\n",
       "       [0.86596282, 0.870834  , 0.87524514]])"
      ]
     },
     "execution_count": 263,
     "metadata": {},
     "output_type": "execute_result"
    }
   ],
   "source": [
    "res"
   ]
  },
  {
   "cell_type": "code",
   "execution_count": null,
   "id": "a33b100c",
   "metadata": {},
   "outputs": [],
   "source": []
  }
 ],
 "metadata": {
  "kernelspec": {
   "display_name": "Python 3 (ipykernel)",
   "language": "python",
   "name": "python3"
  },
  "language_info": {
   "codemirror_mode": {
    "name": "ipython",
    "version": 3
   },
   "file_extension": ".py",
   "mimetype": "text/x-python",
   "name": "python",
   "nbconvert_exporter": "python",
   "pygments_lexer": "ipython3",
   "version": "3.8.13"
  },
  "toc": {
   "base_numbering": 1,
   "nav_menu": {},
   "number_sections": true,
   "sideBar": true,
   "skip_h1_title": false,
   "title_cell": "Table of Contents",
   "title_sidebar": "Contents",
   "toc_cell": false,
   "toc_position": {
    "height": "calc(100% - 180px)",
    "left": "10px",
    "top": "150px",
    "width": "426.667px"
   },
   "toc_section_display": true,
   "toc_window_display": true
  }
 },
 "nbformat": 4,
 "nbformat_minor": 5
}

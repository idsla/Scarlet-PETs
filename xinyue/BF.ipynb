{
 "cells": [
  {
   "cell_type": "code",
   "execution_count": 14,
   "id": "2ca7cc52",
   "metadata": {
    "ExecuteTime": {
     "end_time": "2022-09-06T14:02:56.796543Z",
     "start_time": "2022-09-06T14:02:56.773605Z"
    }
   },
   "outputs": [],
   "source": [
    "import mmh3\n",
    "import BitVector\n",
    "import redis\n",
    "import math\n",
    "import time\n",
    "\n",
    "\n",
    "class BloomFilter():\n",
    "    SEEDS = [543, 460, 171, 876, 796, 607, 650, 81, 837, 545, 591, 946, 846, 521, 913, 636, 878, 735, 414, 372,\n",
    "             344, 324, 223, 180, 327, 891, 798, 933, 493, 293, 836, 10, 6, 544, 924, 849, 438, 41, 862, 648, 338,\n",
    "             465, 562, 693, 979, 52, 763, 103, 387, 374, 349, 94, 384, 680, 574, 480, 307, 580, 71, 535, 300, 53,\n",
    "             481, 519, 644, 219, 686, 236, 424, 326, 244, 212, 909, 202, 951, 56, 812, 901, 926, 250, 507, 739, 371,\n",
    "             63, 584, 154, 7, 284, 617, 332, 472, 140, 605, 262, 355, 526, 647, 923, 199, 518]\n",
    "\n",
    "    def __init__(self, capacity=1000000000, error_rate=0.00000001, key = 'BF', conn=None):\n",
    "        \"\"\"\n",
    "        cpacity: number of unique keys\n",
    "        error_rate: false postive rate\n",
    "        \n",
    "        \"\"\"\n",
    "        self.m = math.ceil(capacity*math.log2(math.e)*math.log2(1/error_rate))      #bitarray size\n",
    "        self.k = math.ceil(math.log1p(2)*self.m/capacity)                           #hash functions\n",
    "        self.mem = math.ceil(self.m/8/1024/1024)                                    #memory chunck\n",
    "        self.blocknum = math.ceil(self.mem/512)                                     #memory chunck\n",
    "        self.seeds = self.SEEDS[0:self.k]\n",
    "        self.key = key\n",
    "        self.N = 2**31-1\n",
    "        self.redis = conn\n",
    "        if not self.redis:\n",
    "            # if no redis connection, using the memory \n",
    "            self.bitset = BitVector.BitVector(size=1<<32)\n",
    "        print(self.m)\n",
    "        print(self.mem)\n",
    "        print(self.k)\n",
    "\n",
    "    def add(self, value):\n",
    "        name = self.key + \"_\" + str(ord(value[0])%self.blocknum)\n",
    "        hashs = self.get_hashs(value)\n",
    "        for hash in hashs:\n",
    "            if self.redis:\n",
    "                self.redis.setbit(name, hash, 1)\n",
    "            else:\n",
    "                self.bitset[hash] = 1\n",
    "\n",
    "    def is_exist(self, value):\n",
    "        name = self.key + \"_\" + str(ord(value[0])%self.blocknum)\n",
    "        hashs = self.get_hashs(value)\n",
    "        exist = True\n",
    "        for hash in hashs:\n",
    "            if self.redis:\n",
    "                exist = exist & self.redis.getbit(name, hash)\n",
    "            else:\n",
    "                exist = exist & self.bitset[hash]\n",
    "        return exist\n",
    "\n",
    "    def get_hashs(self, value):\n",
    "        hashs = list()\n",
    "        for seed in self.seeds:\n",
    "            hash = mmh3.hash(value, seed)\n",
    "            if hash >= 0:\n",
    "                hashs.append(hash)\n",
    "            else:\n",
    "                hashs.append(self.N - hash)\n",
    "        return hashs\n",
    "\n",
    "\n",
    "#pool = redis.ConnectionPool(host='localhost', port=6379, db=0)\n",
    "#conn = redis.StrictRedis(connection_pool=pool)\n"
   ]
  },
  {
   "cell_type": "code",
   "execution_count": 1,
   "id": "ba73dd31",
   "metadata": {
    "ExecuteTime": {
     "end_time": "2022-09-12T13:25:32.864558Z",
     "start_time": "2022-09-12T13:25:32.536613Z"
    }
   },
   "outputs": [],
   "source": [
    "import tracemalloc\n",
    "import pandas as pd\n",
    "import numpy as np"
   ]
  },
  {
   "cell_type": "code",
   "execution_count": 26,
   "id": "72b451e7",
   "metadata": {
    "ExecuteTime": {
     "end_time": "2022-09-06T17:55:27.305578Z",
     "start_time": "2022-09-06T17:55:05.338706Z"
    }
   },
   "outputs": [],
   "source": [
    "swift = pd.read_csv('../data/swift.csv')"
   ]
  },
  {
   "cell_type": "code",
   "execution_count": 10,
   "id": "432e73b7",
   "metadata": {
    "ExecuteTime": {
     "end_time": "2022-09-06T13:59:06.442083Z",
     "start_time": "2022-09-06T13:59:05.726426Z"
    }
   },
   "outputs": [],
   "source": [
    "bank = pd.read_csv('../data/bank_dataset.csv')\n",
    "bank['keys'] = bank['Account'] + bank['Name'] bank['Street'] + bank['CountryCityZip']"
   ]
  },
  {
   "cell_type": "code",
   "execution_count": 13,
   "id": "fb90ef90",
   "metadata": {
    "ExecuteTime": {
     "end_time": "2022-09-06T14:00:08.323535Z",
     "start_time": "2022-09-06T14:00:08.278380Z"
    }
   },
   "outputs": [],
   "source": [
    "allkeys = list(bank['keys'])"
   ]
  },
  {
   "cell_type": "code",
   "execution_count": 23,
   "id": "b659596a",
   "metadata": {
    "ExecuteTime": {
     "end_time": "2022-09-06T14:18:33.469570Z",
     "start_time": "2022-09-06T14:18:02.075712Z"
    },
    "collapsed": true
   },
   "outputs": [
    {
     "name": "stdout",
     "output_type": "stream",
     "text": [
      "10543565\n",
      "2\n",
      "22\n",
      "Current memory usage is 541191.978KB; Peak was 3225547.711KB; Diff = 2684355.733KB\n",
      "CPU times: user 30.8 s, sys: 453 ms, total: 31.2 s\n",
      "Wall time: 31.4 s\n"
     ]
    }
   ],
   "source": [
    "%%time\n",
    "def my_func():\n",
    "    bf = BloomFilter(capacity=550000, error_rate = 0.0001)\n",
    "    for acc in allkeys:\n",
    "        bf.add(acc)\n",
    "\n",
    "    return bf\n",
    "\n",
    "tracemalloc.start()\n",
    "gloabl_boom = my_func()\n",
    "\n",
    "current, peak = tracemalloc.get_traced_memory()\n",
    "print(f\"Current memory usage is {current / 10**6}KB; Peak was {peak / 10**6}KB; Diff = {(peak - current) / 10**6}KB\")\n",
    " \n",
    "# stopping the library\n",
    "tracemalloc.stop()"
   ]
  },
  {
   "cell_type": "code",
   "execution_count": 25,
   "id": "38aeae1b",
   "metadata": {
    "ExecuteTime": {
     "end_time": "2022-09-06T14:19:55.959256Z",
     "start_time": "2022-09-06T14:19:55.949224Z"
    }
   },
   "outputs": [
    {
     "name": "stdout",
     "output_type": "stream",
     "text": [
      "Current memory usage is 541.191978MB; Peak was 3225.547711MB; Diff = 2684.355733MB\n"
     ]
    }
   ],
   "source": [
    "print(f\"Current memory usage is {current / 10**6}MB; Peak was {peak / 10**6}MB; Diff = {(peak - current) / 10**6}MB\")"
   ]
  },
  {
   "cell_type": "markdown",
   "id": "e7ce0e53",
   "metadata": {
    "ExecuteTime": {
     "end_time": "2022-09-11T19:48:31.804878Z",
     "start_time": "2022-09-11T19:48:31.800466Z"
    }
   },
   "source": [
    "# Seperate the anomalies"
   ]
  },
  {
   "cell_type": "markdown",
   "id": "cebe137e",
   "metadata": {},
   "source": [
    ">1) Collect all the anomalies from the data I provided (i.e., data without any simple anomalies). These are statistical anomalies<br>\n",
    ">2) Find all the anomalies that are not in 1), these are simple anomalies.<br>\n",
    ">3) We label 1) as 1 and 2) as 0. Train xgboost and measure its performace.<br>"
   ]
  },
  {
   "cell_type": "code",
   "execution_count": 2,
   "id": "b93d49d5",
   "metadata": {
    "ExecuteTime": {
     "end_time": "2022-09-12T13:36:41.966291Z",
     "start_time": "2022-09-12T13:36:41.510887Z"
    }
   },
   "outputs": [],
   "source": [
    "import pandas as pd\n",
    "import numpy as np\n",
    "### Libraries for Algorithms\n",
    "\n",
    "from sklearn.model_selection import train_test_split\n",
    "from sklearn.model_selection import KFold\n",
    "from sklearn.model_selection import ShuffleSplit, StratifiedKFold, StratifiedShuffleSplit\n",
    "from sklearn.model_selection import cross_val_score\n",
    "from sklearn import metrics\n",
    "from sklearn.metrics import classification_report\n",
    "from sklearn.metrics import confusion_matrix\n",
    "from sklearn.metrics import accuracy_score\n",
    "from sklearn.preprocessing import StandardScaler, MinMaxScaler\n",
    "import sklearn.utils\n",
    "from sklearn.impute import SimpleImputer\n",
    "from sklearn.model_selection import train_test_split\n",
    "from sklearn.linear_model import LogisticRegression\n",
    "\n",
    "from xgboost import XGBClassifier"
   ]
  },
  {
   "cell_type": "code",
   "execution_count": 4,
   "id": "fd8b8f37",
   "metadata": {
    "ExecuteTime": {
     "end_time": "2022-09-12T13:37:27.253661Z",
     "start_time": "2022-09-12T13:37:07.383916Z"
    }
   },
   "outputs": [],
   "source": [
    "swift = pd.read_csv('../data/swift.csv')"
   ]
  },
  {
   "cell_type": "code",
   "execution_count": 5,
   "id": "b8810ea5",
   "metadata": {
    "ExecuteTime": {
     "end_time": "2022-09-12T13:37:27.262943Z",
     "start_time": "2022-09-12T13:37:27.255681Z"
    }
   },
   "outputs": [
    {
     "data": {
      "text/plain": [
       "(5396833, 21)"
      ]
     },
     "execution_count": 5,
     "metadata": {},
     "output_type": "execute_result"
    }
   ],
   "source": [
    "swift.shape"
   ]
  },
  {
   "cell_type": "code",
   "execution_count": 6,
   "id": "35c848b1",
   "metadata": {
    "ExecuteTime": {
     "end_time": "2022-09-12T13:43:39.908114Z",
     "start_time": "2022-09-12T13:43:16.693724Z"
    }
   },
   "outputs": [],
   "source": [
    "train = pd.read_csv('../data/swift_HA_train.csv')\n",
    "test = pd.read_csv('../data/swift_HA_test.csv')"
   ]
  },
  {
   "cell_type": "code",
   "execution_count": 7,
   "id": "a7d470b3",
   "metadata": {
    "ExecuteTime": {
     "end_time": "2022-09-12T13:43:40.682765Z",
     "start_time": "2022-09-12T13:43:39.909701Z"
    }
   },
   "outputs": [],
   "source": [
    "filtered = pd.concat([train, test])"
   ]
  },
  {
   "cell_type": "code",
   "execution_count": 8,
   "id": "42d0c198",
   "metadata": {
    "ExecuteTime": {
     "end_time": "2022-09-12T13:43:40.685872Z",
     "start_time": "2022-09-12T13:43:40.683661Z"
    }
   },
   "outputs": [
    {
     "data": {
      "text/plain": [
       "(5394991, 20)"
      ]
     },
     "execution_count": 8,
     "metadata": {},
     "output_type": "execute_result"
    }
   ],
   "source": [
    "filtered.shape"
   ]
  },
  {
   "cell_type": "code",
   "execution_count": 11,
   "id": "c5d14177",
   "metadata": {
    "ExecuteTime": {
     "end_time": "2022-09-12T13:44:11.464506Z",
     "start_time": "2022-09-12T13:44:11.424233Z"
    }
   },
   "outputs": [],
   "source": [
    "all_ano = swift[swift['Label']==1]\n",
    "f_ano = filtered[filtered['Label']==1]\n",
    "normal_list = list(all_ano[~all_ano.UETR.isin(f_ano.UETR)].UETR)\n",
    "normal_ano = all_ano[all_ano.UETR.isin(normal_list)]"
   ]
  },
  {
   "cell_type": "code",
   "execution_count": 38,
   "id": "9340ae6a",
   "metadata": {
    "ExecuteTime": {
     "end_time": "2022-09-12T14:00:25.022346Z",
     "start_time": "2022-09-12T14:00:25.014597Z"
    }
   },
   "outputs": [
    {
     "name": "stdout",
     "output_type": "stream",
     "text": [
      "(5661, 21)\n",
      "(3819, 8)\n",
      "(1842, 8)\n"
     ]
    }
   ],
   "source": [
    "print(all_ano.shape)\n",
    "print(f_ano.shape)\n",
    "print(normal_ano.shape)"
   ]
  },
  {
   "cell_type": "markdown",
   "id": "9fd87d62",
   "metadata": {},
   "source": [
    "# Extract features"
   ]
  },
  {
   "cell_type": "markdown",
   "id": "b44f3d26",
   "metadata": {},
   "source": [
    "Features in simple anomalies (normal_ano) are based on the entire (unfiltered data)<br>\n",
    "Features in statistical anomalies (f_ano) are also based on the entire data<br>"
   ]
  },
  {
   "cell_type": "code",
   "execution_count": 58,
   "id": "d11de6e0",
   "metadata": {
    "ExecuteTime": {
     "end_time": "2022-09-12T14:21:28.790900Z",
     "start_time": "2022-09-12T14:21:28.593657Z"
    }
   },
   "outputs": [],
   "source": [
    "all_ano = swift[swift['Label']==1]\n",
    "f_ano = filtered[filtered['Label']==1] # statistical anomalies\n",
    "normal_list = list(all_ano[~all_ano.UETR.isin(f_ano.UETR)].UETR)\n",
    "normal_ano = all_ano[all_ano.UETR.isin(normal_list)] # simple anomalies"
   ]
  },
  {
   "cell_type": "code",
   "execution_count": 59,
   "id": "fad36bb8",
   "metadata": {
    "ExecuteTime": {
     "end_time": "2022-09-12T14:21:28.901731Z",
     "start_time": "2022-09-12T14:21:28.879588Z"
    },
    "collapsed": true
   },
   "outputs": [
    {
     "name": "stderr",
     "output_type": "stream",
     "text": [
      "/var/folders/jc/gpmxwymd351cckl6cvjf72vh5jytlq/T/ipykernel_69992/3464450610.py:2: SettingWithCopyWarning: \n",
      "A value is trying to be set on a copy of a slice from a DataFrame.\n",
      "Try using .loc[row_indexer,col_indexer] = value instead\n",
      "\n",
      "See the caveats in the documentation: https://pandas.pydata.org/pandas-docs/stable/user_guide/indexing.html#returning-a-view-versus-a-copy\n",
      "  f_ano[\"Timestamp\"] = f_ano[\"Timestamp\"].astype(\"datetime64[ns]\")\n",
      "/var/folders/jc/gpmxwymd351cckl6cvjf72vh5jytlq/T/ipykernel_69992/3464450610.py:3: SettingWithCopyWarning: \n",
      "A value is trying to be set on a copy of a slice from a DataFrame.\n",
      "Try using .loc[row_indexer,col_indexer] = value instead\n",
      "\n",
      "See the caveats in the documentation: https://pandas.pydata.org/pandas-docs/stable/user_guide/indexing.html#returning-a-view-versus-a-copy\n",
      "  normal_ano[\"Timestamp\"] = normal_ano[\"Timestamp\"].astype(\"datetime64[ns]\")\n"
     ]
    }
   ],
   "source": [
    "swift[\"Timestamp\"] = swift[\"Timestamp\"].astype(\"datetime64[ns]\")\n",
    "f_ano[\"Timestamp\"] = f_ano[\"Timestamp\"].astype(\"datetime64[ns]\")\n",
    "normal_ano[\"Timestamp\"] = normal_ano[\"Timestamp\"].astype(\"datetime64[ns]\")\n",
    "#bank = pd.read_csv('../data/bank_dataset.csv')"
   ]
  },
  {
   "cell_type": "code",
   "execution_count": 60,
   "id": "326091bf",
   "metadata": {
    "ExecuteTime": {
     "end_time": "2022-09-12T14:21:45.190972Z",
     "start_time": "2022-09-12T14:21:36.105533Z"
    },
    "collapsed": true
   },
   "outputs": [
    {
     "name": "stderr",
     "output_type": "stream",
     "text": [
      "<timed exec>:3: SettingWithCopyWarning: \n",
      "A value is trying to be set on a copy of a slice from a DataFrame.\n",
      "Try using .loc[row_indexer,col_indexer] = value instead\n",
      "\n",
      "See the caveats in the documentation: https://pandas.pydata.org/pandas-docs/stable/user_guide/indexing.html#returning-a-view-versus-a-copy\n",
      "<timed exec>:4: SettingWithCopyWarning: \n",
      "A value is trying to be set on a copy of a slice from a DataFrame.\n",
      "Try using .loc[row_indexer,col_indexer] = value instead\n",
      "\n",
      "See the caveats in the documentation: https://pandas.pydata.org/pandas-docs/stable/user_guide/indexing.html#returning-a-view-versus-a-copy\n",
      "<timed exec>:9: SettingWithCopyWarning: \n",
      "A value is trying to be set on a copy of a slice from a DataFrame.\n",
      "Try using .loc[row_indexer,col_indexer] = value instead\n",
      "\n",
      "See the caveats in the documentation: https://pandas.pydata.org/pandas-docs/stable/user_guide/indexing.html#returning-a-view-versus-a-copy\n",
      "<timed exec>:10: SettingWithCopyWarning: \n",
      "A value is trying to be set on a copy of a slice from a DataFrame.\n",
      "Try using .loc[row_indexer,col_indexer] = value instead\n",
      "\n",
      "See the caveats in the documentation: https://pandas.pydata.org/pandas-docs/stable/user_guide/indexing.html#returning-a-view-versus-a-copy\n"
     ]
    },
    {
     "name": "stdout",
     "output_type": "stream",
     "text": [
      "CPU times: user 7.6 s, sys: 1.26 s, total: 8.86 s\n",
      "Wall time: 9.08 s\n"
     ]
    },
    {
     "name": "stderr",
     "output_type": "stream",
     "text": [
      "<timed exec>:19: SettingWithCopyWarning: \n",
      "A value is trying to be set on a copy of a slice from a DataFrame.\n",
      "Try using .loc[row_indexer,col_indexer] = value instead\n",
      "\n",
      "See the caveats in the documentation: https://pandas.pydata.org/pandas-docs/stable/user_guide/indexing.html#returning-a-view-versus-a-copy\n",
      "<timed exec>:20: SettingWithCopyWarning: \n",
      "A value is trying to be set on a copy of a slice from a DataFrame.\n",
      "Try using .loc[row_indexer,col_indexer] = value instead\n",
      "\n",
      "See the caveats in the documentation: https://pandas.pydata.org/pandas-docs/stable/user_guide/indexing.html#returning-a-view-versus-a-copy\n"
     ]
    }
   ],
   "source": [
    "%%time\n",
    "# Hour\n",
    "swift[\"hour\"] = swift[\"Timestamp\"].dt.hour\n",
    "f_ano[\"hour\"] = f_ano[\"Timestamp\"].dt.hour\n",
    "normal_ano[\"hour\"] = normal_ano[\"Timestamp\"].dt.hour\n",
    "\n",
    "# Hour frequency for each sender\n",
    "senders = swift[\"Sender\"].unique()\n",
    "swift[\"sender_hour\"] = swift[\"Sender\"] + swift[\"hour\"].astype(str)\n",
    "f_ano[\"sender_hour\"] = f_ano[\"Sender\"] + f_ano[\"hour\"].astype(str)\n",
    "normal_ano[\"sender_hour\"] = normal_ano[\"Sender\"] + normal_ano[\"hour\"].astype(str)\n",
    "\n",
    "sender_hour_frequency = {}\n",
    "for s in senders:\n",
    "    sender_rows = swift[swift[\"Sender\"] == s]\n",
    "    for h in range(24):\n",
    "        sender_hour_frequency[s + str(h)] = len(sender_rows[sender_rows[\"hour\"] == h])\n",
    "\n",
    "#swift[\"sender_hour_freq\"] = swift[\"sender_hour\"].map(sender_hour_frequency)\n",
    "f_ano[\"sender_hour_freq\"] = f_ano[\"sender_hour\"].map(sender_hour_frequency)\n",
    "normal_ano[\"sender_hour_freq\"] = normal_ano[\"sender_hour\"].map(sender_hour_frequency)"
   ]
  },
  {
   "cell_type": "code",
   "execution_count": 62,
   "id": "26747360",
   "metadata": {
    "ExecuteTime": {
     "end_time": "2022-09-12T14:22:08.270007Z",
     "start_time": "2022-09-12T14:21:47.568047Z"
    }
   },
   "outputs": [
    {
     "name": "stderr",
     "output_type": "stream",
     "text": [
      "<timed exec>:3: SettingWithCopyWarning: \n",
      "A value is trying to be set on a copy of a slice from a DataFrame.\n",
      "Try using .loc[row_indexer,col_indexer] = value instead\n",
      "\n",
      "See the caveats in the documentation: https://pandas.pydata.org/pandas-docs/stable/user_guide/indexing.html#returning-a-view-versus-a-copy\n",
      "<timed exec>:4: SettingWithCopyWarning: \n",
      "A value is trying to be set on a copy of a slice from a DataFrame.\n",
      "Try using .loc[row_indexer,col_indexer] = value instead\n",
      "\n",
      "See the caveats in the documentation: https://pandas.pydata.org/pandas-docs/stable/user_guide/indexing.html#returning-a-view-versus-a-copy\n"
     ]
    },
    {
     "name": "stdout",
     "output_type": "stream",
     "text": [
      "CPU times: user 19.7 s, sys: 844 ms, total: 20.6 s\n",
      "Wall time: 20.7 s\n"
     ]
    },
    {
     "name": "stderr",
     "output_type": "stream",
     "text": [
      "<timed exec>:19: SettingWithCopyWarning: \n",
      "A value is trying to be set on a copy of a slice from a DataFrame.\n",
      "Try using .loc[row_indexer,col_indexer] = value instead\n",
      "\n",
      "See the caveats in the documentation: https://pandas.pydata.org/pandas-docs/stable/user_guide/indexing.html#returning-a-view-versus-a-copy\n",
      "<timed exec>:20: SettingWithCopyWarning: \n",
      "A value is trying to be set on a copy of a slice from a DataFrame.\n",
      "Try using .loc[row_indexer,col_indexer] = value instead\n",
      "\n",
      "See the caveats in the documentation: https://pandas.pydata.org/pandas-docs/stable/user_guide/indexing.html#returning-a-view-versus-a-copy\n",
      "<timed exec>:23: SettingWithCopyWarning: \n",
      "A value is trying to be set on a copy of a slice from a DataFrame.\n",
      "Try using .loc[row_indexer,col_indexer] = value instead\n",
      "\n",
      "See the caveats in the documentation: https://pandas.pydata.org/pandas-docs/stable/user_guide/indexing.html#returning-a-view-versus-a-copy\n",
      "<timed exec>:24: SettingWithCopyWarning: \n",
      "A value is trying to be set on a copy of a slice from a DataFrame.\n",
      "Try using .loc[row_indexer,col_indexer] = value instead\n",
      "\n",
      "See the caveats in the documentation: https://pandas.pydata.org/pandas-docs/stable/user_guide/indexing.html#returning-a-view-versus-a-copy\n"
     ]
    }
   ],
   "source": [
    "%%time\n",
    "# Sender-Currency Frequency and Average Amount per Sender-Currency\n",
    "swift[\"sender_currency\"] = swift[\"Sender\"] + swift[\"InstructedCurrency\"]\n",
    "f_ano[\"sender_currency\"] = f_ano[\"Sender\"] + f_ano[\"InstructedCurrency\"]\n",
    "normal_ano[\"sender_currency\"] = normal_ano[\"Sender\"] + normal_ano[\"InstructedCurrency\"]\n",
    "\n",
    "\n",
    "sender_currency_freq = {}\n",
    "sender_currency_avg = {}\n",
    "\n",
    "for sc in set(\n",
    "    list(swift[\"sender_currency\"].unique())\n",
    "):\n",
    "    sender_currency_freq[sc] = len(swift[swift[\"sender_currency\"] == sc])\n",
    "    sender_currency_avg[sc] = swift[swift[\"sender_currency\"] == sc][\n",
    "        \"InstructedAmount\"\n",
    "    ].mean()\n",
    "\n",
    "#swift[\"sender_currency_freq\"] = swift[\"sender_currency\"].map(sender_currency_freq)\n",
    "f_ano[\"sender_currency_freq\"] = f_ano[\"sender_currency\"].map(sender_currency_freq)\n",
    "normal_ano[\"sender_currency_freq\"] = normal_ano[\"sender_currency\"].map(sender_currency_freq)\n",
    "\n",
    "#swift[\"sender_currency_amount_average\"] = swift[\"sender_currency\"].map(sender_currency_avg)\n",
    "f_ano[\"sender_currency_amount_average\"] = f_ano[\"sender_currency\"].map(sender_currency_avg)\n",
    "normal_ano[\"sender_currency_amount_average\"] = normal_ano[\"sender_currency\"].map(sender_currency_avg)"
   ]
  },
  {
   "cell_type": "code",
   "execution_count": 63,
   "id": "2c287f9c",
   "metadata": {
    "ExecuteTime": {
     "end_time": "2022-09-12T14:22:32.228502Z",
     "start_time": "2022-09-12T14:22:08.271435Z"
    }
   },
   "outputs": [
    {
     "name": "stderr",
     "output_type": "stream",
     "text": [
      "<timed exec>:3: SettingWithCopyWarning: \n",
      "A value is trying to be set on a copy of a slice from a DataFrame.\n",
      "Try using .loc[row_indexer,col_indexer] = value instead\n",
      "\n",
      "See the caveats in the documentation: https://pandas.pydata.org/pandas-docs/stable/user_guide/indexing.html#returning-a-view-versus-a-copy\n",
      "<timed exec>:4: SettingWithCopyWarning: \n",
      "A value is trying to be set on a copy of a slice from a DataFrame.\n",
      "Try using .loc[row_indexer,col_indexer] = value instead\n",
      "\n",
      "See the caveats in the documentation: https://pandas.pydata.org/pandas-docs/stable/user_guide/indexing.html#returning-a-view-versus-a-copy\n"
     ]
    },
    {
     "name": "stdout",
     "output_type": "stream",
     "text": [
      "CPU times: user 22.9 s, sys: 823 ms, total: 23.8 s\n",
      "Wall time: 24 s\n"
     ]
    },
    {
     "name": "stderr",
     "output_type": "stream",
     "text": [
      "<timed exec>:14: SettingWithCopyWarning: \n",
      "A value is trying to be set on a copy of a slice from a DataFrame.\n",
      "Try using .loc[row_indexer,col_indexer] = value instead\n",
      "\n",
      "See the caveats in the documentation: https://pandas.pydata.org/pandas-docs/stable/user_guide/indexing.html#returning-a-view-versus-a-copy\n",
      "<timed exec>:15: SettingWithCopyWarning: \n",
      "A value is trying to be set on a copy of a slice from a DataFrame.\n",
      "Try using .loc[row_indexer,col_indexer] = value instead\n",
      "\n",
      "See the caveats in the documentation: https://pandas.pydata.org/pandas-docs/stable/user_guide/indexing.html#returning-a-view-versus-a-copy\n"
     ]
    }
   ],
   "source": [
    "%%time\n",
    "# Sender-Receiver Frequency\n",
    "swift[\"sender_receiver\"] = swift[\"Sender\"] + swift[\"Receiver\"]\n",
    "f_ano[\"sender_receiver\"] = f_ano[\"Sender\"] + f_ano[\"Receiver\"]\n",
    "normal_ano[\"sender_receiver\"] = normal_ano[\"Sender\"] + normal_ano[\"Receiver\"]\n",
    "\n",
    "sender_receiver_freq = {}\n",
    "\n",
    "for sr in set(\n",
    "    list(swift[\"sender_receiver\"].unique())\n",
    "):\n",
    "    sender_receiver_freq[sr] = len(swift[swift[\"sender_receiver\"] == sr])\n",
    "\n",
    "#swift[\"sender_receiver_freq\"] = swift[\"sender_receiver\"].map(sender_receiver_freq)\n",
    "f_ano[\"sender_receiver_freq\"] = f_ano[\"sender_receiver\"].map(sender_receiver_freq)\n",
    "normal_ano[\"sender_receiver_freq\"] = normal_ano[\"sender_receiver\"].map(sender_receiver_freq)\n"
   ]
  },
  {
   "cell_type": "code",
   "execution_count": 64,
   "id": "f92b5106",
   "metadata": {
    "ExecuteTime": {
     "end_time": "2022-09-12T14:22:32.241621Z",
     "start_time": "2022-09-12T14:22:32.229340Z"
    }
   },
   "outputs": [
    {
     "data": {
      "text/html": [
       "<div>\n",
       "<style scoped>\n",
       "    .dataframe tbody tr th:only-of-type {\n",
       "        vertical-align: middle;\n",
       "    }\n",
       "\n",
       "    .dataframe tbody tr th {\n",
       "        vertical-align: top;\n",
       "    }\n",
       "\n",
       "    .dataframe thead th {\n",
       "        text-align: right;\n",
       "    }\n",
       "</style>\n",
       "<table border=\"1\" class=\"dataframe\">\n",
       "  <thead>\n",
       "    <tr style=\"text-align: right;\">\n",
       "      <th></th>\n",
       "      <th>Timestamp</th>\n",
       "      <th>UETR</th>\n",
       "      <th>Sender</th>\n",
       "      <th>Receiver</th>\n",
       "      <th>TransactionReference</th>\n",
       "      <th>OrderingAccount</th>\n",
       "      <th>OrderingName</th>\n",
       "      <th>OrderingStreet</th>\n",
       "      <th>OrderingCountryCityZip</th>\n",
       "      <th>BeneficiaryAccount</th>\n",
       "      <th>...</th>\n",
       "      <th>order_flag</th>\n",
       "      <th>bene_flag</th>\n",
       "      <th>hour</th>\n",
       "      <th>sender_hour</th>\n",
       "      <th>sender_hour_freq</th>\n",
       "      <th>sender_currency</th>\n",
       "      <th>sender_currency_freq</th>\n",
       "      <th>sender_currency_amount_average</th>\n",
       "      <th>sender_receiver</th>\n",
       "      <th>sender_receiver_freq</th>\n",
       "    </tr>\n",
       "  </thead>\n",
       "  <tbody>\n",
       "    <tr>\n",
       "      <th>1579</th>\n",
       "      <td>2022-01-01 01:04:00</td>\n",
       "      <td>b60d7297-c127-4fcb-8cd7-bac07f49c148</td>\n",
       "      <td>DPSUFRPP</td>\n",
       "      <td>ABVVUS6S</td>\n",
       "      <td>PETX22-FXIDA-34626</td>\n",
       "      <td>FR37714755422957005677</td>\n",
       "      <td>AVICENNIA MARINA-RESINIFERA</td>\n",
       "      <td>99| AVENUE NICOLAS</td>\n",
       "      <td>FR/21079 REGNIER</td>\n",
       "      <td>61102406474705654</td>\n",
       "      <td>...</td>\n",
       "      <td>0.0</td>\n",
       "      <td>NaN</td>\n",
       "      <td>1</td>\n",
       "      <td>DPSUFRPP1</td>\n",
       "      <td>33584</td>\n",
       "      <td>DPSUFRPPEUR</td>\n",
       "      <td>1840201</td>\n",
       "      <td>1.690104e+08</td>\n",
       "      <td>DPSUFRPPABVVUS6S</td>\n",
       "      <td>1966056</td>\n",
       "    </tr>\n",
       "    <tr>\n",
       "      <th>11900</th>\n",
       "      <td>2022-01-01 04:34:00</td>\n",
       "      <td>db455a50-fa0c-4876-8a7e-62b23dd26ff8</td>\n",
       "      <td>DPSUFRPP</td>\n",
       "      <td>ABVVUS6S</td>\n",
       "      <td>PETX22-FXIDA-8891</td>\n",
       "      <td>FR90714755422957006954</td>\n",
       "      <td>ELAPHOGLOSSUM ALATUM</td>\n",
       "      <td>21| BOULEVARD DUMAS</td>\n",
       "      <td>FR/90759 ILLET</td>\n",
       "      <td>611024064274691631</td>\n",
       "      <td>...</td>\n",
       "      <td>0.0</td>\n",
       "      <td>0.0</td>\n",
       "      <td>4</td>\n",
       "      <td>DPSUFRPP4</td>\n",
       "      <td>130291</td>\n",
       "      <td>DPSUFRPPEUR</td>\n",
       "      <td>1840201</td>\n",
       "      <td>1.690104e+08</td>\n",
       "      <td>DPSUFRPPABVVUS6S</td>\n",
       "      <td>1966056</td>\n",
       "    </tr>\n",
       "    <tr>\n",
       "      <th>12153</th>\n",
       "      <td>2022-01-01 04:35:00</td>\n",
       "      <td>9492b334-8b4c-45c1-92e8-bd129b4a8de4</td>\n",
       "      <td>DPSUFRPP</td>\n",
       "      <td>ABVVUS6S</td>\n",
       "      <td>PETX22-FXIDA-392</td>\n",
       "      <td>FR94714755422957004845</td>\n",
       "      <td>CHAMAECYTISUS PROLIFERA</td>\n",
       "      <td>420| AVENUE GUY GRÉGOIRE</td>\n",
       "      <td>FR/56898 ROBERT-SUR-FAURE</td>\n",
       "      <td>611024064274714223</td>\n",
       "      <td>...</td>\n",
       "      <td>0.0</td>\n",
       "      <td>0.0</td>\n",
       "      <td>4</td>\n",
       "      <td>DPSUFRPP4</td>\n",
       "      <td>130291</td>\n",
       "      <td>DPSUFRPPEUR</td>\n",
       "      <td>1840201</td>\n",
       "      <td>1.690104e+08</td>\n",
       "      <td>DPSUFRPPABVVUS6S</td>\n",
       "      <td>1966056</td>\n",
       "    </tr>\n",
       "    <tr>\n",
       "      <th>13672</th>\n",
       "      <td>2022-01-01 04:52:00</td>\n",
       "      <td>d61bb80a-eb39-487e-9711-70ad6d82d5c0</td>\n",
       "      <td>DPSUFRPP</td>\n",
       "      <td>ABVVUS6S</td>\n",
       "      <td>PETX22-FXIDA-8830</td>\n",
       "      <td>FR43714755422956984132</td>\n",
       "      <td>ERIGERON ELATIOR</td>\n",
       "      <td>3| RUE DE MARION</td>\n",
       "      <td>FR/60210 BODINVILLE</td>\n",
       "      <td>6110240642747035XX</td>\n",
       "      <td>...</td>\n",
       "      <td>0.0</td>\n",
       "      <td>1.0</td>\n",
       "      <td>4</td>\n",
       "      <td>DPSUFRPP4</td>\n",
       "      <td>130291</td>\n",
       "      <td>DPSUFRPPGBP</td>\n",
       "      <td>251926</td>\n",
       "      <td>3.699564e+06</td>\n",
       "      <td>DPSUFRPPABVVUS6S</td>\n",
       "      <td>1966056</td>\n",
       "    </tr>\n",
       "    <tr>\n",
       "      <th>14155</th>\n",
       "      <td>2022-01-01 04:53:00</td>\n",
       "      <td>bfedc7b2-fdb9-4f25-8772-fd549401d6ea</td>\n",
       "      <td>DPSUFRPP</td>\n",
       "      <td>ABVVUS6S</td>\n",
       "      <td>PETX22-FXIDA-2832</td>\n",
       "      <td>FR92714755422956974326</td>\n",
       "      <td>PEDILANTHUS</td>\n",
       "      <td>16| RUE ADÉLAÏDE BAZIN</td>\n",
       "      <td>FR/95397 THIBAULT</td>\n",
       "      <td>6110240642746928XX</td>\n",
       "      <td>...</td>\n",
       "      <td>0.0</td>\n",
       "      <td>10.0</td>\n",
       "      <td>4</td>\n",
       "      <td>DPSUFRPP4</td>\n",
       "      <td>130291</td>\n",
       "      <td>DPSUFRPPEUR</td>\n",
       "      <td>1840201</td>\n",
       "      <td>1.690104e+08</td>\n",
       "      <td>DPSUFRPPABVVUS6S</td>\n",
       "      <td>1966056</td>\n",
       "    </tr>\n",
       "    <tr>\n",
       "      <th>...</th>\n",
       "      <td>...</td>\n",
       "      <td>...</td>\n",
       "      <td>...</td>\n",
       "      <td>...</td>\n",
       "      <td>...</td>\n",
       "      <td>...</td>\n",
       "      <td>...</td>\n",
       "      <td>...</td>\n",
       "      <td>...</td>\n",
       "      <td>...</td>\n",
       "      <td>...</td>\n",
       "      <td>...</td>\n",
       "      <td>...</td>\n",
       "      <td>...</td>\n",
       "      <td>...</td>\n",
       "      <td>...</td>\n",
       "      <td>...</td>\n",
       "      <td>...</td>\n",
       "      <td>...</td>\n",
       "      <td>...</td>\n",
       "      <td>...</td>\n",
       "    </tr>\n",
       "    <tr>\n",
       "      <th>5384166</th>\n",
       "      <td>2022-01-25 11:52:00</td>\n",
       "      <td>c06a7851-2fd6-4235-a411-388b6fbd63aa</td>\n",
       "      <td>DPSUFRPP</td>\n",
       "      <td>ABVVUS6S</td>\n",
       "      <td>PETX22-FXIDA-3623</td>\n",
       "      <td>FR83714755422956980405</td>\n",
       "      <td>SCHKUHRIA PINNATA-PINNATA</td>\n",
       "      <td>RUE MARÉCHAL</td>\n",
       "      <td>FR/27925 ÉTIENNE</td>\n",
       "      <td>6110240642746921XX</td>\n",
       "      <td>...</td>\n",
       "      <td>0.0</td>\n",
       "      <td>1.0</td>\n",
       "      <td>11</td>\n",
       "      <td>DPSUFRPP11</td>\n",
       "      <td>635743</td>\n",
       "      <td>DPSUFRPPEUR</td>\n",
       "      <td>1840201</td>\n",
       "      <td>1.690104e+08</td>\n",
       "      <td>DPSUFRPPABVVUS6S</td>\n",
       "      <td>1966056</td>\n",
       "    </tr>\n",
       "    <tr>\n",
       "      <th>5385966</th>\n",
       "      <td>2022-01-30 10:15:00</td>\n",
       "      <td>ce51f37a-a106-4583-a294-8a99e259a794</td>\n",
       "      <td>DPSUFRPP</td>\n",
       "      <td>ABVVUS6S</td>\n",
       "      <td>PETX22-FXIDA-23777</td>\n",
       "      <td>FR21714755422956993549</td>\n",
       "      <td>PLEUROTHALLIS APPENDICULATA</td>\n",
       "      <td>6| AVENUE DE LÉVY</td>\n",
       "      <td>FR/04139 MARÉCHAL</td>\n",
       "      <td>611024064274696896</td>\n",
       "      <td>...</td>\n",
       "      <td>0.0</td>\n",
       "      <td>0.0</td>\n",
       "      <td>10</td>\n",
       "      <td>DPSUFRPP10</td>\n",
       "      <td>92216</td>\n",
       "      <td>DPSUFRPPEUR</td>\n",
       "      <td>1840201</td>\n",
       "      <td>1.690104e+08</td>\n",
       "      <td>DPSUFRPPABVVUS6S</td>\n",
       "      <td>1966056</td>\n",
       "    </tr>\n",
       "    <tr>\n",
       "      <th>5391548</th>\n",
       "      <td>2022-01-28 04:53:00</td>\n",
       "      <td>c87a8c77-63e3-43fb-9586-52b9a9a514be</td>\n",
       "      <td>DPSUFRPP</td>\n",
       "      <td>ABVVUS6S</td>\n",
       "      <td>PETX22-FXIDA-260</td>\n",
       "      <td>FR71714755422956974025</td>\n",
       "      <td>CYNOGLOSSUM FURCATUM</td>\n",
       "      <td>43| AVENUE VINCENT</td>\n",
       "      <td>FR/88504 SAINT NOÉMI</td>\n",
       "      <td>6110240642746969XX</td>\n",
       "      <td>...</td>\n",
       "      <td>0.0</td>\n",
       "      <td>4.0</td>\n",
       "      <td>4</td>\n",
       "      <td>DPSUFRPP4</td>\n",
       "      <td>130291</td>\n",
       "      <td>DPSUFRPPGBP</td>\n",
       "      <td>251926</td>\n",
       "      <td>3.699564e+06</td>\n",
       "      <td>DPSUFRPPABVVUS6S</td>\n",
       "      <td>1966056</td>\n",
       "    </tr>\n",
       "    <tr>\n",
       "      <th>5393691</th>\n",
       "      <td>2022-01-29 11:27:00</td>\n",
       "      <td>a1a6a27e-6b58-47c6-b7a8-80972e3bb9b7</td>\n",
       "      <td>DPSUFRPP</td>\n",
       "      <td>ABVVUS6S</td>\n",
       "      <td>PETX22-FXIDA-8525</td>\n",
       "      <td>FR2114755422956996847</td>\n",
       "      <td>LESQUERELLA UTAHENSIS</td>\n",
       "      <td>24| RUE DE RAYMOND</td>\n",
       "      <td>FR/62344 SAINT JULES</td>\n",
       "      <td>611024064274710012</td>\n",
       "      <td>...</td>\n",
       "      <td>NaN</td>\n",
       "      <td>0.0</td>\n",
       "      <td>11</td>\n",
       "      <td>DPSUFRPP11</td>\n",
       "      <td>635743</td>\n",
       "      <td>DPSUFRPPGBP</td>\n",
       "      <td>251926</td>\n",
       "      <td>3.699564e+06</td>\n",
       "      <td>DPSUFRPPABVVUS6S</td>\n",
       "      <td>1966056</td>\n",
       "    </tr>\n",
       "    <tr>\n",
       "      <th>5395916</th>\n",
       "      <td>2022-01-24 06:23:00</td>\n",
       "      <td>45e49da2-72d5-4fb0-9394-2143ad03703d</td>\n",
       "      <td>DPSUFRPP</td>\n",
       "      <td>ABVVUS6S</td>\n",
       "      <td>PETX22-FXIDA-17879</td>\n",
       "      <td>FR37714755422957001118</td>\n",
       "      <td>PHASEOLUS FILIFORMIS</td>\n",
       "      <td>4| BOULEVARD DE BODIN</td>\n",
       "      <td>FR/58826 ALEXANDRE-SUR-LAPORE</td>\n",
       "      <td>611024064274695205</td>\n",
       "      <td>...</td>\n",
       "      <td>0.0</td>\n",
       "      <td>0.0</td>\n",
       "      <td>6</td>\n",
       "      <td>DPSUFRPP6</td>\n",
       "      <td>160416</td>\n",
       "      <td>DPSUFRPPEUR</td>\n",
       "      <td>1840201</td>\n",
       "      <td>1.690104e+08</td>\n",
       "      <td>DPSUFRPPABVVUS6S</td>\n",
       "      <td>1966056</td>\n",
       "    </tr>\n",
       "  </tbody>\n",
       "</table>\n",
       "<p>1842 rows × 29 columns</p>\n",
       "</div>"
      ],
      "text/plain": [
       "                  Timestamp                                  UETR    Sender  \\\n",
       "1579    2022-01-01 01:04:00  b60d7297-c127-4fcb-8cd7-bac07f49c148  DPSUFRPP   \n",
       "11900   2022-01-01 04:34:00  db455a50-fa0c-4876-8a7e-62b23dd26ff8  DPSUFRPP   \n",
       "12153   2022-01-01 04:35:00  9492b334-8b4c-45c1-92e8-bd129b4a8de4  DPSUFRPP   \n",
       "13672   2022-01-01 04:52:00  d61bb80a-eb39-487e-9711-70ad6d82d5c0  DPSUFRPP   \n",
       "14155   2022-01-01 04:53:00  bfedc7b2-fdb9-4f25-8772-fd549401d6ea  DPSUFRPP   \n",
       "...                     ...                                   ...       ...   \n",
       "5384166 2022-01-25 11:52:00  c06a7851-2fd6-4235-a411-388b6fbd63aa  DPSUFRPP   \n",
       "5385966 2022-01-30 10:15:00  ce51f37a-a106-4583-a294-8a99e259a794  DPSUFRPP   \n",
       "5391548 2022-01-28 04:53:00  c87a8c77-63e3-43fb-9586-52b9a9a514be  DPSUFRPP   \n",
       "5393691 2022-01-29 11:27:00  a1a6a27e-6b58-47c6-b7a8-80972e3bb9b7  DPSUFRPP   \n",
       "5395916 2022-01-24 06:23:00  45e49da2-72d5-4fb0-9394-2143ad03703d  DPSUFRPP   \n",
       "\n",
       "         Receiver TransactionReference         OrderingAccount  \\\n",
       "1579     ABVVUS6S   PETX22-FXIDA-34626  FR37714755422957005677   \n",
       "11900    ABVVUS6S    PETX22-FXIDA-8891  FR90714755422957006954   \n",
       "12153    ABVVUS6S     PETX22-FXIDA-392  FR94714755422957004845   \n",
       "13672    ABVVUS6S    PETX22-FXIDA-8830  FR43714755422956984132   \n",
       "14155    ABVVUS6S    PETX22-FXIDA-2832  FR92714755422956974326   \n",
       "...           ...                  ...                     ...   \n",
       "5384166  ABVVUS6S    PETX22-FXIDA-3623  FR83714755422956980405   \n",
       "5385966  ABVVUS6S   PETX22-FXIDA-23777  FR21714755422956993549   \n",
       "5391548  ABVVUS6S     PETX22-FXIDA-260  FR71714755422956974025   \n",
       "5393691  ABVVUS6S    PETX22-FXIDA-8525   FR2114755422956996847   \n",
       "5395916  ABVVUS6S   PETX22-FXIDA-17879  FR37714755422957001118   \n",
       "\n",
       "                        OrderingName            OrderingStreet  \\\n",
       "1579     AVICENNIA MARINA-RESINIFERA        99| AVENUE NICOLAS   \n",
       "11900           ELAPHOGLOSSUM ALATUM       21| BOULEVARD DUMAS   \n",
       "12153        CHAMAECYTISUS PROLIFERA  420| AVENUE GUY GRÉGOIRE   \n",
       "13672               ERIGERON ELATIOR          3| RUE DE MARION   \n",
       "14155                    PEDILANTHUS    16| RUE ADÉLAÏDE BAZIN   \n",
       "...                              ...                       ...   \n",
       "5384166    SCHKUHRIA PINNATA-PINNATA              RUE MARÉCHAL   \n",
       "5385966  PLEUROTHALLIS APPENDICULATA         6| AVENUE DE LÉVY   \n",
       "5391548         CYNOGLOSSUM FURCATUM        43| AVENUE VINCENT   \n",
       "5393691        LESQUERELLA UTAHENSIS        24| RUE DE RAYMOND   \n",
       "5395916         PHASEOLUS FILIFORMIS     4| BOULEVARD DE BODIN   \n",
       "\n",
       "                OrderingCountryCityZip  BeneficiaryAccount  ... order_flag  \\\n",
       "1579                  FR/21079 REGNIER   61102406474705654  ...        0.0   \n",
       "11900                   FR/90759 ILLET  611024064274691631  ...        0.0   \n",
       "12153        FR/56898 ROBERT-SUR-FAURE  611024064274714223  ...        0.0   \n",
       "13672              FR/60210 BODINVILLE  6110240642747035XX  ...        0.0   \n",
       "14155                FR/95397 THIBAULT  6110240642746928XX  ...        0.0   \n",
       "...                                ...                 ...  ...        ...   \n",
       "5384166               FR/27925 ÉTIENNE  6110240642746921XX  ...        0.0   \n",
       "5385966              FR/04139 MARÉCHAL  611024064274696896  ...        0.0   \n",
       "5391548           FR/88504 SAINT NOÉMI  6110240642746969XX  ...        0.0   \n",
       "5393691           FR/62344 SAINT JULES  611024064274710012  ...        NaN   \n",
       "5395916  FR/58826 ALEXANDRE-SUR-LAPORE  611024064274695205  ...        0.0   \n",
       "\n",
       "        bene_flag hour  sender_hour sender_hour_freq  sender_currency  \\\n",
       "1579          NaN    1    DPSUFRPP1            33584      DPSUFRPPEUR   \n",
       "11900         0.0    4    DPSUFRPP4           130291      DPSUFRPPEUR   \n",
       "12153         0.0    4    DPSUFRPP4           130291      DPSUFRPPEUR   \n",
       "13672         1.0    4    DPSUFRPP4           130291      DPSUFRPPGBP   \n",
       "14155        10.0    4    DPSUFRPP4           130291      DPSUFRPPEUR   \n",
       "...           ...  ...          ...              ...              ...   \n",
       "5384166       1.0   11   DPSUFRPP11           635743      DPSUFRPPEUR   \n",
       "5385966       0.0   10   DPSUFRPP10            92216      DPSUFRPPEUR   \n",
       "5391548       4.0    4    DPSUFRPP4           130291      DPSUFRPPGBP   \n",
       "5393691       0.0   11   DPSUFRPP11           635743      DPSUFRPPGBP   \n",
       "5395916       0.0    6    DPSUFRPP6           160416      DPSUFRPPEUR   \n",
       "\n",
       "        sender_currency_freq  sender_currency_amount_average  \\\n",
       "1579                 1840201                    1.690104e+08   \n",
       "11900                1840201                    1.690104e+08   \n",
       "12153                1840201                    1.690104e+08   \n",
       "13672                 251926                    3.699564e+06   \n",
       "14155                1840201                    1.690104e+08   \n",
       "...                      ...                             ...   \n",
       "5384166              1840201                    1.690104e+08   \n",
       "5385966              1840201                    1.690104e+08   \n",
       "5391548               251926                    3.699564e+06   \n",
       "5393691               251926                    3.699564e+06   \n",
       "5395916              1840201                    1.690104e+08   \n",
       "\n",
       "          sender_receiver  sender_receiver_freq  \n",
       "1579     DPSUFRPPABVVUS6S               1966056  \n",
       "11900    DPSUFRPPABVVUS6S               1966056  \n",
       "12153    DPSUFRPPABVVUS6S               1966056  \n",
       "13672    DPSUFRPPABVVUS6S               1966056  \n",
       "14155    DPSUFRPPABVVUS6S               1966056  \n",
       "...                   ...                   ...  \n",
       "5384166  DPSUFRPPABVVUS6S               1966056  \n",
       "5385966  DPSUFRPPABVVUS6S               1966056  \n",
       "5391548  DPSUFRPPABVVUS6S               1966056  \n",
       "5393691  DPSUFRPPABVVUS6S               1966056  \n",
       "5395916  DPSUFRPPABVVUS6S               1966056  \n",
       "\n",
       "[1842 rows x 29 columns]"
      ]
     },
     "execution_count": 64,
     "metadata": {},
     "output_type": "execute_result"
    }
   ],
   "source": [
    "normal_ano"
   ]
  },
  {
   "cell_type": "code",
   "execution_count": 65,
   "id": "4e6408d2",
   "metadata": {
    "ExecuteTime": {
     "end_time": "2022-09-12T14:22:32.266774Z",
     "start_time": "2022-09-12T14:22:32.243179Z"
    }
   },
   "outputs": [],
   "source": [
    "columns_to_drop = [\n",
    "    \"UETR\",\n",
    "    \"Sender\",\n",
    "    \"Receiver\",\n",
    "    \"TransactionReference\",\n",
    "    \"OrderingAccount\",\n",
    "    \"OrderingName\",\n",
    "    \"OrderingStreet\",\n",
    "    \"OrderingCountryCityZip\",\n",
    "    \"BeneficiaryAccount\",\n",
    "    \"BeneficiaryName\",\n",
    "    \"BeneficiaryStreet\",\n",
    "    \"BeneficiaryCountryCityZip\",\n",
    "    \"SettlementDate\",\n",
    "    \"SettlementCurrency\",\n",
    "    \"InstructedCurrency\",\n",
    "    \"Timestamp\",\n",
    "    \"sender_hour\",\n",
    "    \"sender_currency\",\n",
    "    \"sender_receiver\",\n",
    "]\n",
    "\n",
    "f_ano = f_ano.drop(columns_to_drop, axis=1)\n",
    "normal_ano = normal_ano.drop(columns_to_drop, axis=1)"
   ]
  },
  {
   "cell_type": "code",
   "execution_count": 66,
   "id": "49e47bcd",
   "metadata": {
    "ExecuteTime": {
     "end_time": "2022-09-12T14:22:32.271995Z",
     "start_time": "2022-09-12T14:22:32.267755Z"
    }
   },
   "outputs": [],
   "source": [
    "f_ano = f_ano.drop(['MessageId'], axis=1)\n",
    "normal_ano = normal_ano.drop(['order_flag', 'bene_flag'], axis=1)\n",
    "normal_ano['Label'] = normal_ano['Label'].map({1:0}) # map the label 1 to 0\n",
    "ano = pd.concat([f_ano, normal_ano])"
   ]
  },
  {
   "cell_type": "code",
   "execution_count": 67,
   "id": "fa847b5f",
   "metadata": {
    "ExecuteTime": {
     "end_time": "2022-09-12T14:22:32.280042Z",
     "start_time": "2022-09-12T14:22:32.272765Z"
    }
   },
   "outputs": [
    {
     "data": {
      "text/html": [
       "<div>\n",
       "<style scoped>\n",
       "    .dataframe tbody tr th:only-of-type {\n",
       "        vertical-align: middle;\n",
       "    }\n",
       "\n",
       "    .dataframe tbody tr th {\n",
       "        vertical-align: top;\n",
       "    }\n",
       "\n",
       "    .dataframe thead th {\n",
       "        text-align: right;\n",
       "    }\n",
       "</style>\n",
       "<table border=\"1\" class=\"dataframe\">\n",
       "  <thead>\n",
       "    <tr style=\"text-align: right;\">\n",
       "      <th></th>\n",
       "      <th>SettlementAmount</th>\n",
       "      <th>InstructedAmount</th>\n",
       "      <th>Label</th>\n",
       "      <th>hour</th>\n",
       "      <th>sender_hour_freq</th>\n",
       "      <th>sender_currency_freq</th>\n",
       "      <th>sender_currency_amount_average</th>\n",
       "      <th>sender_receiver_freq</th>\n",
       "    </tr>\n",
       "  </thead>\n",
       "  <tbody>\n",
       "    <tr>\n",
       "      <th>439</th>\n",
       "      <td>5.696691e+06</td>\n",
       "      <td>5.089512e+06</td>\n",
       "      <td>1</td>\n",
       "      <td>11</td>\n",
       "      <td>635743</td>\n",
       "      <td>1840201</td>\n",
       "      <td>1.690104e+08</td>\n",
       "      <td>19</td>\n",
       "    </tr>\n",
       "    <tr>\n",
       "      <th>534</th>\n",
       "      <td>9.865503e+06</td>\n",
       "      <td>8.813994e+06</td>\n",
       "      <td>1</td>\n",
       "      <td>8</td>\n",
       "      <td>195031</td>\n",
       "      <td>1840201</td>\n",
       "      <td>1.690104e+08</td>\n",
       "      <td>1966056</td>\n",
       "    </tr>\n",
       "    <tr>\n",
       "      <th>636</th>\n",
       "      <td>5.523044e+06</td>\n",
       "      <td>4.934373e+06</td>\n",
       "      <td>1</td>\n",
       "      <td>11</td>\n",
       "      <td>635743</td>\n",
       "      <td>75</td>\n",
       "      <td>3.468684e+08</td>\n",
       "      <td>1966056</td>\n",
       "    </tr>\n",
       "    <tr>\n",
       "      <th>2463</th>\n",
       "      <td>1.792749e+09</td>\n",
       "      <td>1.601670e+09</td>\n",
       "      <td>1</td>\n",
       "      <td>22</td>\n",
       "      <td>4810</td>\n",
       "      <td>1840201</td>\n",
       "      <td>1.690104e+08</td>\n",
       "      <td>1966056</td>\n",
       "    </tr>\n",
       "    <tr>\n",
       "      <th>2730</th>\n",
       "      <td>9.203884e+08</td>\n",
       "      <td>8.222893e+08</td>\n",
       "      <td>1</td>\n",
       "      <td>5</td>\n",
       "      <td>50010</td>\n",
       "      <td>1840201</td>\n",
       "      <td>1.690104e+08</td>\n",
       "      <td>24</td>\n",
       "    </tr>\n",
       "    <tr>\n",
       "      <th>...</th>\n",
       "      <td>...</td>\n",
       "      <td>...</td>\n",
       "      <td>...</td>\n",
       "      <td>...</td>\n",
       "      <td>...</td>\n",
       "      <td>...</td>\n",
       "      <td>...</td>\n",
       "      <td>...</td>\n",
       "    </tr>\n",
       "    <tr>\n",
       "      <th>5384166</th>\n",
       "      <td>4.417685e+06</td>\n",
       "      <td>3.946828e+06</td>\n",
       "      <td>0</td>\n",
       "      <td>11</td>\n",
       "      <td>635743</td>\n",
       "      <td>1840201</td>\n",
       "      <td>1.690104e+08</td>\n",
       "      <td>1966056</td>\n",
       "    </tr>\n",
       "    <tr>\n",
       "      <th>5385966</th>\n",
       "      <td>4.817090e+06</td>\n",
       "      <td>4.303663e+06</td>\n",
       "      <td>0</td>\n",
       "      <td>10</td>\n",
       "      <td>92216</td>\n",
       "      <td>1840201</td>\n",
       "      <td>1.690104e+08</td>\n",
       "      <td>1966056</td>\n",
       "    </tr>\n",
       "    <tr>\n",
       "      <th>5391548</th>\n",
       "      <td>3.658144e+06</td>\n",
       "      <td>2.939922e+06</td>\n",
       "      <td>0</td>\n",
       "      <td>4</td>\n",
       "      <td>130291</td>\n",
       "      <td>251926</td>\n",
       "      <td>3.699564e+06</td>\n",
       "      <td>1966056</td>\n",
       "    </tr>\n",
       "    <tr>\n",
       "      <th>5393691</th>\n",
       "      <td>2.723516e+06</td>\n",
       "      <td>2.188794e+06</td>\n",
       "      <td>0</td>\n",
       "      <td>11</td>\n",
       "      <td>635743</td>\n",
       "      <td>251926</td>\n",
       "      <td>3.699564e+06</td>\n",
       "      <td>1966056</td>\n",
       "    </tr>\n",
       "    <tr>\n",
       "      <th>5395916</th>\n",
       "      <td>4.485390e+06</td>\n",
       "      <td>4.007317e+06</td>\n",
       "      <td>0</td>\n",
       "      <td>6</td>\n",
       "      <td>160416</td>\n",
       "      <td>1840201</td>\n",
       "      <td>1.690104e+08</td>\n",
       "      <td>1966056</td>\n",
       "    </tr>\n",
       "  </tbody>\n",
       "</table>\n",
       "<p>5661 rows × 8 columns</p>\n",
       "</div>"
      ],
      "text/plain": [
       "         SettlementAmount  InstructedAmount  Label  hour  sender_hour_freq  \\\n",
       "439          5.696691e+06      5.089512e+06      1    11            635743   \n",
       "534          9.865503e+06      8.813994e+06      1     8            195031   \n",
       "636          5.523044e+06      4.934373e+06      1    11            635743   \n",
       "2463         1.792749e+09      1.601670e+09      1    22              4810   \n",
       "2730         9.203884e+08      8.222893e+08      1     5             50010   \n",
       "...                   ...               ...    ...   ...               ...   \n",
       "5384166      4.417685e+06      3.946828e+06      0    11            635743   \n",
       "5385966      4.817090e+06      4.303663e+06      0    10             92216   \n",
       "5391548      3.658144e+06      2.939922e+06      0     4            130291   \n",
       "5393691      2.723516e+06      2.188794e+06      0    11            635743   \n",
       "5395916      4.485390e+06      4.007317e+06      0     6            160416   \n",
       "\n",
       "         sender_currency_freq  sender_currency_amount_average  \\\n",
       "439                   1840201                    1.690104e+08   \n",
       "534                   1840201                    1.690104e+08   \n",
       "636                        75                    3.468684e+08   \n",
       "2463                  1840201                    1.690104e+08   \n",
       "2730                  1840201                    1.690104e+08   \n",
       "...                       ...                             ...   \n",
       "5384166               1840201                    1.690104e+08   \n",
       "5385966               1840201                    1.690104e+08   \n",
       "5391548                251926                    3.699564e+06   \n",
       "5393691                251926                    3.699564e+06   \n",
       "5395916               1840201                    1.690104e+08   \n",
       "\n",
       "         sender_receiver_freq  \n",
       "439                        19  \n",
       "534                   1966056  \n",
       "636                   1966056  \n",
       "2463                  1966056  \n",
       "2730                       24  \n",
       "...                       ...  \n",
       "5384166               1966056  \n",
       "5385966               1966056  \n",
       "5391548               1966056  \n",
       "5393691               1966056  \n",
       "5395916               1966056  \n",
       "\n",
       "[5661 rows x 8 columns]"
      ]
     },
     "execution_count": 67,
     "metadata": {},
     "output_type": "execute_result"
    }
   ],
   "source": [
    "ano"
   ]
  },
  {
   "cell_type": "markdown",
   "id": "7c40ba32",
   "metadata": {},
   "source": [
    "# Training"
   ]
  },
  {
   "cell_type": "code",
   "execution_count": 68,
   "id": "b81d50fa",
   "metadata": {
    "ExecuteTime": {
     "end_time": "2022-09-12T14:22:32.285973Z",
     "start_time": "2022-09-12T14:22:32.280832Z"
    }
   },
   "outputs": [],
   "source": [
    "Y = ano[\"Label\"].values\n",
    "X = ano.drop([\"Label\"], axis=1).values\n",
    "\n",
    "X_train, X_test, Y_train, Y_test = train_test_split(X, Y, stratify=Y, random_state = 0)\n",
    "# train and test split\n",
    "\n",
    "scaler = StandardScaler()\n",
    "scaler.fit(X_train)\n",
    "\n",
    "X_train = scaler.transform(X_train)\n",
    "X_test = scaler.transform(X_test)"
   ]
  },
  {
   "cell_type": "code",
   "execution_count": 69,
   "id": "dee393e7",
   "metadata": {
    "ExecuteTime": {
     "end_time": "2022-09-12T14:22:34.585479Z",
     "start_time": "2022-09-12T14:22:32.286788Z"
    }
   },
   "outputs": [
    {
     "name": "stdout",
     "output_type": "stream",
     "text": [
      "XGBoost Classification Report=\n",
      "\n",
      "               precision    recall  f1-score   support\n",
      "\n",
      "           0       0.96      1.00      0.98       461\n",
      "           1       1.00      0.98      0.99       955\n",
      "\n",
      "    accuracy                           0.98      1416\n",
      "   macro avg       0.98      0.99      0.98      1416\n",
      "weighted avg       0.98      0.98      0.98      1416\n",
      "\n",
      "XGBoost Confusion Matrix=\n",
      "\n",
      " [[459   2]\n",
      " [ 20 935]]\n",
      "AUPRC: 0.9975559598451311\n",
      "CPU times: user 5.52 s, sys: 2.14 s, total: 7.66 s\n",
      "Wall time: 2.3 s\n"
     ]
    }
   ],
   "source": [
    "%%time\n",
    "\n",
    "xgb = XGBClassifier(n_estimators=100)\n",
    "kfold = StratifiedKFold(n_splits=5, random_state=0, shuffle=True)\n",
    "cv_results = cross_val_score(xgb, X_train, Y_train, cv=kfold, scoring=\"f1\")\n",
    "\n",
    "xgb.fit(X_train, Y_train)\n",
    "\n",
    "pred_xgb = xgb.predict(X_test)\n",
    "print(\"XGBoost Classification Report=\\n\\n\", classification_report(Y_test, pred_xgb))\n",
    "\n",
    "print(\"XGBoost Confusion Matrix=\\n\\n\", confusion_matrix(Y_test, pred_xgb))\n",
    "\n",
    "pred_proba_xgb = xgb.predict_proba(X_test)[:, 1]\n",
    "\n",
    "print(\"AUPRC:\", metrics.average_precision_score(y_true=Y_test, y_score=pred_proba_xgb))"
   ]
  },
  {
   "cell_type": "code",
   "execution_count": 70,
   "id": "e1ebc9e2",
   "metadata": {
    "ExecuteTime": {
     "end_time": "2022-09-12T14:22:34.685146Z",
     "start_time": "2022-09-12T14:22:34.586354Z"
    }
   },
   "outputs": [
    {
     "name": "stdout",
     "output_type": "stream",
     "text": [
      "Random Forest Classification Report=\n",
      "\n",
      "               precision    recall  f1-score   support\n",
      "\n",
      "           0       0.84      0.98      0.90       461\n",
      "           1       0.99      0.91      0.95       955\n",
      "\n",
      "    accuracy                           0.93      1416\n",
      "   macro avg       0.91      0.94      0.92      1416\n",
      "weighted avg       0.94      0.93      0.93      1416\n",
      "\n",
      "Random Forest Confusion Matrix=\n",
      "\n",
      " [[450  11]\n",
      " [ 86 869]]\n",
      "AUPRC: 0.9937134479542321\n",
      "CPU times: user 217 ms, sys: 123 ms, total: 340 ms\n",
      "Wall time: 96.3 ms\n"
     ]
    }
   ],
   "source": [
    "%%time\n",
    "from sklearn.ensemble import RandomForestClassifier\n",
    "\n",
    "rf = RandomForestClassifier(max_depth=7, random_state=0, n_estimators=10)\n",
    "kfold = StratifiedKFold(n_splits=5, random_state=0, shuffle=True)\n",
    "cv_results = cross_val_score(rf, X_train, Y_train, cv=kfold, scoring=\"f1\")\n",
    "\n",
    "rf.fit(X_train, Y_train)\n",
    "\n",
    "pred_rf = rf.predict(X_test)\n",
    "print(\"Random Forest Classification Report=\\n\\n\", classification_report(Y_test, pred_rf))\n",
    "print(\"Random Forest Confusion Matrix=\\n\\n\", confusion_matrix(Y_test, pred_rf))\n",
    "pred_proba_rf = rf.predict_proba(X_test)[:, 1]\n",
    "\n",
    "print(\"AUPRC:\", metrics.average_precision_score(y_true=Y_test, y_score=pred_proba_rf))"
   ]
  },
  {
   "cell_type": "markdown",
   "id": "586dab71",
   "metadata": {},
   "source": [
    "# Extract features"
   ]
  },
  {
   "cell_type": "markdown",
   "id": "fa837cb0",
   "metadata": {},
   "source": [
    "Features in simple anomalies (normal_ano) are based on the entire (unfiltered data)<br>\n",
    "Features in statistical anomalies (f_ano) are based on the filtered data (dataset after removing the simple anomalies<br>"
   ]
  },
  {
   "cell_type": "code",
   "execution_count": 71,
   "id": "8b17adbc",
   "metadata": {
    "ExecuteTime": {
     "end_time": "2022-09-12T14:22:34.827350Z",
     "start_time": "2022-09-12T14:22:34.687290Z"
    }
   },
   "outputs": [],
   "source": [
    "all_ano = swift[swift['Label']==1]\n",
    "f_ano = filtered[filtered['Label']==1]\n",
    "normal_list = list(all_ano[~all_ano.UETR.isin(f_ano.UETR)].UETR)\n",
    "normal_ano = all_ano[all_ano.UETR.isin(normal_list)]"
   ]
  },
  {
   "cell_type": "code",
   "execution_count": 72,
   "id": "3ec57707",
   "metadata": {
    "ExecuteTime": {
     "end_time": "2022-09-12T14:22:34.855346Z",
     "start_time": "2022-09-12T14:22:34.828023Z"
    },
    "collapsed": true
   },
   "outputs": [
    {
     "name": "stderr",
     "output_type": "stream",
     "text": [
      "/var/folders/jc/gpmxwymd351cckl6cvjf72vh5jytlq/T/ipykernel_69992/3024630642.py:4: SettingWithCopyWarning: \n",
      "A value is trying to be set on a copy of a slice from a DataFrame.\n",
      "Try using .loc[row_indexer,col_indexer] = value instead\n",
      "\n",
      "See the caveats in the documentation: https://pandas.pydata.org/pandas-docs/stable/user_guide/indexing.html#returning-a-view-versus-a-copy\n",
      "  f_ano[\"Timestamp\"] = f_ano[\"Timestamp\"].astype(\"datetime64[ns]\")\n",
      "/var/folders/jc/gpmxwymd351cckl6cvjf72vh5jytlq/T/ipykernel_69992/3024630642.py:5: SettingWithCopyWarning: \n",
      "A value is trying to be set on a copy of a slice from a DataFrame.\n",
      "Try using .loc[row_indexer,col_indexer] = value instead\n",
      "\n",
      "See the caveats in the documentation: https://pandas.pydata.org/pandas-docs/stable/user_guide/indexing.html#returning-a-view-versus-a-copy\n",
      "  normal_ano[\"Timestamp\"] = normal_ano[\"Timestamp\"].astype(\"datetime64[ns]\")\n"
     ]
    }
   ],
   "source": [
    "swift[\"Timestamp\"] = swift[\"Timestamp\"].astype(\"datetime64[ns]\")\n",
    "filtered[\"Timestamp\"] = filtered[\"Timestamp\"].astype(\"datetime64[ns]\")\n",
    "\n",
    "f_ano[\"Timestamp\"] = f_ano[\"Timestamp\"].astype(\"datetime64[ns]\")\n",
    "normal_ano[\"Timestamp\"] = normal_ano[\"Timestamp\"].astype(\"datetime64[ns]\")\n",
    "#bank = pd.read_csv('../data/bank_dataset.csv')"
   ]
  },
  {
   "cell_type": "code",
   "execution_count": 73,
   "id": "6415d607",
   "metadata": {
    "ExecuteTime": {
     "end_time": "2022-09-12T14:22:59.521003Z",
     "start_time": "2022-09-12T14:22:34.856240Z"
    },
    "collapsed": true
   },
   "outputs": [
    {
     "name": "stderr",
     "output_type": "stream",
     "text": [
      "<timed exec>:6: SettingWithCopyWarning: \n",
      "A value is trying to be set on a copy of a slice from a DataFrame.\n",
      "Try using .loc[row_indexer,col_indexer] = value instead\n",
      "\n",
      "See the caveats in the documentation: https://pandas.pydata.org/pandas-docs/stable/user_guide/indexing.html#returning-a-view-versus-a-copy\n",
      "<timed exec>:7: SettingWithCopyWarning: \n",
      "A value is trying to be set on a copy of a slice from a DataFrame.\n",
      "Try using .loc[row_indexer,col_indexer] = value instead\n",
      "\n",
      "See the caveats in the documentation: https://pandas.pydata.org/pandas-docs/stable/user_guide/indexing.html#returning-a-view-versus-a-copy\n",
      "<timed exec>:15: SettingWithCopyWarning: \n",
      "A value is trying to be set on a copy of a slice from a DataFrame.\n",
      "Try using .loc[row_indexer,col_indexer] = value instead\n",
      "\n",
      "See the caveats in the documentation: https://pandas.pydata.org/pandas-docs/stable/user_guide/indexing.html#returning-a-view-versus-a-copy\n",
      "<timed exec>:16: SettingWithCopyWarning: \n",
      "A value is trying to be set on a copy of a slice from a DataFrame.\n",
      "Try using .loc[row_indexer,col_indexer] = value instead\n",
      "\n",
      "See the caveats in the documentation: https://pandas.pydata.org/pandas-docs/stable/user_guide/indexing.html#returning-a-view-versus-a-copy\n"
     ]
    },
    {
     "name": "stdout",
     "output_type": "stream",
     "text": [
      "CPU times: user 16.9 s, sys: 5.66 s, total: 22.6 s\n",
      "Wall time: 24.7 s\n"
     ]
    },
    {
     "name": "stderr",
     "output_type": "stream",
     "text": [
      "<timed exec>:30: SettingWithCopyWarning: \n",
      "A value is trying to be set on a copy of a slice from a DataFrame.\n",
      "Try using .loc[row_indexer,col_indexer] = value instead\n",
      "\n",
      "See the caveats in the documentation: https://pandas.pydata.org/pandas-docs/stable/user_guide/indexing.html#returning-a-view-versus-a-copy\n",
      "<timed exec>:31: SettingWithCopyWarning: \n",
      "A value is trying to be set on a copy of a slice from a DataFrame.\n",
      "Try using .loc[row_indexer,col_indexer] = value instead\n",
      "\n",
      "See the caveats in the documentation: https://pandas.pydata.org/pandas-docs/stable/user_guide/indexing.html#returning-a-view-versus-a-copy\n"
     ]
    }
   ],
   "source": [
    "%%time\n",
    "# Hour\n",
    "swift[\"hour\"] = swift[\"Timestamp\"].dt.hour\n",
    "filtered[\"hour\"] = filtered[\"Timestamp\"].dt.hour\n",
    "\n",
    "\n",
    "f_ano[\"hour\"] = f_ano[\"Timestamp\"].dt.hour\n",
    "normal_ano[\"hour\"] = normal_ano[\"Timestamp\"].dt.hour\n",
    "\n",
    "# Hour frequency for each sender\n",
    "senders = swift[\"Sender\"].unique()\n",
    "\n",
    "swift[\"sender_hour\"] = swift[\"Sender\"] + swift[\"hour\"].astype(str)\n",
    "filtered[\"sender_hour\"] = filtered[\"Sender\"] + filtered[\"hour\"].astype(str)\n",
    "\n",
    "f_ano[\"sender_hour\"] = f_ano[\"Sender\"] + f_ano[\"hour\"].astype(str)\n",
    "normal_ano[\"sender_hour\"] = normal_ano[\"Sender\"] + normal_ano[\"hour\"].astype(str)\n",
    "\n",
    "sender_hour_frequency = {}\n",
    "sender_hour_frequency_f = {}\n",
    "\n",
    "for s in senders:\n",
    "    sender_rows = swift[swift[\"Sender\"] == s]\n",
    "    sender_rows_f = filtered[filtered[\"Sender\"] == s]\n",
    "    \n",
    "    for h in range(24):\n",
    "        sender_hour_frequency[s + str(h)] = len(sender_rows[sender_rows[\"hour\"] == h])\n",
    "        sender_hour_frequency_f[s + str(h)] = len(sender_rows_f[sender_rows_f[\"hour\"] == h])\n",
    "\n",
    "\n",
    "f_ano[\"sender_hour_freq\"] = f_ano[\"sender_hour\"].map(sender_hour_frequency_f)\n",
    "normal_ano[\"sender_hour_freq\"] = normal_ano[\"sender_hour\"].map(sender_hour_frequency)"
   ]
  },
  {
   "cell_type": "code",
   "execution_count": 74,
   "id": "94fb757f",
   "metadata": {
    "ExecuteTime": {
     "end_time": "2022-09-12T14:23:44.983947Z",
     "start_time": "2022-09-12T14:22:59.523258Z"
    },
    "collapsed": true
   },
   "outputs": [
    {
     "name": "stderr",
     "output_type": "stream",
     "text": [
      "<timed exec>:5: SettingWithCopyWarning: \n",
      "A value is trying to be set on a copy of a slice from a DataFrame.\n",
      "Try using .loc[row_indexer,col_indexer] = value instead\n",
      "\n",
      "See the caveats in the documentation: https://pandas.pydata.org/pandas-docs/stable/user_guide/indexing.html#returning-a-view-versus-a-copy\n",
      "<timed exec>:6: SettingWithCopyWarning: \n",
      "A value is trying to be set on a copy of a slice from a DataFrame.\n",
      "Try using .loc[row_indexer,col_indexer] = value instead\n",
      "\n",
      "See the caveats in the documentation: https://pandas.pydata.org/pandas-docs/stable/user_guide/indexing.html#returning-a-view-versus-a-copy\n"
     ]
    },
    {
     "name": "stdout",
     "output_type": "stream",
     "text": [
      "CPU times: user 40.8 s, sys: 3.77 s, total: 44.6 s\n",
      "Wall time: 45.5 s\n"
     ]
    },
    {
     "name": "stderr",
     "output_type": "stream",
     "text": [
      "<timed exec>:28: SettingWithCopyWarning: \n",
      "A value is trying to be set on a copy of a slice from a DataFrame.\n",
      "Try using .loc[row_indexer,col_indexer] = value instead\n",
      "\n",
      "See the caveats in the documentation: https://pandas.pydata.org/pandas-docs/stable/user_guide/indexing.html#returning-a-view-versus-a-copy\n",
      "<timed exec>:29: SettingWithCopyWarning: \n",
      "A value is trying to be set on a copy of a slice from a DataFrame.\n",
      "Try using .loc[row_indexer,col_indexer] = value instead\n",
      "\n",
      "See the caveats in the documentation: https://pandas.pydata.org/pandas-docs/stable/user_guide/indexing.html#returning-a-view-versus-a-copy\n",
      "<timed exec>:32: SettingWithCopyWarning: \n",
      "A value is trying to be set on a copy of a slice from a DataFrame.\n",
      "Try using .loc[row_indexer,col_indexer] = value instead\n",
      "\n",
      "See the caveats in the documentation: https://pandas.pydata.org/pandas-docs/stable/user_guide/indexing.html#returning-a-view-versus-a-copy\n",
      "<timed exec>:33: SettingWithCopyWarning: \n",
      "A value is trying to be set on a copy of a slice from a DataFrame.\n",
      "Try using .loc[row_indexer,col_indexer] = value instead\n",
      "\n",
      "See the caveats in the documentation: https://pandas.pydata.org/pandas-docs/stable/user_guide/indexing.html#returning-a-view-versus-a-copy\n"
     ]
    }
   ],
   "source": [
    "%%time\n",
    "# Sender-Currency Frequency and Average Amount per Sender-Currency\n",
    "swift[\"sender_currency\"] = swift[\"Sender\"] + swift[\"InstructedCurrency\"]\n",
    "filtered[\"sender_currency\"] = filtered[\"Sender\"] + filtered[\"InstructedCurrency\"]\n",
    "\n",
    "f_ano[\"sender_currency\"] = f_ano[\"Sender\"] + f_ano[\"InstructedCurrency\"]\n",
    "normal_ano[\"sender_currency\"] = normal_ano[\"Sender\"] + normal_ano[\"InstructedCurrency\"]\n",
    "\n",
    "\n",
    "sender_currency_freq = {}\n",
    "sender_currency_avg = {}\n",
    "sender_currency_freq_f = {}\n",
    "sender_currency_avg_f = {}\n",
    "\n",
    "for sc in set(\n",
    "    list(swift[\"sender_currency\"].unique())\n",
    "):\n",
    "    sender_currency_freq[sc] = len(swift[swift[\"sender_currency\"] == sc])\n",
    "    sender_currency_avg[sc] = swift[swift[\"sender_currency\"] == sc][\n",
    "        \"InstructedAmount\"\n",
    "    ].mean()\n",
    "    \n",
    "    sender_currency_freq_f[sc] = len(filtered[filtered[\"sender_currency\"] == sc])\n",
    "    sender_currency_avg_f[sc] = filtered[filtered[\"sender_currency\"] == sc][\n",
    "        \"InstructedAmount\"\n",
    "    ].mean()\n",
    "    \n",
    "#swift[\"sender_currency_freq\"] = swift[\"sender_currency\"].map(sender_currency_freq)\n",
    "f_ano[\"sender_currency_freq\"] = f_ano[\"sender_currency\"].map(sender_currency_freq_f)\n",
    "normal_ano[\"sender_currency_freq\"] = normal_ano[\"sender_currency\"].map(sender_currency_freq)\n",
    "\n",
    "#swift[\"sender_currency_amount_average\"] = swift[\"sender_currency\"].map(sender_currency_avg)\n",
    "f_ano[\"sender_currency_amount_average\"] = f_ano[\"sender_currency\"].map(sender_currency_avg_f)\n",
    "normal_ano[\"sender_currency_amount_average\"] = normal_ano[\"sender_currency\"].map(sender_currency_avg)"
   ]
  },
  {
   "cell_type": "code",
   "execution_count": 75,
   "id": "089fd3b2",
   "metadata": {
    "ExecuteTime": {
     "end_time": "2022-09-12T14:24:34.330821Z",
     "start_time": "2022-09-12T14:23:44.985072Z"
    },
    "collapsed": true
   },
   "outputs": [
    {
     "name": "stderr",
     "output_type": "stream",
     "text": [
      "<timed exec>:5: SettingWithCopyWarning: \n",
      "A value is trying to be set on a copy of a slice from a DataFrame.\n",
      "Try using .loc[row_indexer,col_indexer] = value instead\n",
      "\n",
      "See the caveats in the documentation: https://pandas.pydata.org/pandas-docs/stable/user_guide/indexing.html#returning-a-view-versus-a-copy\n",
      "<timed exec>:6: SettingWithCopyWarning: \n",
      "A value is trying to be set on a copy of a slice from a DataFrame.\n",
      "Try using .loc[row_indexer,col_indexer] = value instead\n",
      "\n",
      "See the caveats in the documentation: https://pandas.pydata.org/pandas-docs/stable/user_guide/indexing.html#returning-a-view-versus-a-copy\n"
     ]
    },
    {
     "name": "stdout",
     "output_type": "stream",
     "text": [
      "CPU times: user 46.1 s, sys: 2.69 s, total: 48.8 s\n",
      "Wall time: 49.3 s\n"
     ]
    },
    {
     "name": "stderr",
     "output_type": "stream",
     "text": [
      "<timed exec>:17: SettingWithCopyWarning: \n",
      "A value is trying to be set on a copy of a slice from a DataFrame.\n",
      "Try using .loc[row_indexer,col_indexer] = value instead\n",
      "\n",
      "See the caveats in the documentation: https://pandas.pydata.org/pandas-docs/stable/user_guide/indexing.html#returning-a-view-versus-a-copy\n",
      "<timed exec>:18: SettingWithCopyWarning: \n",
      "A value is trying to be set on a copy of a slice from a DataFrame.\n",
      "Try using .loc[row_indexer,col_indexer] = value instead\n",
      "\n",
      "See the caveats in the documentation: https://pandas.pydata.org/pandas-docs/stable/user_guide/indexing.html#returning-a-view-versus-a-copy\n"
     ]
    }
   ],
   "source": [
    "%%time\n",
    "# Sender-Receiver Frequency\n",
    "swift[\"sender_receiver\"] = swift[\"Sender\"] + swift[\"Receiver\"]\n",
    "filtered[\"sender_receiver\"] = filtered[\"Sender\"] + filtered[\"Receiver\"]\n",
    "\n",
    "f_ano[\"sender_receiver\"] = f_ano[\"Sender\"] + f_ano[\"Receiver\"]\n",
    "normal_ano[\"sender_receiver\"] = normal_ano[\"Sender\"] + normal_ano[\"Receiver\"]\n",
    "\n",
    "sender_receiver_freq = {}\n",
    "sender_receiver_freq_f = {}\n",
    "for sr in set(\n",
    "    list(swift[\"sender_receiver\"].unique())\n",
    "):\n",
    "    sender_receiver_freq[sr] = len(swift[swift[\"sender_receiver\"] == sr])\n",
    "    sender_receiver_freq_f[sr] = len(filtered[filtered[\"sender_receiver\"] == sr])\n",
    "\n",
    "#swift[\"sender_receiver_freq\"] = swift[\"sender_receiver\"].map(sender_receiver_freq)\n",
    "f_ano[\"sender_receiver_freq\"] = f_ano[\"sender_receiver\"].map(sender_receiver_freq_f)\n",
    "normal_ano[\"sender_receiver_freq\"] = normal_ano[\"sender_receiver\"].map(sender_receiver_freq)\n"
   ]
  },
  {
   "cell_type": "code",
   "execution_count": 76,
   "id": "65177c3e",
   "metadata": {
    "ExecuteTime": {
     "end_time": "2022-09-12T14:24:34.341971Z",
     "start_time": "2022-09-12T14:24:34.331937Z"
    }
   },
   "outputs": [],
   "source": [
    "columns_to_drop = [\n",
    "    \"UETR\",\n",
    "    \"Sender\",\n",
    "    \"Receiver\",\n",
    "    \"TransactionReference\",\n",
    "    \"OrderingAccount\",\n",
    "    \"OrderingName\",\n",
    "    \"OrderingStreet\",\n",
    "    \"OrderingCountryCityZip\",\n",
    "    \"BeneficiaryAccount\",\n",
    "    \"BeneficiaryName\",\n",
    "    \"BeneficiaryStreet\",\n",
    "    \"BeneficiaryCountryCityZip\",\n",
    "    \"SettlementDate\",\n",
    "    \"SettlementCurrency\",\n",
    "    \"InstructedCurrency\",\n",
    "    \"Timestamp\",\n",
    "    \"sender_hour\",\n",
    "    \"sender_currency\",\n",
    "    \"sender_receiver\",\n",
    "]\n",
    "\n",
    "f_ano = f_ano.drop(columns_to_drop, axis=1)\n",
    "normal_ano = normal_ano.drop(columns_to_drop, axis=1)"
   ]
  },
  {
   "cell_type": "code",
   "execution_count": 77,
   "id": "1d77d2c7",
   "metadata": {
    "ExecuteTime": {
     "end_time": "2022-09-12T14:24:34.348163Z",
     "start_time": "2022-09-12T14:24:34.342998Z"
    }
   },
   "outputs": [],
   "source": [
    "f_ano = f_ano.drop(['MessageId'], axis=1)\n",
    "normal_ano = normal_ano.drop(['order_flag', 'bene_flag'], axis=1)\n",
    "normal_ano['Label'] = normal_ano['Label'].map({1:0}) # map the label 1 to 0\n",
    "ano = pd.concat([f_ano, normal_ano])"
   ]
  },
  {
   "cell_type": "markdown",
   "id": "392fea4e",
   "metadata": {
    "ExecuteTime": {
     "end_time": "2022-09-12T14:20:19.076479Z",
     "start_time": "2022-09-12T14:20:19.074776Z"
    }
   },
   "source": [
    "# Training"
   ]
  },
  {
   "cell_type": "code",
   "execution_count": 78,
   "id": "c2fe15ce",
   "metadata": {
    "ExecuteTime": {
     "end_time": "2022-09-12T14:24:34.359684Z",
     "start_time": "2022-09-12T14:24:34.349325Z"
    }
   },
   "outputs": [],
   "source": [
    "Y = ano[\"Label\"].values\n",
    "X = ano.drop([\"Label\"], axis=1).values\n",
    "\n",
    "X_train, X_test, Y_train, Y_test = train_test_split(X, Y, stratify=Y, random_state = 0)\n",
    "# train and test split\n",
    "\n",
    "scaler = StandardScaler()\n",
    "scaler.fit(X_train)\n",
    "\n",
    "X_train = scaler.transform(X_train)\n",
    "X_test = scaler.transform(X_test)"
   ]
  },
  {
   "cell_type": "code",
   "execution_count": 79,
   "id": "c2805d17",
   "metadata": {
    "ExecuteTime": {
     "end_time": "2022-09-12T14:24:35.280944Z",
     "start_time": "2022-09-12T14:24:34.360595Z"
    },
    "collapsed": true
   },
   "outputs": [
    {
     "name": "stdout",
     "output_type": "stream",
     "text": [
      "XGBoost Classification Report=\n",
      "\n",
      "               precision    recall  f1-score   support\n",
      "\n",
      "           0       1.00      1.00      1.00       461\n",
      "           1       1.00      1.00      1.00       955\n",
      "\n",
      "    accuracy                           1.00      1416\n",
      "   macro avg       1.00      1.00      1.00      1416\n",
      "weighted avg       1.00      1.00      1.00      1416\n",
      "\n",
      "XGBoost Confusion Matrix=\n",
      "\n",
      " [[461   0]\n",
      " [  0 955]]\n",
      "AUPRC: 1.0\n",
      "CPU times: user 2.52 s, sys: 1.12 s, total: 3.64 s\n",
      "Wall time: 918 ms\n"
     ]
    }
   ],
   "source": [
    "%%time\n",
    "\n",
    "xgb = XGBClassifier(n_estimators=100)\n",
    "kfold = StratifiedKFold(n_splits=5, random_state=0, shuffle=True)\n",
    "cv_results = cross_val_score(xgb, X_train, Y_train, cv=kfold, scoring=\"f1\")\n",
    "\n",
    "xgb.fit(X_train, Y_train)\n",
    "\n",
    "pred_xgb = xgb.predict(X_test)\n",
    "print(\"XGBoost Classification Report=\\n\\n\", classification_report(Y_test, pred_xgb))\n",
    "\n",
    "print(\"XGBoost Confusion Matrix=\\n\\n\", confusion_matrix(Y_test, pred_xgb))\n",
    "\n",
    "pred_proba_xgb = xgb.predict_proba(X_test)[:, 1]\n",
    "\n",
    "print(\"AUPRC:\", metrics.average_precision_score(y_true=Y_test, y_score=pred_proba_xgb))"
   ]
  },
  {
   "cell_type": "code",
   "execution_count": 80,
   "id": "17381c3c",
   "metadata": {
    "ExecuteTime": {
     "end_time": "2022-09-12T14:24:35.368981Z",
     "start_time": "2022-09-12T14:24:35.281833Z"
    },
    "collapsed": true
   },
   "outputs": [
    {
     "name": "stdout",
     "output_type": "stream",
     "text": [
      "Random Forest Classification Report=\n",
      "\n",
      "               precision    recall  f1-score   support\n",
      "\n",
      "           0       1.00      1.00      1.00       461\n",
      "           1       1.00      1.00      1.00       955\n",
      "\n",
      "    accuracy                           1.00      1416\n",
      "   macro avg       1.00      1.00      1.00      1416\n",
      "weighted avg       1.00      1.00      1.00      1416\n",
      "\n",
      "Random Forest Confusion Matrix=\n",
      "\n",
      " [[461   0]\n",
      " [  0 955]]\n",
      "AUPRC: 1.0\n",
      "CPU times: user 186 ms, sys: 89.8 ms, total: 275 ms\n",
      "Wall time: 84.9 ms\n"
     ]
    }
   ],
   "source": [
    "%%time\n",
    "from sklearn.ensemble import RandomForestClassifier\n",
    "\n",
    "rf = RandomForestClassifier(max_depth=7, random_state=0, n_estimators=10)\n",
    "kfold = StratifiedKFold(n_splits=5, random_state=0, shuffle=True)\n",
    "cv_results = cross_val_score(rf, X_train, Y_train, cv=kfold, scoring=\"f1\")\n",
    "\n",
    "rf.fit(X_train, Y_train)\n",
    "\n",
    "pred_rf = rf.predict(X_test)\n",
    "print(\"Random Forest Classification Report=\\n\\n\", classification_report(Y_test, pred_rf))\n",
    "print(\"Random Forest Confusion Matrix=\\n\\n\", confusion_matrix(Y_test, pred_rf))\n",
    "pred_proba_rf = rf.predict_proba(X_test)[:, 1]\n",
    "\n",
    "print(\"AUPRC:\", metrics.average_precision_score(y_true=Y_test, y_score=pred_proba_rf))"
   ]
  },
  {
   "cell_type": "markdown",
   "id": "25f3743b",
   "metadata": {},
   "source": [
    "# Extrac features"
   ]
  },
  {
   "cell_type": "markdown",
   "id": "3d463d56",
   "metadata": {},
   "source": [
    "Features in simple anomalies (normal_ano) are based on the filtered data<br>\n",
    "Features in statistical anomalies (f_ano) are also based on the filtered data<br>"
   ]
  },
  {
   "cell_type": "code",
   "execution_count": 81,
   "id": "4f6aacff",
   "metadata": {
    "ExecuteTime": {
     "end_time": "2022-09-12T20:29:18.560205Z",
     "start_time": "2022-09-12T20:28:18.341123Z"
    },
    "collapsed": true
   },
   "outputs": [
    {
     "name": "stderr",
     "output_type": "stream",
     "text": [
      "/var/folders/jc/gpmxwymd351cckl6cvjf72vh5jytlq/T/ipykernel_69992/1646560078.py:9: SettingWithCopyWarning: \n",
      "A value is trying to be set on a copy of a slice from a DataFrame.\n",
      "Try using .loc[row_indexer,col_indexer] = value instead\n",
      "\n",
      "See the caveats in the documentation: https://pandas.pydata.org/pandas-docs/stable/user_guide/indexing.html#returning-a-view-versus-a-copy\n",
      "  f_ano[\"Timestamp\"] = f_ano[\"Timestamp\"].astype(\"datetime64[ns]\")\n",
      "/var/folders/jc/gpmxwymd351cckl6cvjf72vh5jytlq/T/ipykernel_69992/1646560078.py:10: SettingWithCopyWarning: \n",
      "A value is trying to be set on a copy of a slice from a DataFrame.\n",
      "Try using .loc[row_indexer,col_indexer] = value instead\n",
      "\n",
      "See the caveats in the documentation: https://pandas.pydata.org/pandas-docs/stable/user_guide/indexing.html#returning-a-view-versus-a-copy\n",
      "  normal_ano[\"Timestamp\"] = normal_ano[\"Timestamp\"].astype(\"datetime64[ns]\")\n",
      "/var/folders/jc/gpmxwymd351cckl6cvjf72vh5jytlq/T/ipykernel_69992/1646560078.py:18: SettingWithCopyWarning: \n",
      "A value is trying to be set on a copy of a slice from a DataFrame.\n",
      "Try using .loc[row_indexer,col_indexer] = value instead\n",
      "\n",
      "See the caveats in the documentation: https://pandas.pydata.org/pandas-docs/stable/user_guide/indexing.html#returning-a-view-versus-a-copy\n",
      "  f_ano[\"hour\"] = f_ano[\"Timestamp\"].dt.hour\n",
      "/var/folders/jc/gpmxwymd351cckl6cvjf72vh5jytlq/T/ipykernel_69992/1646560078.py:19: SettingWithCopyWarning: \n",
      "A value is trying to be set on a copy of a slice from a DataFrame.\n",
      "Try using .loc[row_indexer,col_indexer] = value instead\n",
      "\n",
      "See the caveats in the documentation: https://pandas.pydata.org/pandas-docs/stable/user_guide/indexing.html#returning-a-view-versus-a-copy\n",
      "  normal_ano[\"hour\"] = normal_ano[\"Timestamp\"].dt.hour\n",
      "/var/folders/jc/gpmxwymd351cckl6cvjf72vh5jytlq/T/ipykernel_69992/1646560078.py:27: SettingWithCopyWarning: \n",
      "A value is trying to be set on a copy of a slice from a DataFrame.\n",
      "Try using .loc[row_indexer,col_indexer] = value instead\n",
      "\n",
      "See the caveats in the documentation: https://pandas.pydata.org/pandas-docs/stable/user_guide/indexing.html#returning-a-view-versus-a-copy\n",
      "  f_ano[\"sender_hour\"] = f_ano[\"Sender\"] + f_ano[\"hour\"].astype(str)\n",
      "/var/folders/jc/gpmxwymd351cckl6cvjf72vh5jytlq/T/ipykernel_69992/1646560078.py:28: SettingWithCopyWarning: \n",
      "A value is trying to be set on a copy of a slice from a DataFrame.\n",
      "Try using .loc[row_indexer,col_indexer] = value instead\n",
      "\n",
      "See the caveats in the documentation: https://pandas.pydata.org/pandas-docs/stable/user_guide/indexing.html#returning-a-view-versus-a-copy\n",
      "  normal_ano[\"sender_hour\"] = normal_ano[\"Sender\"] + normal_ano[\"hour\"].astype(str)\n",
      "/var/folders/jc/gpmxwymd351cckl6cvjf72vh5jytlq/T/ipykernel_69992/1646560078.py:42: SettingWithCopyWarning: \n",
      "A value is trying to be set on a copy of a slice from a DataFrame.\n",
      "Try using .loc[row_indexer,col_indexer] = value instead\n",
      "\n",
      "See the caveats in the documentation: https://pandas.pydata.org/pandas-docs/stable/user_guide/indexing.html#returning-a-view-versus-a-copy\n",
      "  f_ano[\"sender_hour_freq\"] = f_ano[\"sender_hour\"].map(sender_hour_frequency_f)\n",
      "/var/folders/jc/gpmxwymd351cckl6cvjf72vh5jytlq/T/ipykernel_69992/1646560078.py:43: SettingWithCopyWarning: \n",
      "A value is trying to be set on a copy of a slice from a DataFrame.\n",
      "Try using .loc[row_indexer,col_indexer] = value instead\n",
      "\n",
      "See the caveats in the documentation: https://pandas.pydata.org/pandas-docs/stable/user_guide/indexing.html#returning-a-view-versus-a-copy\n",
      "  normal_ano[\"sender_hour_freq\"] = normal_ano[\"sender_hour\"].map(sender_hour_frequency_f)\n",
      "/var/folders/jc/gpmxwymd351cckl6cvjf72vh5jytlq/T/ipykernel_69992/1646560078.py:49: SettingWithCopyWarning: \n",
      "A value is trying to be set on a copy of a slice from a DataFrame.\n",
      "Try using .loc[row_indexer,col_indexer] = value instead\n",
      "\n",
      "See the caveats in the documentation: https://pandas.pydata.org/pandas-docs/stable/user_guide/indexing.html#returning-a-view-versus-a-copy\n",
      "  f_ano[\"sender_currency\"] = f_ano[\"Sender\"] + f_ano[\"InstructedCurrency\"]\n",
      "/var/folders/jc/gpmxwymd351cckl6cvjf72vh5jytlq/T/ipykernel_69992/1646560078.py:50: SettingWithCopyWarning: \n",
      "A value is trying to be set on a copy of a slice from a DataFrame.\n",
      "Try using .loc[row_indexer,col_indexer] = value instead\n",
      "\n",
      "See the caveats in the documentation: https://pandas.pydata.org/pandas-docs/stable/user_guide/indexing.html#returning-a-view-versus-a-copy\n",
      "  normal_ano[\"sender_currency\"] = normal_ano[\"Sender\"] + normal_ano[\"InstructedCurrency\"]\n",
      "/var/folders/jc/gpmxwymd351cckl6cvjf72vh5jytlq/T/ipykernel_69992/1646560078.py:70: SettingWithCopyWarning: \n",
      "A value is trying to be set on a copy of a slice from a DataFrame.\n",
      "Try using .loc[row_indexer,col_indexer] = value instead\n",
      "\n",
      "See the caveats in the documentation: https://pandas.pydata.org/pandas-docs/stable/user_guide/indexing.html#returning-a-view-versus-a-copy\n",
      "  f_ano[\"sender_currency_freq\"] = f_ano[\"sender_currency\"].map(sender_currency_freq_f)\n",
      "/var/folders/jc/gpmxwymd351cckl6cvjf72vh5jytlq/T/ipykernel_69992/1646560078.py:71: SettingWithCopyWarning: \n",
      "A value is trying to be set on a copy of a slice from a DataFrame.\n",
      "Try using .loc[row_indexer,col_indexer] = value instead\n",
      "\n",
      "See the caveats in the documentation: https://pandas.pydata.org/pandas-docs/stable/user_guide/indexing.html#returning-a-view-versus-a-copy\n",
      "  normal_ano[\"sender_currency_freq\"] = normal_ano[\"sender_currency\"].map(sender_currency_freq_f)\n",
      "/var/folders/jc/gpmxwymd351cckl6cvjf72vh5jytlq/T/ipykernel_69992/1646560078.py:74: SettingWithCopyWarning: \n",
      "A value is trying to be set on a copy of a slice from a DataFrame.\n",
      "Try using .loc[row_indexer,col_indexer] = value instead\n",
      "\n",
      "See the caveats in the documentation: https://pandas.pydata.org/pandas-docs/stable/user_guide/indexing.html#returning-a-view-versus-a-copy\n",
      "  f_ano[\"sender_currency_amount_average\"] = f_ano[\"sender_currency\"].map(sender_currency_avg_f)\n",
      "/var/folders/jc/gpmxwymd351cckl6cvjf72vh5jytlq/T/ipykernel_69992/1646560078.py:75: SettingWithCopyWarning: \n",
      "A value is trying to be set on a copy of a slice from a DataFrame.\n",
      "Try using .loc[row_indexer,col_indexer] = value instead\n",
      "\n",
      "See the caveats in the documentation: https://pandas.pydata.org/pandas-docs/stable/user_guide/indexing.html#returning-a-view-versus-a-copy\n",
      "  normal_ano[\"sender_currency_amount_average\"] = normal_ano[\"sender_currency\"].map(sender_currency_avg_f)\n",
      "/var/folders/jc/gpmxwymd351cckl6cvjf72vh5jytlq/T/ipykernel_69992/1646560078.py:82: SettingWithCopyWarning: \n",
      "A value is trying to be set on a copy of a slice from a DataFrame.\n",
      "Try using .loc[row_indexer,col_indexer] = value instead\n",
      "\n",
      "See the caveats in the documentation: https://pandas.pydata.org/pandas-docs/stable/user_guide/indexing.html#returning-a-view-versus-a-copy\n",
      "  f_ano[\"sender_receiver\"] = f_ano[\"Sender\"] + f_ano[\"Receiver\"]\n",
      "/var/folders/jc/gpmxwymd351cckl6cvjf72vh5jytlq/T/ipykernel_69992/1646560078.py:83: SettingWithCopyWarning: \n",
      "A value is trying to be set on a copy of a slice from a DataFrame.\n",
      "Try using .loc[row_indexer,col_indexer] = value instead\n",
      "\n",
      "See the caveats in the documentation: https://pandas.pydata.org/pandas-docs/stable/user_guide/indexing.html#returning-a-view-versus-a-copy\n",
      "  normal_ano[\"sender_receiver\"] = normal_ano[\"Sender\"] + normal_ano[\"Receiver\"]\n",
      "/var/folders/jc/gpmxwymd351cckl6cvjf72vh5jytlq/T/ipykernel_69992/1646560078.py:94: SettingWithCopyWarning: \n",
      "A value is trying to be set on a copy of a slice from a DataFrame.\n",
      "Try using .loc[row_indexer,col_indexer] = value instead\n",
      "\n",
      "See the caveats in the documentation: https://pandas.pydata.org/pandas-docs/stable/user_guide/indexing.html#returning-a-view-versus-a-copy\n",
      "  f_ano[\"sender_receiver_freq\"] = f_ano[\"sender_receiver\"].map(sender_receiver_freq_f)\n",
      "/var/folders/jc/gpmxwymd351cckl6cvjf72vh5jytlq/T/ipykernel_69992/1646560078.py:95: SettingWithCopyWarning: \n",
      "A value is trying to be set on a copy of a slice from a DataFrame.\n",
      "Try using .loc[row_indexer,col_indexer] = value instead\n",
      "\n",
      "See the caveats in the documentation: https://pandas.pydata.org/pandas-docs/stable/user_guide/indexing.html#returning-a-view-versus-a-copy\n",
      "  normal_ano[\"sender_receiver_freq\"] = normal_ano[\"sender_receiver\"].map(sender_receiver_freq_f)\n"
     ]
    }
   ],
   "source": [
    "all_ano = swift[swift['Label']==1]\n",
    "f_ano = filtered[filtered['Label']==1]\n",
    "normal_list = list(all_ano[~all_ano.UETR.isin(f_ano.UETR)].UETR)\n",
    "normal_ano = all_ano[all_ano.UETR.isin(normal_list)]\n",
    "\n",
    "#swift[\"Timestamp\"] = swift[\"Timestamp\"].astype(\"datetime64[ns]\")\n",
    "filtered[\"Timestamp\"] = filtered[\"Timestamp\"].astype(\"datetime64[ns]\")\n",
    "\n",
    "f_ano[\"Timestamp\"] = f_ano[\"Timestamp\"].astype(\"datetime64[ns]\")\n",
    "normal_ano[\"Timestamp\"] = normal_ano[\"Timestamp\"].astype(\"datetime64[ns]\")\n",
    "#bank = pd.read_csv('../data/bank_dataset.csv')\n",
    "\n",
    "# Hour\n",
    "#swift[\"hour\"] = swift[\"Timestamp\"].dt.hour\n",
    "filtered[\"hour\"] = filtered[\"Timestamp\"].dt.hour\n",
    "\n",
    "\n",
    "f_ano[\"hour\"] = f_ano[\"Timestamp\"].dt.hour\n",
    "normal_ano[\"hour\"] = normal_ano[\"Timestamp\"].dt.hour\n",
    "\n",
    "# Hour frequency for each sender\n",
    "senders = swift[\"Sender\"].unique()\n",
    "\n",
    "#swift[\"sender_hour\"] = swift[\"Sender\"] + swift[\"hour\"].astype(str)\n",
    "filtered[\"sender_hour\"] = filtered[\"Sender\"] + filtered[\"hour\"].astype(str)\n",
    "\n",
    "f_ano[\"sender_hour\"] = f_ano[\"Sender\"] + f_ano[\"hour\"].astype(str)\n",
    "normal_ano[\"sender_hour\"] = normal_ano[\"Sender\"] + normal_ano[\"hour\"].astype(str)\n",
    "\n",
    "#sender_hour_frequency = {}\n",
    "sender_hour_frequency_f = {}\n",
    "\n",
    "for s in senders:\n",
    " #   sender_rows = swift[swift[\"Sender\"] == s]\n",
    "    sender_rows_f = filtered[filtered[\"Sender\"] == s]\n",
    "    \n",
    "    for h in range(24):\n",
    "  #      sender_hour_frequency[s + str(h)] = len(sender_rows[sender_rows[\"hour\"] == h])\n",
    "        sender_hour_frequency_f[s + str(h)] = len(sender_rows_f[sender_rows_f[\"hour\"] == h])\n",
    "\n",
    "\n",
    "f_ano[\"sender_hour_freq\"] = f_ano[\"sender_hour\"].map(sender_hour_frequency_f)\n",
    "normal_ano[\"sender_hour_freq\"] = normal_ano[\"sender_hour\"].map(sender_hour_frequency_f)\n",
    "\n",
    "# Sender-Currency Frequency and Average Amount per Sender-Currency\n",
    "#swift[\"sender_currency\"] = swift[\"Sender\"] + swift[\"InstructedCurrency\"]\n",
    "filtered[\"sender_currency\"] = filtered[\"Sender\"] + filtered[\"InstructedCurrency\"]\n",
    "\n",
    "f_ano[\"sender_currency\"] = f_ano[\"Sender\"] + f_ano[\"InstructedCurrency\"]\n",
    "normal_ano[\"sender_currency\"] = normal_ano[\"Sender\"] + normal_ano[\"InstructedCurrency\"]\n",
    "\n",
    "\n",
    "#sender_currency_freq = {}\n",
    "#sender_currency_avg = {}\n",
    "sender_currency_freq_f = {}\n",
    "sender_currency_avg_f = {}\n",
    "\n",
    "for sc in set(\n",
    "    list(swift[\"sender_currency\"].unique())\n",
    "):\n",
    "  #  sender_currency_freq[sc] = len(swift[swift[\"sender_currency\"] == sc])\n",
    "  #  sender_currency_avg[sc] = swift[swift[\"sender_currency\"] == sc][\"InstructedAmount\"].mean()\n",
    "    \n",
    "    sender_currency_freq_f[sc] = len(filtered[filtered[\"sender_currency\"] == sc])\n",
    "    sender_currency_avg_f[sc] = filtered[filtered[\"sender_currency\"] == sc][\n",
    "        \"InstructedAmount\"\n",
    "    ].mean()\n",
    "    \n",
    "#swift[\"sender_currency_freq\"] = swift[\"sender_currency\"].map(sender_currency_freq)\n",
    "f_ano[\"sender_currency_freq\"] = f_ano[\"sender_currency\"].map(sender_currency_freq_f)\n",
    "normal_ano[\"sender_currency_freq\"] = normal_ano[\"sender_currency\"].map(sender_currency_freq_f)\n",
    "\n",
    "#swift[\"sender_currency_amount_average\"] = swift[\"sender_currency\"].map(sender_currency_avg)\n",
    "f_ano[\"sender_currency_amount_average\"] = f_ano[\"sender_currency\"].map(sender_currency_avg_f)\n",
    "normal_ano[\"sender_currency_amount_average\"] = normal_ano[\"sender_currency\"].map(sender_currency_avg_f)\n",
    "\n",
    "\n",
    "# Sender-Receiver Frequency\n",
    "#swift[\"sender_receiver\"] = swift[\"Sender\"] + swift[\"Receiver\"]\n",
    "filtered[\"sender_receiver\"] = filtered[\"Sender\"] + filtered[\"Receiver\"]\n",
    "\n",
    "f_ano[\"sender_receiver\"] = f_ano[\"Sender\"] + f_ano[\"Receiver\"]\n",
    "normal_ano[\"sender_receiver\"] = normal_ano[\"Sender\"] + normal_ano[\"Receiver\"]\n",
    "\n",
    "#sender_receiver_freq = {}\n",
    "sender_receiver_freq_f = {}\n",
    "for sr in set(\n",
    "    list(swift[\"sender_receiver\"].unique())\n",
    "):\n",
    "#    sender_receiver_freq[sr] = len(swift[swift[\"sender_receiver\"] == sr])\n",
    "    sender_receiver_freq_f[sr] = len(filtered[filtered[\"sender_receiver\"] == sr])\n",
    "\n",
    "#swift[\"sender_receiver_freq\"] = swift[\"sender_receiver\"].map(sender_receiver_freq)\n",
    "f_ano[\"sender_receiver_freq\"] = f_ano[\"sender_receiver\"].map(sender_receiver_freq_f)\n",
    "normal_ano[\"sender_receiver_freq\"] = normal_ano[\"sender_receiver\"].map(sender_receiver_freq_f)\n"
   ]
  },
  {
   "cell_type": "code",
   "execution_count": 82,
   "id": "81695c16",
   "metadata": {
    "ExecuteTime": {
     "end_time": "2022-09-12T20:29:23.581263Z",
     "start_time": "2022-09-12T20:29:23.389102Z"
    }
   },
   "outputs": [],
   "source": [
    "columns_to_drop = [\n",
    "    \"UETR\",\n",
    "    \"Sender\",\n",
    "    \"Receiver\",\n",
    "    \"TransactionReference\",\n",
    "    \"OrderingAccount\",\n",
    "    \"OrderingName\",\n",
    "    \"OrderingStreet\",\n",
    "    \"OrderingCountryCityZip\",\n",
    "    \"BeneficiaryAccount\",\n",
    "    \"BeneficiaryName\",\n",
    "    \"BeneficiaryStreet\",\n",
    "    \"BeneficiaryCountryCityZip\",\n",
    "    \"SettlementDate\",\n",
    "    \"SettlementCurrency\",\n",
    "    \"InstructedCurrency\",\n",
    "    \"Timestamp\",\n",
    "    \"sender_hour\",\n",
    "    \"sender_currency\",\n",
    "    \"sender_receiver\",\n",
    "]\n",
    "\n",
    "f_ano = f_ano.drop(columns_to_drop, axis=1)\n",
    "normal_ano = normal_ano.drop(columns_to_drop, axis=1)"
   ]
  },
  {
   "cell_type": "code",
   "execution_count": 83,
   "id": "e2601be5",
   "metadata": {
    "ExecuteTime": {
     "end_time": "2022-09-12T20:29:24.153980Z",
     "start_time": "2022-09-12T20:29:24.140537Z"
    }
   },
   "outputs": [],
   "source": [
    "f_ano = f_ano.drop(['MessageId'], axis=1)\n",
    "normal_ano = normal_ano.drop(['order_flag', 'bene_flag'], axis=1)\n",
    "normal_ano['Label'] = normal_ano['Label'].map({1:0}) # map the label 1 to 0\n",
    "ano = pd.concat([f_ano, normal_ano])"
   ]
  },
  {
   "cell_type": "code",
   "execution_count": 84,
   "id": "9a7cc267",
   "metadata": {
    "ExecuteTime": {
     "end_time": "2022-09-12T20:29:24.644790Z",
     "start_time": "2022-09-12T20:29:24.629004Z"
    }
   },
   "outputs": [],
   "source": [
    "Y = ano[\"Label\"].values\n",
    "X = ano.drop([\"Label\"], axis=1).values\n",
    "\n",
    "X_train, X_test, Y_train, Y_test = train_test_split(X, Y, stratify=Y, random_state = 0)\n",
    "# train and test split\n",
    "\n",
    "scaler = StandardScaler()\n",
    "scaler.fit(X_train)\n",
    "\n",
    "X_train = scaler.transform(X_train)\n",
    "X_test = scaler.transform(X_test)"
   ]
  },
  {
   "cell_type": "code",
   "execution_count": 85,
   "id": "6b9e21fd",
   "metadata": {
    "ExecuteTime": {
     "end_time": "2022-09-12T20:29:27.190735Z",
     "start_time": "2022-09-12T20:29:25.141606Z"
    },
    "collapsed": true
   },
   "outputs": [
    {
     "name": "stdout",
     "output_type": "stream",
     "text": [
      "XGBoost Classification Report=\n",
      "\n",
      "               precision    recall  f1-score   support\n",
      "\n",
      "           0       0.96      1.00      0.98       461\n",
      "           1       1.00      0.98      0.99       955\n",
      "\n",
      "    accuracy                           0.98      1416\n",
      "   macro avg       0.98      0.99      0.98      1416\n",
      "weighted avg       0.98      0.98      0.98      1416\n",
      "\n",
      "XGBoost Confusion Matrix=\n",
      "\n",
      " [[459   2]\n",
      " [ 20 935]]\n",
      "AUPRC: 0.9975559598451311\n",
      "CPU times: user 5.41 s, sys: 2.23 s, total: 7.64 s\n",
      "Wall time: 2.04 s\n"
     ]
    }
   ],
   "source": [
    "%%time\n",
    "\n",
    "xgb = XGBClassifier(n_estimators=100)\n",
    "kfold = StratifiedKFold(n_splits=5, random_state=0, shuffle=True)\n",
    "cv_results = cross_val_score(xgb, X_train, Y_train, cv=kfold, scoring=\"f1\")\n",
    "\n",
    "xgb.fit(X_train, Y_train)\n",
    "\n",
    "pred_xgb = xgb.predict(X_test)\n",
    "print(\"XGBoost Classification Report=\\n\\n\", classification_report(Y_test, pred_xgb))\n",
    "\n",
    "print(\"XGBoost Confusion Matrix=\\n\\n\", confusion_matrix(Y_test, pred_xgb))\n",
    "\n",
    "pred_proba_xgb = xgb.predict_proba(X_test)[:, 1]\n",
    "\n",
    "print(\"AUPRC:\", metrics.average_precision_score(y_true=Y_test, y_score=pred_proba_xgb))"
   ]
  },
  {
   "cell_type": "code",
   "execution_count": 86,
   "id": "a2f5157a",
   "metadata": {
    "ExecuteTime": {
     "end_time": "2022-09-12T20:29:27.295552Z",
     "start_time": "2022-09-12T20:29:27.191735Z"
    },
    "collapsed": true
   },
   "outputs": [
    {
     "name": "stdout",
     "output_type": "stream",
     "text": [
      "Random Forest Classification Report=\n",
      "\n",
      "               precision    recall  f1-score   support\n",
      "\n",
      "           0       0.84      0.98      0.90       461\n",
      "           1       0.99      0.91      0.95       955\n",
      "\n",
      "    accuracy                           0.93      1416\n",
      "   macro avg       0.91      0.94      0.92      1416\n",
      "weighted avg       0.94      0.93      0.93      1416\n",
      "\n",
      "Random Forest Confusion Matrix=\n",
      "\n",
      " [[450  11]\n",
      " [ 86 869]]\n",
      "AUPRC: 0.9937134479542321\n",
      "CPU times: user 175 ms, sys: 73.7 ms, total: 248 ms\n",
      "Wall time: 101 ms\n"
     ]
    }
   ],
   "source": [
    "%%time\n",
    "from sklearn.ensemble import RandomForestClassifier\n",
    "\n",
    "rf = RandomForestClassifier(max_depth=7, random_state=0, n_estimators=10)\n",
    "kfold = StratifiedKFold(n_splits=5, random_state=0, shuffle=True)\n",
    "cv_results = cross_val_score(rf, X_train, Y_train, cv=kfold, scoring=\"f1\")\n",
    "\n",
    "rf.fit(X_train, Y_train)\n",
    "\n",
    "pred_rf = rf.predict(X_test)\n",
    "print(\"Random Forest Classification Report=\\n\\n\", classification_report(Y_test, pred_rf))\n",
    "print(\"Random Forest Confusion Matrix=\\n\\n\", confusion_matrix(Y_test, pred_rf))\n",
    "pred_proba_rf = rf.predict_proba(X_test)[:, 1]\n",
    "\n",
    "print(\"AUPRC:\", metrics.average_precision_score(y_true=Y_test, y_score=pred_proba_rf))"
   ]
  },
  {
   "cell_type": "code",
   "execution_count": null,
   "id": "fe623a49",
   "metadata": {},
   "outputs": [],
   "source": []
  }
 ],
 "metadata": {
  "kernelspec": {
   "display_name": "Python 3 (ipykernel)",
   "language": "python",
   "name": "python3"
  },
  "language_info": {
   "codemirror_mode": {
    "name": "ipython",
    "version": 3
   },
   "file_extension": ".py",
   "mimetype": "text/x-python",
   "name": "python",
   "nbconvert_exporter": "python",
   "pygments_lexer": "ipython3",
   "version": "3.8.13"
  },
  "toc": {
   "base_numbering": 1,
   "nav_menu": {},
   "number_sections": true,
   "sideBar": true,
   "skip_h1_title": false,
   "title_cell": "Table of Contents",
   "title_sidebar": "Contents",
   "toc_cell": false,
   "toc_position": {
    "height": "calc(100% - 180px)",
    "left": "10px",
    "top": "150px",
    "width": "384px"
   },
   "toc_section_display": true,
   "toc_window_display": true
  }
 },
 "nbformat": 4,
 "nbformat_minor": 5
}

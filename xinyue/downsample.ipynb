{
 "cells": [
  {
   "cell_type": "code",
   "execution_count": null,
   "metadata": {
    "collapsed": true,
    "pycharm": {
     "name": "#%%\n"
    }
   },
   "outputs": [],
   "source": [
    "import pandas as np\n",
    "import numpy as pd\n",
    "from xgboost import XGBClassifier\n",
    "\n",
    "from sklearn.metrics import confusion_matrix, average_precision_score\n",
    "from sklearn.preprocessing import StandardScaler, MinMaxScaler\n",
    "import time"
   ]
  },
  {
   "cell_type": "code",
   "execution_count": null,
   "outputs": [],
   "source": [
    "def downsample(train_normal, train_ano, test, ratio_normal, ratio_ano, seed):\n",
    "    \"\"\"\n",
    "     change the ratio of normal transactions and anomalies in the training set\n",
    "     input: training set, ratio of # normal transactions in the training/ # normal transactions, testing set\n",
    "    :return: AURPC\n",
    "    \"\"\"\n",
    "    if seed is None:\n",
    "        seed = 0\n",
    "\n",
    "    # downsampling\n",
    "    sub_normal = train_normal.sample(int(len(train_normal)*ratio), random_state=seed)\n",
    "    if ratio_ano is not None:\n",
    "        sub_ano = train_normal.sample(int(len(train_ano)*ratio), random_state=seed)\n",
    "        sub_train = pd.concat([sub_normal, sub_ano], ignore_index=True)\n",
    "    else:\n",
    "        sub_train = pd.concat([sub_normal, train_ano], ignore_index=True)\n",
    "\n",
    "    # training\n",
    "    Y_train = sub_train[\"Label\"].values\n",
    "    X_train = sub_train.drop([\"Label\"], axis=1).values\n",
    "    Y_test = test[\"Label\"].values\n",
    "    X_test = test.drop([\"Label\"], axis=1).values\n",
    "\n",
    "    scaler = StandardScaler()\n",
    "    scaler.fit(X_train)\n",
    "\n",
    "    X_train = scaler.transform(X_train)\n",
    "    X_test = scaler.transform(X_test)\n",
    "\n",
    "    start_time = time.time()\n",
    "\n",
    "    # fitting\n",
    "    xgb = XGBClassifier(n_estimators=100)\n",
    "\n",
    "    xgb.fit(X_train, Y_train)\n",
    "\n",
    " #  pred_xgb = xgb.predict(X_test)\n",
    " #   con_report = confusion_matrix(Y_test, pred_xgb)\n",
    "\n",
    "    pred_proba_xgb = xgb.predict_proba(X_test)[:, 1]\n",
    "    auprc = average_precision_score(y_true=Y_test, y_score=pred_proba_xgb)\n",
    "    end_time = time.time()\n",
    "    time_fit = end_time - start_time\n",
    "    print(time_fit)\n",
    "\n",
    "    return  auprc"
   ],
   "metadata": {
    "collapsed": false,
    "pycharm": {
     "name": "#%%\n"
    }
   }
  },
  {
   "cell_type": "code",
   "execution_count": null,
   "outputs": [],
   "source": [
    "train = pd.read_csv('../../Desktop/Swift-PETs/data/HA_train.csv')\n",
    "test = pd.read_csv('../../Desktop/Swift-PETs/data/HA_test.csv')\n",
    "\n",
    "train_normal = train[train['Label'] == 0]\n",
    "train_ano = train[train['Label'] == 1]\n",
    "\n",
    "res = {}\n",
    "for r in [0.9, 0.7, 0.5, 0.3, 0.1]:\n",
    "    for sd in [0, 103, 204, 345, 4600]:\n",
    "        if r in res:\n",
    "            res[r].append(downsample_ratio(train_normal, train_ano,test, ratio_normal = r,[], seed = sd)['aucpr'])\n",
    "        else:\n",
    "            res[r] = [downsample_ratio(train_normal, train_ano,test, ratio_normal = r,[], seed = sd)['aucpr']]\n",
    "\n",
    "print(res)"
   ],
   "metadata": {
    "collapsed": false,
    "pycharm": {
     "name": "#%%\n"
    }
   }
  },
  {
   "cell_type": "code",
   "execution_count": null,
   "outputs": [],
   "source": [],
   "metadata": {
    "collapsed": false,
    "pycharm": {
     "name": "#%%\n"
    }
   }
  }
 ],
 "metadata": {
  "kernelspec": {
   "display_name": "Python 3",
   "language": "python",
   "name": "python3"
  },
  "language_info": {
   "codemirror_mode": {
    "name": "ipython",
    "version": 2
   },
   "file_extension": ".py",
   "mimetype": "text/x-python",
   "name": "python",
   "nbconvert_exporter": "python",
   "pygments_lexer": "ipython2",
   "version": "2.7.6"
  }
 },
 "nbformat": 4,
 "nbformat_minor": 0
}